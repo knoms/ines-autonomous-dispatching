{
 "cells": [
  {
   "cell_type": "code",
   "execution_count": 1,
   "metadata": {},
   "outputs": [
    {
     "ename": "ModuleNotFoundError",
     "evalue": "No module named 'Manhattan_Graph_Environment'",
     "output_type": "error",
     "traceback": [
      "\u001b[0;31m---------------------------------------------------------------------------\u001b[0m",
      "\u001b[0;31mModuleNotFoundError\u001b[0m                       Traceback (most recent call last)",
      "\u001b[1;32m/Users/noah/Desktop/Repositories/ines-autonomous-dispatching/Manhattan_Graph_Environment/plot_map.ipynb Cell 1\u001b[0m in \u001b[0;36m<cell line: 8>\u001b[0;34m()\u001b[0m\n\u001b[1;32m      <a href='vscode-notebook-cell:/Users/noah/Desktop/Repositories/ines-autonomous-dispatching/Manhattan_Graph_Environment/plot_map.ipynb#ch0000000?line=4'>5</a>\u001b[0m \u001b[39mimport\u001b[39;00m \u001b[39msys\u001b[39;00m\n\u001b[1;32m      <a href='vscode-notebook-cell:/Users/noah/Desktop/Repositories/ines-autonomous-dispatching/Manhattan_Graph_Environment/plot_map.ipynb#ch0000000?line=5'>6</a>\u001b[0m sys\u001b[39m.\u001b[39mpath\u001b[39m.\u001b[39minsert(\u001b[39m0\u001b[39m,\u001b[39m\"\u001b[39m\u001b[39m\"\u001b[39m)\n\u001b[0;32m----> <a href='vscode-notebook-cell:/Users/noah/Desktop/Repositories/ines-autonomous-dispatching/Manhattan_Graph_Environment/plot_map.ipynb#ch0000000?line=7'>8</a>\u001b[0m \u001b[39mfrom\u001b[39;00m \u001b[39mgym_graphenv\u001b[39;00m\u001b[39m.\u001b[39;00m\u001b[39menvs\u001b[39;00m\u001b[39m.\u001b[39;00m\u001b[39mGraphworldManhattan\u001b[39;00m \u001b[39mimport\u001b[39;00m GraphEnv\n\u001b[1;32m     <a href='vscode-notebook-cell:/Users/noah/Desktop/Repositories/ines-autonomous-dispatching/Manhattan_Graph_Environment/plot_map.ipynb#ch0000000?line=9'>10</a>\u001b[0m \u001b[39mimport\u001b[39;00m \u001b[39mwarnings\u001b[39;00m\n\u001b[1;32m     <a href='vscode-notebook-cell:/Users/noah/Desktop/Repositories/ines-autonomous-dispatching/Manhattan_Graph_Environment/plot_map.ipynb#ch0000000?line=10'>11</a>\u001b[0m warnings\u001b[39m.\u001b[39mfilterwarnings(\u001b[39m'\u001b[39m\u001b[39mignore\u001b[39m\u001b[39m'\u001b[39m)\n",
      "File \u001b[0;32m~/Desktop/Repositories/ines-autonomous-dispatching/Manhattan_Graph_Environment/gym_graphenv/envs/GraphworldManhattan.py:35\u001b[0m, in \u001b[0;36m<module>\u001b[0;34m\u001b[0m\n\u001b[1;32m     32\u001b[0m sys\u001b[39m.\u001b[39mpath\u001b[39m.\u001b[39minsert(\u001b[39m0\u001b[39m,\u001b[39m\"\u001b[39m\u001b[39m\"\u001b[39m)\n\u001b[1;32m     34\u001b[0m \u001b[39m# CHANGES\u001b[39;00m\n\u001b[0;32m---> 35\u001b[0m \u001b[39mfrom\u001b[39;00m \u001b[39mManhattan_Graph_Environment\u001b[39;00m\u001b[39m.\u001b[39;00m\u001b[39mgraphs\u001b[39;00m\u001b[39m.\u001b[39;00m\u001b[39mManhattanGraph\u001b[39;00m \u001b[39mimport\u001b[39;00m ManhattanGraph\n\u001b[1;32m     36\u001b[0m \u001b[39mfrom\u001b[39;00m \u001b[39mManhattan_Graph_Environment\u001b[39;00m\u001b[39m.\u001b[39;00m\u001b[39mgraphs\u001b[39;00m\u001b[39m.\u001b[39;00m\u001b[39mLearnGraph\u001b[39;00m \u001b[39mimport\u001b[39;00m LearnGraph\n\u001b[1;32m     37\u001b[0m \u001b[39mfrom\u001b[39;00m \u001b[39mManhattan_Graph_Environment\u001b[39;00m\u001b[39m.\u001b[39;00m\u001b[39mOneHotVector\u001b[39;00m \u001b[39mimport\u001b[39;00m OneHotVector\n",
      "\u001b[0;31mModuleNotFoundError\u001b[0m: No module named 'Manhattan_Graph_Environment'"
     ]
    }
   ],
   "source": [
    "# imports\n",
    "import numpy as np\n",
    "import pandas as pd\n",
    "import plotly.express as px\n",
    "import sys\n",
    "sys.path.insert(0,\"\")\n",
    "\n",
    "from gym_graphenv.envs.GraphworldManhattan import GraphEnv\n",
    "\n",
    "import warnings\n",
    "warnings.filterwarnings('ignore')"
   ]
  },
  {
   "cell_type": "code",
   "execution_count": null,
   "metadata": {},
   "outputs": [],
   "source": [
    "env=GraphEnv()\n",
    "env.reset()\n",
    "env.step(np.random.randint(120))\n",
    "trips = env.availableTrips()"
   ]
  },
  {
   "cell_type": "code",
   "execution_count": 5,
   "metadata": {},
   "outputs": [
    {
     "ename": "NameError",
     "evalue": "name 'env' is not defined",
     "output_type": "error",
     "traceback": [
      "\u001b[0;31m---------------------------------------------------------------------------\u001b[0m",
      "\u001b[0;31mNameError\u001b[0m                                 Traceback (most recent call last)",
      "\u001b[1;32m/Users/noah/Desktop/Repositories/ines-autonomous-dispatching/Manhattan_Graph_Environment/plot_map.ipynb Cell 3\u001b[0m in \u001b[0;36m<cell line: 51>\u001b[0;34m()\u001b[0m\n\u001b[1;32m     <a href='vscode-notebook-cell:/Users/noah/Desktop/Repositories/ines-autonomous-dispatching/Manhattan_Graph_Environment/plot_map.ipynb#ch0000002?line=44'>45</a>\u001b[0m     fig\u001b[39m.\u001b[39madd_trace(go\u001b[39m.\u001b[39mScattermapbox(\n\u001b[1;32m     <a href='vscode-notebook-cell:/Users/noah/Desktop/Repositories/ines-autonomous-dispatching/Manhattan_Graph_Environment/plot_map.ipynb#ch0000002?line=45'>46</a>\u001b[0m     mode \u001b[39m=\u001b[39m \u001b[39m\"\u001b[39m\u001b[39mlines\u001b[39m\u001b[39m\"\u001b[39m,\n\u001b[1;32m     <a href='vscode-notebook-cell:/Users/noah/Desktop/Repositories/ines-autonomous-dispatching/Manhattan_Graph_Environment/plot_map.ipynb#ch0000002?line=46'>47</a>\u001b[0m     lon \u001b[39m=\u001b[39m [df[\u001b[39m'\u001b[39m\u001b[39mlongitude\u001b[39m\u001b[39m'\u001b[39m]],\n\u001b[1;32m     <a href='vscode-notebook-cell:/Users/noah/Desktop/Repositories/ines-autonomous-dispatching/Manhattan_Graph_Environment/plot_map.ipynb#ch0000002?line=47'>48</a>\u001b[0m     lat \u001b[39m=\u001b[39m [df[\u001b[39m'\u001b[39m\u001b[39mlatitude\u001b[39m\u001b[39m'\u001b[39m]],\n\u001b[1;32m     <a href='vscode-notebook-cell:/Users/noah/Desktop/Repositories/ines-autonomous-dispatching/Manhattan_Graph_Environment/plot_map.ipynb#ch0000002?line=48'>49</a>\u001b[0m     marker \u001b[39m=\u001b[39m {\u001b[39m'\u001b[39m\u001b[39msize\u001b[39m\u001b[39m'\u001b[39m: \u001b[39m10\u001b[39m}))\n\u001b[1;32m     <a href='vscode-notebook-cell:/Users/noah/Desktop/Repositories/ines-autonomous-dispatching/Manhattan_Graph_Environment/plot_map.ipynb#ch0000002?line=49'>50</a>\u001b[0m     fig\u001b[39m.\u001b[39mshow()\n\u001b[0;32m---> <a href='vscode-notebook-cell:/Users/noah/Desktop/Repositories/ines-autonomous-dispatching/Manhattan_Graph_Environment/plot_map.ipynb#ch0000002?line=50'>51</a>\u001b[0m plot_map(env,hubs)\n",
      "\u001b[0;31mNameError\u001b[0m: name 'env' is not defined"
     ]
    }
   ],
   "source": [
    "hubs = [2,3,4,5,6,7]\n",
    "def plot_map(env, hubs:int =[]):\n",
    "    shared_rides = list()\n",
    "    shared_ids = list()\n",
    "\n",
    "    trips = env.availableTrips()\n",
    "        \n",
    "    for i, trip in enumerate(trips):\n",
    "        shared_ids.append(trip['target_hub'])\n",
    "        \n",
    "    all_hubs = env.hubs\n",
    "\n",
    "    book_own_ids = list(set(all_hubs) - set(shared_ids))\n",
    "    \n",
    "    position = env.manhattan_graph.get_nodeid_by_hub_index(env.position)\n",
    "    final = env.manhattan_graph.get_nodeid_by_hub_index(env.final_hub)\n",
    "    start = env.manhattan_graph.get_nodeid_by_hub_index(env.start_hub)\n",
    "\n",
    "    node_sizes = list()\n",
    "    actions = []\n",
    "    for n in all_hubs:\n",
    "        if n == position:\n",
    "            actions.append('position')\n",
    "        else:\n",
    "            if n == final:\n",
    "                actions.append('final')\n",
    "            else:\n",
    "                if n == start:\n",
    "                    actions.append('start')\n",
    "                else:\n",
    "                    if n in shared_ids:\n",
    "                        actions.append('shared')\n",
    "                    else:\n",
    "                        if n in book_own_ids:\n",
    "                            actions.append('book')                \n",
    "    df = pd.read_csv(\"../data/hubs/new_hubs.csv\")\n",
    "    ids = [i for i in range(70)]\n",
    "    df['id'] = ids\n",
    "    df['actions']=actions\n",
    "    px.set_mapbox_access_token(open(\"mapbox_token\").read())\n",
    "    #df = px.data.carshare()\n",
    "    fig = px.scatter_mapbox(df, lat=\"latitude\", lon=\"longitude\", hover_name =\"id\", color=\"actions\", #size=\"car_hours\",\n",
    "                color_continuous_scale=px.colors.cyclical.IceFire, size_max=15, zoom=10)  \n",
    "    \n",
    "    if (hubs != [])\n",
    "        fig.add_trace(go.Scattermapbox(\n",
    "        mode = \"lines\",\n",
    "        lon = [df['longitude'][i] for i in hubs],\n",
    "        lat = [df['latitude'][i] for i in hubs],\n",
    "        marker = {'size': 10}))\n",
    "        fig.show()\n",
    "plot_map(env,hubs)"
   ]
  },
  {
   "cell_type": "code",
   "execution_count": null,
   "metadata": {},
   "outputs": [],
   "source": [
    "def create_df_from_actions(env):\n",
    "    shared_rides = list()\n",
    "    shared_ids = list()\n",
    "\n",
    "    trips = env.availableTrips()\n",
    "        \n",
    "    for i, trip in enumerate(trips):\n",
    "        shared_ids.append(trip['target_hub'])\n",
    "        \n",
    "    all_hubs = env.hubs\n",
    "\n",
    "    book_own_ids = list(set(all_hubs) - set(shared_ids))\n",
    "    \n",
    "    position = env.manhattan_graph.get_nodeid_by_hub_index(env.position)\n",
    "    final = env.manhattan_graph.get_nodeid_by_hub_index(env.final_hub)\n",
    "    start = env.manhattan_graph.get_nodeid_by_hub_index(env.start_hub)\n",
    "\n",
    "    node_sizes = list()\n",
    "    actions = []\n",
    "    for n in all_hubs:\n",
    "        if n == position:\n",
    "            actions.append('position')\n",
    "        else:\n",
    "            if n == final:\n",
    "                actions.append('final')\n",
    "            else:\n",
    "                if n == start:\n",
    "                    actions.append('start')\n",
    "                else:\n",
    "                    if n in shared_ids:\n",
    "                        actions.append('shared')\n",
    "                    else:\n",
    "                        if n in book_own_ids:\n",
    "                            actions.append('book')                \n",
    "    df = pd.read_csv(\"../data/hubs/new_hubs.csv\")\n",
    "    ids = [i for i in range(70)]\n",
    "    df['id'] = ids\n",
    "    df['actions']=actions\n",
    "\n",
    "    return df"
   ]
  },
  {
   "cell_type": "code",
   "execution_count": null,
   "metadata": {},
   "outputs": [],
   "source": [
    "def plot_map(df):\n",
    "    px.set_mapbox_access_token(open(\"mapbox_token\").read())\n",
    "    #df = px.data.carshare()\n",
    "    fig = px.scatter_mapbox(df, lat=\"latitude\", lon=\"longitude\", hover_name =\"id\", color=\"actions\", #size=\"car_hours\",\n",
    "                color_continuous_scale=px.colors.cyclical.IceFire, size_max=15, zoom=10)  \n",
    "    fig.show()"
   ]
  },
  {
   "cell_type": "code",
   "execution_count": null,
   "metadata": {},
   "outputs": [],
   "source": [
    "def plot_route(hubs):\n"
   ]
  }
 ],
 "metadata": {
  "kernelspec": {
   "display_name": "Python 3.8.8 ('base')",
   "language": "python",
   "name": "python3"
  },
  "language_info": {
   "codemirror_mode": {
    "name": "ipython",
    "version": 3
   },
   "file_extension": ".py",
   "mimetype": "text/x-python",
   "name": "python",
   "nbconvert_exporter": "python",
   "pygments_lexer": "ipython3",
   "version": "3.8.8"
  },
  "orig_nbformat": 4,
  "vscode": {
   "interpreter": {
    "hash": "f276801fa85caabebacfd14100ddee0774c5b0a4b5a82990ea2551c5b02bf357"
   }
  }
 },
 "nbformat": 4,
 "nbformat_minor": 2
}
