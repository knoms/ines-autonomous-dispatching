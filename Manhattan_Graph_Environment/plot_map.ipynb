{
 "cells": [
  {
   "cell_type": "code",
   "execution_count": 1,
   "metadata": {
    "collapsed": true
   },
   "outputs": [
    {
     "ename": "",
     "evalue": "",
     "output_type": "error",
     "traceback": [
      "\u001b[1;31mCanceled future for execute_request message before replies were done"
     ]
    },
    {
     "ename": "",
     "evalue": "",
     "output_type": "error",
     "traceback": [
      "\u001b[1;31mThe Kernel crashed while executing code in the the current cell or a previous cell. Please review the code in the cell(s) to identify a possible cause of the failure. Click <a href='https://aka.ms/vscodeJupyterKernelCrash'>here</a> for more info. View Jupyter <a href='command:jupyter.viewOutput'>log</a> for further details."
     ]
    }
   ],
   "source": [
    "# imports\n",
    "import numpy as np\n",
    "import pandas as pd\n",
    "import plotly.express as px\n",
    "import sys\n",
    "sys.path.insert(0,\"\")\n",
    "\n",
    "from gym_graphenv.envs.GraphworldManhattan import GraphEnv\n",
    "\n",
    "import warnings\n",
    "warnings.filterwarnings('ignore')"
   ]
  },
  {
   "cell_type": "code",
   "execution_count": null,
   "metadata": {},
   "outputs": [],
   "source": [
    "env=GraphEnv()\n",
    "env.reset()\n",
    "\n",
    "\n",
    "env.step(np.random.randint(120))\n",
    "trips = env.availableTrips()"
   ]
  },
  {
   "cell_type": "code",
   "execution_count": null,
   "metadata": {},
   "outputs": [],
   "source": [
    "hubs = [2,3,4,5,6,7]\n",
    "def plot_map(env, hubs:int =[]):\n",
    "    shared_rides = list()\n",
    "    shared_ids = list()\n",
    "\n",
    "    trips = env.availableTrips()\n",
    "        \n",
    "    for i, trip in enumerate(trips):\n",
    "        shared_ids.append(trip['target_hub'])\n",
    "        \n",
    "    all_hubs = env.hubs\n",
    "\n",
    "    book_own_ids = list(set(all_hubs) - set(shared_ids))\n",
    "    \n",
    "    position = env.manhattan_graph.get_nodeid_by_hub_index(env.position)\n",
    "    final = env.manhattan_graph.get_nodeid_by_hub_index(env.final_hub)\n",
    "    start = env.manhattan_graph.get_nodeid_by_hub_index(env.start_hub)\n",
    "\n",
    "    node_sizes = list()\n",
    "    actions = []\n",
    "    for n in all_hubs:\n",
    "        if n == position:\n",
    "            actions.append('position')\n",
    "        else:\n",
    "            if n == final:\n",
    "                actions.append('final')\n",
    "            else:\n",
    "                if n == start:\n",
    "                    actions.append('start')\n",
    "                else:\n",
    "                    if n in shared_ids:\n",
    "                        actions.append('shared')\n",
    "                    else:\n",
    "                        if n in book_own_ids:\n",
    "                            actions.append('book')                \n",
    "    df = pd.read_csv(\"../data/hubs/new_hubs.csv\")\n",
    "    ids = [i for i in range(70)]\n",
    "    df['id'] = ids\n",
    "    df['actions']=actions\n",
    "    px.set_mapbox_access_token(open(\"mapbox_token\").read())\n",
    "    #df = px.data.carshare()\n",
    "    fig = px.scatter_mapbox(df, lat=\"latitude\", lon=\"longitude\", hover_name =\"id\", color=\"actions\", #size=\"car_hours\",\n",
    "                color_continuous_scale=px.colors.cyclical.IceFire, size_max=15, zoom=10)  \n",
    "    \n",
    "    if (hubs != [])\n",
    "        fig.add_trace(go.Scattermapbox(\n",
    "        mode = \"lines\",\n",
    "        lon = [df['longitude'][i] for i in hubs],\n",
    "        lat = [df['latitude'][i] for i in hubs],\n",
    "        marker = {'size': 10}))\n",
    "        fig.show()\n",
    "plot_map(env,hubs)"
   ]
  },
  {
   "cell_type": "code",
   "execution_count": null,
   "metadata": {},
   "outputs": [],
   "source": [
    "def create_df_from_actions(env):\n",
    "    shared_rides = list()\n",
    "    shared_ids = list()\n",
    "\n",
    "    trips = env.availableTrips()\n",
    "        \n",
    "    for i, trip in enumerate(trips):\n",
    "        shared_ids.append(trip['target_hub'])\n",
    "        \n",
    "    all_hubs = env.hubs\n",
    "\n",
    "    book_own_ids = list(set(all_hubs) - set(shared_ids))\n",
    "    \n",
    "    position = env.manhattan_graph.get_nodeid_by_hub_index(env.position)\n",
    "    final = env.manhattan_graph.get_nodeid_by_hub_index(env.final_hub)\n",
    "    start = env.manhattan_graph.get_nodeid_by_hub_index(env.start_hub)\n",
    "\n",
    "    node_sizes = list()\n",
    "    actions = []\n",
    "    for n in all_hubs:\n",
    "        if n == position:\n",
    "            actions.append('position')\n",
    "        else:\n",
    "            if n == final:\n",
    "                actions.append('final')\n",
    "            else:\n",
    "                if n == start:\n",
    "                    actions.append('start')\n",
    "                else:\n",
    "                    if n in shared_ids:\n",
    "                        actions.append('shared')\n",
    "                    else:\n",
    "                        if n in book_own_ids:\n",
    "                            actions.append('book')                \n",
    "    df = pd.read_csv(\"../data/hubs/new_hubs.csv\")\n",
    "    ids = [i for i in range(70)]\n",
    "    df['id'] = ids\n",
    "    df['actions']=actions\n",
    "\n",
    "    return df"
   ]
  },
  {
   "cell_type": "code",
   "execution_count": null,
   "metadata": {},
   "outputs": [],
   "source": [
    "def plot_map(df):\n",
    "    px.set_mapbox_access_token(open(\"mapbox_token\").read())\n",
    "    #df = px.data.carshare()\n",
    "    fig = px.scatter_mapbox(df, lat=\"latitude\", lon=\"longitude\", hover_name =\"id\", color=\"actions\", #size=\"car_hours\",\n",
    "                color_continuous_scale=px.colors.cyclical.IceFire, size_max=15, zoom=10)  \n",
    "    fig.show()"
   ]
  },
  {
   "cell_type": "code",
   "execution_count": null,
   "metadata": {},
   "outputs": [],
   "source": [
    "def plot_route(hubs):"
   ]
  },
  {
   "cell_type": "code",
   "execution_count": 1,
   "metadata": {},
   "outputs": [],
   "source": [
    "nodes =  [42437644, 42446701, 42443680, 42451674, 42437686, 42427786, 42438544, 42434800, 42429874, 7372860100, \n",
    "42453624, 449581627, 42428206, 42437881, 42434268, 42443671, 42427369, 42428183, 42428179, 42428174, 4597668026, 4597668036, 4597668023, 4597668035, 42428493, 42428491, 42428489, 42428483, 42428480, 42428476, 42428473, 42428471, 42428468, 42428464, 42428460, 42428458, 42428454, 1692433919, 42428447, 1919595915, 42428444, 42428441, 42428438, 42428436, 42428434, 42428433, 42428431, 42428428, 42428425, 42428420, 5706569905, 42428411, 42428408, 42428405, 42428402, 272195271, 2821304136, 2821304137, 2821304138, 272195270, 8262936580, 42428391, \n",
    "42428385, 42428379, 42453934, 8840333846, 8840333851, 42453952, 42430004, 42429562, 42449597, 42431611, 42445356, 42430550, 42429830, 42452817, 42448171, 4143851142, 4143851144, 42453777, 42447249, 42447246, 42440825, \n",
    "8996353563, 42452040, 42432152, 42442273, 42456197, 1919595917, 1919595925, 1919595915, 1918039880, 1918039897, 42445511, 1692433916, 42445520, 42431165, 42445534, 42439236, 42445543, 42439249, 42434140, 42443296, 42443298, 4235734225, 3892037906, 42430898, 42430903, 42454994, 42446547, 42436943, 42440743, 42440737, 42436942, 42442870, 42442862, 42430898, 42442857, 42434142, 42434201, 42442851, 42442850, 42442848, 42437333, 42442843, 42442842, 42442838, 42443127, 1918039877, 42432083, 42437113, 486869282, 42429754, 42432085, 42452067, 42445603, 42437580, 5161246301, 5161246307, 1773063789, 1773063787, 1773060097, 1773060099, 1773055865, 588455743, 4158807592, 42439813, 42437749, 42444277, 3884569931, 3884569924, 588455738, 205019740, 4145735057, 4145735066, 4147546533, 42431902, 370880739, 4145735059, 205020852, 42422270, 278608643, 42423307, 370892861, 370894980, 370897166, 370913758, 42422509, 42457925, 42457940, 42445392, 42445390, 42445387, 5131026388, 42445382, \n",
    "42445378, 42445374, 3786901743, 561042190, 42445365]\n"
   ]
  },
  {
   "cell_type": "code",
   "execution_count": 2,
   "metadata": {},
   "outputs": [],
   "source": [
    "from graphs.ManhattanGraph import ManhattanGraph"
   ]
  },
  {
   "cell_type": "code",
   "execution_count": 3,
   "metadata": {},
   "outputs": [
    {
     "name": "stderr",
     "output_type": "stream",
     "text": [
      "c:\\Users\\Vio\\anaconda3\\envs\\good-env\\lib\\site-packages\\osmnx\\distance.py:356: UserWarning: The `get_nearest_node` function has been deprecated and will be removed in a future release. Use the more efficient `distance.nearest_nodes` instead.\n",
      "  warnings.warn(msg)\n",
      "c:\\Users\\Vio\\anaconda3\\envs\\good-env\\lib\\site-packages\\osmnx\\distance.py:356: UserWarning: The `get_nearest_node` function has been deprecated and will be removed in a future release. Use the more efficient `distance.nearest_nodes` instead.\n",
      "  warnings.warn(msg)\n",
      "c:\\Users\\Vio\\anaconda3\\envs\\good-env\\lib\\site-packages\\osmnx\\distance.py:356: UserWarning: The `get_nearest_node` function has been deprecated and will be removed in a future release. Use the more efficient `distance.nearest_nodes` instead.\n",
      "  warnings.warn(msg)\n",
      "c:\\Users\\Vio\\anaconda3\\envs\\good-env\\lib\\site-packages\\osmnx\\distance.py:356: UserWarning: The `get_nearest_node` function has been deprecated and will be removed in a future release. Use the more efficient `distance.nearest_nodes` instead.\n",
      "  warnings.warn(msg)\n",
      "c:\\Users\\Vio\\anaconda3\\envs\\good-env\\lib\\site-packages\\osmnx\\distance.py:356: UserWarning: The `get_nearest_node` function has been deprecated and will be removed in a future release. Use the more efficient `distance.nearest_nodes` instead.\n",
      "  warnings.warn(msg)\n",
      "c:\\Users\\Vio\\anaconda3\\envs\\good-env\\lib\\site-packages\\osmnx\\distance.py:356: UserWarning: The `get_nearest_node` function has been deprecated and will be removed in a future release. Use the more efficient `distance.nearest_nodes` instead.\n",
      "  warnings.warn(msg)\n",
      "c:\\Users\\Vio\\anaconda3\\envs\\good-env\\lib\\site-packages\\osmnx\\distance.py:356: UserWarning: The `get_nearest_node` function has been deprecated and will be removed in a future release. Use the more efficient `distance.nearest_nodes` instead.\n",
      "  warnings.warn(msg)\n",
      "c:\\Users\\Vio\\anaconda3\\envs\\good-env\\lib\\site-packages\\osmnx\\distance.py:356: UserWarning: The `get_nearest_node` function has been deprecated and will be removed in a future release. Use the more efficient `distance.nearest_nodes` instead.\n",
      "  warnings.warn(msg)\n",
      "c:\\Users\\Vio\\anaconda3\\envs\\good-env\\lib\\site-packages\\osmnx\\distance.py:356: UserWarning: The `get_nearest_node` function has been deprecated and will be removed in a future release. Use the more efficient `distance.nearest_nodes` instead.\n",
      "  warnings.warn(msg)\n",
      "c:\\Users\\Vio\\anaconda3\\envs\\good-env\\lib\\site-packages\\osmnx\\distance.py:356: UserWarning: The `get_nearest_node` function has been deprecated and will be removed in a future release. Use the more efficient `distance.nearest_nodes` instead.\n",
      "  warnings.warn(msg)\n",
      "c:\\Users\\Vio\\anaconda3\\envs\\good-env\\lib\\site-packages\\osmnx\\distance.py:356: UserWarning: The `get_nearest_node` function has been deprecated and will be removed in a future release. Use the more efficient `distance.nearest_nodes` instead.\n",
      "  warnings.warn(msg)\n",
      "c:\\Users\\Vio\\anaconda3\\envs\\good-env\\lib\\site-packages\\osmnx\\distance.py:356: UserWarning: The `get_nearest_node` function has been deprecated and will be removed in a future release. Use the more efficient `distance.nearest_nodes` instead.\n",
      "  warnings.warn(msg)\n",
      "c:\\Users\\Vio\\anaconda3\\envs\\good-env\\lib\\site-packages\\osmnx\\distance.py:356: UserWarning: The `get_nearest_node` function has been deprecated and will be removed in a future release. Use the more efficient `distance.nearest_nodes` instead.\n",
      "  warnings.warn(msg)\n",
      "c:\\Users\\Vio\\anaconda3\\envs\\good-env\\lib\\site-packages\\osmnx\\distance.py:356: UserWarning: The `get_nearest_node` function has been deprecated and will be removed in a future release. Use the more efficient `distance.nearest_nodes` instead.\n",
      "  warnings.warn(msg)\n",
      "c:\\Users\\Vio\\anaconda3\\envs\\good-env\\lib\\site-packages\\osmnx\\distance.py:356: UserWarning: The `get_nearest_node` function has been deprecated and will be removed in a future release. Use the more efficient `distance.nearest_nodes` instead.\n",
      "  warnings.warn(msg)\n",
      "c:\\Users\\Vio\\anaconda3\\envs\\good-env\\lib\\site-packages\\osmnx\\distance.py:356: UserWarning: The `get_nearest_node` function has been deprecated and will be removed in a future release. Use the more efficient `distance.nearest_nodes` instead.\n",
      "  warnings.warn(msg)\n",
      "c:\\Users\\Vio\\anaconda3\\envs\\good-env\\lib\\site-packages\\osmnx\\distance.py:356: UserWarning: The `get_nearest_node` function has been deprecated and will be removed in a future release. Use the more efficient `distance.nearest_nodes` instead.\n",
      "  warnings.warn(msg)\n",
      "c:\\Users\\Vio\\anaconda3\\envs\\good-env\\lib\\site-packages\\osmnx\\distance.py:356: UserWarning: The `get_nearest_node` function has been deprecated and will be removed in a future release. Use the more efficient `distance.nearest_nodes` instead.\n",
      "  warnings.warn(msg)\n",
      "c:\\Users\\Vio\\anaconda3\\envs\\good-env\\lib\\site-packages\\osmnx\\distance.py:356: UserWarning: The `get_nearest_node` function has been deprecated and will be removed in a future release. Use the more efficient `distance.nearest_nodes` instead.\n",
      "  warnings.warn(msg)\n",
      "c:\\Users\\Vio\\anaconda3\\envs\\good-env\\lib\\site-packages\\osmnx\\distance.py:356: UserWarning: The `get_nearest_node` function has been deprecated and will be removed in a future release. Use the more efficient `distance.nearest_nodes` instead.\n",
      "  warnings.warn(msg)\n",
      "c:\\Users\\Vio\\anaconda3\\envs\\good-env\\lib\\site-packages\\osmnx\\distance.py:356: UserWarning: The `get_nearest_node` function has been deprecated and will be removed in a future release. Use the more efficient `distance.nearest_nodes` instead.\n",
      "  warnings.warn(msg)\n",
      "c:\\Users\\Vio\\anaconda3\\envs\\good-env\\lib\\site-packages\\osmnx\\distance.py:356: UserWarning: The `get_nearest_node` function has been deprecated and will be removed in a future release. Use the more efficient `distance.nearest_nodes` instead.\n",
      "  warnings.warn(msg)\n",
      "c:\\Users\\Vio\\anaconda3\\envs\\good-env\\lib\\site-packages\\osmnx\\distance.py:356: UserWarning: The `get_nearest_node` function has been deprecated and will be removed in a future release. Use the more efficient `distance.nearest_nodes` instead.\n",
      "  warnings.warn(msg)\n",
      "c:\\Users\\Vio\\anaconda3\\envs\\good-env\\lib\\site-packages\\osmnx\\distance.py:356: UserWarning: The `get_nearest_node` function has been deprecated and will be removed in a future release. Use the more efficient `distance.nearest_nodes` instead.\n",
      "  warnings.warn(msg)\n",
      "c:\\Users\\Vio\\anaconda3\\envs\\good-env\\lib\\site-packages\\osmnx\\distance.py:356: UserWarning: The `get_nearest_node` function has been deprecated and will be removed in a future release. Use the more efficient `distance.nearest_nodes` instead.\n",
      "  warnings.warn(msg)\n",
      "c:\\Users\\Vio\\anaconda3\\envs\\good-env\\lib\\site-packages\\osmnx\\distance.py:356: UserWarning: The `get_nearest_node` function has been deprecated and will be removed in a future release. Use the more efficient `distance.nearest_nodes` instead.\n",
      "  warnings.warn(msg)\n",
      "c:\\Users\\Vio\\anaconda3\\envs\\good-env\\lib\\site-packages\\osmnx\\distance.py:356: UserWarning: The `get_nearest_node` function has been deprecated and will be removed in a future release. Use the more efficient `distance.nearest_nodes` instead.\n",
      "  warnings.warn(msg)\n",
      "c:\\Users\\Vio\\anaconda3\\envs\\good-env\\lib\\site-packages\\osmnx\\distance.py:356: UserWarning: The `get_nearest_node` function has been deprecated and will be removed in a future release. Use the more efficient `distance.nearest_nodes` instead.\n",
      "  warnings.warn(msg)\n",
      "c:\\Users\\Vio\\anaconda3\\envs\\good-env\\lib\\site-packages\\osmnx\\distance.py:356: UserWarning: The `get_nearest_node` function has been deprecated and will be removed in a future release. Use the more efficient `distance.nearest_nodes` instead.\n",
      "  warnings.warn(msg)\n",
      "c:\\Users\\Vio\\anaconda3\\envs\\good-env\\lib\\site-packages\\osmnx\\distance.py:356: UserWarning: The `get_nearest_node` function has been deprecated and will be removed in a future release. Use the more efficient `distance.nearest_nodes` instead.\n",
      "  warnings.warn(msg)\n",
      "c:\\Users\\Vio\\anaconda3\\envs\\good-env\\lib\\site-packages\\osmnx\\distance.py:356: UserWarning: The `get_nearest_node` function has been deprecated and will be removed in a future release. Use the more efficient `distance.nearest_nodes` instead.\n",
      "  warnings.warn(msg)\n",
      "c:\\Users\\Vio\\anaconda3\\envs\\good-env\\lib\\site-packages\\osmnx\\distance.py:356: UserWarning: The `get_nearest_node` function has been deprecated and will be removed in a future release. Use the more efficient `distance.nearest_nodes` instead.\n",
      "  warnings.warn(msg)\n",
      "c:\\Users\\Vio\\anaconda3\\envs\\good-env\\lib\\site-packages\\osmnx\\distance.py:356: UserWarning: The `get_nearest_node` function has been deprecated and will be removed in a future release. Use the more efficient `distance.nearest_nodes` instead.\n",
      "  warnings.warn(msg)\n",
      "c:\\Users\\Vio\\anaconda3\\envs\\good-env\\lib\\site-packages\\osmnx\\distance.py:356: UserWarning: The `get_nearest_node` function has been deprecated and will be removed in a future release. Use the more efficient `distance.nearest_nodes` instead.\n",
      "  warnings.warn(msg)\n",
      "c:\\Users\\Vio\\anaconda3\\envs\\good-env\\lib\\site-packages\\osmnx\\distance.py:356: UserWarning: The `get_nearest_node` function has been deprecated and will be removed in a future release. Use the more efficient `distance.nearest_nodes` instead.\n",
      "  warnings.warn(msg)\n",
      "c:\\Users\\Vio\\anaconda3\\envs\\good-env\\lib\\site-packages\\osmnx\\distance.py:356: UserWarning: The `get_nearest_node` function has been deprecated and will be removed in a future release. Use the more efficient `distance.nearest_nodes` instead.\n",
      "  warnings.warn(msg)\n",
      "c:\\Users\\Vio\\anaconda3\\envs\\good-env\\lib\\site-packages\\osmnx\\distance.py:356: UserWarning: The `get_nearest_node` function has been deprecated and will be removed in a future release. Use the more efficient `distance.nearest_nodes` instead.\n",
      "  warnings.warn(msg)\n",
      "c:\\Users\\Vio\\anaconda3\\envs\\good-env\\lib\\site-packages\\osmnx\\distance.py:356: UserWarning: The `get_nearest_node` function has been deprecated and will be removed in a future release. Use the more efficient `distance.nearest_nodes` instead.\n",
      "  warnings.warn(msg)\n",
      "c:\\Users\\Vio\\anaconda3\\envs\\good-env\\lib\\site-packages\\osmnx\\distance.py:356: UserWarning: The `get_nearest_node` function has been deprecated and will be removed in a future release. Use the more efficient `distance.nearest_nodes` instead.\n",
      "  warnings.warn(msg)\n",
      "c:\\Users\\Vio\\anaconda3\\envs\\good-env\\lib\\site-packages\\osmnx\\distance.py:356: UserWarning: The `get_nearest_node` function has been deprecated and will be removed in a future release. Use the more efficient `distance.nearest_nodes` instead.\n",
      "  warnings.warn(msg)\n",
      "c:\\Users\\Vio\\anaconda3\\envs\\good-env\\lib\\site-packages\\osmnx\\distance.py:356: UserWarning: The `get_nearest_node` function has been deprecated and will be removed in a future release. Use the more efficient `distance.nearest_nodes` instead.\n",
      "  warnings.warn(msg)\n",
      "c:\\Users\\Vio\\anaconda3\\envs\\good-env\\lib\\site-packages\\osmnx\\distance.py:356: UserWarning: The `get_nearest_node` function has been deprecated and will be removed in a future release. Use the more efficient `distance.nearest_nodes` instead.\n",
      "  warnings.warn(msg)\n",
      "c:\\Users\\Vio\\anaconda3\\envs\\good-env\\lib\\site-packages\\osmnx\\distance.py:356: UserWarning: The `get_nearest_node` function has been deprecated and will be removed in a future release. Use the more efficient `distance.nearest_nodes` instead.\n",
      "  warnings.warn(msg)\n",
      "c:\\Users\\Vio\\anaconda3\\envs\\good-env\\lib\\site-packages\\osmnx\\distance.py:356: UserWarning: The `get_nearest_node` function has been deprecated and will be removed in a future release. Use the more efficient `distance.nearest_nodes` instead.\n",
      "  warnings.warn(msg)\n",
      "c:\\Users\\Vio\\anaconda3\\envs\\good-env\\lib\\site-packages\\osmnx\\distance.py:356: UserWarning: The `get_nearest_node` function has been deprecated and will be removed in a future release. Use the more efficient `distance.nearest_nodes` instead.\n",
      "  warnings.warn(msg)\n",
      "c:\\Users\\Vio\\anaconda3\\envs\\good-env\\lib\\site-packages\\osmnx\\distance.py:356: UserWarning: The `get_nearest_node` function has been deprecated and will be removed in a future release. Use the more efficient `distance.nearest_nodes` instead.\n",
      "  warnings.warn(msg)\n",
      "c:\\Users\\Vio\\anaconda3\\envs\\good-env\\lib\\site-packages\\osmnx\\distance.py:356: UserWarning: The `get_nearest_node` function has been deprecated and will be removed in a future release. Use the more efficient `distance.nearest_nodes` instead.\n",
      "  warnings.warn(msg)\n",
      "c:\\Users\\Vio\\anaconda3\\envs\\good-env\\lib\\site-packages\\osmnx\\distance.py:356: UserWarning: The `get_nearest_node` function has been deprecated and will be removed in a future release. Use the more efficient `distance.nearest_nodes` instead.\n",
      "  warnings.warn(msg)\n",
      "c:\\Users\\Vio\\anaconda3\\envs\\good-env\\lib\\site-packages\\osmnx\\distance.py:356: UserWarning: The `get_nearest_node` function has been deprecated and will be removed in a future release. Use the more efficient `distance.nearest_nodes` instead.\n",
      "  warnings.warn(msg)\n",
      "c:\\Users\\Vio\\anaconda3\\envs\\good-env\\lib\\site-packages\\osmnx\\distance.py:356: UserWarning: The `get_nearest_node` function has been deprecated and will be removed in a future release. Use the more efficient `distance.nearest_nodes` instead.\n",
      "  warnings.warn(msg)\n",
      "c:\\Users\\Vio\\anaconda3\\envs\\good-env\\lib\\site-packages\\osmnx\\distance.py:356: UserWarning: The `get_nearest_node` function has been deprecated and will be removed in a future release. Use the more efficient `distance.nearest_nodes` instead.\n",
      "  warnings.warn(msg)\n",
      "c:\\Users\\Vio\\anaconda3\\envs\\good-env\\lib\\site-packages\\osmnx\\distance.py:356: UserWarning: The `get_nearest_node` function has been deprecated and will be removed in a future release. Use the more efficient `distance.nearest_nodes` instead.\n",
      "  warnings.warn(msg)\n",
      "c:\\Users\\Vio\\anaconda3\\envs\\good-env\\lib\\site-packages\\osmnx\\distance.py:356: UserWarning: The `get_nearest_node` function has been deprecated and will be removed in a future release. Use the more efficient `distance.nearest_nodes` instead.\n",
      "  warnings.warn(msg)\n",
      "c:\\Users\\Vio\\anaconda3\\envs\\good-env\\lib\\site-packages\\osmnx\\distance.py:356: UserWarning: The `get_nearest_node` function has been deprecated and will be removed in a future release. Use the more efficient `distance.nearest_nodes` instead.\n",
      "  warnings.warn(msg)\n",
      "c:\\Users\\Vio\\anaconda3\\envs\\good-env\\lib\\site-packages\\osmnx\\distance.py:356: UserWarning: The `get_nearest_node` function has been deprecated and will be removed in a future release. Use the more efficient `distance.nearest_nodes` instead.\n",
      "  warnings.warn(msg)\n",
      "c:\\Users\\Vio\\anaconda3\\envs\\good-env\\lib\\site-packages\\osmnx\\distance.py:356: UserWarning: The `get_nearest_node` function has been deprecated and will be removed in a future release. Use the more efficient `distance.nearest_nodes` instead.\n",
      "  warnings.warn(msg)\n",
      "c:\\Users\\Vio\\anaconda3\\envs\\good-env\\lib\\site-packages\\osmnx\\distance.py:356: UserWarning: The `get_nearest_node` function has been deprecated and will be removed in a future release. Use the more efficient `distance.nearest_nodes` instead.\n",
      "  warnings.warn(msg)\n",
      "c:\\Users\\Vio\\anaconda3\\envs\\good-env\\lib\\site-packages\\osmnx\\distance.py:356: UserWarning: The `get_nearest_node` function has been deprecated and will be removed in a future release. Use the more efficient `distance.nearest_nodes` instead.\n",
      "  warnings.warn(msg)\n",
      "c:\\Users\\Vio\\anaconda3\\envs\\good-env\\lib\\site-packages\\osmnx\\distance.py:356: UserWarning: The `get_nearest_node` function has been deprecated and will be removed in a future release. Use the more efficient `distance.nearest_nodes` instead.\n",
      "  warnings.warn(msg)\n",
      "c:\\Users\\Vio\\anaconda3\\envs\\good-env\\lib\\site-packages\\osmnx\\distance.py:356: UserWarning: The `get_nearest_node` function has been deprecated and will be removed in a future release. Use the more efficient `distance.nearest_nodes` instead.\n",
      "  warnings.warn(msg)\n",
      "c:\\Users\\Vio\\anaconda3\\envs\\good-env\\lib\\site-packages\\osmnx\\distance.py:356: UserWarning: The `get_nearest_node` function has been deprecated and will be removed in a future release. Use the more efficient `distance.nearest_nodes` instead.\n",
      "  warnings.warn(msg)\n",
      "c:\\Users\\Vio\\anaconda3\\envs\\good-env\\lib\\site-packages\\osmnx\\distance.py:356: UserWarning: The `get_nearest_node` function has been deprecated and will be removed in a future release. Use the more efficient `distance.nearest_nodes` instead.\n",
      "  warnings.warn(msg)\n",
      "c:\\Users\\Vio\\anaconda3\\envs\\good-env\\lib\\site-packages\\osmnx\\distance.py:356: UserWarning: The `get_nearest_node` function has been deprecated and will be removed in a future release. Use the more efficient `distance.nearest_nodes` instead.\n",
      "  warnings.warn(msg)\n",
      "c:\\Users\\Vio\\anaconda3\\envs\\good-env\\lib\\site-packages\\osmnx\\distance.py:356: UserWarning: The `get_nearest_node` function has been deprecated and will be removed in a future release. Use the more efficient `distance.nearest_nodes` instead.\n",
      "  warnings.warn(msg)\n",
      "c:\\Users\\Vio\\anaconda3\\envs\\good-env\\lib\\site-packages\\osmnx\\distance.py:356: UserWarning: The `get_nearest_node` function has been deprecated and will be removed in a future release. Use the more efficient `distance.nearest_nodes` instead.\n",
      "  warnings.warn(msg)\n",
      "c:\\Users\\Vio\\anaconda3\\envs\\good-env\\lib\\site-packages\\osmnx\\distance.py:356: UserWarning: The `get_nearest_node` function has been deprecated and will be removed in a future release. Use the more efficient `distance.nearest_nodes` instead.\n",
      "  warnings.warn(msg)\n",
      "c:\\Users\\Vio\\anaconda3\\envs\\good-env\\lib\\site-packages\\osmnx\\distance.py:356: UserWarning: The `get_nearest_node` function has been deprecated and will be removed in a future release. Use the more efficient `distance.nearest_nodes` instead.\n",
      "  warnings.warn(msg)\n",
      "c:\\Users\\Vio\\anaconda3\\envs\\good-env\\lib\\site-packages\\osmnx\\distance.py:356: UserWarning: The `get_nearest_node` function has been deprecated and will be removed in a future release. Use the more efficient `distance.nearest_nodes` instead.\n",
      "  warnings.warn(msg)\n",
      "c:\\Users\\Vio\\anaconda3\\envs\\good-env\\lib\\site-packages\\osmnx\\distance.py:356: UserWarning: The `get_nearest_node` function has been deprecated and will be removed in a future release. Use the more efficient `distance.nearest_nodes` instead.\n",
      "  warnings.warn(msg)\n",
      "c:\\Users\\Vio\\anaconda3\\envs\\good-env\\lib\\site-packages\\osmnx\\distance.py:356: UserWarning: The `get_nearest_node` function has been deprecated and will be removed in a future release. Use the more efficient `distance.nearest_nodes` instead.\n",
      "  warnings.warn(msg)\n",
      "c:\\Users\\Vio\\anaconda3\\envs\\good-env\\lib\\site-packages\\osmnx\\distance.py:356: UserWarning: The `get_nearest_node` function has been deprecated and will be removed in a future release. Use the more efficient `distance.nearest_nodes` instead.\n",
      "  warnings.warn(msg)\n",
      "c:\\Users\\Vio\\anaconda3\\envs\\good-env\\lib\\site-packages\\osmnx\\distance.py:356: UserWarning: The `get_nearest_node` function has been deprecated and will be removed in a future release. Use the more efficient `distance.nearest_nodes` instead.\n",
      "  warnings.warn(msg)\n",
      "c:\\Users\\Vio\\anaconda3\\envs\\good-env\\lib\\site-packages\\osmnx\\distance.py:356: UserWarning: The `get_nearest_node` function has been deprecated and will be removed in a future release. Use the more efficient `distance.nearest_nodes` instead.\n",
      "  warnings.warn(msg)\n",
      "c:\\Users\\Vio\\anaconda3\\envs\\good-env\\lib\\site-packages\\osmnx\\distance.py:356: UserWarning: The `get_nearest_node` function has been deprecated and will be removed in a future release. Use the more efficient `distance.nearest_nodes` instead.\n",
      "  warnings.warn(msg)\n",
      "c:\\Users\\Vio\\anaconda3\\envs\\good-env\\lib\\site-packages\\osmnx\\distance.py:356: UserWarning: The `get_nearest_node` function has been deprecated and will be removed in a future release. Use the more efficient `distance.nearest_nodes` instead.\n",
      "  warnings.warn(msg)\n",
      "c:\\Users\\Vio\\anaconda3\\envs\\good-env\\lib\\site-packages\\osmnx\\distance.py:356: UserWarning: The `get_nearest_node` function has been deprecated and will be removed in a future release. Use the more efficient `distance.nearest_nodes` instead.\n",
      "  warnings.warn(msg)\n",
      "c:\\Users\\Vio\\anaconda3\\envs\\good-env\\lib\\site-packages\\osmnx\\distance.py:356: UserWarning: The `get_nearest_node` function has been deprecated and will be removed in a future release. Use the more efficient `distance.nearest_nodes` instead.\n",
      "  warnings.warn(msg)\n",
      "c:\\Users\\Vio\\anaconda3\\envs\\good-env\\lib\\site-packages\\osmnx\\distance.py:356: UserWarning: The `get_nearest_node` function has been deprecated and will be removed in a future release. Use the more efficient `distance.nearest_nodes` instead.\n",
      "  warnings.warn(msg)\n",
      "c:\\Users\\Vio\\anaconda3\\envs\\good-env\\lib\\site-packages\\osmnx\\distance.py:356: UserWarning: The `get_nearest_node` function has been deprecated and will be removed in a future release. Use the more efficient `distance.nearest_nodes` instead.\n",
      "  warnings.warn(msg)\n",
      "c:\\Users\\Vio\\anaconda3\\envs\\good-env\\lib\\site-packages\\osmnx\\distance.py:356: UserWarning: The `get_nearest_node` function has been deprecated and will be removed in a future release. Use the more efficient `distance.nearest_nodes` instead.\n",
      "  warnings.warn(msg)\n",
      "c:\\Users\\Vio\\anaconda3\\envs\\good-env\\lib\\site-packages\\osmnx\\distance.py:356: UserWarning: The `get_nearest_node` function has been deprecated and will be removed in a future release. Use the more efficient `distance.nearest_nodes` instead.\n",
      "  warnings.warn(msg)\n",
      "c:\\Users\\Vio\\anaconda3\\envs\\good-env\\lib\\site-packages\\osmnx\\distance.py:356: UserWarning: The `get_nearest_node` function has been deprecated and will be removed in a future release. Use the more efficient `distance.nearest_nodes` instead.\n",
      "  warnings.warn(msg)\n",
      "c:\\Users\\Vio\\anaconda3\\envs\\good-env\\lib\\site-packages\\osmnx\\distance.py:356: UserWarning: The `get_nearest_node` function has been deprecated and will be removed in a future release. Use the more efficient `distance.nearest_nodes` instead.\n",
      "  warnings.warn(msg)\n",
      "c:\\Users\\Vio\\anaconda3\\envs\\good-env\\lib\\site-packages\\osmnx\\distance.py:356: UserWarning: The `get_nearest_node` function has been deprecated and will be removed in a future release. Use the more efficient `distance.nearest_nodes` instead.\n",
      "  warnings.warn(msg)\n",
      "c:\\Users\\Vio\\anaconda3\\envs\\good-env\\lib\\site-packages\\osmnx\\distance.py:356: UserWarning: The `get_nearest_node` function has been deprecated and will be removed in a future release. Use the more efficient `distance.nearest_nodes` instead.\n",
      "  warnings.warn(msg)\n",
      "c:\\Users\\Vio\\anaconda3\\envs\\good-env\\lib\\site-packages\\osmnx\\distance.py:356: UserWarning: The `get_nearest_node` function has been deprecated and will be removed in a future release. Use the more efficient `distance.nearest_nodes` instead.\n",
      "  warnings.warn(msg)\n",
      "c:\\Users\\Vio\\anaconda3\\envs\\good-env\\lib\\site-packages\\osmnx\\distance.py:356: UserWarning: The `get_nearest_node` function has been deprecated and will be removed in a future release. Use the more efficient `distance.nearest_nodes` instead.\n",
      "  warnings.warn(msg)\n",
      "c:\\Users\\Vio\\anaconda3\\envs\\good-env\\lib\\site-packages\\osmnx\\distance.py:356: UserWarning: The `get_nearest_node` function has been deprecated and will be removed in a future release. Use the more efficient `distance.nearest_nodes` instead.\n",
      "  warnings.warn(msg)\n",
      "c:\\Users\\Vio\\anaconda3\\envs\\good-env\\lib\\site-packages\\osmnx\\distance.py:356: UserWarning: The `get_nearest_node` function has been deprecated and will be removed in a future release. Use the more efficient `distance.nearest_nodes` instead.\n",
      "  warnings.warn(msg)\n",
      "c:\\Users\\Vio\\anaconda3\\envs\\good-env\\lib\\site-packages\\osmnx\\distance.py:356: UserWarning: The `get_nearest_node` function has been deprecated and will be removed in a future release. Use the more efficient `distance.nearest_nodes` instead.\n",
      "  warnings.warn(msg)\n",
      "c:\\Users\\Vio\\anaconda3\\envs\\good-env\\lib\\site-packages\\osmnx\\distance.py:356: UserWarning: The `get_nearest_node` function has been deprecated and will be removed in a future release. Use the more efficient `distance.nearest_nodes` instead.\n",
      "  warnings.warn(msg)\n",
      "c:\\Users\\Vio\\anaconda3\\envs\\good-env\\lib\\site-packages\\osmnx\\distance.py:356: UserWarning: The `get_nearest_node` function has been deprecated and will be removed in a future release. Use the more efficient `distance.nearest_nodes` instead.\n",
      "  warnings.warn(msg)\n",
      "c:\\Users\\Vio\\anaconda3\\envs\\good-env\\lib\\site-packages\\osmnx\\distance.py:356: UserWarning: The `get_nearest_node` function has been deprecated and will be removed in a future release. Use the more efficient `distance.nearest_nodes` instead.\n",
      "  warnings.warn(msg)\n",
      "c:\\Users\\Vio\\anaconda3\\envs\\good-env\\lib\\site-packages\\osmnx\\distance.py:356: UserWarning: The `get_nearest_node` function has been deprecated and will be removed in a future release. Use the more efficient `distance.nearest_nodes` instead.\n",
      "  warnings.warn(msg)\n",
      "c:\\Users\\Vio\\anaconda3\\envs\\good-env\\lib\\site-packages\\osmnx\\distance.py:356: UserWarning: The `get_nearest_node` function has been deprecated and will be removed in a future release. Use the more efficient `distance.nearest_nodes` instead.\n",
      "  warnings.warn(msg)\n",
      "c:\\Users\\Vio\\anaconda3\\envs\\good-env\\lib\\site-packages\\osmnx\\distance.py:356: UserWarning: The `get_nearest_node` function has been deprecated and will be removed in a future release. Use the more efficient `distance.nearest_nodes` instead.\n",
      "  warnings.warn(msg)\n",
      "c:\\Users\\Vio\\anaconda3\\envs\\good-env\\lib\\site-packages\\osmnx\\distance.py:356: UserWarning: The `get_nearest_node` function has been deprecated and will be removed in a future release. Use the more efficient `distance.nearest_nodes` instead.\n",
      "  warnings.warn(msg)\n",
      "c:\\Users\\Vio\\anaconda3\\envs\\good-env\\lib\\site-packages\\osmnx\\distance.py:356: UserWarning: The `get_nearest_node` function has been deprecated and will be removed in a future release. Use the more efficient `distance.nearest_nodes` instead.\n",
      "  warnings.warn(msg)\n",
      "c:\\Users\\Vio\\anaconda3\\envs\\good-env\\lib\\site-packages\\osmnx\\distance.py:356: UserWarning: The `get_nearest_node` function has been deprecated and will be removed in a future release. Use the more efficient `distance.nearest_nodes` instead.\n",
      "  warnings.warn(msg)\n",
      "c:\\Users\\Vio\\anaconda3\\envs\\good-env\\lib\\site-packages\\osmnx\\distance.py:356: UserWarning: The `get_nearest_node` function has been deprecated and will be removed in a future release. Use the more efficient `distance.nearest_nodes` instead.\n",
      "  warnings.warn(msg)\n",
      "c:\\Users\\Vio\\anaconda3\\envs\\good-env\\lib\\site-packages\\osmnx\\distance.py:356: UserWarning: The `get_nearest_node` function has been deprecated and will be removed in a future release. Use the more efficient `distance.nearest_nodes` instead.\n",
      "  warnings.warn(msg)\n",
      "c:\\Users\\Vio\\anaconda3\\envs\\good-env\\lib\\site-packages\\osmnx\\distance.py:356: UserWarning: The `get_nearest_node` function has been deprecated and will be removed in a future release. Use the more efficient `distance.nearest_nodes` instead.\n",
      "  warnings.warn(msg)\n",
      "c:\\Users\\Vio\\anaconda3\\envs\\good-env\\lib\\site-packages\\osmnx\\distance.py:356: UserWarning: The `get_nearest_node` function has been deprecated and will be removed in a future release. Use the more efficient `distance.nearest_nodes` instead.\n",
      "  warnings.warn(msg)\n",
      "c:\\Users\\Vio\\anaconda3\\envs\\good-env\\lib\\site-packages\\osmnx\\distance.py:356: UserWarning: The `get_nearest_node` function has been deprecated and will be removed in a future release. Use the more efficient `distance.nearest_nodes` instead.\n",
      "  warnings.warn(msg)\n",
      "c:\\Users\\Vio\\anaconda3\\envs\\good-env\\lib\\site-packages\\osmnx\\distance.py:356: UserWarning: The `get_nearest_node` function has been deprecated and will be removed in a future release. Use the more efficient `distance.nearest_nodes` instead.\n",
      "  warnings.warn(msg)\n",
      "c:\\Users\\Vio\\anaconda3\\envs\\good-env\\lib\\site-packages\\osmnx\\distance.py:356: UserWarning: The `get_nearest_node` function has been deprecated and will be removed in a future release. Use the more efficient `distance.nearest_nodes` instead.\n",
      "  warnings.warn(msg)\n",
      "c:\\Users\\Vio\\anaconda3\\envs\\good-env\\lib\\site-packages\\osmnx\\distance.py:356: UserWarning: The `get_nearest_node` function has been deprecated and will be removed in a future release. Use the more efficient `distance.nearest_nodes` instead.\n",
      "  warnings.warn(msg)\n",
      "c:\\Users\\Vio\\anaconda3\\envs\\good-env\\lib\\site-packages\\osmnx\\distance.py:356: UserWarning: The `get_nearest_node` function has been deprecated and will be removed in a future release. Use the more efficient `distance.nearest_nodes` instead.\n",
      "  warnings.warn(msg)\n",
      "c:\\Users\\Vio\\anaconda3\\envs\\good-env\\lib\\site-packages\\osmnx\\distance.py:356: UserWarning: The `get_nearest_node` function has been deprecated and will be removed in a future release. Use the more efficient `distance.nearest_nodes` instead.\n",
      "  warnings.warn(msg)\n",
      "c:\\Users\\Vio\\anaconda3\\envs\\good-env\\lib\\site-packages\\osmnx\\distance.py:356: UserWarning: The `get_nearest_node` function has been deprecated and will be removed in a future release. Use the more efficient `distance.nearest_nodes` instead.\n",
      "  warnings.warn(msg)\n",
      "c:\\Users\\Vio\\anaconda3\\envs\\good-env\\lib\\site-packages\\osmnx\\distance.py:356: UserWarning: The `get_nearest_node` function has been deprecated and will be removed in a future release. Use the more efficient `distance.nearest_nodes` instead.\n",
      "  warnings.warn(msg)\n",
      "c:\\Users\\Vio\\anaconda3\\envs\\good-env\\lib\\site-packages\\osmnx\\distance.py:356: UserWarning: The `get_nearest_node` function has been deprecated and will be removed in a future release. Use the more efficient `distance.nearest_nodes` instead.\n",
      "  warnings.warn(msg)\n",
      "c:\\Users\\Vio\\anaconda3\\envs\\good-env\\lib\\site-packages\\osmnx\\distance.py:356: UserWarning: The `get_nearest_node` function has been deprecated and will be removed in a future release. Use the more efficient `distance.nearest_nodes` instead.\n",
      "  warnings.warn(msg)\n",
      "c:\\Users\\Vio\\anaconda3\\envs\\good-env\\lib\\site-packages\\osmnx\\distance.py:356: UserWarning: The `get_nearest_node` function has been deprecated and will be removed in a future release. Use the more efficient `distance.nearest_nodes` instead.\n",
      "  warnings.warn(msg)\n",
      "c:\\Users\\Vio\\anaconda3\\envs\\good-env\\lib\\site-packages\\osmnx\\distance.py:356: UserWarning: The `get_nearest_node` function has been deprecated and will be removed in a future release. Use the more efficient `distance.nearest_nodes` instead.\n",
      "  warnings.warn(msg)\n",
      "c:\\Users\\Vio\\anaconda3\\envs\\good-env\\lib\\site-packages\\osmnx\\distance.py:356: UserWarning: The `get_nearest_node` function has been deprecated and will be removed in a future release. Use the more efficient `distance.nearest_nodes` instead.\n",
      "  warnings.warn(msg)\n",
      "c:\\Users\\Vio\\anaconda3\\envs\\good-env\\lib\\site-packages\\osmnx\\distance.py:356: UserWarning: The `get_nearest_node` function has been deprecated and will be removed in a future release. Use the more efficient `distance.nearest_nodes` instead.\n",
      "  warnings.warn(msg)\n",
      "c:\\Users\\Vio\\anaconda3\\envs\\good-env\\lib\\site-packages\\osmnx\\distance.py:356: UserWarning: The `get_nearest_node` function has been deprecated and will be removed in a future release. Use the more efficient `distance.nearest_nodes` instead.\n",
      "  warnings.warn(msg)\n",
      "c:\\Users\\Vio\\anaconda3\\envs\\good-env\\lib\\site-packages\\osmnx\\distance.py:356: UserWarning: The `get_nearest_node` function has been deprecated and will be removed in a future release. Use the more efficient `distance.nearest_nodes` instead.\n",
      "  warnings.warn(msg)\n"
     ]
    },
    {
     "name": "stdout",
     "output_type": "stream",
     "text": [
      "[-73.9845319, 40.7484394]\n"
     ]
    },
    {
     "name": "stderr",
     "output_type": "stream",
     "text": [
      "c:\\Users\\Vio\\anaconda3\\envs\\good-env\\lib\\site-packages\\osmnx\\distance.py:356: UserWarning: The `get_nearest_node` function has been deprecated and will be removed in a future release. Use the more efficient `distance.nearest_nodes` instead.\n",
      "  warnings.warn(msg)\n"
     ]
    }
   ],
   "source": [
    "manhattan_graph = ManhattanGraph(filename='simple', num_hubs=120)\n",
    "\n"
   ]
  },
  {
   "cell_type": "code",
   "execution_count": 7,
   "metadata": {},
   "outputs": [
    {
     "name": "stdout",
     "output_type": "stream",
     "text": [
      "     longitude   latitude\n",
      "0   -73.984532  40.748439\n",
      "1   -73.985034  40.747780\n",
      "2   -73.985490  40.747152\n",
      "3   -73.985943  40.746531\n",
      "4   -73.986390  40.745924\n",
      "..         ...        ...\n",
      "175 -73.978123  40.745727\n",
      "176 -73.979720  40.746390\n",
      "177 -73.981261  40.747033\n",
      "178 -73.981452  40.747113\n",
      "179 -73.982959  40.747763\n",
      "\n",
      "[180 rows x 2 columns]\n"
     ]
    },
    {
     "name": "stderr",
     "output_type": "stream",
     "text": [
      "C:\\Users\\Vio\\AppData\\Local\\Temp\\ipykernel_10836\\999825765.py:9: SettingWithCopyWarning: \n",
      "A value is trying to be set on a copy of a slice from a DataFrame\n",
      "\n",
      "See the caveats in the documentation: https://pandas.pydata.org/pandas-docs/stable/user_guide/indexing.html#returning-a-view-versus-a-copy\n",
      "  df['latitude'][i] = results[1]\n"
     ]
    }
   ],
   "source": [
    "import pandas as pd\n",
    "df = pd.DataFrame()\n",
    "df['longitude'] = [0 for i in range(len(nodes))]\n",
    "df['latitude'] = [0 for i in range(len(nodes))]\n",
    "\n",
    "for i in range(len(nodes)):\n",
    "    results = manhattan_graph.get_coordinates_of_node(nodes[i])\n",
    "    df['longitude'][i] = results[0]\n",
    "    df['latitude'][i] = results[1]\n",
    "print(df)\n"
   ]
  },
  {
   "cell_type": "code",
   "execution_count": 11,
   "metadata": {},
   "outputs": [
    {
     "data": {
      "application/vnd.plotly.v1+json": {
       "config": {
        "plotlyServerURL": "https://plot.ly"
       },
       "data": [
        {
         "hovertemplate": "latitude=%{lat}<br>longitude=%{lon}<extra></extra>",
         "lat": [
          40.7110079,
          40.7068535,
          40.7156219,
          40.7207645,
          40.7252896,
          40.7265273,
          40.727599,
          40.7313565,
          40.7378047,
          40.7160188,
          40.7337334,
          40.7408836,
          40.7452231,
          40.7463897,
          40.752741,
          40.7609858,
          40.7634284,
          40.7622941,
          40.7605248,
          40.760267,
          40.7630416,
          40.7642073,
          40.769747,
          40.7749596,
          40.776888,
          40.7755929,
          40.7788113,
          40.7896284,
          40.7983076,
          40.8043802,
          40.8032512,
          40.8097268,
          40.8160584,
          40.8244983,
          40.830891,
          40.8336979,
          40.8416786,
          40.846105,
          40.849321,
          40.856182,
          40.864403,
          40.8158098,
          40.8041328,
          40.7971801,
          40.7961065,
          40.7870011,
          40.7831525,
          40.7779122,
          40.7741589,
          40.7677262,
          40.7550423,
          40.7593428,
          40.7533703,
          40.7590118,
          40.7124485,
          40.738339,
          40.7374172,
          40.76089,
          40.7531899,
          40.7441761,
          40.7398486,
          40.7809091,
          40.7280714,
          40.7639358,
          40.7212873,
          40.7610958,
          40.7298812,
          40.7210513,
          40.7467601,
          40.7109349,
          40.7611816,
          40.7668604,
          40.7687032,
          40.7478125,
          40.7107361,
          40.7373672,
          40.7165045,
          40.7189732,
          40.7153926,
          40.740672,
          40.7165061,
          40.7605386,
          40.7203342,
          40.7599137,
          40.7514371,
          40.7828748,
          40.7534662,
          40.7431805,
          40.7792164,
          40.752813,
          40.7830321,
          40.7850288,
          40.7188431,
          40.7187882,
          40.7507646,
          40.7487771,
          40.7498355,
          40.7521935,
          40.7967373,
          40.7844055,
          40.7972731,
          40.7509627,
          40.7963147,
          40.7093172,
          40.7966003,
          40.7805427,
          40.7609238,
          40.7484394,
          40.7019065,
          40.7829201,
          40.7488808,
          40.7820299,
          40.7020093,
          40.7497931,
          40.754842,
          40.7090266,
          40.7617963,
          40.737361,
          40.7443472,
          40.7508351
         ],
         "legendgroup": "",
         "lon": [
          -74.0107608,
          -74.0050009,
          -73.9942657,
          -73.9812727,
          -73.9779748,
          -73.9958473,
          -73.985307,
          -73.982557,
          -73.9901393,
          -74.0088192,
          -74.0027408,
          -73.9879839,
          -74.002304,
          -73.9797197,
          -73.975102,
          -73.9907674,
          -73.9927002,
          -73.9861011,
          -73.9799722,
          -73.9675664,
          -73.978141,
          -73.9689907,
          -73.9606044,
          -73.9588693,
          -73.9493698,
          -73.9563382,
          -73.9560594,
          -73.9400642,
          -73.9368206,
          -73.9374253,
          -73.9526098,
          -73.9441642,
          -73.9395348,
          -73.9517954,
          -73.941368,
          -73.9453257,
          -73.9392999,
          -73.936078,
          -73.933731,
          -73.928716,
          -73.923767,
          -73.9583906,
          -73.9666013,
          -73.9698184,
          -73.974879,
          -73.9755093,
          -73.9783287,
          -73.982096,
          -73.9848575,
          -73.9821317,
          -73.9620534,
          -73.9582013,
          -73.9633439,
          -73.9583867,
          -73.9777809,
          -73.9738156,
          -73.974504,
          -73.9561742,
          -73.9637246,
          -73.9713587,
          -73.9728993,
          -73.9440036,
          -73.9716729,
          -73.953183,
          -73.9745509,
          -73.9561062,
          -73.9723599,
          -73.9747141,
          -73.9690646,
          -73.9805509,
          -73.9579018,
          -73.9506562,
          -73.9491341,
          -73.9683571,
          -73.9816369,
          -73.9743448,
          -73.9755366,
          -73.9750797,
          -73.9762762,
          -73.9729042,
          -73.9756975,
          -73.9583585,
          -73.9749488,
          -73.9588108,
          -73.9760571,
          -73.9437833,
          -73.9808458,
          -73.972069,
          -73.9435413,
          -73.9792901,
          -73.944042,
          -73.9827738,
          -73.9747941,
          -73.9751104,
          -73.9744614,
          -73.9697356,
          -73.9721985,
          -73.9776193,
          -73.918538,
          -73.9418662,
          -73.929158,
          -73.9785244,
          -73.9175193,
          -73.9939847,
          -73.9180395,
          -73.9442562,
          -73.9573589,
          -73.9845319,
          -74.0098525,
          -73.9441254,
          -73.9699735,
          -73.9717218,
          -74.0095743,
          -73.9877663,
          -73.984118,
          -73.9968491,
          -73.9574532,
          -73.99684,
          -73.9713203,
          -73.9785736
         ],
         "marker": {
          "color": "#636efa"
         },
         "mode": "markers",
         "name": "",
         "showlegend": false,
         "subplot": "mapbox",
         "type": "scattermapbox"
        },
        {
         "lat": [
          40.7484394,
          40.7477803,
          40.747152,
          40.7465313,
          40.7459238,
          40.745301,
          40.7446783,
          40.7440672,
          40.743451,
          40.7432751,
          40.742832,
          40.7424088,
          40.7422193,
          40.741556,
          40.7408858,
          40.7402701,
          40.7396792,
          40.7391754,
          40.7384914,
          40.7378047,
          40.7371699,
          40.7365758,
          40.7360007,
          40.7353655,
          40.7347874,
          40.7339814,
          40.733214,
          40.732449,
          40.7317445,
          40.731166,
          40.7306011,
          40.730079,
          40.72958,
          40.729008,
          40.728412,
          40.7278266,
          40.727211,
          40.7265273,
          40.7255012,
          40.7253844,
          40.724235,
          40.723021,
          40.7217891,
          40.7208634,
          40.719938,
          40.7194058,
          40.719153,
          40.7186389,
          40.7180338,
          40.717449,
          40.716871,
          40.7162869,
          40.71576,
          40.715236,
          40.7146812,
          40.7141733,
          40.713618,
          40.7130447,
          40.7125409,
          40.7119845,
          40.7115899,
          40.7113846,
          40.7108847,
          40.7104064,
          40.7110079,
          40.7115227,
          40.7120736,
          40.7127427,
          40.7132584,
          40.7138056,
          40.7143685,
          40.7149352,
          40.7154408,
          40.716013,
          40.7165394,
          40.7170848,
          40.7176834,
          40.7179523,
          40.7182558,
          40.7188593,
          40.7194841,
          40.7200394,
          40.720515,
          40.7204443,
          40.721621,
          40.7225511,
          40.723795,
          40.725008,
          40.726118,
          40.7257539,
          40.7253844,
          40.7251668,
          40.7250362,
          40.7251537,
          40.7259345,
          40.72664,
          40.7272967,
          40.727867,
          40.7298614,
          40.730046,
          40.7298834,
          40.7295577,
          40.7298638,
          40.729912,
          40.7299397,
          40.7300663,
          40.729779,
          40.7287826,
          40.729373,
          40.7300191,
          40.7306534,
          40.7313565,
          40.732347,
          40.731658,
          40.731019,
          40.7303818,
          40.729779,
          40.7291879,
          40.7286043,
          40.7279851,
          40.7274076,
          40.7267997,
          40.726188,
          40.725582,
          40.7249392,
          40.7242647,
          40.7241092,
          40.7237426,
          40.7236025,
          40.7224082,
          40.721248,
          40.7200486,
          40.7199073,
          40.71907,
          40.7181594,
          40.7169745,
          40.7172802,
          40.7166441,
          40.7162403,
          40.7150654,
          40.7146482,
          40.7140611,
          40.7137811,
          40.7135233,
          40.7134518,
          40.7132906,
          40.7125535,
          40.7117846,
          40.7109964,
          40.7101928,
          40.7100562,
          40.7092263,
          40.7070868,
          40.7020631,
          40.7019618,
          40.7019332,
          40.7017865,
          40.7016032,
          40.7019065,
          40.7020093,
          40.7064526,
          40.7093172,
          40.7107361,
          40.7165045,
          40.7212873,
          40.7280714,
          40.7373672,
          40.7381466,
          40.7389315,
          40.7399483,
          40.7431805,
          40.7437681,
          40.744485,
          40.7447681,
          40.7453918,
          40.745727,
          40.7463897,
          40.7470325,
          40.7471129,
          40.7477628
         ],
         "lon": [
          -73.9845319,
          -73.9850345,
          -73.9854903,
          -73.9859434,
          -73.9863898,
          -73.986846,
          -73.9873007,
          -73.9877451,
          -73.988194,
          -73.9883247,
          -73.9886624,
          -73.9889679,
          -73.9891036,
          -73.9895926,
          -73.9900833,
          -73.9905315,
          -73.9909583,
          -73.9897504,
          -73.9899563,
          -73.9901393,
          -73.9886291,
          -73.9890621,
          -73.9894916,
          -73.9899712,
          -73.9907352,
          -73.990953,
          -73.991114,
          -73.991289,
          -73.9914619,
          -73.991921,
          -73.9923997,
          -73.992841,
          -73.993262,
          -73.993747,
          -73.994252,
          -73.9947496,
          -73.99527,
          -73.9958473,
          -73.9967146,
          -73.9968134,
          -73.997785,
          -73.998812,
          -73.9998554,
          -74.0006449,
          -74.001425,
          -74.0018769,
          -74.002091,
          -74.0025285,
          -74.003043,
          -74.003533,
          -74.004026,
          -74.0045303,
          -74.004976,
          -74.00542,
          -74.0058865,
          -74.0063041,
          -74.006753,
          -74.0072254,
          -74.0076602,
          -74.0081373,
          -74.0084668,
          -74.0086478,
          -74.0090583,
          -74.0094602,
          -74.0107608,
          -74.01043,
          -74.0100945,
          -74.0096613,
          -74.0092662,
          -74.0088463,
          -74.0084008,
          -74.0079521,
          -74.0075519,
          -74.0070959,
          -74.0066823,
          -74.0062505,
          -74.0057919,
          -74.0055874,
          -74.0052693,
          -74.0048352,
          -74.0043702,
          -74.0039146,
          -74.0034205,
          -74.0033253,
          -74.002208,
          -74.0014071,
          -74.000367,
          -73.999345,
          -73.998407,
          -73.9976695,
          -73.9968134,
          -73.9959002,
          -73.9953664,
          -73.9952714,
          -73.994648,
          -73.994129,
          -73.9936333,
          -73.993147,
          -73.9914198,
          -73.9911175,
          -73.9907514,
          -73.9899026,
          -73.9896776,
          -73.9889263,
          -73.9885815,
          -73.9875129,
          -73.986812,
          -73.9844396,
          -73.9839987,
          -73.983536,
          -73.9830644,
          -73.982557,
          -73.984941,
          -73.985444,
          -73.985909,
          -73.9863742,
          -73.986812,
          -73.987242,
          -73.9876651,
          -73.9881196,
          -73.9885349,
          -73.9889783,
          -73.989429,
          -73.98987,
          -73.9903384,
          -73.9908455,
          -73.9909579,
          -73.9910273,
          -73.9910658,
          -73.9916591,
          -73.992237,
          -73.9928532,
          -73.9929178,
          -73.99336,
          -73.9938242,
          -73.9944558,
          -73.9954278,
          -73.9958234,
          -73.9960723,
          -73.996861,
          -73.9971597,
          -73.9975944,
          -73.9980743,
          -73.9986438,
          -73.9984931,
          -73.9982694,
          -73.9989343,
          -73.9997105,
          -74.0004975,
          -74.0011123,
          -74.0012106,
          -74.0001918,
          -74.0014825,
          -74.0097347,
          -74.0100212,
          -74.0104979,
          -74.0111627,
          -74.0119644,
          -74.0098525,
          -74.0095743,
          -74.002383,
          -73.9939847,
          -73.9816369,
          -73.9755366,
          -73.9745509,
          -73.9716729,
          -73.9743448,
          -73.9736517,
          -73.9731277,
          -73.9727291,
          -73.972069,
          -73.9735204,
          -73.9752144,
          -73.9758927,
          -73.9773372,
          -73.9781226,
          -73.9797197,
          -73.9812606,
          -73.9814522,
          -73.9829593
         ],
         "marker": {
          "size": 10
         },
         "mode": "lines",
         "type": "scattermapbox"
        }
       ],
       "layout": {
        "legend": {
         "tracegroupgap": 0
        },
        "mapbox": {
         "accesstoken": "pk.eyJ1IjoibHVraTk5IiwiYSI6ImNsNW02MGh4ZDBxc2ozY21nejN0aTBzdzMifQ.6SYPZ1iKA2RQpLIc2Tlahw",
         "center": {
          "lat": 40.76046572166667,
          "lon": -73.96795788583334
         },
         "domain": {
          "x": [
           0,
           1
          ],
          "y": [
           0,
           1
          ]
         },
         "zoom": 10
        },
        "margin": {
         "t": 60
        },
        "template": {
         "data": {
          "bar": [
           {
            "error_x": {
             "color": "#2a3f5f"
            },
            "error_y": {
             "color": "#2a3f5f"
            },
            "marker": {
             "line": {
              "color": "#E5ECF6",
              "width": 0.5
             },
             "pattern": {
              "fillmode": "overlay",
              "size": 10,
              "solidity": 0.2
             }
            },
            "type": "bar"
           }
          ],
          "barpolar": [
           {
            "marker": {
             "line": {
              "color": "#E5ECF6",
              "width": 0.5
             },
             "pattern": {
              "fillmode": "overlay",
              "size": 10,
              "solidity": 0.2
             }
            },
            "type": "barpolar"
           }
          ],
          "carpet": [
           {
            "aaxis": {
             "endlinecolor": "#2a3f5f",
             "gridcolor": "white",
             "linecolor": "white",
             "minorgridcolor": "white",
             "startlinecolor": "#2a3f5f"
            },
            "baxis": {
             "endlinecolor": "#2a3f5f",
             "gridcolor": "white",
             "linecolor": "white",
             "minorgridcolor": "white",
             "startlinecolor": "#2a3f5f"
            },
            "type": "carpet"
           }
          ],
          "choropleth": [
           {
            "colorbar": {
             "outlinewidth": 0,
             "ticks": ""
            },
            "type": "choropleth"
           }
          ],
          "contour": [
           {
            "colorbar": {
             "outlinewidth": 0,
             "ticks": ""
            },
            "colorscale": [
             [
              0,
              "#0d0887"
             ],
             [
              0.1111111111111111,
              "#46039f"
             ],
             [
              0.2222222222222222,
              "#7201a8"
             ],
             [
              0.3333333333333333,
              "#9c179e"
             ],
             [
              0.4444444444444444,
              "#bd3786"
             ],
             [
              0.5555555555555556,
              "#d8576b"
             ],
             [
              0.6666666666666666,
              "#ed7953"
             ],
             [
              0.7777777777777778,
              "#fb9f3a"
             ],
             [
              0.8888888888888888,
              "#fdca26"
             ],
             [
              1,
              "#f0f921"
             ]
            ],
            "type": "contour"
           }
          ],
          "contourcarpet": [
           {
            "colorbar": {
             "outlinewidth": 0,
             "ticks": ""
            },
            "type": "contourcarpet"
           }
          ],
          "heatmap": [
           {
            "colorbar": {
             "outlinewidth": 0,
             "ticks": ""
            },
            "colorscale": [
             [
              0,
              "#0d0887"
             ],
             [
              0.1111111111111111,
              "#46039f"
             ],
             [
              0.2222222222222222,
              "#7201a8"
             ],
             [
              0.3333333333333333,
              "#9c179e"
             ],
             [
              0.4444444444444444,
              "#bd3786"
             ],
             [
              0.5555555555555556,
              "#d8576b"
             ],
             [
              0.6666666666666666,
              "#ed7953"
             ],
             [
              0.7777777777777778,
              "#fb9f3a"
             ],
             [
              0.8888888888888888,
              "#fdca26"
             ],
             [
              1,
              "#f0f921"
             ]
            ],
            "type": "heatmap"
           }
          ],
          "heatmapgl": [
           {
            "colorbar": {
             "outlinewidth": 0,
             "ticks": ""
            },
            "colorscale": [
             [
              0,
              "#0d0887"
             ],
             [
              0.1111111111111111,
              "#46039f"
             ],
             [
              0.2222222222222222,
              "#7201a8"
             ],
             [
              0.3333333333333333,
              "#9c179e"
             ],
             [
              0.4444444444444444,
              "#bd3786"
             ],
             [
              0.5555555555555556,
              "#d8576b"
             ],
             [
              0.6666666666666666,
              "#ed7953"
             ],
             [
              0.7777777777777778,
              "#fb9f3a"
             ],
             [
              0.8888888888888888,
              "#fdca26"
             ],
             [
              1,
              "#f0f921"
             ]
            ],
            "type": "heatmapgl"
           }
          ],
          "histogram": [
           {
            "marker": {
             "pattern": {
              "fillmode": "overlay",
              "size": 10,
              "solidity": 0.2
             }
            },
            "type": "histogram"
           }
          ],
          "histogram2d": [
           {
            "colorbar": {
             "outlinewidth": 0,
             "ticks": ""
            },
            "colorscale": [
             [
              0,
              "#0d0887"
             ],
             [
              0.1111111111111111,
              "#46039f"
             ],
             [
              0.2222222222222222,
              "#7201a8"
             ],
             [
              0.3333333333333333,
              "#9c179e"
             ],
             [
              0.4444444444444444,
              "#bd3786"
             ],
             [
              0.5555555555555556,
              "#d8576b"
             ],
             [
              0.6666666666666666,
              "#ed7953"
             ],
             [
              0.7777777777777778,
              "#fb9f3a"
             ],
             [
              0.8888888888888888,
              "#fdca26"
             ],
             [
              1,
              "#f0f921"
             ]
            ],
            "type": "histogram2d"
           }
          ],
          "histogram2dcontour": [
           {
            "colorbar": {
             "outlinewidth": 0,
             "ticks": ""
            },
            "colorscale": [
             [
              0,
              "#0d0887"
             ],
             [
              0.1111111111111111,
              "#46039f"
             ],
             [
              0.2222222222222222,
              "#7201a8"
             ],
             [
              0.3333333333333333,
              "#9c179e"
             ],
             [
              0.4444444444444444,
              "#bd3786"
             ],
             [
              0.5555555555555556,
              "#d8576b"
             ],
             [
              0.6666666666666666,
              "#ed7953"
             ],
             [
              0.7777777777777778,
              "#fb9f3a"
             ],
             [
              0.8888888888888888,
              "#fdca26"
             ],
             [
              1,
              "#f0f921"
             ]
            ],
            "type": "histogram2dcontour"
           }
          ],
          "mesh3d": [
           {
            "colorbar": {
             "outlinewidth": 0,
             "ticks": ""
            },
            "type": "mesh3d"
           }
          ],
          "parcoords": [
           {
            "line": {
             "colorbar": {
              "outlinewidth": 0,
              "ticks": ""
             }
            },
            "type": "parcoords"
           }
          ],
          "pie": [
           {
            "automargin": true,
            "type": "pie"
           }
          ],
          "scatter": [
           {
            "fillpattern": {
             "fillmode": "overlay",
             "size": 10,
             "solidity": 0.2
            },
            "type": "scatter"
           }
          ],
          "scatter3d": [
           {
            "line": {
             "colorbar": {
              "outlinewidth": 0,
              "ticks": ""
             }
            },
            "marker": {
             "colorbar": {
              "outlinewidth": 0,
              "ticks": ""
             }
            },
            "type": "scatter3d"
           }
          ],
          "scattercarpet": [
           {
            "marker": {
             "colorbar": {
              "outlinewidth": 0,
              "ticks": ""
             }
            },
            "type": "scattercarpet"
           }
          ],
          "scattergeo": [
           {
            "marker": {
             "colorbar": {
              "outlinewidth": 0,
              "ticks": ""
             }
            },
            "type": "scattergeo"
           }
          ],
          "scattergl": [
           {
            "marker": {
             "colorbar": {
              "outlinewidth": 0,
              "ticks": ""
             }
            },
            "type": "scattergl"
           }
          ],
          "scattermapbox": [
           {
            "marker": {
             "colorbar": {
              "outlinewidth": 0,
              "ticks": ""
             }
            },
            "type": "scattermapbox"
           }
          ],
          "scatterpolar": [
           {
            "marker": {
             "colorbar": {
              "outlinewidth": 0,
              "ticks": ""
             }
            },
            "type": "scatterpolar"
           }
          ],
          "scatterpolargl": [
           {
            "marker": {
             "colorbar": {
              "outlinewidth": 0,
              "ticks": ""
             }
            },
            "type": "scatterpolargl"
           }
          ],
          "scatterternary": [
           {
            "marker": {
             "colorbar": {
              "outlinewidth": 0,
              "ticks": ""
             }
            },
            "type": "scatterternary"
           }
          ],
          "surface": [
           {
            "colorbar": {
             "outlinewidth": 0,
             "ticks": ""
            },
            "colorscale": [
             [
              0,
              "#0d0887"
             ],
             [
              0.1111111111111111,
              "#46039f"
             ],
             [
              0.2222222222222222,
              "#7201a8"
             ],
             [
              0.3333333333333333,
              "#9c179e"
             ],
             [
              0.4444444444444444,
              "#bd3786"
             ],
             [
              0.5555555555555556,
              "#d8576b"
             ],
             [
              0.6666666666666666,
              "#ed7953"
             ],
             [
              0.7777777777777778,
              "#fb9f3a"
             ],
             [
              0.8888888888888888,
              "#fdca26"
             ],
             [
              1,
              "#f0f921"
             ]
            ],
            "type": "surface"
           }
          ],
          "table": [
           {
            "cells": {
             "fill": {
              "color": "#EBF0F8"
             },
             "line": {
              "color": "white"
             }
            },
            "header": {
             "fill": {
              "color": "#C8D4E3"
             },
             "line": {
              "color": "white"
             }
            },
            "type": "table"
           }
          ]
         },
         "layout": {
          "annotationdefaults": {
           "arrowcolor": "#2a3f5f",
           "arrowhead": 0,
           "arrowwidth": 1
          },
          "autotypenumbers": "strict",
          "coloraxis": {
           "colorbar": {
            "outlinewidth": 0,
            "ticks": ""
           }
          },
          "colorscale": {
           "diverging": [
            [
             0,
             "#8e0152"
            ],
            [
             0.1,
             "#c51b7d"
            ],
            [
             0.2,
             "#de77ae"
            ],
            [
             0.3,
             "#f1b6da"
            ],
            [
             0.4,
             "#fde0ef"
            ],
            [
             0.5,
             "#f7f7f7"
            ],
            [
             0.6,
             "#e6f5d0"
            ],
            [
             0.7,
             "#b8e186"
            ],
            [
             0.8,
             "#7fbc41"
            ],
            [
             0.9,
             "#4d9221"
            ],
            [
             1,
             "#276419"
            ]
           ],
           "sequential": [
            [
             0,
             "#0d0887"
            ],
            [
             0.1111111111111111,
             "#46039f"
            ],
            [
             0.2222222222222222,
             "#7201a8"
            ],
            [
             0.3333333333333333,
             "#9c179e"
            ],
            [
             0.4444444444444444,
             "#bd3786"
            ],
            [
             0.5555555555555556,
             "#d8576b"
            ],
            [
             0.6666666666666666,
             "#ed7953"
            ],
            [
             0.7777777777777778,
             "#fb9f3a"
            ],
            [
             0.8888888888888888,
             "#fdca26"
            ],
            [
             1,
             "#f0f921"
            ]
           ],
           "sequentialminus": [
            [
             0,
             "#0d0887"
            ],
            [
             0.1111111111111111,
             "#46039f"
            ],
            [
             0.2222222222222222,
             "#7201a8"
            ],
            [
             0.3333333333333333,
             "#9c179e"
            ],
            [
             0.4444444444444444,
             "#bd3786"
            ],
            [
             0.5555555555555556,
             "#d8576b"
            ],
            [
             0.6666666666666666,
             "#ed7953"
            ],
            [
             0.7777777777777778,
             "#fb9f3a"
            ],
            [
             0.8888888888888888,
             "#fdca26"
            ],
            [
             1,
             "#f0f921"
            ]
           ]
          },
          "colorway": [
           "#636efa",
           "#EF553B",
           "#00cc96",
           "#ab63fa",
           "#FFA15A",
           "#19d3f3",
           "#FF6692",
           "#B6E880",
           "#FF97FF",
           "#FECB52"
          ],
          "font": {
           "color": "#2a3f5f"
          },
          "geo": {
           "bgcolor": "white",
           "lakecolor": "white",
           "landcolor": "#E5ECF6",
           "showlakes": true,
           "showland": true,
           "subunitcolor": "white"
          },
          "hoverlabel": {
           "align": "left"
          },
          "hovermode": "closest",
          "mapbox": {
           "style": "light"
          },
          "paper_bgcolor": "white",
          "plot_bgcolor": "#E5ECF6",
          "polar": {
           "angularaxis": {
            "gridcolor": "white",
            "linecolor": "white",
            "ticks": ""
           },
           "bgcolor": "#E5ECF6",
           "radialaxis": {
            "gridcolor": "white",
            "linecolor": "white",
            "ticks": ""
           }
          },
          "scene": {
           "xaxis": {
            "backgroundcolor": "#E5ECF6",
            "gridcolor": "white",
            "gridwidth": 2,
            "linecolor": "white",
            "showbackground": true,
            "ticks": "",
            "zerolinecolor": "white"
           },
           "yaxis": {
            "backgroundcolor": "#E5ECF6",
            "gridcolor": "white",
            "gridwidth": 2,
            "linecolor": "white",
            "showbackground": true,
            "ticks": "",
            "zerolinecolor": "white"
           },
           "zaxis": {
            "backgroundcolor": "#E5ECF6",
            "gridcolor": "white",
            "gridwidth": 2,
            "linecolor": "white",
            "showbackground": true,
            "ticks": "",
            "zerolinecolor": "white"
           }
          },
          "shapedefaults": {
           "line": {
            "color": "#2a3f5f"
           }
          },
          "ternary": {
           "aaxis": {
            "gridcolor": "white",
            "linecolor": "white",
            "ticks": ""
           },
           "baxis": {
            "gridcolor": "white",
            "linecolor": "white",
            "ticks": ""
           },
           "bgcolor": "#E5ECF6",
           "caxis": {
            "gridcolor": "white",
            "linecolor": "white",
            "ticks": ""
           }
          },
          "title": {
           "x": 0.05
          },
          "xaxis": {
           "automargin": true,
           "gridcolor": "white",
           "linecolor": "white",
           "ticks": "",
           "title": {
            "standoff": 15
           },
           "zerolinecolor": "white",
           "zerolinewidth": 2
          },
          "yaxis": {
           "automargin": true,
           "gridcolor": "white",
           "linecolor": "white",
           "ticks": "",
           "title": {
            "standoff": 15
           },
           "zerolinecolor": "white",
           "zerolinewidth": 2
          }
         }
        }
       }
      }
     },
     "metadata": {},
     "output_type": "display_data"
    }
   ],
   "source": [
    "import plotly.express as px\n",
    "import plotly.graph_objects as go\n",
    "px.set_mapbox_access_token(open(\"mapbox_token\").read())\n",
    "#df = px.data.carshare()\n",
    "df_2 = pd.read_csv(\"../data/hubs/longlist.csv\")\n",
    "fig = px.scatter_mapbox(df_2, lat=\"latitude\", lon=\"longitude\", #hover_name =\"id\", color=\"action\", #size=\"car_hours\",\n",
    "                  color_continuous_scale=px.colors.cyclical.IceFire, size_max=15, zoom=10)\n",
    "\n",
    "fig.add_trace(go.Scattermapbox(\n",
    "    mode = \"lines\",\n",
    "    lon = [df['longitude'][i] for i in range(len(df['longitude']))],\n",
    "    lat = [df['latitude'][i] for i in range(len(df['latitude']))],\n",
    "    marker = {'size': 10},\n",
    "    #hovertext  = [df['id'][i] for i in df['id']]\n",
    "    ))\n",
    "fig.show()"
   ]
  },
  {
   "cell_type": "code",
   "execution_count": 4,
   "metadata": {},
   "outputs": [
    {
     "ename": "NameError",
     "evalue": "name 'ast' is not defined",
     "output_type": "error",
     "traceback": [
      "\u001b[1;31m---------------------------------------------------------------------------\u001b[0m",
      "\u001b[1;31mNameError\u001b[0m                                 Traceback (most recent call last)",
      "\u001b[1;32md:\\ines-autonomous-dispatching\\Manhattan_Graph_Environment\\plot_map.ipynb Cell 12\u001b[0m in \u001b[0;36m<cell line: 3>\u001b[1;34m()\u001b[0m\n\u001b[0;32m      <a href='vscode-notebook-cell:/d%3A/ines-autonomous-dispatching/Manhattan_Graph_Environment/plot_map.ipynb#ch0000011?line=1'>2</a>\u001b[0m df_test \u001b[39m=\u001b[39m pd\u001b[39m.\u001b[39mread_csv(\u001b[39m'\u001b[39m\u001b[39mD:/ines-autonomous-dispatching/Manhattan_Graph_Environment/test_orders_dashboard.csv\u001b[39m\u001b[39m'\u001b[39m)\n\u001b[0;32m      <a href='vscode-notebook-cell:/d%3A/ines-autonomous-dispatching/Manhattan_Graph_Environment/plot_map.ipynb#ch0000011?line=2'>3</a>\u001b[0m \u001b[39mfor\u001b[39;00m i \u001b[39min\u001b[39;00m \u001b[39mrange\u001b[39m(\u001b[39mlen\u001b[39m(df_test[\u001b[39m'\u001b[39m\u001b[39m Hubs\u001b[39m\u001b[39m'\u001b[39m])):\n\u001b[1;32m----> <a href='vscode-notebook-cell:/d%3A/ines-autonomous-dispatching/Manhattan_Graph_Environment/plot_map.ipynb#ch0000011?line=3'>4</a>\u001b[0m     df_test[\u001b[39m'\u001b[39m\u001b[39mHubs\u001b[39m\u001b[39m'\u001b[39m][i] \u001b[39m=\u001b[39m ast\u001b[39m.\u001b[39mliteral_eval(df_test[\u001b[39m'\u001b[39m\u001b[39m Hubs\u001b[39m\u001b[39m'\u001b[39m][i])\n",
      "\u001b[1;31mNameError\u001b[0m: name 'ast' is not defined"
     ]
    }
   ],
   "source": [
    "import pandas as pd\n",
    "df_test = pd.read_csv('D:/ines-autonomous-dispatching/Manhattan_Graph_Environment/test_orders_dashboard.csv')\n",
    "for i in range(len(df_test[' Hubs'])):\n",
    "    df_test['Hubs'][i] = ast.literal_eval(df_test[' Hubs'][i])"
   ]
  }
 ],
 "metadata": {
  "kernelspec": {
   "display_name": "Python 3.9.12",
   "language": "python",
   "name": "python3"
  },
  "language_info": {
   "codemirror_mode": {
    "name": "ipython",
    "version": 3
   },
   "file_extension": ".py",
   "mimetype": "text/x-python",
   "name": "python",
   "nbconvert_exporter": "python",
   "pygments_lexer": "ipython3",
   "version": "3.9.12"
  },
  "vscode": {
   "interpreter": {
    "hash": "a98c8d655702fa2e19d9c09c8be5dceba5d4420e12eb013ca5f99a779bc61516"
   }
  }
 },
 "nbformat": 4,
 "nbformat_minor": 0
}
