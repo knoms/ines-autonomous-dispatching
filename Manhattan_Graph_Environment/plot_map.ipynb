{
 "cells": [
  {
   "cell_type": "code",
   "execution_count": null,
   "metadata": {
    "collapsed": true
   },
   "outputs": [],
   "source": [
    "# imports\n",
    "import numpy as np\n",
    "import pandas as pd\n",
    "import plotly.express as px\n",
    "import sys\n",
    "sys.path.insert(0,\"\")\n",
    "\n",
    "from gym_graphenv.envs.GraphworldManhattan import GraphEnv\n",
    "\n",
    "import warnings\n",
    "warnings.filterwarnings('ignore')"
   ]
  },
  {
   "cell_type": "code",
   "execution_count": null,
   "metadata": {},
   "outputs": [],
   "source": [
    "env=GraphEnv()\n",
    "env.reset()\n",
    "env.step(np.random.randint(120))\n",
    "trips = env.availableTrips()"
   ]
  },
  {
   "cell_type": "code",
   "execution_count": null,
   "metadata": {},
   "outputs": [],
   "source": [
    "hubs = [2,3,4,5,6,7]\n",
    "def plot_map(env, hubs:int =[]):\n",
    "    shared_rides = list()\n",
    "    shared_ids = list()\n",
    "\n",
    "    trips = env.availableTrips()\n",
    "        \n",
    "    for i, trip in enumerate(trips):\n",
    "        shared_ids.append(trip['target_hub'])\n",
    "        \n",
    "    all_hubs = env.hubs\n",
    "\n",
    "    book_own_ids = list(set(all_hubs) - set(shared_ids))\n",
    "    \n",
    "    position = env.manhattan_graph.get_nodeid_by_hub_index(env.position)\n",
    "    final = env.manhattan_graph.get_nodeid_by_hub_index(env.final_hub)\n",
    "    start = env.manhattan_graph.get_nodeid_by_hub_index(env.start_hub)\n",
    "\n",
    "    node_sizes = list()\n",
    "    actions = []\n",
    "    for n in all_hubs:\n",
    "        if n == position:\n",
    "            actions.append('position')\n",
    "        else:\n",
    "            if n == final:\n",
    "                actions.append('final')\n",
    "            else:\n",
    "                if n == start:\n",
    "                    actions.append('start')\n",
    "                else:\n",
    "                    if n in shared_ids:\n",
    "                        actions.append('shared')\n",
    "                    else:\n",
    "                        if n in book_own_ids:\n",
    "                            actions.append('book')                \n",
    "    df = pd.read_csv(\"../data/hubs/new_hubs.csv\")\n",
    "    ids = [i for i in range(70)]\n",
    "    df['id'] = ids\n",
    "    df['actions']=actions\n",
    "    px.set_mapbox_access_token(open(\"mapbox_token\").read())\n",
    "    #df = px.data.carshare()\n",
    "    fig = px.scatter_mapbox(df, lat=\"latitude\", lon=\"longitude\", hover_name =\"id\", color=\"actions\", #size=\"car_hours\",\n",
    "                color_continuous_scale=px.colors.cyclical.IceFire, size_max=15, zoom=10)  \n",
    "    \n",
    "    if (hubs != [])\n",
    "        fig.add_trace(go.Scattermapbox(\n",
    "        mode = \"lines\",\n",
    "        lon = [df['longitude'][i] for i in hubs],\n",
    "        lat = [df['latitude'][i] for i in hubs],\n",
    "        marker = {'size': 10}))\n",
    "        fig.show()\n",
    "plot_map(env,hubs)"
   ]
  },
  {
   "cell_type": "code",
   "execution_count": null,
   "metadata": {},
   "outputs": [],
   "source": [
    "def create_df_from_actions(env):\n",
    "    shared_rides = list()\n",
    "    shared_ids = list()\n",
    "\n",
    "    trips = env.availableTrips()\n",
    "        \n",
    "    for i, trip in enumerate(trips):\n",
    "        shared_ids.append(trip['target_hub'])\n",
    "        \n",
    "    all_hubs = env.hubs\n",
    "\n",
    "    book_own_ids = list(set(all_hubs) - set(shared_ids))\n",
    "    \n",
    "    position = env.manhattan_graph.get_nodeid_by_hub_index(env.position)\n",
    "    final = env.manhattan_graph.get_nodeid_by_hub_index(env.final_hub)\n",
    "    start = env.manhattan_graph.get_nodeid_by_hub_index(env.start_hub)\n",
    "\n",
    "    node_sizes = list()\n",
    "    actions = []\n",
    "    for n in all_hubs:\n",
    "        if n == position:\n",
    "            actions.append('position')\n",
    "        else:\n",
    "            if n == final:\n",
    "                actions.append('final')\n",
    "            else:\n",
    "                if n == start:\n",
    "                    actions.append('start')\n",
    "                else:\n",
    "                    if n in shared_ids:\n",
    "                        actions.append('shared')\n",
    "                    else:\n",
    "                        if n in book_own_ids:\n",
    "                            actions.append('book')                \n",
    "    df = pd.read_csv(\"../data/hubs/new_hubs.csv\")\n",
    "    ids = [i for i in range(70)]\n",
    "    df['id'] = ids\n",
    "    df['actions']=actions\n",
    "\n",
    "    return df"
   ]
  },
  {
   "cell_type": "code",
   "execution_count": null,
   "metadata": {},
   "outputs": [],
   "source": [
    "def plot_map(df):\n",
    "    px.set_mapbox_access_token(open(\"mapbox_token\").read())\n",
    "    #df = px.data.carshare()\n",
    "    fig = px.scatter_mapbox(df, lat=\"latitude\", lon=\"longitude\", hover_name =\"id\", color=\"actions\", #size=\"car_hours\",\n",
    "                color_continuous_scale=px.colors.cyclical.IceFire, size_max=15, zoom=10)  \n",
    "    fig.show()"
   ]
  },
  {
   "cell_type": "code",
   "execution_count": null,
   "metadata": {},
   "outputs": [],
   "source": [
    "def plot_route(hubs):"
   ]
  }
 ],
 "metadata": {
  "kernelspec": {
   "display_name": "Python 3.9.12",
   "language": "python",
   "name": "python3"
  },
  "language_info": {
   "codemirror_mode": {
    "name": "ipython",
    "version": 2
   },
   "file_extension": ".py",
   "mimetype": "text/x-python",
   "name": "python",
   "nbconvert_exporter": "python",
   "pygments_lexer": "ipython2",
   "version": "3.9.12"
  },
  "vscode": {
   "interpreter": {
    "hash": "a98c8d655702fa2e19d9c09c8be5dceba5d4420e12eb013ca5f99a779bc61516"
   }
  }
 },
 "nbformat": 4,
 "nbformat_minor": 0
}
