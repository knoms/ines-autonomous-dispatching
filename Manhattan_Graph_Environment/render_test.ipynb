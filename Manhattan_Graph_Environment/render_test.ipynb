{
 "cells": [
  {
   "cell_type": "code",
   "execution_count": 2,
   "metadata": {
    "collapsed": true
   },
   "outputs": [],
   "source": [
    "# imports\n",
    "import numpy as np\n",
    "import sys\n",
    "\n",
    "import warnings\n",
    "warnings.filterwarnings('ignore')"
   ]
  },
  {
   "cell_type": "code",
   "execution_count": 3,
   "metadata": {
    "collapsed": false,
    "pycharm": {
     "name": "#%%\n"
    }
   },
   "outputs": [
    {
     "ename": "",
     "evalue": "",
     "output_type": "error",
     "traceback": [
      "\u001b[1;31mCanceled future for execute_request message before replies were done"
     ]
    },
    {
     "ename": "",
     "evalue": "",
     "output_type": "error",
     "traceback": [
      "\u001b[1;31mThe Kernel crashed while executing code in the the current cell or a previous cell. Please review the code in the cell(s) to identify a possible cause of the failure. Click <a href='https://aka.ms/vscodeJupyterKernelCrash'>here</a> for more info. View Jupyter <a href='command:jupyter.viewOutput'>log</a> for further details."
     ]
    }
   ],
   "source": [
    "from gym_graphenv.envs.GraphworldManhattan import GraphEnv"
   ]
  },
  {
   "cell_type": "code",
   "execution_count": null,
   "metadata": {
    "collapsed": false,
    "pycharm": {
     "name": "#%%\n"
    }
   },
   "outputs": [],
   "source": [
    "env=GraphEnv()"
   ]
  },
  {
   "cell_type": "code",
   "execution_count": null,
   "metadata": {
    "collapsed": false,
    "pycharm": {
     "name": "#%%\n"
    }
   },
   "outputs": [],
   "source": [
    "def run_one_episode (env):\n",
    "    env.reset()\n",
    "    print(\"reset done\")\n",
    "    sum_reward = 0\n",
    "    counter = 0\n",
    "    while(counter<30):\n",
    "        # visualize current situation\n",
    "        env.render()\n",
    "\n",
    "        # look in adjacency matrix for costs from the current position\n",
    "        array = env.learn_graph.adjacency_matrix('cost')[env.position].astype(int)\n",
    "        min = np.amin(array)\n",
    "        array = np.where(array==min,50,array)\n",
    "\n",
    "        # get minimal value in array\n",
    "        #while(action==env.position):\n",
    "        min_value = np.amin(array)\n",
    "        print(min_value)\n",
    "        # if multiple entries have the same value\n",
    "        all_indices = np.where(array==min_value)\n",
    "        print(f\"Alle: {all_indices[0]}\")\n",
    "        action = np.random.choice(all_indices[0])\n",
    "        print(action)\n",
    "        # select random of all_indices\n",
    "            #while(action==env.position):\n",
    "            #    action = np.random.choice(all_indices[0])\n",
    "\n",
    "        # select action and show it\n",
    "        #action = env.action_space[dest_hub]\n",
    "        print(f\"Our destination hub is: {action}\")\n",
    "        state, reward, done, info = env.step(action)\n",
    "\n",
    "        # add reward\n",
    "        sum_reward+=reward\n",
    "\n",
    "        if done:\n",
    "            print(\"DELIVERY DONE! sum_reward: \",sum_reward)\n",
    "            break\n",
    "\n",
    "        print(\"sum_reward: \",sum_reward)\n",
    "        # print(\"sum_reward: \",sum_reward, \" time: \",env.time, \"deadline time: \", env.deadline, \"pickup time: \", env.pickup_time)\n",
    "    return sum_reward\n",
    "run_one_episode(env)"
   ]
  }
 ],
 "metadata": {
  "kernelspec": {
   "display_name": "Python 3.9.12",
   "language": "python",
   "name": "python3"
  },
  "language_info": {
   "codemirror_mode": {
    "name": "ipython",
    "version": 3
   },
   "file_extension": ".py",
   "mimetype": "text/x-python",
   "name": "python",
   "nbconvert_exporter": "python",
   "pygments_lexer": "ipython3",
   "version": "3.9.12"
  },
  "vscode": {
   "interpreter": {
    "hash": "a98c8d655702fa2e19d9c09c8be5dceba5d4420e12eb013ca5f99a779bc61516"
   }
  }
 },
 "nbformat": 4,
 "nbformat_minor": 0
}
