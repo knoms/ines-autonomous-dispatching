{
 "cells": [
  {
   "cell_type": "code",
   "execution_count": 1,
   "metadata": {},
   "outputs": [],
   "source": [
    "from StreetGraph import StreetGraph\n",
    "from Graphworld import GraphEnv\n",
    "\n",
    "graph_meinheim=StreetGraph('meinheim')\n",
    "graph_meinheim_trips = StreetGraph('meinheim').trips"
   ]
  },
  {
   "cell_type": "code",
   "execution_count": 2,
   "metadata": {},
   "outputs": [
    {
     "name": "stdout",
     "output_type": "stream",
     "text": [
      "position:  6\n",
      "available actions:  [{'departure_time': datetime.datetime(2022, 1, 1, 3, 43, 12), 'target_node': 307664334, 'route': [290333444, 290333443, 307664257, 307664242, 307664334]}]\n",
      "action space:  Discrete(1)\n",
      "next node (not final):  45\n",
      "sum_reward:  -1\n",
      "position:  45\n",
      "available actions:  [{'departure_time': datetime.datetime(2022, 1, 1, 4, 37), 'target_node': 308304289, 'route': [307664334, 307664242, 307664257, 290333443, 290333444, 304525639, 307663269, 307662889, 307662284, 309450366, 307662242, 306222128, 306222385, 306221900, 306225115, 306225011, 306221653, 306225000, 306221765, 306221807, 306221802, 306221804, 308304289]}]\n",
      "action space:  Discrete(1)\n",
      "next node (not final):  47\n",
      "sum_reward:  -2\n",
      "position:  47\n",
      "available actions:  [{'departure_time': datetime.datetime(2022, 1, 1, 4, 49, 58), 'target_node': 308304288, 'route': [308304289, 308304288]}]\n",
      "action space:  Discrete(1)\n",
      "next node (not final):  46\n",
      "sum_reward:  -3\n",
      "position:  46\n",
      "available actions:  [{'departure_time': datetime.datetime(2022, 1, 1, 4, 59), 'target_node': 306225009, 'route': [308304288, 308304289, 306221804, 306221802, 306221807, 306221765, 306225000, 306224552, 306225009]}]\n",
      "action space:  Discrete(1)\n",
      "next node (not final):  30\n",
      "sum_reward:  -4\n"
     ]
    },
    {
     "ename": "KeyboardInterrupt",
     "evalue": "",
     "output_type": "error",
     "traceback": [
      "\u001b[0;31m---------------------------------------------------------------------------\u001b[0m",
      "\u001b[0;31mKeyboardInterrupt\u001b[0m                         Traceback (most recent call last)",
      "\u001b[1;32m/Users/agnieszkalenart/Documents/mannheim/team_projekt/ines-autonomous-dispatching-1/rl/env/test_env.ipynb Cell 2'\u001b[0m in \u001b[0;36m<cell line: 17>\u001b[0;34m()\u001b[0m\n\u001b[1;32m     <a href='vscode-notebook-cell:/Users/agnieszkalenart/Documents/mannheim/team_projekt/ines-autonomous-dispatching-1/rl/env/test_env.ipynb#ch0000001?line=15'>16</a>\u001b[0m env\u001b[39m=\u001b[39mGraphEnv()\n\u001b[1;32m     <a href='vscode-notebook-cell:/Users/agnieszkalenart/Documents/mannheim/team_projekt/ines-autonomous-dispatching-1/rl/env/test_env.ipynb#ch0000001?line=16'>17</a>\u001b[0m \u001b[39mfor\u001b[39;00m i \u001b[39min\u001b[39;00m \u001b[39mrange\u001b[39m(\u001b[39m1\u001b[39m):\n\u001b[0;32m---> <a href='vscode-notebook-cell:/Users/agnieszkalenart/Documents/mannheim/team_projekt/ines-autonomous-dispatching-1/rl/env/test_env.ipynb#ch0000001?line=17'>18</a>\u001b[0m     run_one_episode (env)\n",
      "\u001b[1;32m/Users/agnieszkalenart/Documents/mannheim/team_projekt/ines-autonomous-dispatching-1/rl/env/test_env.ipynb Cell 2'\u001b[0m in \u001b[0;36mrun_one_episode\u001b[0;34m(env)\u001b[0m\n\u001b[1;32m      <a href='vscode-notebook-cell:/Users/agnieszkalenart/Documents/mannheim/team_projekt/ines-autonomous-dispatching-1/rl/env/test_env.ipynb#ch0000001?line=3'>4</a>\u001b[0m sum_reward \u001b[39m=\u001b[39m \u001b[39m0\u001b[39m\n\u001b[1;32m      <a href='vscode-notebook-cell:/Users/agnieszkalenart/Documents/mannheim/team_projekt/ines-autonomous-dispatching-1/rl/env/test_env.ipynb#ch0000001?line=4'>5</a>\u001b[0m \u001b[39mfor\u001b[39;00m i \u001b[39min\u001b[39;00m \u001b[39mrange\u001b[39m(\u001b[39m10\u001b[39m):\n\u001b[0;32m----> <a href='vscode-notebook-cell:/Users/agnieszkalenart/Documents/mannheim/team_projekt/ines-autonomous-dispatching-1/rl/env/test_env.ipynb#ch0000001?line=5'>6</a>\u001b[0m     action \u001b[39m=\u001b[39m env\u001b[39m.\u001b[39;49maction_space\u001b[39m.\u001b[39msample()\n\u001b[1;32m      <a href='vscode-notebook-cell:/Users/agnieszkalenart/Documents/mannheim/team_projekt/ines-autonomous-dispatching-1/rl/env/test_env.ipynb#ch0000001?line=6'>7</a>\u001b[0m     state, reward, done, info \u001b[39m=\u001b[39m env\u001b[39m.\u001b[39mstep(action)\n\u001b[1;32m      <a href='vscode-notebook-cell:/Users/agnieszkalenart/Documents/mannheim/team_projekt/ines-autonomous-dispatching-1/rl/env/test_env.ipynb#ch0000001?line=7'>8</a>\u001b[0m     sum_reward\u001b[39m+\u001b[39m\u001b[39m=\u001b[39mreward\n",
      "File \u001b[0;32m~/Documents/mannheim/team_projekt/ines-autonomous-dispatching-1/rl/env/Graphworld.py:76\u001b[0m, in \u001b[0;36mGraphEnv.action_space\u001b[0;34m(self)\u001b[0m\n\u001b[1;32m     <a href='file:///~/Documents/mannheim/team_projekt/ines-autonomous-dispatching-1/rl/env/Graphworld.py?line=73'>74</a>\u001b[0m \u001b[39m@property\u001b[39m\n\u001b[1;32m     <a href='file:///~/Documents/mannheim/team_projekt/ines-autonomous-dispatching-1/rl/env/Graphworld.py?line=74'>75</a>\u001b[0m \u001b[39mdef\u001b[39;00m \u001b[39maction_space\u001b[39m(\u001b[39mself\u001b[39m):\n\u001b[0;32m---> <a href='file:///~/Documents/mannheim/team_projekt/ines-autonomous-dispatching-1/rl/env/Graphworld.py?line=75'>76</a>\u001b[0m         num_actions \u001b[39m=\u001b[39m \u001b[39mlen\u001b[39m(\u001b[39mself\u001b[39;49m\u001b[39m.\u001b[39;49mavailableActions())\n\u001b[1;32m     <a href='file:///~/Documents/mannheim/team_projekt/ines-autonomous-dispatching-1/rl/env/Graphworld.py?line=76'>77</a>\u001b[0m         \u001b[39mreturn\u001b[39;00m gym\u001b[39m.\u001b[39mspaces\u001b[39m.\u001b[39mDiscrete(num_actions)\n",
      "File \u001b[0;32m~/Documents/mannheim/team_projekt/ines-autonomous-dispatching-1/rl/env/Graphworld.py:154\u001b[0m, in \u001b[0;36mGraphEnv.availableActions\u001b[0;34m(self)\u001b[0m\n\u001b[1;32m    <a href='file:///~/Documents/mannheim/team_projekt/ines-autonomous-dispatching-1/rl/env/Graphworld.py?line=147'>148</a>\u001b[0m \u001b[39mdef\u001b[39;00m \u001b[39mavailableActions\u001b[39m(\u001b[39mself\u001b[39m):\n\u001b[1;32m    <a href='file:///~/Documents/mannheim/team_projekt/ines-autonomous-dispatching-1/rl/env/Graphworld.py?line=148'>149</a>\u001b[0m     \u001b[39m\"\"\" Returns the available actions at the current position. Uses a simplified action space with moves to all direct neighbors allowed.\u001b[39;00m\n\u001b[1;32m    <a href='file:///~/Documents/mannheim/team_projekt/ines-autonomous-dispatching-1/rl/env/Graphworld.py?line=149'>150</a>\u001b[0m \n\u001b[1;32m    <a href='file:///~/Documents/mannheim/team_projekt/ines-autonomous-dispatching-1/rl/env/Graphworld.py?line=150'>151</a>\u001b[0m \u001b[39m    Returns:\u001b[39;00m\n\u001b[1;32m    <a href='file:///~/Documents/mannheim/team_projekt/ines-autonomous-dispatching-1/rl/env/Graphworld.py?line=151'>152</a>\u001b[0m \u001b[39m        list: list of nodeIds of direct neighbors\u001b[39;00m\n\u001b[1;32m    <a href='file:///~/Documents/mannheim/team_projekt/ines-autonomous-dispatching-1/rl/env/Graphworld.py?line=152'>153</a>\u001b[0m \u001b[39m    \"\"\"\u001b[39;00m\n\u001b[0;32m--> <a href='file:///~/Documents/mannheim/team_projekt/ines-autonomous-dispatching-1/rl/env/Graphworld.py?line=153'>154</a>\u001b[0m     rides \u001b[39m=\u001b[39m \u001b[39mlist\u001b[39m(\u001b[39mself\u001b[39;49m\u001b[39m.\u001b[39;49mavailableTrips())\n\u001b[1;32m    <a href='file:///~/Documents/mannheim/team_projekt/ines-autonomous-dispatching-1/rl/env/Graphworld.py?line=154'>155</a>\u001b[0m     \u001b[39mreturn\u001b[39;00m rides\n",
      "File \u001b[0;32m~/Documents/mannheim/team_projekt/ines-autonomous-dispatching-1/rl/env/Graphworld.py:184\u001b[0m, in \u001b[0;36mGraphEnv.availableTrips\u001b[0;34m(self, time_window)\u001b[0m\n\u001b[1;32m    <a href='file:///~/Documents/mannheim/team_projekt/ines-autonomous-dispatching-1/rl/env/Graphworld.py?line=181'>182</a>\u001b[0m startsInCurrentPosition \u001b[39m=\u001b[39m \u001b[39mstr\u001b[39m(tupel_position) \u001b[39m==\u001b[39m position_str\n\u001b[1;32m    <a href='file:///~/Documents/mannheim/team_projekt/ines-autonomous-dispatching-1/rl/env/Graphworld.py?line=182'>183</a>\u001b[0m trip_target_node \u001b[39m=\u001b[39m grid[\u001b[39m'\u001b[39m\u001b[39mdropoff_node\u001b[39m\u001b[39m'\u001b[39m][index]\n\u001b[0;32m--> <a href='file:///~/Documents/mannheim/team_projekt/ines-autonomous-dispatching-1/rl/env/Graphworld.py?line=183'>184</a>\u001b[0m isNotFinalNode \u001b[39m=\u001b[39m \u001b[39mstr\u001b[39;49m(tupel_position) \u001b[39m!=\u001b[39m \u001b[39mstr\u001b[39m(trip_target_node)\n\u001b[1;32m    <a href='file:///~/Documents/mannheim/team_projekt/ines-autonomous-dispatching-1/rl/env/Graphworld.py?line=186'>187</a>\u001b[0m \u001b[39mif\u001b[39;00m startsInCurrentPosition \u001b[39mand\u001b[39;00m inTimeframe \u001b[39mand\u001b[39;00m isNotFinalNode:\n\u001b[1;32m    <a href='file:///~/Documents/mannheim/team_projekt/ines-autonomous-dispatching-1/rl/env/Graphworld.py?line=187'>188</a>\u001b[0m     route \u001b[39m=\u001b[39m grid[\u001b[39m'\u001b[39m\u001b[39mroute\u001b[39m\u001b[39m'\u001b[39m][index]\n",
      "\u001b[0;31mKeyboardInterrupt\u001b[0m: "
     ]
    }
   ],
   "source": [
    "#without ppo trainer\n",
    "def run_one_episode (env):\n",
    "    env.reset()\n",
    "    sum_reward = 0\n",
    "    for i in range(10):\n",
    "        action = env.action_space.sample()\n",
    "        state, reward, done, info = env.step(action)\n",
    "        sum_reward+=reward\n",
    "        #env.render()\n",
    "        if done:\n",
    "            print(\"sum_reward: \",sum_reward)\n",
    "            break\n",
    "        print(\"sum_reward: \",sum_reward)\n",
    "    return sum_reward\n",
    "\n",
    "env=GraphEnv()\n",
    "for i in range(1):\n",
    "    run_one_episode (env)"
   ]
  },
  {
   "cell_type": "code",
   "execution_count": 3,
   "metadata": {},
   "outputs": [],
   "source": [
    "import numpy as np\n",
    "import pandas as pd\n",
    "import json\n",
    "import os\n",
    "import shutil\n",
    "import sys\n",
    "import gym\n",
    "\n",
    "import ray\n",
    "from ray.rllib.agents.ppo import PPOTrainer, DEFAULT_CONFIG"
   ]
  },
  {
   "cell_type": "code",
   "execution_count": 4,
   "metadata": {},
   "outputs": [
    {
     "name": "stderr",
     "output_type": "stream",
     "text": [
      "2022-03-29 21:57:16,405\tINFO services.py:1374 -- View the Ray dashboard at \u001b[1m\u001b[32mhttp://127.0.0.1:8265\u001b[39m\u001b[22m\n"
     ]
    },
    {
     "data": {
      "text/plain": [
       "{'node_ip_address': '127.0.0.1',\n",
       " 'raylet_ip_address': '127.0.0.1',\n",
       " 'redis_address': '127.0.0.1:6379',\n",
       " 'object_store_address': '/tmp/ray/session_2022-03-29_21-57-14_549925_9420/sockets/plasma_store',\n",
       " 'raylet_socket_name': '/tmp/ray/session_2022-03-29_21-57-14_549925_9420/sockets/raylet',\n",
       " 'webui_url': '127.0.0.1:8265',\n",
       " 'session_dir': '/tmp/ray/session_2022-03-29_21-57-14_549925_9420',\n",
       " 'metrics_export_port': 64762,\n",
       " 'gcs_address': '127.0.0.1:53050',\n",
       " 'node_id': '70002a010befb8d9fe945014d10a433e7c6fc171653cf2a6f4c4f675'}"
      ]
     },
     "execution_count": 4,
     "metadata": {},
     "output_type": "execute_result"
    }
   ],
   "source": [
    "ray.init()"
   ]
  },
  {
   "cell_type": "code",
   "execution_count": 5,
   "metadata": {},
   "outputs": [],
   "source": [
    "trainer_config = DEFAULT_CONFIG.copy()\n",
    "trainer_config['num_workers'] = 1\n",
    "trainer_config[\"train_batch_size\"] = 400\n",
    "trainer_config[\"sgd_minibatch_size\"] = 64\n",
    "trainer_config[\"num_sgd_iter\"] = 10\n",
    "trainer_config[\"framework\"] = \"torch\""
   ]
  },
  {
   "cell_type": "code",
   "execution_count": 6,
   "metadata": {},
   "outputs": [
    {
     "name": "stderr",
     "output_type": "stream",
     "text": [
      "2022-03-29 21:57:23,969\tINFO ppo.py:249 -- In multi-agent mode, policies will be optimized sequentially by the multi-GPU optimizer. Consider setting simple_optimizer=True if this doesn't work for you.\n",
      "2022-03-29 21:57:23,974\tINFO trainer.py:790 -- Current log_level is WARN. For more information, set 'log_level': 'INFO' / 'DEBUG' or use the -v and -vv flags.\n",
      "\u001b[2m\u001b[36m(RolloutWorker pid=9470)\u001b[0m 2022-03-29 21:57:30,004\tWARNING deprecation.py:45 -- DeprecationWarning: `rllib.env.remote_vector_env.RemoteVectorEnv` has been deprecated. Use `ray.rllib.env.remote_base_env.RemoteBaseEnv` instead. This will raise an error in the future!\n",
      "2022-03-29 21:57:30,994\tWARNING util.py:55 -- Install gputil for GPU system monitoring.\n"
     ]
    }
   ],
   "source": [
    "trainer = PPOTrainer(trainer_config,GraphEnv )"
   ]
  },
  {
   "cell_type": "code",
   "execution_count": 7,
   "metadata": {},
   "outputs": [],
   "source": [
    "checkpoint_root = \"tmp/ppo/gridworld\"\n",
    "shutil.rmtree(checkpoint_root, ignore_errors=True, onerror=None)   # clean up old runs"
   ]
  },
  {
   "cell_type": "code",
   "execution_count": 8,
   "metadata": {},
   "outputs": [
    {
     "name": "stdout",
     "output_type": "stream",
     "text": [
      "\u001b[2m\u001b[36m(RolloutWorker pid=9470)\u001b[0m position:  6\n",
      "\u001b[2m\u001b[36m(RolloutWorker pid=9470)\u001b[0m available actions:  [{'departure_time': datetime.datetime(2022, 1, 1, 17, 36, 42), 'target_node': 307664334, 'route': [290333444, 290333443, 307664257, 307664242, 307664334]}, {'departure_time': datetime.datetime(2022, 1, 1, 17, 37, 45), 'target_node': 290333400, 'route': [290333444, 290333400]}]\n",
      "\u001b[2m\u001b[36m(RolloutWorker pid=9470)\u001b[0m action space:  Discrete(2)\n",
      "\u001b[2m\u001b[36m(RolloutWorker pid=9470)\u001b[0m next node (not final):  4\n",
      "\u001b[2m\u001b[36m(RolloutWorker pid=9470)\u001b[0m position:  4\n",
      "\u001b[2m\u001b[36m(RolloutWorker pid=9470)\u001b[0m available actions:  [{'departure_time': datetime.datetime(2022, 1, 1, 18, 10), 'target_node': 290333444, 'route': [290333400, 290333444]}, {'departure_time': datetime.datetime(2022, 1, 1, 18, 11), 'target_node': 306221802, 'route': [290333400, 290333444, 304525639, 307663269, 307662889, 307662284, 309450366, 307662242, 306222128, 306222385, 306221900, 306225115, 306225011, 306221653, 306225000, 306221765, 306221807, 306221802]}]\n",
      "\u001b[2m\u001b[36m(RolloutWorker pid=9470)\u001b[0m action space:  Discrete(2)\n",
      "\u001b[2m\u001b[36m(RolloutWorker pid=9470)\u001b[0m next node (not final):  16\n",
      "\u001b[2m\u001b[36m(RolloutWorker pid=9470)\u001b[0m position:  16\n"
     ]
    },
    {
     "ename": "KeyboardInterrupt",
     "evalue": "",
     "output_type": "error",
     "traceback": [
      "\u001b[0;31m---------------------------------------------------------------------------\u001b[0m",
      "\u001b[0;31mKeyboardInterrupt\u001b[0m                         Traceback (most recent call last)",
      "\u001b[1;32m/Users/agnieszkalenart/Documents/mannheim/team_projekt/ines-autonomous-dispatching-1/rl/env/test_env.ipynb Cell 8'\u001b[0m in \u001b[0;36m<cell line: 1>\u001b[0;34m()\u001b[0m\n\u001b[0;32m----> <a href='vscode-notebook-cell:/Users/agnieszkalenart/Documents/mannheim/team_projekt/ines-autonomous-dispatching-1/rl/env/test_env.ipynb#ch0000007?line=0'>1</a>\u001b[0m trainer\u001b[39m.\u001b[39;49mtrain()\n",
      "File \u001b[0;32m~/miniconda3/lib/python3.8/site-packages/ray/tune/trainable.py:315\u001b[0m, in \u001b[0;36mTrainable.train\u001b[0;34m(self)\u001b[0m\n\u001b[1;32m    <a href='file:///~/miniconda3/lib/python3.8/site-packages/ray/tune/trainable.py?line=274'>275</a>\u001b[0m \u001b[39m\"\"\"Runs one logical iteration of training.\u001b[39;00m\n\u001b[1;32m    <a href='file:///~/miniconda3/lib/python3.8/site-packages/ray/tune/trainable.py?line=275'>276</a>\u001b[0m \n\u001b[1;32m    <a href='file:///~/miniconda3/lib/python3.8/site-packages/ray/tune/trainable.py?line=276'>277</a>\u001b[0m \u001b[39mCalls ``step()`` internally. Subclasses should override ``step()``\u001b[39;00m\n\u001b[0;32m   (...)\u001b[0m\n\u001b[1;32m    <a href='file:///~/miniconda3/lib/python3.8/site-packages/ray/tune/trainable.py?line=311'>312</a>\u001b[0m \u001b[39m    A dict that describes training progress.\u001b[39;00m\n\u001b[1;32m    <a href='file:///~/miniconda3/lib/python3.8/site-packages/ray/tune/trainable.py?line=312'>313</a>\u001b[0m \u001b[39m\"\"\"\u001b[39;00m\n\u001b[1;32m    <a href='file:///~/miniconda3/lib/python3.8/site-packages/ray/tune/trainable.py?line=313'>314</a>\u001b[0m start \u001b[39m=\u001b[39m time\u001b[39m.\u001b[39mtime()\n\u001b[0;32m--> <a href='file:///~/miniconda3/lib/python3.8/site-packages/ray/tune/trainable.py?line=314'>315</a>\u001b[0m result \u001b[39m=\u001b[39m \u001b[39mself\u001b[39;49m\u001b[39m.\u001b[39;49mstep()\n\u001b[1;32m    <a href='file:///~/miniconda3/lib/python3.8/site-packages/ray/tune/trainable.py?line=315'>316</a>\u001b[0m \u001b[39massert\u001b[39;00m \u001b[39misinstance\u001b[39m(result, \u001b[39mdict\u001b[39m), \u001b[39m\"\u001b[39m\u001b[39mstep() needs to return a dict.\u001b[39m\u001b[39m\"\u001b[39m\n\u001b[1;32m    <a href='file:///~/miniconda3/lib/python3.8/site-packages/ray/tune/trainable.py?line=317'>318</a>\u001b[0m \u001b[39m# We do not modify internal state nor update this result if duplicate.\u001b[39;00m\n",
      "File \u001b[0;32m~/miniconda3/lib/python3.8/site-packages/ray/rllib/agents/trainer.py:963\u001b[0m, in \u001b[0;36mTrainer.step\u001b[0;34m(self)\u001b[0m\n\u001b[1;32m    <a href='file:///~/miniconda3/lib/python3.8/site-packages/ray/rllib/agents/trainer.py?line=959'>960</a>\u001b[0m \u001b[39mwhile\u001b[39;00m \u001b[39mnot\u001b[39;00m step_ctx\u001b[39m.\u001b[39mshould_stop(step_attempt_results):\n\u001b[1;32m    <a href='file:///~/miniconda3/lib/python3.8/site-packages/ray/rllib/agents/trainer.py?line=960'>961</a>\u001b[0m     \u001b[39m# Try to train one step.\u001b[39;00m\n\u001b[1;32m    <a href='file:///~/miniconda3/lib/python3.8/site-packages/ray/rllib/agents/trainer.py?line=961'>962</a>\u001b[0m     \u001b[39mtry\u001b[39;00m:\n\u001b[0;32m--> <a href='file:///~/miniconda3/lib/python3.8/site-packages/ray/rllib/agents/trainer.py?line=962'>963</a>\u001b[0m         step_attempt_results \u001b[39m=\u001b[39m \u001b[39mself\u001b[39;49m\u001b[39m.\u001b[39;49mstep_attempt()\n\u001b[1;32m    <a href='file:///~/miniconda3/lib/python3.8/site-packages/ray/rllib/agents/trainer.py?line=963'>964</a>\u001b[0m     \u001b[39m# @ray.remote RolloutWorker failure.\u001b[39;00m\n\u001b[1;32m    <a href='file:///~/miniconda3/lib/python3.8/site-packages/ray/rllib/agents/trainer.py?line=964'>965</a>\u001b[0m     \u001b[39mexcept\u001b[39;00m RayError \u001b[39mas\u001b[39;00m e:\n\u001b[1;32m    <a href='file:///~/miniconda3/lib/python3.8/site-packages/ray/rllib/agents/trainer.py?line=965'>966</a>\u001b[0m         \u001b[39m# Try to recover w/o the failed worker.\u001b[39;00m\n",
      "File \u001b[0;32m~/miniconda3/lib/python3.8/site-packages/ray/rllib/agents/trainer.py:1042\u001b[0m, in \u001b[0;36mTrainer.step_attempt\u001b[0;34m(self)\u001b[0m\n\u001b[1;32m   <a href='file:///~/miniconda3/lib/python3.8/site-packages/ray/rllib/agents/trainer.py?line=1039'>1040</a>\u001b[0m \u001b[39m# No evaluation necessary, just run the next training iteration.\u001b[39;00m\n\u001b[1;32m   <a href='file:///~/miniconda3/lib/python3.8/site-packages/ray/rllib/agents/trainer.py?line=1040'>1041</a>\u001b[0m \u001b[39mif\u001b[39;00m \u001b[39mnot\u001b[39;00m evaluate_this_iter:\n\u001b[0;32m-> <a href='file:///~/miniconda3/lib/python3.8/site-packages/ray/rllib/agents/trainer.py?line=1041'>1042</a>\u001b[0m     step_results \u001b[39m=\u001b[39m \u001b[39mself\u001b[39;49m\u001b[39m.\u001b[39;49m_exec_plan_or_training_iteration_fn()\n\u001b[1;32m   <a href='file:///~/miniconda3/lib/python3.8/site-packages/ray/rllib/agents/trainer.py?line=1042'>1043</a>\u001b[0m \u001b[39m# We have to evaluate in this training iteration.\u001b[39;00m\n\u001b[1;32m   <a href='file:///~/miniconda3/lib/python3.8/site-packages/ray/rllib/agents/trainer.py?line=1043'>1044</a>\u001b[0m \u001b[39melse\u001b[39;00m:\n\u001b[1;32m   <a href='file:///~/miniconda3/lib/python3.8/site-packages/ray/rllib/agents/trainer.py?line=1044'>1045</a>\u001b[0m     \u001b[39m# No parallelism.\u001b[39;00m\n\u001b[1;32m   <a href='file:///~/miniconda3/lib/python3.8/site-packages/ray/rllib/agents/trainer.py?line=1045'>1046</a>\u001b[0m     \u001b[39mif\u001b[39;00m \u001b[39mnot\u001b[39;00m \u001b[39mself\u001b[39m\u001b[39m.\u001b[39mconfig[\u001b[39m\"\u001b[39m\u001b[39mevaluation_parallel_to_training\u001b[39m\u001b[39m\"\u001b[39m]:\n",
      "File \u001b[0;32m~/miniconda3/lib/python3.8/site-packages/ray/rllib/agents/trainer.py:1962\u001b[0m, in \u001b[0;36mTrainer._exec_plan_or_training_iteration_fn\u001b[0;34m(self)\u001b[0m\n\u001b[1;32m   <a href='file:///~/miniconda3/lib/python3.8/site-packages/ray/rllib/agents/trainer.py?line=1959'>1960</a>\u001b[0m     results \u001b[39m=\u001b[39m \u001b[39mself\u001b[39m\u001b[39m.\u001b[39mtraining_iteration()\n\u001b[1;32m   <a href='file:///~/miniconda3/lib/python3.8/site-packages/ray/rllib/agents/trainer.py?line=1960'>1961</a>\u001b[0m \u001b[39melse\u001b[39;00m:\n\u001b[0;32m-> <a href='file:///~/miniconda3/lib/python3.8/site-packages/ray/rllib/agents/trainer.py?line=1961'>1962</a>\u001b[0m     results \u001b[39m=\u001b[39m \u001b[39mnext\u001b[39;49m(\u001b[39mself\u001b[39;49m\u001b[39m.\u001b[39;49mtrain_exec_impl)\n\u001b[1;32m   <a href='file:///~/miniconda3/lib/python3.8/site-packages/ray/rllib/agents/trainer.py?line=1962'>1963</a>\u001b[0m \u001b[39mreturn\u001b[39;00m results\n",
      "File \u001b[0;32m~/miniconda3/lib/python3.8/site-packages/ray/util/iter.py:756\u001b[0m, in \u001b[0;36mLocalIterator.__next__\u001b[0;34m(self)\u001b[0m\n\u001b[1;32m    <a href='file:///~/miniconda3/lib/python3.8/site-packages/ray/util/iter.py?line=753'>754</a>\u001b[0m \u001b[39mdef\u001b[39;00m \u001b[39m__next__\u001b[39m(\u001b[39mself\u001b[39m):\n\u001b[1;32m    <a href='file:///~/miniconda3/lib/python3.8/site-packages/ray/util/iter.py?line=754'>755</a>\u001b[0m     \u001b[39mself\u001b[39m\u001b[39m.\u001b[39m_build_once()\n\u001b[0;32m--> <a href='file:///~/miniconda3/lib/python3.8/site-packages/ray/util/iter.py?line=755'>756</a>\u001b[0m     \u001b[39mreturn\u001b[39;00m \u001b[39mnext\u001b[39;49m(\u001b[39mself\u001b[39;49m\u001b[39m.\u001b[39;49mbuilt_iterator)\n",
      "File \u001b[0;32m~/miniconda3/lib/python3.8/site-packages/ray/util/iter.py:783\u001b[0m, in \u001b[0;36mLocalIterator.for_each.<locals>.apply_foreach\u001b[0;34m(it)\u001b[0m\n\u001b[1;32m    <a href='file:///~/miniconda3/lib/python3.8/site-packages/ray/util/iter.py?line=781'>782</a>\u001b[0m \u001b[39mdef\u001b[39;00m \u001b[39mapply_foreach\u001b[39m(it):\n\u001b[0;32m--> <a href='file:///~/miniconda3/lib/python3.8/site-packages/ray/util/iter.py?line=782'>783</a>\u001b[0m     \u001b[39mfor\u001b[39;00m item \u001b[39min\u001b[39;00m it:\n\u001b[1;32m    <a href='file:///~/miniconda3/lib/python3.8/site-packages/ray/util/iter.py?line=783'>784</a>\u001b[0m         \u001b[39mif\u001b[39;00m \u001b[39misinstance\u001b[39m(item, _NextValueNotReady):\n\u001b[1;32m    <a href='file:///~/miniconda3/lib/python3.8/site-packages/ray/util/iter.py?line=784'>785</a>\u001b[0m             \u001b[39myield\u001b[39;00m item\n",
      "File \u001b[0;32m~/miniconda3/lib/python3.8/site-packages/ray/util/iter.py:783\u001b[0m, in \u001b[0;36mLocalIterator.for_each.<locals>.apply_foreach\u001b[0;34m(it)\u001b[0m\n\u001b[1;32m    <a href='file:///~/miniconda3/lib/python3.8/site-packages/ray/util/iter.py?line=781'>782</a>\u001b[0m \u001b[39mdef\u001b[39;00m \u001b[39mapply_foreach\u001b[39m(it):\n\u001b[0;32m--> <a href='file:///~/miniconda3/lib/python3.8/site-packages/ray/util/iter.py?line=782'>783</a>\u001b[0m     \u001b[39mfor\u001b[39;00m item \u001b[39min\u001b[39;00m it:\n\u001b[1;32m    <a href='file:///~/miniconda3/lib/python3.8/site-packages/ray/util/iter.py?line=783'>784</a>\u001b[0m         \u001b[39mif\u001b[39;00m \u001b[39misinstance\u001b[39m(item, _NextValueNotReady):\n\u001b[1;32m    <a href='file:///~/miniconda3/lib/python3.8/site-packages/ray/util/iter.py?line=784'>785</a>\u001b[0m             \u001b[39myield\u001b[39;00m item\n",
      "File \u001b[0;32m~/miniconda3/lib/python3.8/site-packages/ray/util/iter.py:843\u001b[0m, in \u001b[0;36mLocalIterator.filter.<locals>.apply_filter\u001b[0;34m(it)\u001b[0m\n\u001b[1;32m    <a href='file:///~/miniconda3/lib/python3.8/site-packages/ray/util/iter.py?line=841'>842</a>\u001b[0m \u001b[39mdef\u001b[39;00m \u001b[39mapply_filter\u001b[39m(it):\n\u001b[0;32m--> <a href='file:///~/miniconda3/lib/python3.8/site-packages/ray/util/iter.py?line=842'>843</a>\u001b[0m     \u001b[39mfor\u001b[39;00m item \u001b[39min\u001b[39;00m it:\n\u001b[1;32m    <a href='file:///~/miniconda3/lib/python3.8/site-packages/ray/util/iter.py?line=843'>844</a>\u001b[0m         \u001b[39mwith\u001b[39;00m \u001b[39mself\u001b[39m\u001b[39m.\u001b[39m_metrics_context():\n\u001b[1;32m    <a href='file:///~/miniconda3/lib/python3.8/site-packages/ray/util/iter.py?line=844'>845</a>\u001b[0m             \u001b[39mif\u001b[39;00m \u001b[39misinstance\u001b[39m(item, _NextValueNotReady) \u001b[39mor\u001b[39;00m fn(item):\n",
      "File \u001b[0;32m~/miniconda3/lib/python3.8/site-packages/ray/util/iter.py:843\u001b[0m, in \u001b[0;36mLocalIterator.filter.<locals>.apply_filter\u001b[0;34m(it)\u001b[0m\n\u001b[1;32m    <a href='file:///~/miniconda3/lib/python3.8/site-packages/ray/util/iter.py?line=841'>842</a>\u001b[0m \u001b[39mdef\u001b[39;00m \u001b[39mapply_filter\u001b[39m(it):\n\u001b[0;32m--> <a href='file:///~/miniconda3/lib/python3.8/site-packages/ray/util/iter.py?line=842'>843</a>\u001b[0m     \u001b[39mfor\u001b[39;00m item \u001b[39min\u001b[39;00m it:\n\u001b[1;32m    <a href='file:///~/miniconda3/lib/python3.8/site-packages/ray/util/iter.py?line=843'>844</a>\u001b[0m         \u001b[39mwith\u001b[39;00m \u001b[39mself\u001b[39m\u001b[39m.\u001b[39m_metrics_context():\n\u001b[1;32m    <a href='file:///~/miniconda3/lib/python3.8/site-packages/ray/util/iter.py?line=844'>845</a>\u001b[0m             \u001b[39mif\u001b[39;00m \u001b[39misinstance\u001b[39m(item, _NextValueNotReady) \u001b[39mor\u001b[39;00m fn(item):\n",
      "File \u001b[0;32m~/miniconda3/lib/python3.8/site-packages/ray/util/iter.py:783\u001b[0m, in \u001b[0;36mLocalIterator.for_each.<locals>.apply_foreach\u001b[0;34m(it)\u001b[0m\n\u001b[1;32m    <a href='file:///~/miniconda3/lib/python3.8/site-packages/ray/util/iter.py?line=781'>782</a>\u001b[0m \u001b[39mdef\u001b[39;00m \u001b[39mapply_foreach\u001b[39m(it):\n\u001b[0;32m--> <a href='file:///~/miniconda3/lib/python3.8/site-packages/ray/util/iter.py?line=782'>783</a>\u001b[0m     \u001b[39mfor\u001b[39;00m item \u001b[39min\u001b[39;00m it:\n\u001b[1;32m    <a href='file:///~/miniconda3/lib/python3.8/site-packages/ray/util/iter.py?line=783'>784</a>\u001b[0m         \u001b[39mif\u001b[39;00m \u001b[39misinstance\u001b[39m(item, _NextValueNotReady):\n\u001b[1;32m    <a href='file:///~/miniconda3/lib/python3.8/site-packages/ray/util/iter.py?line=784'>785</a>\u001b[0m             \u001b[39myield\u001b[39;00m item\n",
      "File \u001b[0;32m~/miniconda3/lib/python3.8/site-packages/ray/util/iter.py:783\u001b[0m, in \u001b[0;36mLocalIterator.for_each.<locals>.apply_foreach\u001b[0;34m(it)\u001b[0m\n\u001b[1;32m    <a href='file:///~/miniconda3/lib/python3.8/site-packages/ray/util/iter.py?line=781'>782</a>\u001b[0m \u001b[39mdef\u001b[39;00m \u001b[39mapply_foreach\u001b[39m(it):\n\u001b[0;32m--> <a href='file:///~/miniconda3/lib/python3.8/site-packages/ray/util/iter.py?line=782'>783</a>\u001b[0m     \u001b[39mfor\u001b[39;00m item \u001b[39min\u001b[39;00m it:\n\u001b[1;32m    <a href='file:///~/miniconda3/lib/python3.8/site-packages/ray/util/iter.py?line=783'>784</a>\u001b[0m         \u001b[39mif\u001b[39;00m \u001b[39misinstance\u001b[39m(item, _NextValueNotReady):\n\u001b[1;32m    <a href='file:///~/miniconda3/lib/python3.8/site-packages/ray/util/iter.py?line=784'>785</a>\u001b[0m             \u001b[39myield\u001b[39;00m item\n",
      "    \u001b[0;31m[... skipping similar frames: LocalIterator.for_each.<locals>.apply_foreach at line 783 (1 times)]\u001b[0m\n",
      "File \u001b[0;32m~/miniconda3/lib/python3.8/site-packages/ray/util/iter.py:783\u001b[0m, in \u001b[0;36mLocalIterator.for_each.<locals>.apply_foreach\u001b[0;34m(it)\u001b[0m\n\u001b[1;32m    <a href='file:///~/miniconda3/lib/python3.8/site-packages/ray/util/iter.py?line=781'>782</a>\u001b[0m \u001b[39mdef\u001b[39;00m \u001b[39mapply_foreach\u001b[39m(it):\n\u001b[0;32m--> <a href='file:///~/miniconda3/lib/python3.8/site-packages/ray/util/iter.py?line=782'>783</a>\u001b[0m     \u001b[39mfor\u001b[39;00m item \u001b[39min\u001b[39;00m it:\n\u001b[1;32m    <a href='file:///~/miniconda3/lib/python3.8/site-packages/ray/util/iter.py?line=783'>784</a>\u001b[0m         \u001b[39mif\u001b[39;00m \u001b[39misinstance\u001b[39m(item, _NextValueNotReady):\n\u001b[1;32m    <a href='file:///~/miniconda3/lib/python3.8/site-packages/ray/util/iter.py?line=784'>785</a>\u001b[0m             \u001b[39myield\u001b[39;00m item\n",
      "File \u001b[0;32m~/miniconda3/lib/python3.8/site-packages/ray/util/iter.py:876\u001b[0m, in \u001b[0;36mLocalIterator.flatten.<locals>.apply_flatten\u001b[0;34m(it)\u001b[0m\n\u001b[1;32m    <a href='file:///~/miniconda3/lib/python3.8/site-packages/ray/util/iter.py?line=874'>875</a>\u001b[0m \u001b[39mdef\u001b[39;00m \u001b[39mapply_flatten\u001b[39m(it):\n\u001b[0;32m--> <a href='file:///~/miniconda3/lib/python3.8/site-packages/ray/util/iter.py?line=875'>876</a>\u001b[0m     \u001b[39mfor\u001b[39;00m item \u001b[39min\u001b[39;00m it:\n\u001b[1;32m    <a href='file:///~/miniconda3/lib/python3.8/site-packages/ray/util/iter.py?line=876'>877</a>\u001b[0m         \u001b[39mif\u001b[39;00m \u001b[39misinstance\u001b[39m(item, _NextValueNotReady):\n\u001b[1;32m    <a href='file:///~/miniconda3/lib/python3.8/site-packages/ray/util/iter.py?line=877'>878</a>\u001b[0m             \u001b[39myield\u001b[39;00m item\n",
      "File \u001b[0;32m~/miniconda3/lib/python3.8/site-packages/ray/util/iter.py:783\u001b[0m, in \u001b[0;36mLocalIterator.for_each.<locals>.apply_foreach\u001b[0;34m(it)\u001b[0m\n\u001b[1;32m    <a href='file:///~/miniconda3/lib/python3.8/site-packages/ray/util/iter.py?line=781'>782</a>\u001b[0m \u001b[39mdef\u001b[39;00m \u001b[39mapply_foreach\u001b[39m(it):\n\u001b[0;32m--> <a href='file:///~/miniconda3/lib/python3.8/site-packages/ray/util/iter.py?line=782'>783</a>\u001b[0m     \u001b[39mfor\u001b[39;00m item \u001b[39min\u001b[39;00m it:\n\u001b[1;32m    <a href='file:///~/miniconda3/lib/python3.8/site-packages/ray/util/iter.py?line=783'>784</a>\u001b[0m         \u001b[39mif\u001b[39;00m \u001b[39misinstance\u001b[39m(item, _NextValueNotReady):\n\u001b[1;32m    <a href='file:///~/miniconda3/lib/python3.8/site-packages/ray/util/iter.py?line=784'>785</a>\u001b[0m             \u001b[39myield\u001b[39;00m item\n",
      "File \u001b[0;32m~/miniconda3/lib/python3.8/site-packages/ray/util/iter.py:783\u001b[0m, in \u001b[0;36mLocalIterator.for_each.<locals>.apply_foreach\u001b[0;34m(it)\u001b[0m\n\u001b[1;32m    <a href='file:///~/miniconda3/lib/python3.8/site-packages/ray/util/iter.py?line=781'>782</a>\u001b[0m \u001b[39mdef\u001b[39;00m \u001b[39mapply_foreach\u001b[39m(it):\n\u001b[0;32m--> <a href='file:///~/miniconda3/lib/python3.8/site-packages/ray/util/iter.py?line=782'>783</a>\u001b[0m     \u001b[39mfor\u001b[39;00m item \u001b[39min\u001b[39;00m it:\n\u001b[1;32m    <a href='file:///~/miniconda3/lib/python3.8/site-packages/ray/util/iter.py?line=783'>784</a>\u001b[0m         \u001b[39mif\u001b[39;00m \u001b[39misinstance\u001b[39m(item, _NextValueNotReady):\n\u001b[1;32m    <a href='file:///~/miniconda3/lib/python3.8/site-packages/ray/util/iter.py?line=784'>785</a>\u001b[0m             \u001b[39myield\u001b[39;00m item\n",
      "    \u001b[0;31m[... skipping similar frames: LocalIterator.for_each.<locals>.apply_foreach at line 783 (1 times)]\u001b[0m\n",
      "File \u001b[0;32m~/miniconda3/lib/python3.8/site-packages/ray/util/iter.py:783\u001b[0m, in \u001b[0;36mLocalIterator.for_each.<locals>.apply_foreach\u001b[0;34m(it)\u001b[0m\n\u001b[1;32m    <a href='file:///~/miniconda3/lib/python3.8/site-packages/ray/util/iter.py?line=781'>782</a>\u001b[0m \u001b[39mdef\u001b[39;00m \u001b[39mapply_foreach\u001b[39m(it):\n\u001b[0;32m--> <a href='file:///~/miniconda3/lib/python3.8/site-packages/ray/util/iter.py?line=782'>783</a>\u001b[0m     \u001b[39mfor\u001b[39;00m item \u001b[39min\u001b[39;00m it:\n\u001b[1;32m    <a href='file:///~/miniconda3/lib/python3.8/site-packages/ray/util/iter.py?line=783'>784</a>\u001b[0m         \u001b[39mif\u001b[39;00m \u001b[39misinstance\u001b[39m(item, _NextValueNotReady):\n\u001b[1;32m    <a href='file:///~/miniconda3/lib/python3.8/site-packages/ray/util/iter.py?line=784'>785</a>\u001b[0m             \u001b[39myield\u001b[39;00m item\n",
      "File \u001b[0;32m~/miniconda3/lib/python3.8/site-packages/ray/util/iter.py:471\u001b[0m, in \u001b[0;36mParallelIterator.batch_across_shards.<locals>.base_iterator\u001b[0;34m(timeout)\u001b[0m\n\u001b[1;32m    <a href='file:///~/miniconda3/lib/python3.8/site-packages/ray/util/iter.py?line=468'>469</a>\u001b[0m \u001b[39mwhile\u001b[39;00m active:\n\u001b[1;32m    <a href='file:///~/miniconda3/lib/python3.8/site-packages/ray/util/iter.py?line=469'>470</a>\u001b[0m     \u001b[39mtry\u001b[39;00m:\n\u001b[0;32m--> <a href='file:///~/miniconda3/lib/python3.8/site-packages/ray/util/iter.py?line=470'>471</a>\u001b[0m         \u001b[39myield\u001b[39;00m ray\u001b[39m.\u001b[39;49mget(futures, timeout\u001b[39m=\u001b[39;49mtimeout)\n\u001b[1;32m    <a href='file:///~/miniconda3/lib/python3.8/site-packages/ray/util/iter.py?line=471'>472</a>\u001b[0m         futures \u001b[39m=\u001b[39m [a\u001b[39m.\u001b[39mpar_iter_next\u001b[39m.\u001b[39mremote() \u001b[39mfor\u001b[39;00m a \u001b[39min\u001b[39;00m active]\n\u001b[1;32m    <a href='file:///~/miniconda3/lib/python3.8/site-packages/ray/util/iter.py?line=472'>473</a>\u001b[0m         \u001b[39m# Always yield after each round of gets with timeout.\u001b[39;00m\n",
      "File \u001b[0;32m~/miniconda3/lib/python3.8/site-packages/ray/_private/client_mode_hook.py:105\u001b[0m, in \u001b[0;36mclient_mode_hook.<locals>.wrapper\u001b[0;34m(*args, **kwargs)\u001b[0m\n\u001b[1;32m    <a href='file:///~/miniconda3/lib/python3.8/site-packages/ray/_private/client_mode_hook.py?line=102'>103</a>\u001b[0m     \u001b[39mif\u001b[39;00m func\u001b[39m.\u001b[39m\u001b[39m__name__\u001b[39m \u001b[39m!=\u001b[39m \u001b[39m\"\u001b[39m\u001b[39minit\u001b[39m\u001b[39m\"\u001b[39m \u001b[39mor\u001b[39;00m is_client_mode_enabled_by_default:\n\u001b[1;32m    <a href='file:///~/miniconda3/lib/python3.8/site-packages/ray/_private/client_mode_hook.py?line=103'>104</a>\u001b[0m         \u001b[39mreturn\u001b[39;00m \u001b[39mgetattr\u001b[39m(ray, func\u001b[39m.\u001b[39m\u001b[39m__name__\u001b[39m)(\u001b[39m*\u001b[39margs, \u001b[39m*\u001b[39m\u001b[39m*\u001b[39mkwargs)\n\u001b[0;32m--> <a href='file:///~/miniconda3/lib/python3.8/site-packages/ray/_private/client_mode_hook.py?line=104'>105</a>\u001b[0m \u001b[39mreturn\u001b[39;00m func(\u001b[39m*\u001b[39;49margs, \u001b[39m*\u001b[39;49m\u001b[39m*\u001b[39;49mkwargs)\n",
      "File \u001b[0;32m~/miniconda3/lib/python3.8/site-packages/ray/worker.py:1726\u001b[0m, in \u001b[0;36mget\u001b[0;34m(object_refs, timeout)\u001b[0m\n\u001b[1;32m   <a href='file:///~/miniconda3/lib/python3.8/site-packages/ray/worker.py?line=1721'>1722</a>\u001b[0m     \u001b[39mraise\u001b[39;00m \u001b[39mValueError\u001b[39;00m(\u001b[39m\"\u001b[39m\u001b[39m'\u001b[39m\u001b[39mobject_refs\u001b[39m\u001b[39m'\u001b[39m\u001b[39m must either be an object ref \u001b[39m\u001b[39m\"\u001b[39m\n\u001b[1;32m   <a href='file:///~/miniconda3/lib/python3.8/site-packages/ray/worker.py?line=1722'>1723</a>\u001b[0m                      \u001b[39m\"\u001b[39m\u001b[39mor a list of object refs.\u001b[39m\u001b[39m\"\u001b[39m)\n\u001b[1;32m   <a href='file:///~/miniconda3/lib/python3.8/site-packages/ray/worker.py?line=1724'>1725</a>\u001b[0m \u001b[39m# TODO(ujvl): Consider how to allow user to retrieve the ready objects.\u001b[39;00m\n\u001b[0;32m-> <a href='file:///~/miniconda3/lib/python3.8/site-packages/ray/worker.py?line=1725'>1726</a>\u001b[0m values, debugger_breakpoint \u001b[39m=\u001b[39m worker\u001b[39m.\u001b[39;49mget_objects(\n\u001b[1;32m   <a href='file:///~/miniconda3/lib/python3.8/site-packages/ray/worker.py?line=1726'>1727</a>\u001b[0m     object_refs, timeout\u001b[39m=\u001b[39;49mtimeout)\n\u001b[1;32m   <a href='file:///~/miniconda3/lib/python3.8/site-packages/ray/worker.py?line=1727'>1728</a>\u001b[0m \u001b[39mfor\u001b[39;00m i, value \u001b[39min\u001b[39;00m \u001b[39menumerate\u001b[39m(values):\n\u001b[1;32m   <a href='file:///~/miniconda3/lib/python3.8/site-packages/ray/worker.py?line=1728'>1729</a>\u001b[0m     \u001b[39mif\u001b[39;00m \u001b[39misinstance\u001b[39m(value, RayError):\n",
      "File \u001b[0;32m~/miniconda3/lib/python3.8/site-packages/ray/worker.py:354\u001b[0m, in \u001b[0;36mWorker.get_objects\u001b[0;34m(self, object_refs, timeout)\u001b[0m\n\u001b[1;32m    <a href='file:///~/miniconda3/lib/python3.8/site-packages/ray/worker.py?line=348'>349</a>\u001b[0m         \u001b[39mraise\u001b[39;00m \u001b[39mTypeError\u001b[39;00m(\n\u001b[1;32m    <a href='file:///~/miniconda3/lib/python3.8/site-packages/ray/worker.py?line=349'>350</a>\u001b[0m             \u001b[39mf\u001b[39m\u001b[39m\"\u001b[39m\u001b[39mAttempting to call `get` on the value \u001b[39m\u001b[39m{\u001b[39;00mobject_ref\u001b[39m}\u001b[39;00m\u001b[39m, \u001b[39m\u001b[39m\"\u001b[39m\n\u001b[1;32m    <a href='file:///~/miniconda3/lib/python3.8/site-packages/ray/worker.py?line=350'>351</a>\u001b[0m             \u001b[39m\"\u001b[39m\u001b[39mwhich is not an ray.ObjectRef.\u001b[39m\u001b[39m\"\u001b[39m)\n\u001b[1;32m    <a href='file:///~/miniconda3/lib/python3.8/site-packages/ray/worker.py?line=352'>353</a>\u001b[0m timeout_ms \u001b[39m=\u001b[39m \u001b[39mint\u001b[39m(timeout \u001b[39m*\u001b[39m \u001b[39m1000\u001b[39m) \u001b[39mif\u001b[39;00m timeout \u001b[39melse\u001b[39;00m \u001b[39m-\u001b[39m\u001b[39m1\u001b[39m\n\u001b[0;32m--> <a href='file:///~/miniconda3/lib/python3.8/site-packages/ray/worker.py?line=353'>354</a>\u001b[0m data_metadata_pairs \u001b[39m=\u001b[39m \u001b[39mself\u001b[39;49m\u001b[39m.\u001b[39;49mcore_worker\u001b[39m.\u001b[39;49mget_objects(\n\u001b[1;32m    <a href='file:///~/miniconda3/lib/python3.8/site-packages/ray/worker.py?line=354'>355</a>\u001b[0m     object_refs, \u001b[39mself\u001b[39;49m\u001b[39m.\u001b[39;49mcurrent_task_id, timeout_ms)\n\u001b[1;32m    <a href='file:///~/miniconda3/lib/python3.8/site-packages/ray/worker.py?line=355'>356</a>\u001b[0m debugger_breakpoint \u001b[39m=\u001b[39m \u001b[39mb\u001b[39m\u001b[39m\"\u001b[39m\u001b[39m\"\u001b[39m\n\u001b[1;32m    <a href='file:///~/miniconda3/lib/python3.8/site-packages/ray/worker.py?line=356'>357</a>\u001b[0m \u001b[39mfor\u001b[39;00m (data, metadata) \u001b[39min\u001b[39;00m data_metadata_pairs:\n",
      "File \u001b[0;32mpython/ray/_raylet.pyx:1180\u001b[0m, in \u001b[0;36mray._raylet.CoreWorker.get_objects\u001b[0;34m()\u001b[0m\n",
      "File \u001b[0;32mpython/ray/_raylet.pyx:165\u001b[0m, in \u001b[0;36mray._raylet.check_status\u001b[0;34m()\u001b[0m\n",
      "\u001b[0;31mKeyboardInterrupt\u001b[0m: "
     ]
    },
    {
     "name": "stdout",
     "output_type": "stream",
     "text": [
      "\u001b[2m\u001b[36m(RolloutWorker pid=9470)\u001b[0m available actions:  [{'departure_time': datetime.datetime(2022, 1, 1, 18, 25, 56), 'target_node': 306224552, 'route': [306221802, 306221807, 306221765, 306225000, 306224552]}, {'departure_time': datetime.datetime(2022, 1, 1, 18, 24), 'target_node': 308304289, 'route': [306221802, 306221804, 308304289]}, {'departure_time': datetime.datetime(2022, 1, 1, 18, 26, 10), 'target_node': 306221900, 'route': [306221802, 306221807, 306221765, 306225000, 306221653, 306225011, 306225115, 306221900]}]\n",
      "\u001b[2m\u001b[36m(RolloutWorker pid=9470)\u001b[0m action space:  Discrete(3)\n",
      "\u001b[2m\u001b[36m(RolloutWorker pid=9470)\u001b[0m next node (not final):  47\n",
      "\u001b[2m\u001b[36m(RolloutWorker pid=9470)\u001b[0m position:  47\n",
      "\u001b[2m\u001b[36m(RolloutWorker pid=9470)\u001b[0m available actions:  [{'departure_time': datetime.datetime(2022, 1, 1, 18, 59), 'target_node': 307661801, 'route': [308304289, 306221804, 306221802, 306221807, 306221765, 306225000, 306221653, 306225011, 306225115, 306221900, 306222385, 306222128, 307662242, 309450366, 307662284, 307661801]}]\n",
      "\u001b[2m\u001b[36m(RolloutWorker pid=9470)\u001b[0m action space:  Discrete(1)\n"
     ]
    }
   ],
   "source": [
    "trainer.train()"
   ]
  },
  {
   "cell_type": "code",
   "execution_count": null,
   "metadata": {},
   "outputs": [
    {
     "ename": "NameError",
     "evalue": "name 'result' is not defined",
     "output_type": "error",
     "traceback": [
      "\u001b[0;31m---------------------------------------------------------------------------\u001b[0m",
      "\u001b[0;31mNameError\u001b[0m                                 Traceback (most recent call last)",
      "\u001b[1;32m/Users/agnieszkalenart/Documents/mannheim/team_projekt/ines-autonomous-dispatching-1/rl/env/test_env.ipynb Cell 12'\u001b[0m in \u001b[0;36m<cell line: 1>\u001b[0;34m()\u001b[0m\n\u001b[0;32m----> <a href='vscode-notebook-cell:/Users/agnieszkalenart/Documents/mannheim/team_projekt/ines-autonomous-dispatching-1/rl/env/test_env.ipynb#ch0000016?line=0'>1</a>\u001b[0m result\n",
      "\u001b[0;31mNameError\u001b[0m: name 'result' is not defined"
     ]
    }
   ],
   "source": [
    "result"
   ]
  },
  {
   "cell_type": "code",
   "execution_count": null,
   "metadata": {},
   "outputs": [
    {
     "name": "stderr",
     "output_type": "stream",
     "text": [
      "2022-03-26 16:39:46,012\tWARNING deprecation.py:45 -- DeprecationWarning: `clear_buffer` has been deprecated. Use `Filter.reset_buffer()` instead. This will raise an error in the future!\n"
     ]
    },
    {
     "name": "stdout",
     "output_type": "stream",
     "text": [
      "  1: Min/Mean/Max reward:      nan/     nan/     nan, len mean:      nan. Checkpoint saved to tmp/ppo/gridworld/checkpoint_000002/checkpoint-2\n"
     ]
    }
   ],
   "source": [
    "results = []\n",
    "episode_data = []\n",
    "episode_json = []\n",
    "\n",
    "for n in range(1):\n",
    "    result = trainer.train()\n",
    "    results.append(result)\n",
    "    \n",
    "    episode = {'n': n, \n",
    "               'episode_reward_min': result['episode_reward_min'], \n",
    "               'episode_reward_mean': result['episode_reward_mean'], \n",
    "               'episode_reward_max': result['episode_reward_max'],  \n",
    "               'episode_len_mean': result['episode_len_mean']\n",
    "              }\n",
    "    \n",
    "    episode_data.append(episode)\n",
    "    episode_json.append(json.dumps(episode))\n",
    "    file_name = trainer.save(checkpoint_root)\n",
    "    \n",
    "    print(f'{n+1:3d}: Min/Mean/Max reward: {result[\"episode_reward_min\"]:8.4f}/{result[\"episode_reward_mean\"]:8.4f}/{result[\"episode_reward_max\"]:8.4f}, len mean: {result[\"episode_len_mean\"]:8.4f}. Checkpoint saved to {file_name}')"
   ]
  },
  {
   "cell_type": "code",
   "execution_count": 9,
   "metadata": {},
   "outputs": [],
   "source": [
    "ray.shutdown()"
   ]
  }
 ],
 "metadata": {
  "interpreter": {
   "hash": "659ff4560fff501816ab5557c69e2236a8a93dda2d0369456c34960305f58737"
  },
  "kernelspec": {
   "display_name": "Python 3.8.12 ('base')",
   "language": "python",
   "name": "python3"
  },
  "language_info": {
   "codemirror_mode": {
    "name": "ipython",
    "version": 3
   },
   "file_extension": ".py",
   "mimetype": "text/x-python",
   "name": "python",
   "nbconvert_exporter": "python",
   "pygments_lexer": "ipython3",
   "version": "3.8.12"
  },
  "orig_nbformat": 4
 },
 "nbformat": 4,
 "nbformat_minor": 2
}
