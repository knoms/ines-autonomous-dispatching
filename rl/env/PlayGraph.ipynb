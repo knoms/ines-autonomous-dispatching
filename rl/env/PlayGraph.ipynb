{
 "cells": [
  {
   "cell_type": "code",
   "execution_count": 5,
   "metadata": {},
   "outputs": [],
   "source": [
    "from StreetGraph import StreetGraph\n",
    "from Graphworld import Environment\n",
    "from datetime import datetime\n",
    "import random\n",
    "import networkx as nx\n",
    "import numpy as np\n",
    "%matplotlib inline"
   ]
  },
  {
   "cell_type": "code",
   "execution_count": 6,
   "metadata": {},
   "outputs": [
    {
     "name": "stdout",
     "output_type": "stream",
     "text": [
      "Start:  290333444\n",
      "Final:  307662198\n"
     ]
    }
   ],
   "source": [
    "GRAPH_NAME = 'meinheim'\n",
    "streetgraph = StreetGraph(GRAPH_NAME)\n",
    "# start_hub = random.choice(list(streetgraph.graph.nodes()))\n",
    "start_hub = 290333444\n",
    "final_hub = random.choice(list(streetgraph.graph.nodes()))\n",
    "if start_hub == final_hub: \n",
    "    final_hub = random.choice(list(streetgraph.graph.nodes()))\n",
    "\n",
    "pickup_day = 1\n",
    "pickup_hour =  np.random.randint(24)\n",
    "pickup_minute = np.random.randint(60)\n",
    "pickup_time=datetime(2022,1,pickup_day,pickup_hour,pickup_minute,0)\n",
    "\n",
    "\n",
    "print(\"Start: \", start_hub)\n",
    "print(\"Final: \", final_hub)\n",
    "\n",
    "\n"
   ]
  },
  {
   "cell_type": "code",
   "execution_count": 10,
   "metadata": {
    "collapsed": false,
    "pycharm": {
     "name": "#%%\n"
    }
   },
   "outputs": [
    {
     "name": "stdout",
     "output_type": "stream",
     "text": [
      "[280324476, 280324485, 280324491, 280430536, 290333400, 290333443, 290333444, 290333858, 291556214, 297675884, 304525639, 306218723, 306219024, 306221653, 306221671, 306221765, 306221802, 306221804, 306221807, 306221900, 306221941, 306221950, 306221960, 306222128, 306222383, 306222385, 306222462, 306222676, 306224552, 306225000, 306225009, 306225011, 306225115, 306226719, 307661801, 307662149, 307662198, 307662199, 307662238, 307662242, 307662284, 307662889, 307663269, 307664242, 307664257, 307664334, 308304288, 308304289, 309441547, 309441548, 309441562, 309450229, 309450234, 309450340, 309450344, 309450366, 354863048, 354863308, 399384843, 1479963453, 1633571571, 2586413037, 3023405356, 3023405360, 7756059834, 7756059836, 7756059845, 7756059875]\n",
      "68\n",
      "Output [280430536, 309450366, 354863048]\n"
     ]
    },
    {
     "name": "stderr",
     "output_type": "stream",
     "text": [
      "C:\\Users\\cosmi\\AppData\\Local\\Temp\\ipykernel_20868\\2391768232.py:4: DeprecationWarning: Sampling from a set deprecated\n",
      "since Python 3.9 and will be removed in a subsequent version.\n",
      "  test = rd.sample(streetgraph.graph.nodes, 3)\n"
     ]
    }
   ],
   "source": [
    "import random as rd\n",
    "print(streetgraph.graph.nodes)  \n",
    "print(len(streetgraph.graph.nodes))\n",
    "hubs = rd.sample(streetgraph.graph.nodes,5)\n",
    "print(\"Output\",hubs)"
   ]
  },
  {
   "cell_type": "code",
   "execution_count": 8,
   "metadata": {},
   "outputs": [
    {
     "data": {
      "text/plain": [
       "{'y': 49.0133143, 'x': 10.7913339, 'street_count': 3}"
      ]
     },
     "execution_count": 8,
     "metadata": {},
     "output_type": "execute_result"
    }
   ],
   "source": [
    "g = streetgraph.graph.nodes(start_hub)\n",
    "streetgraph.graph.nodes[start_hub]\n",
    "\n"
   ]
  },
  {
   "cell_type": "code",
   "execution_count": 9,
   "metadata": {},
   "outputs": [
    {
     "name": "stdout",
     "output_type": "stream",
     "text": [
      "[280324476, 280324485, 280324491, 280430536, 290333400, 290333443, 290333444, 290333858, 291556214, 297675884, 304525639, 306218723, 306219024, 306221653, 306221671, 306221765, 306221802, 306221804, 306221807, 306221900, 306221941, 306221950, 306221960, 306222128, 306222383, 306222385, 306222462, 306222676, 306224552, 306225000, 306225009, 306225011, 306225115, 306226719, 307661801, 307662149, 307662198, 307662199, 307662238, 307662242, 307662284, 307662889, 307663269, 307664242, 307664257, 307664334, 308304288, 308304289, 309441547, 309441548, 309441562, 309450229, 309450234, 309450340, 309450344, 309450366, 354863048, 354863308, 399384843, 1479963453, 1633571571, 2586413037, 3023405356, 3023405360, 7756059834, 7756059836, 7756059845, 7756059875]\n"
     ]
    },
    {
     "ename": "NameError",
     "evalue": "name 'rd' is not defined",
     "output_type": "error",
     "traceback": [
      "\u001B[1;31m---------------------------------------------------------------------------\u001B[0m",
      "\u001B[1;31mNameError\u001B[0m                                 Traceback (most recent call last)",
      "\u001B[1;32me:\\SIASemester2\\Mannheim\\ines-autonomous-dispatching\\rl\\env\\PlayGraph.ipynb Cell 5'\u001B[0m in \u001B[0;36m<cell line: 1>\u001B[1;34m()\u001B[0m\n\u001B[1;32m----> <a href='vscode-notebook-cell:/e%3A/SIASemester2/Mannheim/ines-autonomous-dispatching/rl/env/PlayGraph.ipynb#ch0000004?line=0'>1</a>\u001B[0m env \u001B[39m=\u001B[39m Environment(streetgraph, start_hub, final_hub, pickup_time)\n",
      "File \u001B[1;32me:\\SIASemester2\\Mannheim\\ines-autonomous-dispatching\\rl\\env\\Graphworld.py:27\u001B[0m, in \u001B[0;36mEnvironment.__init__\u001B[1;34m(self, graph, start_hub, final_hub, pickup_time)\u001B[0m\n\u001B[0;32m     <a href='file:///e%3A/SIASemester2/Mannheim/ines-autonomous-dispatching/rl/env/Graphworld.py?line=24'>25</a>\u001B[0m \u001B[39mself\u001B[39m\u001B[39m.\u001B[39mtotal_travel_time \u001B[39m=\u001B[39m \u001B[39m0\u001B[39m\n\u001B[0;32m     <a href='file:///e%3A/SIASemester2/Mannheim/ines-autonomous-dispatching/rl/env/Graphworld.py?line=25'>26</a>\u001B[0m \u001B[39mprint\u001B[39m(\u001B[39mself\u001B[39m\u001B[39m.\u001B[39mgraph\u001B[39m.\u001B[39mnodes)\n\u001B[1;32m---> <a href='file:///e%3A/SIASemester2/Mannheim/ines-autonomous-dispatching/rl/env/Graphworld.py?line=26'>27</a>\u001B[0m sample \u001B[39m=\u001B[39m rd\u001B[39m.\u001B[39msample(\u001B[39mself\u001B[39m\u001B[39m.\u001B[39mgraph\u001B[39m.\u001B[39mnodes, \u001B[39m3\u001B[39m)\n\u001B[0;32m     <a href='file:///e%3A/SIASemester2/Mannheim/ines-autonomous-dispatching/rl/env/Graphworld.py?line=27'>28</a>\u001B[0m \u001B[39mprint\u001B[39m(sample)  \u001B[39m# Output: [22, 18, 6]\u001B[39;00m\n\u001B[0;32m     <a href='file:///e%3A/SIASemester2/Mannheim/ines-autonomous-dispatching/rl/env/Graphworld.py?line=29'>30</a>\u001B[0m \u001B[39mif\u001B[39;00m \u001B[39mself\u001B[39m\u001B[39m.\u001B[39mgraph\u001B[39m.\u001B[39mhas_node(start_hub):\n",
      "\u001B[1;31mNameError\u001B[0m: name 'rd' is not defined"
     ]
    }
   ],
   "source": [
    "env = Environment(streetgraph, start_hub, final_hub, pickup_time)\n"
   ]
  },
  {
   "cell_type": "code",
   "execution_count": null,
   "metadata": {},
   "outputs": [],
   "source": [
    "print(env.time)\n",
    "print(env.availableActions())\n",
    "print(env.position)"
   ]
  },
  {
   "cell_type": "code",
   "execution_count": null,
   "metadata": {},
   "outputs": [],
   "source": [
    "env.render(True)"
   ]
  },
  {
   "cell_type": "code",
   "execution_count": null,
   "metadata": {},
   "outputs": [],
   "source": [
    "env.step(1)"
   ]
  },
  {
   "cell_type": "code",
   "execution_count": null,
   "metadata": {},
   "outputs": [],
   "source": [
    "is_done = False\n",
    "route_taken = []\n",
    "cumulated_reward = 0\n",
    "while(not is_done):\n",
    "    for i in range(20):\n",
    "        actions = env.availableActions()\n",
    "        print(\"Length actions: \", len(actions))\n",
    "        action = random.choice(range(len(actions)+1))\n",
    "        position, reward, travel_time, is_done = env.step(action)\n",
    "        print(\"Action taken: \", action)\n",
    "        print(\"new position:\", position)\n",
    "        print(\"new time:\", env.time)\n",
    "        route_taken.append(position)\n",
    "        cumulated_reward += reward\n",
    "\n",
    "print(\"Package delivered after %s steps\" %(len(route_taken)))\n",
    "print(\"Reward: \", cumulated_reward)\n"
   ]
  }
 ],
 "metadata": {
  "interpreter": {
   "hash": "4ea902d88ce42b47bfea4da4f7696c2470f3f157eeb12129ace74680ac1f0149"
  },
  "kernelspec": {
   "display_name": "Python 3.10.2 ('ines-ad')",
   "language": "python",
   "name": "python3"
  },
  "language_info": {
   "codemirror_mode": {
    "name": "ipython",
    "version": 3
   },
   "file_extension": ".py",
   "mimetype": "text/x-python",
   "name": "python",
   "nbconvert_exporter": "python",
   "pygments_lexer": "ipython3",
   "version": "3.9.10"
  },
  "orig_nbformat": 4
 },
 "nbformat": 4,
 "nbformat_minor": 2
}