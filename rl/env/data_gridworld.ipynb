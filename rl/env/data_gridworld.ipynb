{
 "cells": [
  {
   "cell_type": "code",
   "execution_count": 129,
   "metadata": {},
   "outputs": [],
   "source": [
    "import numpy as np\n",
    "import pandas as pd\n",
    "from datetime import timedelta, datetime\n"
   ]
  },
  {
   "cell_type": "code",
   "execution_count": 130,
   "metadata": {},
   "outputs": [],
   "source": [
    "pickup_square = np.random.randint(100, size=10000)\n",
    "dropoff_square = np.random.randint(100, size=10000)"
   ]
  },
  {
   "cell_type": "code",
   "execution_count": 131,
   "metadata": {},
   "outputs": [],
   "source": [
    "grid_df = pd.DataFrame()"
   ]
  },
  {
   "cell_type": "code",
   "execution_count": 132,
   "metadata": {},
   "outputs": [],
   "source": [
    "pickup_weekday = np.random.randint(7, size=10000)"
   ]
  },
  {
   "cell_type": "code",
   "execution_count": 133,
   "metadata": {},
   "outputs": [],
   "source": [
    "\n",
    "pickup_hour =  np.random.randint(24, size=10000)\n",
    "pickup_minute = np.random.randint(60, size=10000)\n",
    "#pickup_second = np.random.randint(60, size=1000)\n",
    "pickup_time = []\n",
    "for i in range(len(pickup_hour)):\n",
    "    pickup_datetime=datetime(2021,1,1,12,0,0)+timedelta(hours=int(pickup_hour[i]), minutes=int(pickup_minute[i])) \n",
    "    pickup_time.append(pickup_datetime)\n",
    "#print(pickup_time)"
   ]
  },
  {
   "cell_type": "code",
   "execution_count": 134,
   "metadata": {},
   "outputs": [],
   "source": [
    "grid_df['Pickup Square'] = pickup_square\n",
    "grid_df['Dropoff Square'] = dropoff_square\n",
    "grid_df['Pickup Time'] = pickup_time\n",
    "grid_df['Pickup Hour'] = pickup_hour\n",
    "grid_df['Pickup Minute'] = pickup_minute\n",
    "grid_df['Pickup Weekday'] = pickup_weekday"
   ]
  },
  {
   "cell_type": "code",
   "execution_count": 135,
   "metadata": {},
   "outputs": [
    {
     "data": {
      "text/html": [
       "<div>\n",
       "<style scoped>\n",
       "    .dataframe tbody tr th:only-of-type {\n",
       "        vertical-align: middle;\n",
       "    }\n",
       "\n",
       "    .dataframe tbody tr th {\n",
       "        vertical-align: top;\n",
       "    }\n",
       "\n",
       "    .dataframe thead th {\n",
       "        text-align: right;\n",
       "    }\n",
       "</style>\n",
       "<table border=\"1\" class=\"dataframe\">\n",
       "  <thead>\n",
       "    <tr style=\"text-align: right;\">\n",
       "      <th></th>\n",
       "      <th>Pickup Square</th>\n",
       "      <th>Dropoff Square</th>\n",
       "      <th>Pickup Time</th>\n",
       "      <th>Pickup Hour</th>\n",
       "      <th>Pickup Minute</th>\n",
       "      <th>Pickup Weekday</th>\n",
       "    </tr>\n",
       "  </thead>\n",
       "  <tbody>\n",
       "    <tr>\n",
       "      <th>0</th>\n",
       "      <td>78</td>\n",
       "      <td>49</td>\n",
       "      <td>2021-01-01 17:57:00</td>\n",
       "      <td>5</td>\n",
       "      <td>57</td>\n",
       "      <td>5</td>\n",
       "    </tr>\n",
       "    <tr>\n",
       "      <th>1</th>\n",
       "      <td>77</td>\n",
       "      <td>69</td>\n",
       "      <td>2021-01-02 02:18:00</td>\n",
       "      <td>14</td>\n",
       "      <td>18</td>\n",
       "      <td>1</td>\n",
       "    </tr>\n",
       "    <tr>\n",
       "      <th>2</th>\n",
       "      <td>88</td>\n",
       "      <td>67</td>\n",
       "      <td>2021-01-01 16:16:00</td>\n",
       "      <td>4</td>\n",
       "      <td>16</td>\n",
       "      <td>0</td>\n",
       "    </tr>\n",
       "    <tr>\n",
       "      <th>3</th>\n",
       "      <td>22</td>\n",
       "      <td>75</td>\n",
       "      <td>2021-01-01 23:00:00</td>\n",
       "      <td>11</td>\n",
       "      <td>0</td>\n",
       "      <td>1</td>\n",
       "    </tr>\n",
       "    <tr>\n",
       "      <th>4</th>\n",
       "      <td>42</td>\n",
       "      <td>27</td>\n",
       "      <td>2021-01-02 08:43:00</td>\n",
       "      <td>20</td>\n",
       "      <td>43</td>\n",
       "      <td>0</td>\n",
       "    </tr>\n",
       "  </tbody>\n",
       "</table>\n",
       "</div>"
      ],
      "text/plain": [
       "   Pickup Square  Dropoff Square         Pickup Time  Pickup Hour  Pickup Minute  Pickup Weekday\n",
       "0             78              49 2021-01-01 17:57:00            5             57               5\n",
       "1             77              69 2021-01-02 02:18:00           14             18               1\n",
       "2             88              67 2021-01-01 16:16:00            4             16               0\n",
       "3             22              75 2021-01-01 23:00:00           11              0               1\n",
       "4             42              27 2021-01-02 08:43:00           20             43               0"
      ]
     },
     "execution_count": 135,
     "metadata": {},
     "output_type": "execute_result"
    }
   ],
   "source": [
    "grid_df.head()"
   ]
  },
  {
   "cell_type": "code",
   "execution_count": 136,
   "metadata": {},
   "outputs": [],
   "source": [
    "from scipy.spatial import distance"
   ]
  },
  {
   "cell_type": "code",
   "execution_count": 137,
   "metadata": {},
   "outputs": [],
   "source": [
    "# create coordiante points in 10*10 grid\n",
    "coordinates = []\n",
    "for i in range(10):\n",
    "    for j in range(10):\n",
    "        coordinates.append((j,i))"
   ]
  },
  {
   "cell_type": "code",
   "execution_count": 138,
   "metadata": {},
   "outputs": [
    {
     "name": "stdout",
     "output_type": "stream",
     "text": [
      "<class 'tuple'>\n"
     ]
    }
   ],
   "source": [
    "g = coordinates[1]\n",
    "print(type(g))"
   ]
  },
  {
   "cell_type": "code",
   "execution_count": 139,
   "metadata": {},
   "outputs": [],
   "source": [
    "pickup_coordinates = []\n",
    "dropoff_coordinates = []\n",
    "\n",
    "for i in range(len(pickup_square)):\n",
    "    for j in range(len(coordinates)):\n",
    "        if pickup_square[i] == j:\n",
    "            pickup_coordinates.append(coordinates[j])\n",
    "\n",
    "for i in range(len(dropoff_square)):\n",
    "    for j in range(len(coordinates)):\n",
    "        if dropoff_square[i] == j:\n",
    "            dropoff_coordinates.append(coordinates[j])\n",
    "#pickup_coordinates"
   ]
  },
  {
   "cell_type": "code",
   "execution_count": 140,
   "metadata": {},
   "outputs": [],
   "source": [
    "grid_df['Pickup Coordinates'] = pickup_coordinates\n",
    "grid_df['Dropoff Coordinates'] = dropoff_coordinates"
   ]
  },
  {
   "cell_type": "code",
   "execution_count": 141,
   "metadata": {},
   "outputs": [],
   "source": [
    "manhattan_distance = []\n",
    "for i in range(len(pickup_coordinates)):\n",
    "    manhattan_distance.append(distance.cityblock(pickup_coordinates[i], dropoff_coordinates[i]))"
   ]
  },
  {
   "cell_type": "code",
   "execution_count": 142,
   "metadata": {},
   "outputs": [],
   "source": [
    "grid_df['Manhattan Distance'] = manhattan_distance"
   ]
  },
  {
   "cell_type": "code",
   "execution_count": 143,
   "metadata": {},
   "outputs": [
    {
     "data": {
      "text/html": [
       "<div>\n",
       "<style scoped>\n",
       "    .dataframe tbody tr th:only-of-type {\n",
       "        vertical-align: middle;\n",
       "    }\n",
       "\n",
       "    .dataframe tbody tr th {\n",
       "        vertical-align: top;\n",
       "    }\n",
       "\n",
       "    .dataframe thead th {\n",
       "        text-align: right;\n",
       "    }\n",
       "</style>\n",
       "<table border=\"1\" class=\"dataframe\">\n",
       "  <thead>\n",
       "    <tr style=\"text-align: right;\">\n",
       "      <th></th>\n",
       "      <th>Pickup Square</th>\n",
       "      <th>Dropoff Square</th>\n",
       "      <th>Pickup Time</th>\n",
       "      <th>Pickup Hour</th>\n",
       "      <th>Pickup Minute</th>\n",
       "      <th>Pickup Weekday</th>\n",
       "      <th>Pickup Coordinates</th>\n",
       "      <th>Dropoff Coordinates</th>\n",
       "      <th>Manhattan Distance</th>\n",
       "    </tr>\n",
       "  </thead>\n",
       "  <tbody>\n",
       "    <tr>\n",
       "      <th>0</th>\n",
       "      <td>78</td>\n",
       "      <td>49</td>\n",
       "      <td>2021-01-01 17:57:00</td>\n",
       "      <td>5</td>\n",
       "      <td>57</td>\n",
       "      <td>5</td>\n",
       "      <td>(8, 7)</td>\n",
       "      <td>(9, 4)</td>\n",
       "      <td>4</td>\n",
       "    </tr>\n",
       "    <tr>\n",
       "      <th>1</th>\n",
       "      <td>77</td>\n",
       "      <td>69</td>\n",
       "      <td>2021-01-02 02:18:00</td>\n",
       "      <td>14</td>\n",
       "      <td>18</td>\n",
       "      <td>1</td>\n",
       "      <td>(7, 7)</td>\n",
       "      <td>(9, 6)</td>\n",
       "      <td>3</td>\n",
       "    </tr>\n",
       "    <tr>\n",
       "      <th>2</th>\n",
       "      <td>88</td>\n",
       "      <td>67</td>\n",
       "      <td>2021-01-01 16:16:00</td>\n",
       "      <td>4</td>\n",
       "      <td>16</td>\n",
       "      <td>0</td>\n",
       "      <td>(8, 8)</td>\n",
       "      <td>(7, 6)</td>\n",
       "      <td>3</td>\n",
       "    </tr>\n",
       "    <tr>\n",
       "      <th>3</th>\n",
       "      <td>22</td>\n",
       "      <td>75</td>\n",
       "      <td>2021-01-01 23:00:00</td>\n",
       "      <td>11</td>\n",
       "      <td>0</td>\n",
       "      <td>1</td>\n",
       "      <td>(2, 2)</td>\n",
       "      <td>(5, 7)</td>\n",
       "      <td>8</td>\n",
       "    </tr>\n",
       "    <tr>\n",
       "      <th>4</th>\n",
       "      <td>42</td>\n",
       "      <td>27</td>\n",
       "      <td>2021-01-02 08:43:00</td>\n",
       "      <td>20</td>\n",
       "      <td>43</td>\n",
       "      <td>0</td>\n",
       "      <td>(2, 4)</td>\n",
       "      <td>(7, 2)</td>\n",
       "      <td>7</td>\n",
       "    </tr>\n",
       "  </tbody>\n",
       "</table>\n",
       "</div>"
      ],
      "text/plain": [
       "   Pickup Square  Dropoff Square         Pickup Time  Pickup Hour  Pickup Minute  Pickup Weekday Pickup Coordinates Dropoff Coordinates  Manhattan Distance\n",
       "0             78              49 2021-01-01 17:57:00            5             57               5             (8, 7)              (9, 4)                   4\n",
       "1             77              69 2021-01-02 02:18:00           14             18               1             (7, 7)              (9, 6)                   3\n",
       "2             88              67 2021-01-01 16:16:00            4             16               0             (8, 8)              (7, 6)                   3\n",
       "3             22              75 2021-01-01 23:00:00           11              0               1             (2, 2)              (5, 7)                   8\n",
       "4             42              27 2021-01-02 08:43:00           20             43               0             (2, 4)              (7, 2)                   7"
      ]
     },
     "execution_count": 143,
     "metadata": {},
     "output_type": "execute_result"
    }
   ],
   "source": [
    "grid_df.head()"
   ]
  },
  {
   "cell_type": "code",
   "execution_count": 144,
   "metadata": {},
   "outputs": [
    {
     "data": {
      "text/html": [
       "<div>\n",
       "<style scoped>\n",
       "    .dataframe tbody tr th:only-of-type {\n",
       "        vertical-align: middle;\n",
       "    }\n",
       "\n",
       "    .dataframe tbody tr th {\n",
       "        vertical-align: top;\n",
       "    }\n",
       "\n",
       "    .dataframe thead th {\n",
       "        text-align: right;\n",
       "    }\n",
       "</style>\n",
       "<table border=\"1\" class=\"dataframe\">\n",
       "  <thead>\n",
       "    <tr style=\"text-align: right;\">\n",
       "      <th></th>\n",
       "      <th>Pickup Square</th>\n",
       "      <th>Dropoff Square</th>\n",
       "      <th>Pickup Time</th>\n",
       "      <th>Pickup Hour</th>\n",
       "      <th>Pickup Minute</th>\n",
       "      <th>Pickup Weekday</th>\n",
       "      <th>Pickup Coordinates</th>\n",
       "      <th>Dropoff Coordinates</th>\n",
       "      <th>Manhattan Distance</th>\n",
       "      <th>Paths</th>\n",
       "    </tr>\n",
       "  </thead>\n",
       "  <tbody>\n",
       "    <tr>\n",
       "      <th>0</th>\n",
       "      <td>78</td>\n",
       "      <td>49</td>\n",
       "      <td>2021-01-01 17:57:00</td>\n",
       "      <td>5</td>\n",
       "      <td>57</td>\n",
       "      <td>5</td>\n",
       "      <td>(8, 7)</td>\n",
       "      <td>(9, 4)</td>\n",
       "      <td>4</td>\n",
       "      <td>[8, 7]</td>\n",
       "    </tr>\n",
       "    <tr>\n",
       "      <th>1</th>\n",
       "      <td>77</td>\n",
       "      <td>69</td>\n",
       "      <td>2021-01-02 02:18:00</td>\n",
       "      <td>14</td>\n",
       "      <td>18</td>\n",
       "      <td>1</td>\n",
       "      <td>(7, 7)</td>\n",
       "      <td>(9, 6)</td>\n",
       "      <td>3</td>\n",
       "      <td>[7, 7]</td>\n",
       "    </tr>\n",
       "    <tr>\n",
       "      <th>2</th>\n",
       "      <td>88</td>\n",
       "      <td>67</td>\n",
       "      <td>2021-01-01 16:16:00</td>\n",
       "      <td>4</td>\n",
       "      <td>16</td>\n",
       "      <td>0</td>\n",
       "      <td>(8, 8)</td>\n",
       "      <td>(7, 6)</td>\n",
       "      <td>3</td>\n",
       "      <td>[8, 8]</td>\n",
       "    </tr>\n",
       "    <tr>\n",
       "      <th>3</th>\n",
       "      <td>22</td>\n",
       "      <td>75</td>\n",
       "      <td>2021-01-01 23:00:00</td>\n",
       "      <td>11</td>\n",
       "      <td>0</td>\n",
       "      <td>1</td>\n",
       "      <td>(2, 2)</td>\n",
       "      <td>(5, 7)</td>\n",
       "      <td>8</td>\n",
       "      <td>[2, 2]</td>\n",
       "    </tr>\n",
       "    <tr>\n",
       "      <th>4</th>\n",
       "      <td>42</td>\n",
       "      <td>27</td>\n",
       "      <td>2021-01-02 08:43:00</td>\n",
       "      <td>20</td>\n",
       "      <td>43</td>\n",
       "      <td>0</td>\n",
       "      <td>(2, 4)</td>\n",
       "      <td>(7, 2)</td>\n",
       "      <td>7</td>\n",
       "      <td>[2, 4]</td>\n",
       "    </tr>\n",
       "  </tbody>\n",
       "</table>\n",
       "</div>"
      ],
      "text/plain": [
       "   Pickup Square  Dropoff Square         Pickup Time  Pickup Hour  Pickup Minute  Pickup Weekday Pickup Coordinates Dropoff Coordinates  Manhattan Distance   Paths\n",
       "0             78              49 2021-01-01 17:57:00            5             57               5             (8, 7)              (9, 4)                   4  [8, 7]\n",
       "1             77              69 2021-01-02 02:18:00           14             18               1             (7, 7)              (9, 6)                   3  [7, 7]\n",
       "2             88              67 2021-01-01 16:16:00            4             16               0             (8, 8)              (7, 6)                   3  [8, 8]\n",
       "3             22              75 2021-01-01 23:00:00           11              0               1             (2, 2)              (5, 7)                   8  [2, 2]\n",
       "4             42              27 2021-01-02 08:43:00           20             43               0             (2, 4)              (7, 2)                   7  [2, 4]"
      ]
     },
     "execution_count": 144,
     "metadata": {},
     "output_type": "execute_result"
    }
   ],
   "source": [
    "pickup_coordinates_list = []\n",
    "dropoff_coordinates_list = []\n",
    "for i in range(len(pickup_coordinates)):\n",
    "    pickup_coordinates_list.append(list(pickup_coordinates[i]))\n",
    "    dropoff_coordinates_list.append(list(dropoff_coordinates[i]))\n",
    "grid_df['Paths'] = pickup_coordinates_list\n",
    "grid_df.head()"
   ]
  },
  {
   "cell_type": "code",
   "execution_count": 145,
   "metadata": {},
   "outputs": [
    {
     "data": {
      "text/plain": [
       "list"
      ]
     },
     "execution_count": 145,
     "metadata": {},
     "output_type": "execute_result"
    }
   ],
   "source": [
    "pickup_coordinates_list\n",
    "type(pickup_coordinates_list[0])"
   ]
  },
  {
   "cell_type": "code",
   "execution_count": 146,
   "metadata": {},
   "outputs": [],
   "source": [
    "#full_path = []\n",
    "pc = pickup_coordinates_list.copy()\n",
    "dc = dropoff_coordinates_list.copy()\n",
    "for i in range(len(pickup_coordinates_list)):\n",
    "    path_list=[]\n",
    "    temp = [pickup_coordinates_list[i][0], pickup_coordinates_list[i][1]] \n",
    "    path_list.append(temp)\n",
    "    #full_path.append(pc[i])\n",
    "    while pc[i][0] < dc[i][0]:\n",
    "        to_append = [pc[i][0]+1, pc[i][1]]\n",
    "        path_list.append(to_append)\n",
    "        pc[i][0] += 1\n",
    "        # temp = [pc[i][0]+1, pc[i][1]]\n",
    "        # full_path.append(temp)\n",
    "    while pc[i][0] > dc[i][0]:\n",
    "        to_append = [pc[i][0]-1, pc[i][1]]\n",
    "        path_list.append(to_append)\n",
    "        pc[i][0] -= 1\n",
    "        # temp = [pc[i][0]-1, pc[i][1]]\n",
    "        # full_path.append(temp)\n",
    "    while pc[i][1] < dc[i][1]:\n",
    "        to_append = [pc[i][0], pc[i][1]+1]\n",
    "        path_list.append(to_append)\n",
    "        pc[i][1] += 1\n",
    "        # temp = [pc[i][0], pc[i][1]+1]\n",
    "        # full_path.append(temp)\n",
    "    while pc[i][1] > dc[i][1]:\n",
    "        to_append = [pc[i][0], pc[i][1]-1]\n",
    "        path_list.append(to_append)\n",
    "        pc[i][1] -= 1\n",
    "        # temp = [pc[i][0], pc[i][1]-1]\n",
    "        # full_path.append(temp)\n",
    "\n",
    "    grid_df.at[i, 'Paths'] = path_list"
   ]
  },
  {
   "cell_type": "code",
   "execution_count": null,
   "metadata": {},
   "outputs": [],
   "source": []
  },
  {
   "cell_type": "code",
   "execution_count": 147,
   "metadata": {},
   "outputs": [
    {
     "data": {
      "text/html": [
       "<div>\n",
       "<style scoped>\n",
       "    .dataframe tbody tr th:only-of-type {\n",
       "        vertical-align: middle;\n",
       "    }\n",
       "\n",
       "    .dataframe tbody tr th {\n",
       "        vertical-align: top;\n",
       "    }\n",
       "\n",
       "    .dataframe thead th {\n",
       "        text-align: right;\n",
       "    }\n",
       "</style>\n",
       "<table border=\"1\" class=\"dataframe\">\n",
       "  <thead>\n",
       "    <tr style=\"text-align: right;\">\n",
       "      <th></th>\n",
       "      <th>Pickup Square</th>\n",
       "      <th>Dropoff Square</th>\n",
       "      <th>Pickup Time</th>\n",
       "      <th>Pickup Hour</th>\n",
       "      <th>Pickup Minute</th>\n",
       "      <th>Pickup Weekday</th>\n",
       "      <th>Pickup Coordinates</th>\n",
       "      <th>Dropoff Coordinates</th>\n",
       "      <th>Manhattan Distance</th>\n",
       "      <th>Paths</th>\n",
       "    </tr>\n",
       "  </thead>\n",
       "  <tbody>\n",
       "    <tr>\n",
       "      <th>0</th>\n",
       "      <td>78</td>\n",
       "      <td>49</td>\n",
       "      <td>2021-01-01 17:57:00</td>\n",
       "      <td>5</td>\n",
       "      <td>57</td>\n",
       "      <td>5</td>\n",
       "      <td>(8, 7)</td>\n",
       "      <td>(9, 4)</td>\n",
       "      <td>4</td>\n",
       "      <td>[[8, 7], [9, 7], [9, 6], [9, 5], [9, 4]]</td>\n",
       "    </tr>\n",
       "    <tr>\n",
       "      <th>1</th>\n",
       "      <td>77</td>\n",
       "      <td>69</td>\n",
       "      <td>2021-01-02 02:18:00</td>\n",
       "      <td>14</td>\n",
       "      <td>18</td>\n",
       "      <td>1</td>\n",
       "      <td>(7, 7)</td>\n",
       "      <td>(9, 6)</td>\n",
       "      <td>3</td>\n",
       "      <td>[[7, 7], [8, 7], [9, 7], [9, 6]]</td>\n",
       "    </tr>\n",
       "    <tr>\n",
       "      <th>2</th>\n",
       "      <td>88</td>\n",
       "      <td>67</td>\n",
       "      <td>2021-01-01 16:16:00</td>\n",
       "      <td>4</td>\n",
       "      <td>16</td>\n",
       "      <td>0</td>\n",
       "      <td>(8, 8)</td>\n",
       "      <td>(7, 6)</td>\n",
       "      <td>3</td>\n",
       "      <td>[[8, 8], [7, 8], [7, 7], [7, 6]]</td>\n",
       "    </tr>\n",
       "    <tr>\n",
       "      <th>3</th>\n",
       "      <td>22</td>\n",
       "      <td>75</td>\n",
       "      <td>2021-01-01 23:00:00</td>\n",
       "      <td>11</td>\n",
       "      <td>0</td>\n",
       "      <td>1</td>\n",
       "      <td>(2, 2)</td>\n",
       "      <td>(5, 7)</td>\n",
       "      <td>8</td>\n",
       "      <td>[[2, 2], [3, 2], [4, 2], [5, 2], [5, 3], [5, 4...</td>\n",
       "    </tr>\n",
       "    <tr>\n",
       "      <th>4</th>\n",
       "      <td>42</td>\n",
       "      <td>27</td>\n",
       "      <td>2021-01-02 08:43:00</td>\n",
       "      <td>20</td>\n",
       "      <td>43</td>\n",
       "      <td>0</td>\n",
       "      <td>(2, 4)</td>\n",
       "      <td>(7, 2)</td>\n",
       "      <td>7</td>\n",
       "      <td>[[2, 4], [3, 4], [4, 4], [5, 4], [6, 4], [7, 4...</td>\n",
       "    </tr>\n",
       "  </tbody>\n",
       "</table>\n",
       "</div>"
      ],
      "text/plain": [
       "   Pickup Square  Dropoff Square         Pickup Time  Pickup Hour  Pickup Minute  Pickup Weekday Pickup Coordinates Dropoff Coordinates  Manhattan Distance                                              Paths\n",
       "0             78              49 2021-01-01 17:57:00            5             57               5             (8, 7)              (9, 4)                   4           [[8, 7], [9, 7], [9, 6], [9, 5], [9, 4]]\n",
       "1             77              69 2021-01-02 02:18:00           14             18               1             (7, 7)              (9, 6)                   3                   [[7, 7], [8, 7], [9, 7], [9, 6]]\n",
       "2             88              67 2021-01-01 16:16:00            4             16               0             (8, 8)              (7, 6)                   3                   [[8, 8], [7, 8], [7, 7], [7, 6]]\n",
       "3             22              75 2021-01-01 23:00:00           11              0               1             (2, 2)              (5, 7)                   8  [[2, 2], [3, 2], [4, 2], [5, 2], [5, 3], [5, 4...\n",
       "4             42              27 2021-01-02 08:43:00           20             43               0             (2, 4)              (7, 2)                   7  [[2, 4], [3, 4], [4, 4], [5, 4], [6, 4], [7, 4..."
      ]
     },
     "execution_count": 147,
     "metadata": {},
     "output_type": "execute_result"
    }
   ],
   "source": [
    "grid_df.head()"
   ]
  },
  {
   "cell_type": "code",
   "execution_count": 148,
   "metadata": {},
   "outputs": [],
   "source": [
    "\n",
    "def timestamp_range(start_time, path_list):\n",
    "    timestamps = []\n",
    "\n",
    "    for move in path_list:\n",
    "        start_time_formatted = str(start_time.strftime(\"%Y-%m-%d %H:%M:%S\"))\n",
    "        timestamps.append(start_time_formatted)\n",
    "        start_time += timedelta(minutes=1)\n",
    "\n",
    "    return timestamps\n",
    " \n"
   ]
  },
  {
   "cell_type": "code",
   "execution_count": 149,
   "metadata": {},
   "outputs": [],
   "source": [
    "def create_timestamps_dictionary(path_list, pickup_time):\n",
    "    time_list=timestamp_range(pickup_time,path_list)\n",
    "    tupel_path_list = [tuple(l) for l in path_list]\n",
    "    timestamps = dict(zip(tupel_path_list, time_list))\n",
    "    return timestamps\n",
    "\n",
    "timestamps_mapping=[]\n",
    "for i  in range(len(grid_df)):\n",
    "    time_list=timestamp_range(grid_df['Pickup Time'][i],grid_df['Paths'][i])\n",
    "    tupel_path_list = [tuple(l) for l in grid_df['Paths'][i]]\n",
    "    timestamps = dict(zip(tupel_path_list, time_list))\n",
    "    timestamps_mapping.append(timestamps)\n",
    "\n",
    "\n",
    "grid_df['Path Timestamp'] = timestamps_mapping\n",
    "\n"
   ]
  },
  {
   "cell_type": "code",
   "execution_count": 150,
   "metadata": {},
   "outputs": [],
   "source": [
    "grid_df.to_csv('data_gridworld_timestamps.csv')"
   ]
  },
  {
   "cell_type": "code",
   "execution_count": 196,
   "metadata": {},
   "outputs": [
    {
     "name": "stdout",
     "output_type": "stream",
     "text": [
      "----------\n",
      "['2021-01-02 02:23:00', '(9, 7)']\n",
      "\n",
      "['2021-01-02 02:21:00', '(3, 8)']\n",
      "\n",
      "['2021-01-02 02:24:00', '(9, 7)']\n",
      "\n",
      "['2021-01-02 02:25:00', '(9, 9)']\n",
      "\n",
      "4\n"
     ]
    }
   ],
   "source": [
    "position=\"(9, 6)\"\n",
    "timestamp=datetime(2021,1,2,2,21,0)\n",
    "list=[]\n",
    "time_window=5\n",
    "timestamp_range = timestamp + timedelta(minutes=time_window)\n",
    "def availableActions():\n",
    "        grid=pd.read_csv('data_gridworld_timestamps.csv')\n",
    "        #grid=grid.head(10)\n",
    "        paths=grid['Path Timestamp']\n",
    "        for index in range(len(paths)):\n",
    "            #print(grid['Path Timestamp'][index])\n",
    "            dict = eval(grid['Path Timestamp'][index])\n",
    "            for tupel_position in dict:\n",
    "                #print(tupel_position ,dict[tupel_position])\n",
    "                position_timestamp=dict[tupel_position]\n",
    "                start_timestamp=str(timestamp)\n",
    "                end_timestamp=str(timestamp_range)\n",
    "                if str(tupel_position) == position and start_timestamp <= position_timestamp \\\n",
    "                and end_timestamp >= dict[tupel_position] and str(tupel_position) != grid['Dropoff Coordinates'][index]:\n",
    "                   list.append([position_timestamp,grid['Dropoff Coordinates'][index]])\n",
    "                   # TODO slice and retrun dictionary in order to get only the route to the final node from the current node\n",
    "        return list\n",
    "\n",
    "                 \n",
    "available_paths=availableActions()\n",
    "print(available_paths)"
   ]
  },
  {
   "cell_type": "code",
   "execution_count": null,
   "metadata": {},
   "outputs": [],
   "source": []
  },
  {
   "cell_type": "code",
   "execution_count": null,
   "metadata": {},
   "outputs": [],
   "source": []
  }
 ],
 "metadata": {
  "interpreter": {
   "hash": "86e966762086cd9c871a19977d9ca016fffa4c91c8d4227eb0e8cc89037ef5a3"
  },
  "kernelspec": {
   "display_name": "Python 3.8.5 ('base')",
   "language": "python",
   "name": "python3"
  },
  "language_info": {
   "codemirror_mode": {
    "name": "ipython",
    "version": 3
   },
   "file_extension": ".py",
   "mimetype": "text/x-python",
   "name": "python",
   "nbconvert_exporter": "python",
   "pygments_lexer": "ipython3",
   "version": "3.9.10"
  },
  "orig_nbformat": 4
 },
 "nbformat": 4,
 "nbformat_minor": 2
}
