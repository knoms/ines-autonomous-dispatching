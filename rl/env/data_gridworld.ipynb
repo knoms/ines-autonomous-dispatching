{
 "cells": [
  {
   "cell_type": "code",
   "execution_count": 25,
   "metadata": {},
   "outputs": [],
   "source": [
    "import numpy as np\n",
    "import pandas as pd"
   ]
  },
  {
   "cell_type": "code",
   "execution_count": 26,
   "metadata": {},
   "outputs": [],
   "source": [
    "pickup_square = np.random.randint(100, size=10000)\n",
    "dropoff_square = np.random.randint(100, size=10000)"
   ]
  },
  {
   "cell_type": "code",
   "execution_count": 27,
   "metadata": {},
   "outputs": [],
   "source": [
    "grid_df = pd.DataFrame()"
   ]
  },
  {
   "cell_type": "code",
   "execution_count": 28,
   "metadata": {},
   "outputs": [],
   "source": [
    "pickup_weekday = np.random.randint(7, size=10000)"
   ]
  },
  {
   "cell_type": "code",
   "execution_count": 29,
   "metadata": {},
   "outputs": [],
   "source": [
    "from datetime import time, datetime\n",
    "pickup_hour =  np.random.randint(24, size=10000)\n",
    "pickup_minute = np.random.randint(60, size=10000)\n",
    "#pickup_second = np.random.randint(60, size=1000)\n",
    "pickup_time = []\n",
    "for i in range(len(pickup_hour)):\n",
    "    pickup_time.append(time(hour=pickup_hour[i], minute=pickup_minute[i]))"
   ]
  },
  {
   "cell_type": "code",
   "execution_count": 30,
   "metadata": {},
   "outputs": [],
   "source": [
    "grid_df['Pickup Square'] = pickup_square\n",
    "grid_df['Dropoff Square'] = dropoff_square\n",
    "grid_df['Pickup Time'] = pickup_time\n",
    "grid_df['Pickup Hour'] = pickup_hour\n",
    "grid_df['Pickup Minute'] = pickup_minute\n",
    "grid_df['Pickup Weekday'] = pickup_weekday"
   ]
  },
  {
   "cell_type": "code",
   "execution_count": 31,
   "metadata": {},
   "outputs": [
    {
     "data": {
      "text/html": [
       "<div>\n",
       "<style scoped>\n",
       "    .dataframe tbody tr th:only-of-type {\n",
       "        vertical-align: middle;\n",
       "    }\n",
       "\n",
       "    .dataframe tbody tr th {\n",
       "        vertical-align: top;\n",
       "    }\n",
       "\n",
       "    .dataframe thead th {\n",
       "        text-align: right;\n",
       "    }\n",
       "</style>\n",
       "<table border=\"1\" class=\"dataframe\">\n",
       "  <thead>\n",
       "    <tr style=\"text-align: right;\">\n",
       "      <th></th>\n",
       "      <th>Pickup Square</th>\n",
       "      <th>Dropoff Square</th>\n",
       "      <th>Pickup Time</th>\n",
       "      <th>Pickup Hour</th>\n",
       "      <th>Pickup Minute</th>\n",
       "      <th>Pickup Weekday</th>\n",
       "    </tr>\n",
       "  </thead>\n",
       "  <tbody>\n",
       "    <tr>\n",
       "      <th>0</th>\n",
       "      <td>81</td>\n",
       "      <td>49</td>\n",
       "      <td>15:50:00</td>\n",
       "      <td>15</td>\n",
       "      <td>50</td>\n",
       "      <td>1</td>\n",
       "    </tr>\n",
       "    <tr>\n",
       "      <th>1</th>\n",
       "      <td>83</td>\n",
       "      <td>57</td>\n",
       "      <td>17:41:00</td>\n",
       "      <td>17</td>\n",
       "      <td>41</td>\n",
       "      <td>3</td>\n",
       "    </tr>\n",
       "    <tr>\n",
       "      <th>2</th>\n",
       "      <td>70</td>\n",
       "      <td>76</td>\n",
       "      <td>02:14:00</td>\n",
       "      <td>2</td>\n",
       "      <td>14</td>\n",
       "      <td>0</td>\n",
       "    </tr>\n",
       "    <tr>\n",
       "      <th>3</th>\n",
       "      <td>18</td>\n",
       "      <td>53</td>\n",
       "      <td>06:25:00</td>\n",
       "      <td>6</td>\n",
       "      <td>25</td>\n",
       "      <td>1</td>\n",
       "    </tr>\n",
       "    <tr>\n",
       "      <th>4</th>\n",
       "      <td>14</td>\n",
       "      <td>32</td>\n",
       "      <td>17:35:00</td>\n",
       "      <td>17</td>\n",
       "      <td>35</td>\n",
       "      <td>1</td>\n",
       "    </tr>\n",
       "  </tbody>\n",
       "</table>\n",
       "</div>"
      ],
      "text/plain": [
       "   Pickup Square  Dropoff Square Pickup Time  Pickup Hour  Pickup Minute  \\\n",
       "0             81              49    15:50:00           15             50   \n",
       "1             83              57    17:41:00           17             41   \n",
       "2             70              76    02:14:00            2             14   \n",
       "3             18              53    06:25:00            6             25   \n",
       "4             14              32    17:35:00           17             35   \n",
       "\n",
       "   Pickup Weekday  \n",
       "0               1  \n",
       "1               3  \n",
       "2               0  \n",
       "3               1  \n",
       "4               1  "
      ]
     },
     "execution_count": 31,
     "metadata": {},
     "output_type": "execute_result"
    }
   ],
   "source": [
    "grid_df.head()"
   ]
  },
  {
   "cell_type": "code",
   "execution_count": 32,
   "metadata": {},
   "outputs": [],
   "source": [
    "from scipy.spatial import distance"
   ]
  },
  {
   "cell_type": "code",
   "execution_count": 34,
   "metadata": {},
   "outputs": [
    {
     "name": "stdout",
     "output_type": "stream",
     "text": [
      "5\n"
     ]
    }
   ],
   "source": [
    "a = (0,0)\n",
    "b = (4,1)\n",
    "d = distance.cityblock(a, b)\n",
    "print(d)"
   ]
  },
  {
   "cell_type": "code",
   "execution_count": 36,
   "metadata": {},
   "outputs": [],
   "source": [
    "# create coordiante points in 10*10 grid\n",
    "coordinates = []\n",
    "for i in range(10):\n",
    "    for j in range(10):\n",
    "        coordinates.append((j,i))"
   ]
  },
  {
   "cell_type": "code",
   "execution_count": 51,
   "metadata": {},
   "outputs": [
    {
     "data": {
      "text/plain": [
       "(1, 0)"
      ]
     },
     "execution_count": 51,
     "metadata": {},
     "output_type": "execute_result"
    }
   ],
   "source": [
    "coordinates[1]"
   ]
  },
  {
   "cell_type": "code",
   "execution_count": 41,
   "metadata": {},
   "outputs": [],
   "source": [
    "pickup_coordinates = []\n",
    "dropoff_coordinates = []\n",
    "\n",
    "for i in range(len(pickup_square)):\n",
    "    for j in range(len(coordinates)):\n",
    "        if pickup_square[i] == j:\n",
    "            pickup_coordinates.append(coordinates[j])\n",
    "\n",
    "for i in range(len(dropoff_square)):\n",
    "    for j in range(len(coordinates)):\n",
    "        if dropoff_square[i] == j:\n",
    "            dropoff_coordinates.append(coordinates[j])\n",
    "#pickup_coordinates"
   ]
  },
  {
   "cell_type": "code",
   "execution_count": 42,
   "metadata": {},
   "outputs": [],
   "source": [
    "grid_df['Pickup Coordinates'] = pickup_coordinates\n",
    "grid_df['Dropoff Coordinates'] = dropoff_coordinates"
   ]
  },
  {
   "cell_type": "code",
   "execution_count": 45,
   "metadata": {},
   "outputs": [],
   "source": [
    "manhattan_distance = []\n",
    "for i in range(len(pickup_coordinates)):\n",
    "    manhattan_distance.append(distance.cityblock(pickup_coordinates[i], dropoff_coordinates[i]))"
   ]
  },
  {
   "cell_type": "code",
   "execution_count": 47,
   "metadata": {},
   "outputs": [],
   "source": [
    "grid_df['Manhattan Distance'] = manhattan_distance"
   ]
  },
  {
   "cell_type": "code",
   "execution_count": 48,
   "metadata": {},
   "outputs": [
    {
     "data": {
      "text/html": [
       "<div>\n",
       "<style scoped>\n",
       "    .dataframe tbody tr th:only-of-type {\n",
       "        vertical-align: middle;\n",
       "    }\n",
       "\n",
       "    .dataframe tbody tr th {\n",
       "        vertical-align: top;\n",
       "    }\n",
       "\n",
       "    .dataframe thead th {\n",
       "        text-align: right;\n",
       "    }\n",
       "</style>\n",
       "<table border=\"1\" class=\"dataframe\">\n",
       "  <thead>\n",
       "    <tr style=\"text-align: right;\">\n",
       "      <th></th>\n",
       "      <th>Pickup Square</th>\n",
       "      <th>Dropoff Square</th>\n",
       "      <th>Pickup Time</th>\n",
       "      <th>Pickup Hour</th>\n",
       "      <th>Pickup Minute</th>\n",
       "      <th>Pickup Weekday</th>\n",
       "      <th>Pickup Coordinates</th>\n",
       "      <th>Dropoff Coordinates</th>\n",
       "      <th>Manhattan Distance</th>\n",
       "    </tr>\n",
       "  </thead>\n",
       "  <tbody>\n",
       "    <tr>\n",
       "      <th>0</th>\n",
       "      <td>81</td>\n",
       "      <td>49</td>\n",
       "      <td>15:50:00</td>\n",
       "      <td>15</td>\n",
       "      <td>50</td>\n",
       "      <td>1</td>\n",
       "      <td>(1, 8)</td>\n",
       "      <td>(9, 4)</td>\n",
       "      <td>12</td>\n",
       "    </tr>\n",
       "    <tr>\n",
       "      <th>1</th>\n",
       "      <td>83</td>\n",
       "      <td>57</td>\n",
       "      <td>17:41:00</td>\n",
       "      <td>17</td>\n",
       "      <td>41</td>\n",
       "      <td>3</td>\n",
       "      <td>(3, 8)</td>\n",
       "      <td>(7, 5)</td>\n",
       "      <td>7</td>\n",
       "    </tr>\n",
       "    <tr>\n",
       "      <th>2</th>\n",
       "      <td>70</td>\n",
       "      <td>76</td>\n",
       "      <td>02:14:00</td>\n",
       "      <td>2</td>\n",
       "      <td>14</td>\n",
       "      <td>0</td>\n",
       "      <td>(0, 7)</td>\n",
       "      <td>(6, 7)</td>\n",
       "      <td>6</td>\n",
       "    </tr>\n",
       "    <tr>\n",
       "      <th>3</th>\n",
       "      <td>18</td>\n",
       "      <td>53</td>\n",
       "      <td>06:25:00</td>\n",
       "      <td>6</td>\n",
       "      <td>25</td>\n",
       "      <td>1</td>\n",
       "      <td>(8, 1)</td>\n",
       "      <td>(3, 5)</td>\n",
       "      <td>9</td>\n",
       "    </tr>\n",
       "    <tr>\n",
       "      <th>4</th>\n",
       "      <td>14</td>\n",
       "      <td>32</td>\n",
       "      <td>17:35:00</td>\n",
       "      <td>17</td>\n",
       "      <td>35</td>\n",
       "      <td>1</td>\n",
       "      <td>(4, 1)</td>\n",
       "      <td>(2, 3)</td>\n",
       "      <td>4</td>\n",
       "    </tr>\n",
       "  </tbody>\n",
       "</table>\n",
       "</div>"
      ],
      "text/plain": [
       "   Pickup Square  Dropoff Square Pickup Time  Pickup Hour  Pickup Minute  \\\n",
       "0             81              49    15:50:00           15             50   \n",
       "1             83              57    17:41:00           17             41   \n",
       "2             70              76    02:14:00            2             14   \n",
       "3             18              53    06:25:00            6             25   \n",
       "4             14              32    17:35:00           17             35   \n",
       "\n",
       "   Pickup Weekday Pickup Coordinates Dropoff Coordinates  Manhattan Distance  \n",
       "0               1             (1, 8)              (9, 4)                  12  \n",
       "1               3             (3, 8)              (7, 5)                   7  \n",
       "2               0             (0, 7)              (6, 7)                   6  \n",
       "3               1             (8, 1)              (3, 5)                   9  \n",
       "4               1             (4, 1)              (2, 3)                   4  "
      ]
     },
     "execution_count": 48,
     "metadata": {},
     "output_type": "execute_result"
    }
   ],
   "source": [
    "grid_df.head()"
   ]
  },
  {
   "cell_type": "code",
   "execution_count": null,
   "metadata": {},
   "outputs": [],
   "source": [
    "# create list of all points on shortest path\n",
    "\n",
    "for i in range(len(pickup_coordinates)):\n",
    "    if pickup_coordinates[i][0] < dropoff_coordinates[i][0]:\n",
    "        \n",
    "    elif ..."
   ]
  }
 ],
 "metadata": {
  "interpreter": {
   "hash": "86e966762086cd9c871a19977d9ca016fffa4c91c8d4227eb0e8cc89037ef5a3"
  },
  "kernelspec": {
   "display_name": "Python 3.8.5 ('base')",
   "language": "python",
   "name": "python3"
  },
  "language_info": {
   "codemirror_mode": {
    "name": "ipython",
    "version": 3
   },
   "file_extension": ".py",
   "mimetype": "text/x-python",
   "name": "python",
   "nbconvert_exporter": "python",
   "pygments_lexer": "ipython3",
   "version": "3.8.5"
  },
  "orig_nbformat": 4
 },
 "nbformat": 4,
 "nbformat_minor": 2
}
