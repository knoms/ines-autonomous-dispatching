{
 "cells": [
  {
   "cell_type": "markdown",
   "metadata": {},
   "source": [
    "## Testing of the Graph Environment"
   ]
  },
  {
   "cell_type": "markdown",
   "metadata": {},
   "source": [
    "Imports"
   ]
  },
  {
   "cell_type": "code",
   "execution_count": 1,
   "metadata": {},
   "outputs": [],
   "source": [
    "import numpy as np\n",
    "import pandas as pd\n",
    "import json\n",
    "import os\n",
    "import shutil\n",
    "import sys\n",
    "import gym\n",
    "import pickle\n",
    "from datetime import datetime\n",
    "\n",
    "import ray\n",
    "\n",
    "import warnings\n",
    "warnings.filterwarnings('ignore')\n"
   ]
  },
  {
   "cell_type": "markdown",
   "metadata": {},
   "source": [
    "Import the Environment"
   ]
  },
  {
   "cell_type": "code",
   "execution_count": 2,
   "metadata": {},
   "outputs": [],
   "source": [
    "sys.path.insert(0,\"\")\n",
    "\n",
    "from ManhattanGraph import ManhattanGraph\n",
    "from gym_graphenv.envs.GraphworldManhattan import GraphEnv"
   ]
  },
  {
   "cell_type": "code",
   "execution_count": 3,
   "metadata": {},
   "outputs": [],
   "source": [
    "#from ray.rllib.agents.dqn import DQNTrainer, DEFAULT_CONFIG, APEX_DEFAULT_CONFIG\n",
    "from ray.rllib.agents.ppo import PPOTrainer, DEFAULT_CONFIG"
   ]
  },
  {
   "cell_type": "code",
   "execution_count": 4,
   "metadata": {},
   "outputs": [],
   "source": [
    "env_config = {'pickup_hub_index':2,\n",
    "        'delivery_hub_index':3,\n",
    "        'pickup_timestamp': '2016-01-01 12:00:00', #datetime(2016, 1, 1, 12, 0, 0),\n",
    "        'delivery_timestamp': '2016-01-01 23:59:00' #datetime(2016, 1, 1, 23, 59, 0) \n",
    "}\n",
    "\n",
    "with open('env_config.pkl', 'wb') as f:\n",
    "    pickle.dump(env_config, f)"
   ]
  },
  {
   "cell_type": "code",
   "execution_count": 5,
   "metadata": {},
   "outputs": [],
   "source": [
    "env=GraphEnv()\n"
   ]
  },
  {
   "cell_type": "markdown",
   "metadata": {},
   "source": [
    "Run random steps without Ray Trainer"
   ]
  },
  {
   "cell_type": "code",
   "execution_count": 6,
   "metadata": {},
   "outputs": [
    {
     "name": "stdout",
     "output_type": "stream",
     "text": [
      "Reset with config\n",
      "final hub: 3\n",
      "current position: 2\n",
      "DB: getAvailableTrips() Execution time: 49.08999466896057 seconds\n",
      "Reset() loaded trips within 48 hrs into memory: 20177\n",
      "in_step_available_trips() Execution time: 0.001991748809814453 seconds\n",
      "Available rides for share found in step: 0\n",
      "available trips: []\n",
      "reset done\n",
      "Time Ride: 0.002965211868286133\n",
      "in_step_available_trips() Execution time: 0.0030145645141601562 seconds\n",
      "Available rides for share found in step: 0\n",
      "available trips: []\n",
      "2 -> 4 2201.2459999999996\n",
      "sum_reward:  -2.201246\n",
      "Time Ride: 0.05086851119995117\n",
      "in_step_available_trips() Execution time: 0.00398564338684082 seconds\n",
      "Available rides for share found in step: 0\n",
      "available trips: []\n",
      "4 -> 42 17430.565\n",
      "sum_reward:  -19.631811\n",
      "Time Ride: 0.006972789764404297\n",
      "in_step_available_trips() Execution time: 0.0009970664978027344 seconds\n",
      "Available rides for share found in step: 0\n",
      "available trips: []\n",
      "42 -> 35 5964.152999999999\n",
      "sum_reward:  -25.595964\n",
      "Time Ride: 0.014954090118408203\n",
      "in_step_available_trips() Execution time: 0.0009951591491699219 seconds\n",
      "Available rides for share found in step: 0\n",
      "available trips: []\n",
      "35 -> 49 6820.263999999999\n",
      "sum_reward:  -32.416228\n",
      "Time Ride: 0.021937131881713867\n",
      "DB: getRouteFromTrip() Execution time: 0.006953716278076172 seconds\n",
      "[2054405680, 3843180751, 277482105, 3039386415, 277482068, 6159356505, 6159356499, 277482762, 3786728557, 42433431, 42424133, 42427009, 42433490, 3631837584, 42433422, 42424145, 42438809, 42450634, 371188320, 406006393, 5426969134, 370924677, 5779545445, 370912817, 42423774, 42426865, 370898427, 42423549, 42423039, 42450820, 42423296, 370888100, 205024444, 205019740, 4145735057, 4145735066, 4147546533, 42431902, 370880739, 4145735059, 205020852, 42422270]\n",
      "4145735059\n",
      "4145735059\n",
      "id1028943\n",
      "DB: getRouteFromTrip() Execution time: 0.003990888595581055 seconds\n",
      "[370880758, 42421965, 4145794861, 4147546533, 42431902, 370880739, 4145735059, 205020852, 42422270, 278608643, 42423307, 370892861, 42423051, 42454391, 370893397, 370893396, 42453613, 42437354, 42437349, 42437346, 42437343, 42437339, 42437333, 1773084405, 42431168]\n",
      "4145735059\n",
      "4145735059\n",
      "id1809468\n",
      "DB: getRouteFromTrip() Execution time: 0.0029909610748291016 seconds\n",
      "[42446849, 373880031, 246858433, 246858431, 5815234915, 588593611, 246909454, 588593353, 4145735059, 205020852, 42422270, 278608643, 42423307, 370892861, 370894980, 370897166, 370913758, 370913779, 370914027, 248708582, 42455929, 42442937, 42449945, 42446959, 42445916, 42437358, 42430333, 42430338, 42439981, 5849918504, 42445011, 42454433, 6928075146, 42430677, 62915525, 42453548]\n",
      "4145735059\n",
      "4145735059\n",
      "id2427200\n",
      "DB: getRouteFromTrip() Execution time: 0.001998424530029297 seconds\n",
      "[889298452, 42422026, 246858433, 246858431, 5815234915, 588593611, 246909454, 588593353, 4145735059, 205020852, 42422270, 278608643, 42423307, 370892861, 370894980, 370897166, 370913758, 370913779, 370914027, 248708582, 42455929, 42442937, 42449945, 42446959, 42445916, 42437358, 42430333, 42430338, 42430342, 42430344, 42428297, 42432700, 42432703, 42432706, 42430685, 62915527, 62915514]\n",
      "4145735059\n",
      "4145735059\n",
      "id2768245\n",
      "DB: getRouteFromTrip() Execution time: 0.003017902374267578 seconds\n",
      "[370888100, 205024444, 205019740, 4145735057, 4145735066, 4147546533, 42431902, 370880739, 4145735059, 205020852]\n",
      "4145735059\n",
      "4145735059\n",
      "id3455491\n",
      "in_step_available_trips() Execution time: 0.020917177200317383 seconds\n",
      "Available rides for share found in step: 12\n",
      "available trips: [{'departure_time': '2016-01-01 13:00:50', 'target_hub': 370913758, 'route': [4145735059, 205020852, 42422270, 278608643, 42423307, 370892861, 370894980, 370897166, 370913758], 'trip_row_id': 'id2427200'}, {'departure_time': '2016-01-01 13:00:50', 'target_hub': 248708582, 'route': [4145735059, 205020852, 42422270, 278608643, 42423307, 370892861, 370894980, 370897166, 370913758, 370913779, 370914027, 248708582], 'trip_row_id': 'id2427200'}, {'departure_time': '2016-01-01 13:00:50', 'target_hub': 42442937, 'route': [4145735059, 205020852, 42422270, 278608643, 42423307, 370892861, 370894980, 370897166, 370913758, 370913779, 370914027, 248708582, 42455929, 42442937], 'trip_row_id': 'id2427200'}, {'departure_time': '2016-01-01 13:00:50', 'target_hub': 42446959, 'route': [4145735059, 205020852, 42422270, 278608643, 42423307, 370892861, 370894980, 370897166, 370913758, 370913779, 370914027, 248708582, 42455929, 42442937, 42449945, 42446959], 'trip_row_id': 'id2427200'}, {'departure_time': '2016-01-01 13:00:50', 'target_hub': 42445916, 'route': [4145735059, 205020852, 42422270, 278608643, 42423307, 370892861, 370894980, 370897166, 370913758, 370913779, 370914027, 248708582, 42455929, 42442937, 42449945, 42446959, 42445916], 'trip_row_id': 'id2427200'}, {'departure_time': '2016-01-01 13:00:50', 'target_hub': 42430333, 'route': [4145735059, 205020852, 42422270, 278608643, 42423307, 370892861, 370894980, 370897166, 370913758, 370913779, 370914027, 248708582, 42455929, 42442937, 42449945, 42446959, 42445916, 42437358, 42430333], 'trip_row_id': 'id2427200'}, {'departure_time': '2016-01-01 12:59:57', 'target_hub': 370913758, 'route': [4145735059, 205020852, 42422270, 278608643, 42423307, 370892861, 370894980, 370897166, 370913758], 'trip_row_id': 'id2768245'}, {'departure_time': '2016-01-01 12:59:57', 'target_hub': 248708582, 'route': [4145735059, 205020852, 42422270, 278608643, 42423307, 370892861, 370894980, 370897166, 370913758, 370913779, 370914027, 248708582], 'trip_row_id': 'id2768245'}, {'departure_time': '2016-01-01 12:59:57', 'target_hub': 42442937, 'route': [4145735059, 205020852, 42422270, 278608643, 42423307, 370892861, 370894980, 370897166, 370913758, 370913779, 370914027, 248708582, 42455929, 42442937], 'trip_row_id': 'id2768245'}, {'departure_time': '2016-01-01 12:59:57', 'target_hub': 42446959, 'route': [4145735059, 205020852, 42422270, 278608643, 42423307, 370892861, 370894980, 370897166, 370913758, 370913779, 370914027, 248708582, 42455929, 42442937, 42449945, 42446959], 'trip_row_id': 'id2768245'}, {'departure_time': '2016-01-01 12:59:57', 'target_hub': 42445916, 'route': [4145735059, 205020852, 42422270, 278608643, 42423307, 370892861, 370894980, 370897166, 370913758, 370913779, 370914027, 248708582, 42455929, 42442937, 42449945, 42446959, 42445916], 'trip_row_id': 'id2768245'}, {'departure_time': '2016-01-01 12:59:57', 'target_hub': 42430333, 'route': [4145735059, 205020852, 42422270, 278608643, 42423307, 370892861, 370894980, 370897166, 370913758, 370913779, 370914027, 248708582, 42455929, 42442937, 42449945, 42446959, 42445916, 42437358, 42430333], 'trip_row_id': 'id2768245'}]\n",
      "49 -> 1 10298.125\n",
      "sum_reward:  -42.714352999999996\n",
      "Time Ride: 0.03589153289794922\n",
      "in_step_available_trips() Execution time: 0.0019936561584472656 seconds\n",
      "Available rides for share found in step: 0\n",
      "available trips: []\n",
      "1 -> 43 14862.314000000004\n",
      "sum_reward:  -57.576667\n",
      "Time Ride: 0.0040090084075927734\n",
      "in_step_available_trips() Execution time: 0.0019919872283935547 seconds\n",
      "Available rides for share found in step: 0\n",
      "available trips: []\n",
      "43 -> 38 3329.8060000000005\n",
      "sum_reward:  -60.906473\n",
      "Time Ride: 0.008981466293334961\n",
      "in_step_available_trips() Execution time: 0.003983259201049805 seconds\n",
      "Available rides for share found in step: 0\n",
      "available trips: []\n",
      "38 -> 43 3306.1609999999996\n",
      "sum_reward:  -64.212634\n",
      "Time Ride: 0.024959564208984375\n",
      "in_step_available_trips() Execution time: 0.0019936561584472656 seconds\n",
      "Available rides for share found in step: 0\n",
      "available trips: []\n",
      "43 -> 60 11250.740999999998\n",
      "sum_reward:  -75.46337499999998\n",
      "Time Ride: 0.008980274200439453\n",
      "in_step_available_trips() Execution time: 0.001983165740966797 seconds\n",
      "Available rides for share found in step: 0\n",
      "available trips: []\n",
      "60 -> 51 5322.61\n",
      "sum_reward:  -80.78598499999998\n",
      "Time Ride: 0.013962984085083008\n",
      "in_step_available_trips() Execution time: 0.0020008087158203125 seconds\n",
      "Available rides for share found in step: 0\n",
      "available trips: []\n",
      "51 -> 37 9339.305999999999\n",
      "sum_reward:  -90.12529099999998\n",
      "Time Ride: 0.019974708557128906\n",
      "in_step_available_trips() Execution time: 0.002993345260620117 seconds\n",
      "Available rides for share found in step: 0\n",
      "available trips: []\n",
      "37 -> 51 9379.026999999996\n",
      "sum_reward:  -99.50431799999997\n",
      "Time Ride: 0.007996797561645508\n",
      "DB: getRouteFromTrip() Execution time: 0.003053426742553711 seconds\n",
      "[371188756, 371207282, 42424025, 4779073677, 4779073680, 589929417, 3785532381, 3785532382, 42433421, 42433422, 42424145, 42438809, 42450634, 371188320, 406006393, 5426969134, 370924677, 5779545445, 370912817, 42423774, 42426865, 7137281959, 7137281963, 42455897, 42429918, 42446293, 1632878994, 42436756, 42436754, 42436753, 42436751, 42436748]\n",
      "42433422\n",
      "42433422\n",
      "id0911850\n",
      "DB: getRouteFromTrip() Execution time: 0.00442957878112793 seconds\n",
      "[596776177, 42448729, 42447149, 42448735, 42443048, 42448745, 8828140387, 42428052, 42433421, 42433422, 42424145, 42438809, 42450634, 371188320, 406006393, 5426969134, 370924677, 5779545445, 42426851, 42450814, 6176628861, 42422899, 42449689, 42442918, 42423020, 42434965, 42434962, 42434959, 42434954, 42434951, 561042191, 42434948, 42434946, 42437644, 42446701, 42430298, 4461990857]\n",
      "42433422\n",
      "42433422\n",
      "id2375714\n",
      "DB: getRouteFromTrip() Execution time: 0.001973390579223633 seconds\n",
      "[2054405680, 3843180751, 277482105, 3039386415, 277482068, 6159356505, 6159356499, 277482762, 3786728557, 42433431, 42424133, 42427009, 42433490, 3631837584, 42433422, 42424145, 42438809, 42450634, 371188320, 406006393, 5426969134, 370924677, 5779545445, 370912817, 42423774, 42426865, 7137281959, 7137281963, 42455897, 42442891, 4138911201, 42429896, 42449918, 42446932, 42454522, 4597668031, 42445885, 42434800, 42428220, 42430279, 42430282]\n",
      "42433422\n",
      "42433422\n",
      "id3949607\n",
      "in_step_available_trips() Execution time: 0.011450052261352539 seconds\n",
      "Available rides for share found in step: 9\n",
      "available trips: [{'departure_time': '2016-01-01 14:59:44', 'target_hub': 42438809, 'route': [42433422, 42424145, 42438809], 'trip_row_id': 'id0911850'}, {'departure_time': '2016-01-01 14:59:44', 'target_hub': 5779545445, 'route': [42433422, 42424145, 42438809, 42450634, 371188320, 406006393, 5426969134, 370924677, 5779545445], 'trip_row_id': 'id0911850'}, {'departure_time': '2016-01-01 14:59:44', 'target_hub': 42423774, 'route': [42433422, 42424145, 42438809, 42450634, 371188320, 406006393, 5426969134, 370924677, 5779545445, 370912817, 42423774], 'trip_row_id': 'id0911850'}, {'departure_time': '2016-01-01 15:03:09', 'target_hub': 42438809, 'route': [42433422, 42424145, 42438809], 'trip_row_id': 'id2375714'}, {'departure_time': '2016-01-01 15:03:09', 'target_hub': 5779545445, 'route': [42433422, 42424145, 42438809, 42450634, 371188320, 406006393, 5426969134, 370924677, 5779545445], 'trip_row_id': 'id2375714'}, {'departure_time': '2016-01-01 15:03:09', 'target_hub': 42437644, 'route': [42433422, 42424145, 42438809, 42450634, 371188320, 406006393, 5426969134, 370924677, 5779545445, 42426851, 42450814, 6176628861, 42422899, 42449689, 42442918, 42423020, 42434965, 42434962, 42434959, 42434954, 42434951, 561042191, 42434948, 42434946, 42437644], 'trip_row_id': 'id2375714'}, {'departure_time': '2016-01-01 14:58:18', 'target_hub': 42438809, 'route': [42433422, 42424145, 42438809], 'trip_row_id': 'id3949607'}, {'departure_time': '2016-01-01 14:58:18', 'target_hub': 5779545445, 'route': [42433422, 42424145, 42438809, 42450634, 371188320, 406006393, 5426969134, 370924677, 5779545445], 'trip_row_id': 'id3949607'}, {'departure_time': '2016-01-01 14:58:18', 'target_hub': 42423774, 'route': [42433422, 42424145, 42438809, 42450634, 371188320, 406006393, 5426969134, 370924677, 5779545445, 370912817, 42423774], 'trip_row_id': 'id3949607'}]\n",
      "51 -> 66 5919.8330000000005\n",
      "sum_reward:  -105.42415099999997\n",
      "Time Ride: 0.0069773197174072266\n",
      "DB: getRouteFromTrip() Execution time: 0.0030541419982910156 seconds\n",
      "[42442943, 42442939, 42442937, 42455929, 248708582, 1701844664, 42426851, 42450814, 6176628861, 589099881, 589099734, 406048768, 42445392, 4412043541, 4274141356, 42423774, 42426865, 370898427, 42423549, 42423039, 42450820, 42423296, 370888100, 205024444, 205019740, 4145735057, 4145735066, 4147546533, 42431902, 370880739, 4145735059]\n",
      "205024444\n",
      "205024444\n",
      "id2781458\n",
      "in_step_available_trips() Execution time: 0.0050487518310546875 seconds\n",
      "Available rides for share found in step: 1\n",
      "available trips: [{'departure_time': '2016-01-01 15:12:22', 'target_hub': 4145735059, 'route': [205024444, 205019740, 4145735057, 4145735066, 4147546533, 42431902, 370880739, 4145735059], 'trip_row_id': 'id2781458'}]\n",
      "66 -> 54 10122.585000000001\n",
      "sum_reward:  -115.54673599999997\n",
      "Time Ride: 0.003989458084106445\n",
      "DB: getRouteFromTrip() Execution time: 0.003488779067993164 seconds\n",
      "[42428454, 42445520, 42431165, 42445534, 1773084402, 42442848, 42455867, 42455051, 42453175, 42444829, 42444832, 42444833, 42444835, 42444837, 42451712, 42454391, 42457401, 42430973, 42423039, 42450820, 42423296, 370888100, 205024444, 205019740, 4145735057, 4145735066, 42451370, 42452994, 588546882, 246923513, 4207802391, 246858654]\n",
      "42450820\n",
      "42450820\n",
      "id1540074\n",
      "DB: getRouteFromTrip() Execution time: 0.0011522769927978516 seconds\n",
      "[5161246301, 5161246307, 1773063789, 1773063787, 1773060097, 1773060099, 1773055865, 588455743, 4158807592, 42439813, 42437749, 42444277, 3884569931, 3884569924, 278609863, 278608718, 278608643, 42423307, 370892861, 42423051, 42454391, 42457401, 42430973, 42423039, 42450820]\n",
      "42450820\n",
      "42450820\n",
      "id3846331\n",
      "in_step_available_trips() Execution time: 0.008711099624633789 seconds\n",
      "Available rides for share found in step: 2\n",
      "available trips: [{'departure_time': '2016-01-01 15:25:23', 'target_hub': 370888100, 'route': [42450820, 42423296, 370888100], 'trip_row_id': 'id1540074'}, {'departure_time': '2016-01-01 15:25:23', 'target_hub': 205024444, 'route': [42450820, 42423296, 370888100, 205024444], 'trip_row_id': 'id1540074'}]\n",
      "54 -> 56 3906.8090000000007\n",
      "sum_reward:  -119.45354499999996\n",
      "Time Ride: 0.03390860557556152\n",
      "in_step_available_trips() Execution time: 0.002990245819091797 seconds\n",
      "Available rides for share found in step: 0\n",
      "available trips: []\n",
      "56 -> 35 15992.215000000002\n",
      "sum_reward:  -135.44575999999995\n",
      "Time Ride: 0.00797271728515625\n",
      "in_step_available_trips() Execution time: 0.001994609832763672 seconds\n",
      "Available rides for share found in step: 0\n",
      "available trips: []\n",
      "35 -> 29 5600.668\n",
      "sum_reward:  -141.04642799999996\n",
      "Time Ride: 0.017923593521118164\n",
      "DB: getRouteFromTrip() Execution time: 0.0019989013671875 seconds\n",
      "[42435671, 42439984, 42430342, 42443556, 42454428, 42437358, 42445916, 42446959, 42449945, 42442937, 42455929, 248708582, 1701844664, 42426851, 42450814, 6176628861, 589099881, 589099734, 406048768, 42445392, 4412043541, 4274141356, 42423774, 42426865, 370898427, 42423549, 42423039, 42450820, 42423296, 370888100, 205024444, 278608816, 587988061, 3884569931, 3884569924, 278609863, 278608718, 278608643]\n",
      "42450820\n",
      "42450820\n",
      "id1166237\n",
      "DB: getRouteFromTrip() Execution time: 0.0030188560485839844 seconds\n",
      "[1061531608, 42428604, 42428601, 1061531787, 42443326, 4557495130, 3718672443, 9170816532, 7802856365, 247223720, 42457788, 42455662, 42445972, 596776032, 42455666, 42447060, 42449985, 42442977, 42455675, 42427975, 42427972, 42427970, 4886250352, 406006393, 5426969134, 370924677, 5779545445, 370912817, 42423774, 42426865, 370898427, 42423549, 42423039, 42450820, 42423296]\n",
      "42450820\n",
      "42450820\n",
      "id1492414\n",
      "DB: getRouteFromTrip() Execution time: 0.002844572067260742 seconds\n",
      "[42428220, 42430279, 42430282, 42427797, 42430288, 42428227, 42437686, 42445404, 4597668033, 42445409, 8482948064, 42445413, 42442902, 42445417, 4274141356, 42423774, 42426865, 370898427, 42423549, 42423039, 42450820, 42423296, 370888100, 205024444, 205019740, 4145735057, 4145735066, 42451370, 246911576, 3574648569, 588593059, 4149748671, 9181525951, 42446640, 42446632, 42436181, 42446622, 42428368]\n",
      "42450820\n",
      "42450820\n",
      "id2920185\n",
      "in_step_available_trips() Execution time: 0.009853839874267578 seconds\n",
      "Available rides for share found in step: 4\n",
      "available trips: [{'departure_time': '2016-01-01 16:10:31', 'target_hub': 370888100, 'route': [42450820, 42423296, 370888100], 'trip_row_id': 'id1166237'}, {'departure_time': '2016-01-01 16:10:31', 'target_hub': 205024444, 'route': [42450820, 42423296, 370888100, 205024444], 'trip_row_id': 'id1166237'}, {'departure_time': '2016-01-01 16:08:07', 'target_hub': 370888100, 'route': [42450820, 42423296, 370888100], 'trip_row_id': 'id2920185'}, {'departure_time': '2016-01-01 16:08:07', 'target_hub': 205024444, 'route': [42450820, 42423296, 370888100, 205024444], 'trip_row_id': 'id2920185'}]\n",
      "29 -> 56 10021.693000000001\n",
      "sum_reward:  -151.06812099999996\n",
      "Time Ride: 0.0\n",
      "DB: getRouteFromTrip() Execution time: 0.0029506683349609375 seconds\n",
      "[42428220, 42430279, 42430282, 42427797, 42430288, 42428227, 42437686, 42445404, 4597668033, 42445409, 8482948064, 42445413, 42442902, 42445417, 4274141356, 42423774, 42426865, 370898427, 42423549, 42423039, 42450820, 42423296, 370888100, 205024444, 205019740, 4145735057, 4145735066, 42451370, 246911576, 3574648569, 588593059, 4149748671, 9181525951, 42446640, 42446632, 42436181, 42446622, 42428368]\n",
      "205024444\n",
      "205024444\n",
      "id2920185\n",
      "in_step_available_trips() Execution time: 0.0049533843994140625 seconds\n",
      "Available rides for share found in step: 0\n",
      "available trips: []\n",
      "56 -> 54 2043.257\n",
      "DELIVERY DONE! sum_reward:  -10153.111378\n"
     ]
    }
   ],
   "source": [
    "def run_one_episode (env):\n",
    "    #count_actions = 0\n",
    "    env.reset()\n",
    "    print(\"reset done\")\n",
    "    sum_reward = 0\n",
    "    for i in range(30):\n",
    "        action = env.action_space.sample()\n",
    "        #print(action)\n",
    "        state, reward, done, info = env.step(action)\n",
    "        #count_actions += 1\n",
    "        sum_reward+=reward\n",
    "        #env.render()\n",
    "        if done:\n",
    "            print(\"DELIVERY DONE! sum_reward: \",sum_reward)\n",
    "            break\n",
    "\n",
    "        print(\"sum_reward: \",sum_reward)\n",
    "        #print(\"Number actions: \",count_actions)\n",
    "        # print(\"sum_reward: \",sum_reward, \" time: \",env.time, \"deadline time: \", env.deadline, \"pickup time: \", env.pickup_time)\n",
    "    return sum_reward\n",
    "\n",
    "for i in range(1): \n",
    "    run_one_episode (env)"
   ]
  },
  {
   "cell_type": "markdown",
   "metadata": {},
   "source": [
    "Initialize Ray"
   ]
  },
  {
   "cell_type": "code",
   "execution_count": 7,
   "metadata": {},
   "outputs": [
    {
     "data": {
      "text/plain": [
       "{'node_ip_address': '127.0.0.1',\n",
       " 'raylet_ip_address': '127.0.0.1',\n",
       " 'redis_address': None,\n",
       " 'object_store_address': 'tcp://127.0.0.1:63695',\n",
       " 'raylet_socket_name': 'tcp://127.0.0.1:64940',\n",
       " 'webui_url': None,\n",
       " 'session_dir': 'C:\\\\Users\\\\kirch\\\\AppData\\\\Local\\\\Temp\\\\ray\\\\session_2022-05-16_12-07-08_660124_18876',\n",
       " 'metrics_export_port': 63635,\n",
       " 'gcs_address': '127.0.0.1:64199',\n",
       " 'address': '127.0.0.1:64199',\n",
       " 'node_id': '0150057b4e533aaecb7b33008e57a0de2f3cc5f99f98e32414ba938c'}"
      ]
     },
     "execution_count": 7,
     "metadata": {},
     "output_type": "execute_result"
    }
   ],
   "source": [
    "ray.init()"
   ]
  },
  {
   "cell_type": "markdown",
   "metadata": {},
   "source": [
    "Set DQN trainer configuration"
   ]
  },
  {
   "cell_type": "code",
   "execution_count": 8,
   "metadata": {},
   "outputs": [],
   "source": [
    "dqn_config = DEFAULT_CONFIG.copy()\n",
    "dqn_config['num_workers'] = 1\n",
    "dqn_config[\"train_batch_size\"] = 400\n",
    "dqn_config[\"gamma\"] = 0.95\n",
    "dqn_config[\"n_step\"] = 10\n",
    "dqn_config[\"framework\"] = \"torch\"\n",
    "#num_gpus and other gpu parameters in order to train with gpu\n",
    "#dqn_config[\"num_gpus\"] = int(os.environ.get(\"RLLIB_NUM_GPUS\", \"0\")) "
   ]
  },
  {
   "cell_type": "code",
   "execution_count": 8,
   "metadata": {},
   "outputs": [],
   "source": [
    "ppo_config = DEFAULT_CONFIG.copy()\n",
    "ppo_config['framework'] = \"torch\""
   ]
  },
  {
   "cell_type": "markdown",
   "metadata": {},
   "source": [
    "Set DQN - Rainbow configuration"
   ]
  },
  {
   "cell_type": "code",
   "execution_count": 9,
   "metadata": {},
   "outputs": [],
   "source": [
    "rainbow_config = DEFAULT_CONFIG.copy()\n",
    "\n",
    "rainbow_config = DEFAULT_CONFIG.copy()\n",
    "rainbow_config['num_workers'] = 1\n",
    "rainbow_config[\"train_batch_size\"] = 400\n",
    "rainbow_config[\"gamma\"] = 0.95\n",
    "rainbow_config[\"n_step\"] = 10\n",
    "rainbow_config[\"framework\"] = \"torch\"\n",
    "#num_gpus and other gpu parameters in order to train with gpu\n",
    "#rainbow_config[\"num_gpus\"] = int(os.environ.get(\"RLLIB_NUM_GPUS\", \"0\")) \n",
    "\n",
    "#rainbow parameters\n",
    "\n",
    "# N-step Q learning\n",
    "rainbow_config[\"n_step\"]= 5 #[between 1 and 10]\n",
    "# Whether to use noisy network\n",
    "rainbow_config[\"noisy\"] = True\n",
    "# Number of atoms for representing the distribution of return. When\n",
    "# this is greater than 1, distributional Q-learning is used.\n",
    "# the discrete supports are bounded by v_min and v_max\n",
    "rainbow_config[\"num_atoms\"] =2 #[more than 1]\n",
    "rainbow_config[\"v_min\"] =-100\n",
    "rainbow_config[\"v_max\"]=100 # (set v_min and v_max according to your expected range of returns)."
   ]
  },
  {
   "cell_type": "markdown",
   "metadata": {},
   "source": [
    "Set DQN - Ape-X configuration "
   ]
  },
  {
   "cell_type": "code",
   "execution_count": 10,
   "metadata": {},
   "outputs": [],
   "source": [
    "#apex_config=APEX_DEFAULT_CONFIG.copy()"
   ]
  },
  {
   "cell_type": "markdown",
   "metadata": {},
   "source": [
    "Initialize the DQN trainer, Rainbow DQN and DQN Ape-X"
   ]
  },
  {
   "cell_type": "code",
   "execution_count": 9,
   "metadata": {},
   "outputs": [
    {
     "name": "stderr",
     "output_type": "stream",
     "text": [
      "2022-05-16 12:07:22,512\tINFO ppo.py:249 -- In multi-agent mode, policies will be optimized sequentially by the multi-GPU optimizer. Consider setting simple_optimizer=True if this doesn't work for you.\n",
      "2022-05-16 12:07:22,513\tINFO trainer.py:779 -- Current log_level is WARN. For more information, set 'log_level': 'INFO' / 'DEBUG' or use the -v and -vv flags.\n",
      " pid=25084)\u001b[0m UserWarning: The `get_nearest_node` function has been deprecated and will be removed in a future release. Use the more efficient `distance.nearest_nodes` instead.\n",
      " pid=25084)\u001b[0m UserWarning: The `get_nearest_node` function has been deprecated and will be removed in a future release. Use the more efficient `distance.nearest_nodes` instead.\n",
      " pid=25084)\u001b[0m UserWarning: The `get_nearest_node` function has been deprecated and will be removed in a future release. Use the more efficient `distance.nearest_nodes` instead.\n",
      " pid=25084)\u001b[0m UserWarning: The `get_nearest_node` function has been deprecated and will be removed in a future release. Use the more efficient `distance.nearest_nodes` instead.\n",
      " pid=17768)\u001b[0m UserWarning: The `get_nearest_node` function has been deprecated and will be removed in a future release. Use the more efficient `distance.nearest_nodes` instead.\n",
      " pid=17768)\u001b[0m UserWarning: The `get_nearest_node` function has been deprecated and will be removed in a future release. Use the more efficient `distance.nearest_nodes` instead.\n",
      " pid=17768)\u001b[0m UserWarning: The `get_nearest_node` function has been deprecated and will be removed in a future release. Use the more efficient `distance.nearest_nodes` instead.\n",
      " pid=25084)\u001b[0m UserWarning: The `get_nearest_node` function has been deprecated and will be removed in a future release. Use the more efficient `distance.nearest_nodes` instead.\n",
      " pid=25084)\u001b[0m UserWarning: The `get_nearest_node` function has been deprecated and will be removed in a future release. Use the more efficient `distance.nearest_nodes` instead.\n",
      " pid=25084)\u001b[0m UserWarning: The `get_nearest_node` function has been deprecated and will be removed in a future release. Use the more efficient `distance.nearest_nodes` instead.\n",
      " pid=25084)\u001b[0m UserWarning: The `get_nearest_node` function has been deprecated and will be removed in a future release. Use the more efficient `distance.nearest_nodes` instead.\n",
      " pid=25084)\u001b[0m UserWarning: The `get_nearest_node` function has been deprecated and will be removed in a future release. Use the more efficient `distance.nearest_nodes` instead.\n",
      " pid=17768)\u001b[0m UserWarning: The `get_nearest_node` function has been deprecated and will be removed in a future release. Use the more efficient `distance.nearest_nodes` instead.\n",
      " pid=17768)\u001b[0m UserWarning: The `get_nearest_node` function has been deprecated and will be removed in a future release. Use the more efficient `distance.nearest_nodes` instead.\n",
      " pid=17768)\u001b[0m UserWarning: The `get_nearest_node` function has been deprecated and will be removed in a future release. Use the more efficient `distance.nearest_nodes` instead.\n",
      " pid=17768)\u001b[0m UserWarning: The `get_nearest_node` function has been deprecated and will be removed in a future release. Use the more efficient `distance.nearest_nodes` instead.\n",
      " pid=17768)\u001b[0m UserWarning: The `get_nearest_node` function has been deprecated and will be removed in a future release. Use the more efficient `distance.nearest_nodes` instead.\n",
      " pid=17768)\u001b[0m UserWarning: The `get_nearest_node` function has been deprecated and will be removed in a future release. Use the more efficient `distance.nearest_nodes` instead.\n",
      " pid=25084)\u001b[0m UserWarning: The `get_nearest_node` function has been deprecated and will be removed in a future release. Use the more efficient `distance.nearest_nodes` instead.\n",
      " pid=25084)\u001b[0m UserWarning: The `get_nearest_node` function has been deprecated and will be removed in a future release. Use the more efficient `distance.nearest_nodes` instead.\n",
      " pid=25084)\u001b[0m UserWarning: The `get_nearest_node` function has been deprecated and will be removed in a future release. Use the more efficient `distance.nearest_nodes` instead.\n",
      " pid=17768)\u001b[0m UserWarning: The `get_nearest_node` function has been deprecated and will be removed in a future release. Use the more efficient `distance.nearest_nodes` instead.\n",
      " pid=17768)\u001b[0m UserWarning: The `get_nearest_node` function has been deprecated and will be removed in a future release. Use the more efficient `distance.nearest_nodes` instead.\n",
      " pid=17768)\u001b[0m UserWarning: The `get_nearest_node` function has been deprecated and will be removed in a future release. Use the more efficient `distance.nearest_nodes` instead.\n",
      " pid=25084)\u001b[0m UserWarning: The `get_nearest_node` function has been deprecated and will be removed in a future release. Use the more efficient `distance.nearest_nodes` instead.\n",
      " pid=25084)\u001b[0m UserWarning: The `get_nearest_node` function has been deprecated and will be removed in a future release. Use the more efficient `distance.nearest_nodes` instead.\n",
      " pid=25084)\u001b[0m UserWarning: The `get_nearest_node` function has been deprecated and will be removed in a future release. Use the more efficient `distance.nearest_nodes` instead.\n",
      " pid=25084)\u001b[0m UserWarning: The `get_nearest_node` function has been deprecated and will be removed in a future release. Use the more efficient `distance.nearest_nodes` instead.\n",
      " pid=25084)\u001b[0m UserWarning: The `get_nearest_node` function has been deprecated and will be removed in a future release. Use the more efficient `distance.nearest_nodes` instead.\n",
      " pid=17768)\u001b[0m UserWarning: The `get_nearest_node` function has been deprecated and will be removed in a future release. Use the more efficient `distance.nearest_nodes` instead.\n",
      " pid=17768)\u001b[0m UserWarning: The `get_nearest_node` function has been deprecated and will be removed in a future release. Use the more efficient `distance.nearest_nodes` instead.\n",
      " pid=17768)\u001b[0m UserWarning: The `get_nearest_node` function has been deprecated and will be removed in a future release. Use the more efficient `distance.nearest_nodes` instead.\n",
      " pid=17768)\u001b[0m UserWarning: The `get_nearest_node` function has been deprecated and will be removed in a future release. Use the more efficient `distance.nearest_nodes` instead.\n",
      " pid=17768)\u001b[0m UserWarning: The `get_nearest_node` function has been deprecated and will be removed in a future release. Use the more efficient `distance.nearest_nodes` instead.\n",
      " pid=17768)\u001b[0m UserWarning: The `get_nearest_node` function has been deprecated and will be removed in a future release. Use the more efficient `distance.nearest_nodes` instead.\n",
      " pid=25084)\u001b[0m UserWarning: The `get_nearest_node` function has been deprecated and will be removed in a future release. Use the more efficient `distance.nearest_nodes` instead.\n",
      " pid=25084)\u001b[0m UserWarning: The `get_nearest_node` function has been deprecated and will be removed in a future release. Use the more efficient `distance.nearest_nodes` instead.\n",
      " pid=25084)\u001b[0m UserWarning: The `get_nearest_node` function has been deprecated and will be removed in a future release. Use the more efficient `distance.nearest_nodes` instead.\n",
      " pid=25084)\u001b[0m UserWarning: The `get_nearest_node` function has been deprecated and will be removed in a future release. Use the more efficient `distance.nearest_nodes` instead.\n",
      " pid=25084)\u001b[0m UserWarning: The `get_nearest_node` function has been deprecated and will be removed in a future release. Use the more efficient `distance.nearest_nodes` instead.\n",
      " pid=17768)\u001b[0m UserWarning: The `get_nearest_node` function has been deprecated and will be removed in a future release. Use the more efficient `distance.nearest_nodes` instead.\n",
      " pid=17768)\u001b[0m UserWarning: The `get_nearest_node` function has been deprecated and will be removed in a future release. Use the more efficient `distance.nearest_nodes` instead.\n",
      " pid=17768)\u001b[0m UserWarning: The `get_nearest_node` function has been deprecated and will be removed in a future release. Use the more efficient `distance.nearest_nodes` instead.\n",
      " pid=17768)\u001b[0m UserWarning: The `get_nearest_node` function has been deprecated and will be removed in a future release. Use the more efficient `distance.nearest_nodes` instead.\n",
      " pid=25084)\u001b[0m UserWarning: The `get_nearest_node` function has been deprecated and will be removed in a future release. Use the more efficient `distance.nearest_nodes` instead.\n",
      " pid=25084)\u001b[0m UserWarning: The `get_nearest_node` function has been deprecated and will be removed in a future release. Use the more efficient `distance.nearest_nodes` instead.\n",
      " pid=25084)\u001b[0m UserWarning: The `get_nearest_node` function has been deprecated and will be removed in a future release. Use the more efficient `distance.nearest_nodes` instead.\n",
      " pid=17768)\u001b[0m UserWarning: The `get_nearest_node` function has been deprecated and will be removed in a future release. Use the more efficient `distance.nearest_nodes` instead.\n",
      " pid=17768)\u001b[0m UserWarning: The `get_nearest_node` function has been deprecated and will be removed in a future release. Use the more efficient `distance.nearest_nodes` instead.\n",
      " pid=17768)\u001b[0m UserWarning: The `get_nearest_node` function has been deprecated and will be removed in a future release. Use the more efficient `distance.nearest_nodes` instead.\n",
      " pid=17768)\u001b[0m UserWarning: The `get_nearest_node` function has been deprecated and will be removed in a future release. Use the more efficient `distance.nearest_nodes` instead.\n",
      " pid=25084)\u001b[0m UserWarning: The `get_nearest_node` function has been deprecated and will be removed in a future release. Use the more efficient `distance.nearest_nodes` instead.\n",
      " pid=25084)\u001b[0m UserWarning: The `get_nearest_node` function has been deprecated and will be removed in a future release. Use the more efficient `distance.nearest_nodes` instead.\n",
      " pid=17768)\u001b[0m UserWarning: The `get_nearest_node` function has been deprecated and will be removed in a future release. Use the more efficient `distance.nearest_nodes` instead.\n",
      " pid=25084)\u001b[0m UserWarning: The `get_nearest_node` function has been deprecated and will be removed in a future release. Use the more efficient `distance.nearest_nodes` instead.\n",
      " pid=25084)\u001b[0m UserWarning: The `get_nearest_node` function has been deprecated and will be removed in a future release. Use the more efficient `distance.nearest_nodes` instead.\n",
      " pid=17768)\u001b[0m UserWarning: The `get_nearest_node` function has been deprecated and will be removed in a future release. Use the more efficient `distance.nearest_nodes` instead.\n",
      " pid=17768)\u001b[0m UserWarning: The `get_nearest_node` function has been deprecated and will be removed in a future release. Use the more efficient `distance.nearest_nodes` instead.\n",
      " pid=25084)\u001b[0m UserWarning: The `get_nearest_node` function has been deprecated and will be removed in a future release. Use the more efficient `distance.nearest_nodes` instead.\n",
      " pid=25084)\u001b[0m UserWarning: The `get_nearest_node` function has been deprecated and will be removed in a future release. Use the more efficient `distance.nearest_nodes` instead.\n",
      " pid=25084)\u001b[0m UserWarning: The `get_nearest_node` function has been deprecated and will be removed in a future release. Use the more efficient `distance.nearest_nodes` instead.\n",
      " pid=25084)\u001b[0m UserWarning: The `get_nearest_node` function has been deprecated and will be removed in a future release. Use the more efficient `distance.nearest_nodes` instead.\n",
      " pid=25084)\u001b[0m UserWarning: The `get_nearest_node` function has been deprecated and will be removed in a future release. Use the more efficient `distance.nearest_nodes` instead.\n",
      " pid=17768)\u001b[0m UserWarning: The `get_nearest_node` function has been deprecated and will be removed in a future release. Use the more efficient `distance.nearest_nodes` instead.\n",
      " pid=17768)\u001b[0m UserWarning: The `get_nearest_node` function has been deprecated and will be removed in a future release. Use the more efficient `distance.nearest_nodes` instead.\n",
      " pid=17768)\u001b[0m UserWarning: The `get_nearest_node` function has been deprecated and will be removed in a future release. Use the more efficient `distance.nearest_nodes` instead.\n",
      " pid=17768)\u001b[0m UserWarning: The `get_nearest_node` function has been deprecated and will be removed in a future release. Use the more efficient `distance.nearest_nodes` instead.\n",
      " pid=17768)\u001b[0m UserWarning: The `get_nearest_node` function has been deprecated and will be removed in a future release. Use the more efficient `distance.nearest_nodes` instead.\n",
      " pid=25084)\u001b[0m UserWarning: The `get_nearest_node` function has been deprecated and will be removed in a future release. Use the more efficient `distance.nearest_nodes` instead.\n",
      " pid=25084)\u001b[0m UserWarning: The `get_nearest_node` function has been deprecated and will be removed in a future release. Use the more efficient `distance.nearest_nodes` instead.\n",
      " pid=17768)\u001b[0m UserWarning: The `get_nearest_node` function has been deprecated and will be removed in a future release. Use the more efficient `distance.nearest_nodes` instead.\n",
      " pid=17768)\u001b[0m UserWarning: The `get_nearest_node` function has been deprecated and will be removed in a future release. Use the more efficient `distance.nearest_nodes` instead.\n",
      " pid=25084)\u001b[0m UserWarning: The `get_nearest_node` function has been deprecated and will be removed in a future release. Use the more efficient `distance.nearest_nodes` instead.\n",
      " pid=25084)\u001b[0m UserWarning: The `get_nearest_node` function has been deprecated and will be removed in a future release. Use the more efficient `distance.nearest_nodes` instead.\n",
      " pid=25084)\u001b[0m UserWarning: The `get_nearest_node` function has been deprecated and will be removed in a future release. Use the more efficient `distance.nearest_nodes` instead.\n",
      " pid=25084)\u001b[0m UserWarning: The `get_nearest_node` function has been deprecated and will be removed in a future release. Use the more efficient `distance.nearest_nodes` instead.\n",
      " pid=25084)\u001b[0m UserWarning: The `get_nearest_node` function has been deprecated and will be removed in a future release. Use the more efficient `distance.nearest_nodes` instead.\n",
      " pid=25084)\u001b[0m UserWarning: The `get_nearest_node` function has been deprecated and will be removed in a future release. Use the more efficient `distance.nearest_nodes` instead.\n",
      " pid=17768)\u001b[0m UserWarning: The `get_nearest_node` function has been deprecated and will be removed in a future release. Use the more efficient `distance.nearest_nodes` instead.\n",
      " pid=17768)\u001b[0m UserWarning: The `get_nearest_node` function has been deprecated and will be removed in a future release. Use the more efficient `distance.nearest_nodes` instead.\n",
      " pid=17768)\u001b[0m UserWarning: The `get_nearest_node` function has been deprecated and will be removed in a future release. Use the more efficient `distance.nearest_nodes` instead.\n",
      " pid=17768)\u001b[0m UserWarning: The `get_nearest_node` function has been deprecated and will be removed in a future release. Use the more efficient `distance.nearest_nodes` instead.\n",
      " pid=17768)\u001b[0m UserWarning: The `get_nearest_node` function has been deprecated and will be removed in a future release. Use the more efficient `distance.nearest_nodes` instead.\n",
      " pid=17768)\u001b[0m UserWarning: The `get_nearest_node` function has been deprecated and will be removed in a future release. Use the more efficient `distance.nearest_nodes` instead.\n",
      " pid=25084)\u001b[0m UserWarning: The `get_nearest_node` function has been deprecated and will be removed in a future release. Use the more efficient `distance.nearest_nodes` instead.\n",
      " pid=25084)\u001b[0m UserWarning: The `get_nearest_node` function has been deprecated and will be removed in a future release. Use the more efficient `distance.nearest_nodes` instead.\n",
      " pid=17768)\u001b[0m UserWarning: The `get_nearest_node` function has been deprecated and will be removed in a future release. Use the more efficient `distance.nearest_nodes` instead.\n",
      " pid=17768)\u001b[0m UserWarning: The `get_nearest_node` function has been deprecated and will be removed in a future release. Use the more efficient `distance.nearest_nodes` instead.\n",
      " pid=25084)\u001b[0m UserWarning: The `get_nearest_node` function has been deprecated and will be removed in a future release. Use the more efficient `distance.nearest_nodes` instead.\n",
      " pid=25084)\u001b[0m UserWarning: The `get_nearest_node` function has been deprecated and will be removed in a future release. Use the more efficient `distance.nearest_nodes` instead.\n",
      " pid=25084)\u001b[0m UserWarning: The `get_nearest_node` function has been deprecated and will be removed in a future release. Use the more efficient `distance.nearest_nodes` instead.\n",
      " pid=25084)\u001b[0m UserWarning: The `get_nearest_node` function has been deprecated and will be removed in a future release. Use the more efficient `distance.nearest_nodes` instead.\n",
      " pid=17768)\u001b[0m UserWarning: The `get_nearest_node` function has been deprecated and will be removed in a future release. Use the more efficient `distance.nearest_nodes` instead.\n",
      " pid=17768)\u001b[0m UserWarning: The `get_nearest_node` function has been deprecated and will be removed in a future release. Use the more efficient `distance.nearest_nodes` instead.\n",
      " pid=17768)\u001b[0m UserWarning: The `get_nearest_node` function has been deprecated and will be removed in a future release. Use the more efficient `distance.nearest_nodes` instead.\n",
      " pid=17768)\u001b[0m UserWarning: The `get_nearest_node` function has been deprecated and will be removed in a future release. Use the more efficient `distance.nearest_nodes` instead.\n",
      " pid=17768)\u001b[0m UserWarning: The `get_nearest_node` function has been deprecated and will be removed in a future release. Use the more efficient `distance.nearest_nodes` instead.\n",
      " pid=25084)\u001b[0m UserWarning: The `get_nearest_node` function has been deprecated and will be removed in a future release. Use the more efficient `distance.nearest_nodes` instead.\n",
      " pid=25084)\u001b[0m UserWarning: The `get_nearest_node` function has been deprecated and will be removed in a future release. Use the more efficient `distance.nearest_nodes` instead.\n",
      " pid=25084)\u001b[0m UserWarning: The `get_nearest_node` function has been deprecated and will be removed in a future release. Use the more efficient `distance.nearest_nodes` instead.\n",
      " pid=25084)\u001b[0m UserWarning: The `get_nearest_node` function has been deprecated and will be removed in a future release. Use the more efficient `distance.nearest_nodes` instead.\n",
      " pid=25084)\u001b[0m UserWarning: The `get_nearest_node` function has been deprecated and will be removed in a future release. Use the more efficient `distance.nearest_nodes` instead.\n",
      " pid=25084)\u001b[0m UserWarning: The `get_nearest_node` function has been deprecated and will be removed in a future release. Use the more efficient `distance.nearest_nodes` instead.\n",
      " pid=17768)\u001b[0m UserWarning: The `get_nearest_node` function has been deprecated and will be removed in a future release. Use the more efficient `distance.nearest_nodes` instead.\n",
      " pid=17768)\u001b[0m UserWarning: The `get_nearest_node` function has been deprecated and will be removed in a future release. Use the more efficient `distance.nearest_nodes` instead.\n",
      " pid=17768)\u001b[0m UserWarning: The `get_nearest_node` function has been deprecated and will be removed in a future release. Use the more efficient `distance.nearest_nodes` instead.\n",
      " pid=17768)\u001b[0m UserWarning: The `get_nearest_node` function has been deprecated and will be removed in a future release. Use the more efficient `distance.nearest_nodes` instead.\n",
      " pid=17768)\u001b[0m UserWarning: The `get_nearest_node` function has been deprecated and will be removed in a future release. Use the more efficient `distance.nearest_nodes` instead.\n",
      " pid=25084)\u001b[0m UserWarning: The `get_nearest_node` function has been deprecated and will be removed in a future release. Use the more efficient `distance.nearest_nodes` instead.\n",
      " pid=17768)\u001b[0m UserWarning: The `get_nearest_node` function has been deprecated and will be removed in a future release. Use the more efficient `distance.nearest_nodes` instead.\n",
      " pid=25084)\u001b[0m UserWarning: The `get_nearest_node` function has been deprecated and will be removed in a future release. Use the more efficient `distance.nearest_nodes` instead.\n",
      " pid=25084)\u001b[0m UserWarning: The `get_nearest_node` function has been deprecated and will be removed in a future release. Use the more efficient `distance.nearest_nodes` instead.\n",
      " pid=25084)\u001b[0m UserWarning: The `get_nearest_node` function has been deprecated and will be removed in a future release. Use the more efficient `distance.nearest_nodes` instead.\n",
      " pid=25084)\u001b[0m UserWarning: The `get_nearest_node` function has been deprecated and will be removed in a future release. Use the more efficient `distance.nearest_nodes` instead.\n",
      " pid=25084)\u001b[0m UserWarning: The `get_nearest_node` function has been deprecated and will be removed in a future release. Use the more efficient `distance.nearest_nodes` instead.\n",
      " pid=17768)\u001b[0m UserWarning: The `get_nearest_node` function has been deprecated and will be removed in a future release. Use the more efficient `distance.nearest_nodes` instead.\n",
      " pid=17768)\u001b[0m UserWarning: The `get_nearest_node` function has been deprecated and will be removed in a future release. Use the more efficient `distance.nearest_nodes` instead.\n",
      " pid=17768)\u001b[0m UserWarning: The `get_nearest_node` function has been deprecated and will be removed in a future release. Use the more efficient `distance.nearest_nodes` instead.\n",
      " pid=17768)\u001b[0m UserWarning: The `get_nearest_node` function has been deprecated and will be removed in a future release. Use the more efficient `distance.nearest_nodes` instead.\n",
      " pid=17768)\u001b[0m UserWarning: The `get_nearest_node` function has been deprecated and will be removed in a future release. Use the more efficient `distance.nearest_nodes` instead.\n",
      " pid=25084)\u001b[0m UserWarning: The `get_nearest_node` function has been deprecated and will be removed in a future release. Use the more efficient `distance.nearest_nodes` instead.\n",
      " pid=25084)\u001b[0m UserWarning: The `get_nearest_node` function has been deprecated and will be removed in a future release. Use the more efficient `distance.nearest_nodes` instead.\n",
      " pid=17768)\u001b[0m UserWarning: The `get_nearest_node` function has been deprecated and will be removed in a future release. Use the more efficient `distance.nearest_nodes` instead.\n",
      " pid=17768)\u001b[0m UserWarning: The `get_nearest_node` function has been deprecated and will be removed in a future release. Use the more efficient `distance.nearest_nodes` instead.\n",
      " pid=25084)\u001b[0m UserWarning: The `get_nearest_node` function has been deprecated and will be removed in a future release. Use the more efficient `distance.nearest_nodes` instead.\n",
      " pid=25084)\u001b[0m UserWarning: The `get_nearest_node` function has been deprecated and will be removed in a future release. Use the more efficient `distance.nearest_nodes` instead.\n",
      " pid=17768)\u001b[0m UserWarning: The `get_nearest_node` function has been deprecated and will be removed in a future release. Use the more efficient `distance.nearest_nodes` instead.\n",
      " pid=25084)\u001b[0m UserWarning: The `get_nearest_node` function has been deprecated and will be removed in a future release. Use the more efficient `distance.nearest_nodes` instead.\n",
      " pid=25084)\u001b[0m UserWarning: The `get_nearest_node` function has been deprecated and will be removed in a future release. Use the more efficient `distance.nearest_nodes` instead.\n",
      " pid=25084)\u001b[0m UserWarning: The `get_nearest_node` function has been deprecated and will be removed in a future release. Use the more efficient `distance.nearest_nodes` instead.\n",
      " pid=25084)\u001b[0m UserWarning: The `get_nearest_node` function has been deprecated and will be removed in a future release. Use the more efficient `distance.nearest_nodes` instead.\n",
      " pid=17768)\u001b[0m UserWarning: The `get_nearest_node` function has been deprecated and will be removed in a future release. Use the more efficient `distance.nearest_nodes` instead.\n",
      " pid=17768)\u001b[0m UserWarning: The `get_nearest_node` function has been deprecated and will be removed in a future release. Use the more efficient `distance.nearest_nodes` instead.\n",
      " pid=17768)\u001b[0m UserWarning: The `get_nearest_node` function has been deprecated and will be removed in a future release. Use the more efficient `distance.nearest_nodes` instead.\n",
      " pid=17768)\u001b[0m UserWarning: The `get_nearest_node` function has been deprecated and will be removed in a future release. Use the more efficient `distance.nearest_nodes` instead.\n",
      " pid=17768)\u001b[0m UserWarning: The `get_nearest_node` function has been deprecated and will be removed in a future release. Use the more efficient `distance.nearest_nodes` instead.\n",
      " pid=25084)\u001b[0m UserWarning: The `get_nearest_node` function has been deprecated and will be removed in a future release. Use the more efficient `distance.nearest_nodes` instead.\n",
      " pid=17768)\u001b[0m UserWarning: The `get_nearest_node` function has been deprecated and will be removed in a future release. Use the more efficient `distance.nearest_nodes` instead.\n",
      " pid=25084)\u001b[0m UserWarning: The `get_nearest_node` function has been deprecated and will be removed in a future release. Use the more efficient `distance.nearest_nodes` instead.\n",
      " pid=17768)\u001b[0m UserWarning: The `get_nearest_node` function has been deprecated and will be removed in a future release. Use the more efficient `distance.nearest_nodes` instead.\n"
     ]
    },
    {
     "name": "stdout",
     "output_type": "stream",
     "text": [
      " pid=25084)\u001b[0m Reset with config\n",
      " pid=25084)\u001b[0m final hub: 3\n",
      " pid=25084)\u001b[0m current position: 2\n",
      " pid=17768)\u001b[0m Reset with config\n",
      " pid=17768)\u001b[0m final hub: 3\n",
      " pid=17768)\u001b[0m current position: 2\n",
      " pid=25084)\u001b[0m DB: getAvailableTrips() Execution time: 61.89953064918518 seconds\n",
      " pid=25084)\u001b[0m Reset() loaded trips within 48 hrs into memory: 20177\n",
      " pid=17768)\u001b[0m DB: getAvailableTrips() Execution time: 61.91945028305054 seconds\n",
      " pid=17768)\u001b[0m Reset() loaded trips within 48 hrs into memory: 20177\n",
      " pid=25084)\u001b[0m in_step_available_trips() Execution time: 0.001994609832763672 seconds\n",
      " pid=25084)\u001b[0m Available rides for share found in step: 0\n",
      " pid=25084)\u001b[0m available trips: []\n"
     ]
    },
    {
     "name": "stderr",
     "output_type": "stream",
     "text": [
      "2022-05-16 12:09:58,924\tINFO trainable.py:127 -- Trainable.setup took 156.416 seconds. If your trainable is slow to initialize, consider setting reuse_actors=True to reduce actor creation overheads.\n",
      "2022-05-16 12:09:58,927\tWARNING util.py:55 -- Install gputil for GPU system monitoring.\n"
     ]
    },
    {
     "name": "stdout",
     "output_type": "stream",
     "text": [
      " pid=17768)\u001b[0m in_step_available_trips() Execution time: 0.0009970664978027344 seconds\n",
      " pid=17768)\u001b[0m Available rides for share found in step: 0\n",
      " pid=17768)\u001b[0m available trips: []\n"
     ]
    }
   ],
   "source": [
    "ppo_trainer=PPOTrainer(ppo_config,GraphEnv)"
   ]
  },
  {
   "cell_type": "code",
   "execution_count": null,
   "metadata": {},
   "outputs": [],
   "source": [
    "trainer_dqn = DQNTrainer(dqn_config,GraphEnv)"
   ]
  },
  {
   "cell_type": "code",
   "execution_count": null,
   "metadata": {},
   "outputs": [],
   "source": [
    "trainer_rainbow=DQNTrainer(rainbow_config,GraphEnv )\n"
   ]
  },
  {
   "cell_type": "code",
   "execution_count": null,
   "metadata": {},
   "outputs": [],
   "source": [
    "#trainer_apex=DQNTrainer(apex_config,GraphEnv )"
   ]
  },
  {
   "cell_type": "markdown",
   "metadata": {},
   "source": [
    "Define the path where the results of the trainer should be saved"
   ]
  },
  {
   "cell_type": "code",
   "execution_count": 10,
   "metadata": {},
   "outputs": [],
   "source": [
    "checkpoint_root = \"tmp/ppo/graphworld\"\n",
    "shutil.rmtree(checkpoint_root, ignore_errors=True, onerror=None)   # clean up old runs"
   ]
  },
  {
   "cell_type": "markdown",
   "metadata": {},
   "source": []
  },
  {
   "cell_type": "markdown",
   "metadata": {},
   "source": [
    "Run the trainer"
   ]
  },
  {
   "cell_type": "code",
   "execution_count": 11,
   "metadata": {},
   "outputs": [
    {
     "name": "stdout",
     "output_type": "stream",
     "text": [
      " pid=25084)\u001b[0m Reset with config\n",
      " pid=25084)\u001b[0m final hub: 3\n",
      " pid=25084)\u001b[0m current position: 2\n",
      " pid=17768)\u001b[0m Reset with config\n",
      " pid=17768)\u001b[0m final hub: 3\n",
      " pid=17768)\u001b[0m current position: 2\n"
     ]
    },
    {
     "ename": "KeyboardInterrupt",
     "evalue": "",
     "output_type": "error",
     "traceback": [
      "\u001b[1;31m---------------------------------------------------------------------------\u001b[0m",
      "\u001b[1;31mKeyboardInterrupt\u001b[0m                         Traceback (most recent call last)",
      "\u001b[1;32mc:\\Users\\kirch\\OneDrive\\Dokumente\\Uni\\Mannheim\\FSS2022\\Teamproject\\ines-autonomous-dispatching\\rl\\Manhattan_Graph_Environment\\test_env_DQN.ipynb Cell 29'\u001b[0m in \u001b[0;36m<cell line: 6>\u001b[1;34m()\u001b[0m\n\u001b[0;32m      <a href='vscode-notebook-cell:/c%3A/Users/kirch/OneDrive/Dokumente/Uni/Mannheim/FSS2022/Teamproject/ines-autonomous-dispatching/rl/Manhattan_Graph_Environment/test_env_DQN.ipynb#ch0000028?line=3'>4</a>\u001b[0m n_iter\u001b[39m=\u001b[39m\u001b[39m10\u001b[39m\n\u001b[0;32m      <a href='vscode-notebook-cell:/c%3A/Users/kirch/OneDrive/Dokumente/Uni/Mannheim/FSS2022/Teamproject/ines-autonomous-dispatching/rl/Manhattan_Graph_Environment/test_env_DQN.ipynb#ch0000028?line=5'>6</a>\u001b[0m \u001b[39mfor\u001b[39;00m n \u001b[39min\u001b[39;00m \u001b[39mrange\u001b[39m(n_iter):\n\u001b[1;32m----> <a href='vscode-notebook-cell:/c%3A/Users/kirch/OneDrive/Dokumente/Uni/Mannheim/FSS2022/Teamproject/ines-autonomous-dispatching/rl/Manhattan_Graph_Environment/test_env_DQN.ipynb#ch0000028?line=6'>7</a>\u001b[0m     result \u001b[39m=\u001b[39m ppo_trainer\u001b[39m.\u001b[39;49mtrain()\n\u001b[0;32m      <a href='vscode-notebook-cell:/c%3A/Users/kirch/OneDrive/Dokumente/Uni/Mannheim/FSS2022/Teamproject/ines-autonomous-dispatching/rl/Manhattan_Graph_Environment/test_env_DQN.ipynb#ch0000028?line=7'>8</a>\u001b[0m     results\u001b[39m.\u001b[39mappend(result)\n\u001b[0;32m      <a href='vscode-notebook-cell:/c%3A/Users/kirch/OneDrive/Dokumente/Uni/Mannheim/FSS2022/Teamproject/ines-autonomous-dispatching/rl/Manhattan_Graph_Environment/test_env_DQN.ipynb#ch0000028?line=8'>9</a>\u001b[0m     \u001b[39mprint\u001b[39m(\u001b[39m\"\u001b[39m\u001b[39mTEST\u001b[39m\u001b[39m\"\u001b[39m,n)\n",
      "File \u001b[1;32mc:\\Users\\kirch\\anaconda3\\envs\\ClujMTP\\lib\\site-packages\\ray\\tune\\trainable.py:319\u001b[0m, in \u001b[0;36mTrainable.train\u001b[1;34m(self)\u001b[0m\n\u001b[0;32m    <a href='file:///c%3A/Users/kirch/anaconda3/envs/ClujMTP/lib/site-packages/ray/tune/trainable.py?line=278'>279</a>\u001b[0m \u001b[39m\"\"\"Runs one logical iteration of training.\u001b[39;00m\n\u001b[0;32m    <a href='file:///c%3A/Users/kirch/anaconda3/envs/ClujMTP/lib/site-packages/ray/tune/trainable.py?line=279'>280</a>\u001b[0m \n\u001b[0;32m    <a href='file:///c%3A/Users/kirch/anaconda3/envs/ClujMTP/lib/site-packages/ray/tune/trainable.py?line=280'>281</a>\u001b[0m \u001b[39mCalls ``step()`` internally. Subclasses should override ``step()``\u001b[39;00m\n\u001b[1;32m   (...)\u001b[0m\n\u001b[0;32m    <a href='file:///c%3A/Users/kirch/anaconda3/envs/ClujMTP/lib/site-packages/ray/tune/trainable.py?line=315'>316</a>\u001b[0m \u001b[39m    A dict that describes training progress.\u001b[39;00m\n\u001b[0;32m    <a href='file:///c%3A/Users/kirch/anaconda3/envs/ClujMTP/lib/site-packages/ray/tune/trainable.py?line=316'>317</a>\u001b[0m \u001b[39m\"\"\"\u001b[39;00m\n\u001b[0;32m    <a href='file:///c%3A/Users/kirch/anaconda3/envs/ClujMTP/lib/site-packages/ray/tune/trainable.py?line=317'>318</a>\u001b[0m start \u001b[39m=\u001b[39m time\u001b[39m.\u001b[39mtime()\n\u001b[1;32m--> <a href='file:///c%3A/Users/kirch/anaconda3/envs/ClujMTP/lib/site-packages/ray/tune/trainable.py?line=318'>319</a>\u001b[0m result \u001b[39m=\u001b[39m \u001b[39mself\u001b[39;49m\u001b[39m.\u001b[39;49mstep()\n\u001b[0;32m    <a href='file:///c%3A/Users/kirch/anaconda3/envs/ClujMTP/lib/site-packages/ray/tune/trainable.py?line=319'>320</a>\u001b[0m \u001b[39massert\u001b[39;00m \u001b[39misinstance\u001b[39m(result, \u001b[39mdict\u001b[39m), \u001b[39m\"\u001b[39m\u001b[39mstep() needs to return a dict.\u001b[39m\u001b[39m\"\u001b[39m\n\u001b[0;32m    <a href='file:///c%3A/Users/kirch/anaconda3/envs/ClujMTP/lib/site-packages/ray/tune/trainable.py?line=321'>322</a>\u001b[0m \u001b[39m# We do not modify internal state nor update this result if duplicate.\u001b[39;00m\n",
      "File \u001b[1;32mc:\\Users\\kirch\\anaconda3\\envs\\ClujMTP\\lib\\site-packages\\ray\\rllib\\agents\\trainer.py:965\u001b[0m, in \u001b[0;36mTrainer.step\u001b[1;34m(self)\u001b[0m\n\u001b[0;32m    <a href='file:///c%3A/Users/kirch/anaconda3/envs/ClujMTP/lib/site-packages/ray/rllib/agents/trainer.py?line=961'>962</a>\u001b[0m \u001b[39mwhile\u001b[39;00m \u001b[39mnot\u001b[39;00m step_ctx\u001b[39m.\u001b[39mshould_stop(step_attempt_results):\n\u001b[0;32m    <a href='file:///c%3A/Users/kirch/anaconda3/envs/ClujMTP/lib/site-packages/ray/rllib/agents/trainer.py?line=962'>963</a>\u001b[0m     \u001b[39m# Try to train one step.\u001b[39;00m\n\u001b[0;32m    <a href='file:///c%3A/Users/kirch/anaconda3/envs/ClujMTP/lib/site-packages/ray/rllib/agents/trainer.py?line=963'>964</a>\u001b[0m     \u001b[39mtry\u001b[39;00m:\n\u001b[1;32m--> <a href='file:///c%3A/Users/kirch/anaconda3/envs/ClujMTP/lib/site-packages/ray/rllib/agents/trainer.py?line=964'>965</a>\u001b[0m         step_attempt_results \u001b[39m=\u001b[39m \u001b[39mself\u001b[39;49m\u001b[39m.\u001b[39;49mstep_attempt()\n\u001b[0;32m    <a href='file:///c%3A/Users/kirch/anaconda3/envs/ClujMTP/lib/site-packages/ray/rllib/agents/trainer.py?line=965'>966</a>\u001b[0m     \u001b[39m# @ray.remote RolloutWorker failure.\u001b[39;00m\n\u001b[0;32m    <a href='file:///c%3A/Users/kirch/anaconda3/envs/ClujMTP/lib/site-packages/ray/rllib/agents/trainer.py?line=966'>967</a>\u001b[0m     \u001b[39mexcept\u001b[39;00m RayError \u001b[39mas\u001b[39;00m e:\n\u001b[0;32m    <a href='file:///c%3A/Users/kirch/anaconda3/envs/ClujMTP/lib/site-packages/ray/rllib/agents/trainer.py?line=967'>968</a>\u001b[0m         \u001b[39m# Try to recover w/o the failed worker.\u001b[39;00m\n",
      "File \u001b[1;32mc:\\Users\\kirch\\anaconda3\\envs\\ClujMTP\\lib\\site-packages\\ray\\rllib\\agents\\trainer.py:1044\u001b[0m, in \u001b[0;36mTrainer.step_attempt\u001b[1;34m(self)\u001b[0m\n\u001b[0;32m   <a href='file:///c%3A/Users/kirch/anaconda3/envs/ClujMTP/lib/site-packages/ray/rllib/agents/trainer.py?line=1041'>1042</a>\u001b[0m \u001b[39m# No evaluation necessary, just run the next training iteration.\u001b[39;00m\n\u001b[0;32m   <a href='file:///c%3A/Users/kirch/anaconda3/envs/ClujMTP/lib/site-packages/ray/rllib/agents/trainer.py?line=1042'>1043</a>\u001b[0m \u001b[39mif\u001b[39;00m \u001b[39mnot\u001b[39;00m evaluate_this_iter:\n\u001b[1;32m-> <a href='file:///c%3A/Users/kirch/anaconda3/envs/ClujMTP/lib/site-packages/ray/rllib/agents/trainer.py?line=1043'>1044</a>\u001b[0m     step_results \u001b[39m=\u001b[39m \u001b[39mself\u001b[39;49m\u001b[39m.\u001b[39;49m_exec_plan_or_training_iteration_fn()\n\u001b[0;32m   <a href='file:///c%3A/Users/kirch/anaconda3/envs/ClujMTP/lib/site-packages/ray/rllib/agents/trainer.py?line=1044'>1045</a>\u001b[0m \u001b[39m# We have to evaluate in this training iteration.\u001b[39;00m\n\u001b[0;32m   <a href='file:///c%3A/Users/kirch/anaconda3/envs/ClujMTP/lib/site-packages/ray/rllib/agents/trainer.py?line=1045'>1046</a>\u001b[0m \u001b[39melse\u001b[39;00m:\n\u001b[0;32m   <a href='file:///c%3A/Users/kirch/anaconda3/envs/ClujMTP/lib/site-packages/ray/rllib/agents/trainer.py?line=1046'>1047</a>\u001b[0m     \u001b[39m# No parallelism.\u001b[39;00m\n\u001b[0;32m   <a href='file:///c%3A/Users/kirch/anaconda3/envs/ClujMTP/lib/site-packages/ray/rllib/agents/trainer.py?line=1047'>1048</a>\u001b[0m     \u001b[39mif\u001b[39;00m \u001b[39mnot\u001b[39;00m \u001b[39mself\u001b[39m\u001b[39m.\u001b[39mconfig[\u001b[39m\"\u001b[39m\u001b[39mevaluation_parallel_to_training\u001b[39m\u001b[39m\"\u001b[39m]:\n",
      "File \u001b[1;32mc:\\Users\\kirch\\anaconda3\\envs\\ClujMTP\\lib\\site-packages\\ray\\rllib\\agents\\trainer.py:2032\u001b[0m, in \u001b[0;36mTrainer._exec_plan_or_training_iteration_fn\u001b[1;34m(self)\u001b[0m\n\u001b[0;32m   <a href='file:///c%3A/Users/kirch/anaconda3/envs/ClujMTP/lib/site-packages/ray/rllib/agents/trainer.py?line=2029'>2030</a>\u001b[0m     results \u001b[39m=\u001b[39m \u001b[39mself\u001b[39m\u001b[39m.\u001b[39mtraining_iteration()\n\u001b[0;32m   <a href='file:///c%3A/Users/kirch/anaconda3/envs/ClujMTP/lib/site-packages/ray/rllib/agents/trainer.py?line=2030'>2031</a>\u001b[0m \u001b[39melse\u001b[39;00m:\n\u001b[1;32m-> <a href='file:///c%3A/Users/kirch/anaconda3/envs/ClujMTP/lib/site-packages/ray/rllib/agents/trainer.py?line=2031'>2032</a>\u001b[0m     results \u001b[39m=\u001b[39m \u001b[39mnext\u001b[39;49m(\u001b[39mself\u001b[39;49m\u001b[39m.\u001b[39;49mtrain_exec_impl)\n\u001b[0;32m   <a href='file:///c%3A/Users/kirch/anaconda3/envs/ClujMTP/lib/site-packages/ray/rllib/agents/trainer.py?line=2032'>2033</a>\u001b[0m \u001b[39mreturn\u001b[39;00m results\n",
      "File \u001b[1;32mc:\\Users\\kirch\\anaconda3\\envs\\ClujMTP\\lib\\site-packages\\ray\\util\\iter.py:756\u001b[0m, in \u001b[0;36mLocalIterator.__next__\u001b[1;34m(self)\u001b[0m\n\u001b[0;32m    <a href='file:///c%3A/Users/kirch/anaconda3/envs/ClujMTP/lib/site-packages/ray/util/iter.py?line=753'>754</a>\u001b[0m \u001b[39mdef\u001b[39;00m \u001b[39m__next__\u001b[39m(\u001b[39mself\u001b[39m):\n\u001b[0;32m    <a href='file:///c%3A/Users/kirch/anaconda3/envs/ClujMTP/lib/site-packages/ray/util/iter.py?line=754'>755</a>\u001b[0m     \u001b[39mself\u001b[39m\u001b[39m.\u001b[39m_build_once()\n\u001b[1;32m--> <a href='file:///c%3A/Users/kirch/anaconda3/envs/ClujMTP/lib/site-packages/ray/util/iter.py?line=755'>756</a>\u001b[0m     \u001b[39mreturn\u001b[39;00m \u001b[39mnext\u001b[39;49m(\u001b[39mself\u001b[39;49m\u001b[39m.\u001b[39;49mbuilt_iterator)\n",
      "File \u001b[1;32mc:\\Users\\kirch\\anaconda3\\envs\\ClujMTP\\lib\\site-packages\\ray\\util\\iter.py:783\u001b[0m, in \u001b[0;36mLocalIterator.for_each.<locals>.apply_foreach\u001b[1;34m(it)\u001b[0m\n\u001b[0;32m    <a href='file:///c%3A/Users/kirch/anaconda3/envs/ClujMTP/lib/site-packages/ray/util/iter.py?line=781'>782</a>\u001b[0m \u001b[39mdef\u001b[39;00m \u001b[39mapply_foreach\u001b[39m(it):\n\u001b[1;32m--> <a href='file:///c%3A/Users/kirch/anaconda3/envs/ClujMTP/lib/site-packages/ray/util/iter.py?line=782'>783</a>\u001b[0m     \u001b[39mfor\u001b[39;00m item \u001b[39min\u001b[39;00m it:\n\u001b[0;32m    <a href='file:///c%3A/Users/kirch/anaconda3/envs/ClujMTP/lib/site-packages/ray/util/iter.py?line=783'>784</a>\u001b[0m         \u001b[39mif\u001b[39;00m \u001b[39misinstance\u001b[39m(item, _NextValueNotReady):\n\u001b[0;32m    <a href='file:///c%3A/Users/kirch/anaconda3/envs/ClujMTP/lib/site-packages/ray/util/iter.py?line=784'>785</a>\u001b[0m             \u001b[39myield\u001b[39;00m item\n",
      "File \u001b[1;32mc:\\Users\\kirch\\anaconda3\\envs\\ClujMTP\\lib\\site-packages\\ray\\util\\iter.py:783\u001b[0m, in \u001b[0;36mLocalIterator.for_each.<locals>.apply_foreach\u001b[1;34m(it)\u001b[0m\n\u001b[0;32m    <a href='file:///c%3A/Users/kirch/anaconda3/envs/ClujMTP/lib/site-packages/ray/util/iter.py?line=781'>782</a>\u001b[0m \u001b[39mdef\u001b[39;00m \u001b[39mapply_foreach\u001b[39m(it):\n\u001b[1;32m--> <a href='file:///c%3A/Users/kirch/anaconda3/envs/ClujMTP/lib/site-packages/ray/util/iter.py?line=782'>783</a>\u001b[0m     \u001b[39mfor\u001b[39;00m item \u001b[39min\u001b[39;00m it:\n\u001b[0;32m    <a href='file:///c%3A/Users/kirch/anaconda3/envs/ClujMTP/lib/site-packages/ray/util/iter.py?line=783'>784</a>\u001b[0m         \u001b[39mif\u001b[39;00m \u001b[39misinstance\u001b[39m(item, _NextValueNotReady):\n\u001b[0;32m    <a href='file:///c%3A/Users/kirch/anaconda3/envs/ClujMTP/lib/site-packages/ray/util/iter.py?line=784'>785</a>\u001b[0m             \u001b[39myield\u001b[39;00m item\n",
      "File \u001b[1;32mc:\\Users\\kirch\\anaconda3\\envs\\ClujMTP\\lib\\site-packages\\ray\\util\\iter.py:843\u001b[0m, in \u001b[0;36mLocalIterator.filter.<locals>.apply_filter\u001b[1;34m(it)\u001b[0m\n\u001b[0;32m    <a href='file:///c%3A/Users/kirch/anaconda3/envs/ClujMTP/lib/site-packages/ray/util/iter.py?line=841'>842</a>\u001b[0m \u001b[39mdef\u001b[39;00m \u001b[39mapply_filter\u001b[39m(it):\n\u001b[1;32m--> <a href='file:///c%3A/Users/kirch/anaconda3/envs/ClujMTP/lib/site-packages/ray/util/iter.py?line=842'>843</a>\u001b[0m     \u001b[39mfor\u001b[39;00m item \u001b[39min\u001b[39;00m it:\n\u001b[0;32m    <a href='file:///c%3A/Users/kirch/anaconda3/envs/ClujMTP/lib/site-packages/ray/util/iter.py?line=843'>844</a>\u001b[0m         \u001b[39mwith\u001b[39;00m \u001b[39mself\u001b[39m\u001b[39m.\u001b[39m_metrics_context():\n\u001b[0;32m    <a href='file:///c%3A/Users/kirch/anaconda3/envs/ClujMTP/lib/site-packages/ray/util/iter.py?line=844'>845</a>\u001b[0m             \u001b[39mif\u001b[39;00m \u001b[39misinstance\u001b[39m(item, _NextValueNotReady) \u001b[39mor\u001b[39;00m fn(item):\n",
      "File \u001b[1;32mc:\\Users\\kirch\\anaconda3\\envs\\ClujMTP\\lib\\site-packages\\ray\\util\\iter.py:843\u001b[0m, in \u001b[0;36mLocalIterator.filter.<locals>.apply_filter\u001b[1;34m(it)\u001b[0m\n\u001b[0;32m    <a href='file:///c%3A/Users/kirch/anaconda3/envs/ClujMTP/lib/site-packages/ray/util/iter.py?line=841'>842</a>\u001b[0m \u001b[39mdef\u001b[39;00m \u001b[39mapply_filter\u001b[39m(it):\n\u001b[1;32m--> <a href='file:///c%3A/Users/kirch/anaconda3/envs/ClujMTP/lib/site-packages/ray/util/iter.py?line=842'>843</a>\u001b[0m     \u001b[39mfor\u001b[39;00m item \u001b[39min\u001b[39;00m it:\n\u001b[0;32m    <a href='file:///c%3A/Users/kirch/anaconda3/envs/ClujMTP/lib/site-packages/ray/util/iter.py?line=843'>844</a>\u001b[0m         \u001b[39mwith\u001b[39;00m \u001b[39mself\u001b[39m\u001b[39m.\u001b[39m_metrics_context():\n\u001b[0;32m    <a href='file:///c%3A/Users/kirch/anaconda3/envs/ClujMTP/lib/site-packages/ray/util/iter.py?line=844'>845</a>\u001b[0m             \u001b[39mif\u001b[39;00m \u001b[39misinstance\u001b[39m(item, _NextValueNotReady) \u001b[39mor\u001b[39;00m fn(item):\n",
      "File \u001b[1;32mc:\\Users\\kirch\\anaconda3\\envs\\ClujMTP\\lib\\site-packages\\ray\\util\\iter.py:783\u001b[0m, in \u001b[0;36mLocalIterator.for_each.<locals>.apply_foreach\u001b[1;34m(it)\u001b[0m\n\u001b[0;32m    <a href='file:///c%3A/Users/kirch/anaconda3/envs/ClujMTP/lib/site-packages/ray/util/iter.py?line=781'>782</a>\u001b[0m \u001b[39mdef\u001b[39;00m \u001b[39mapply_foreach\u001b[39m(it):\n\u001b[1;32m--> <a href='file:///c%3A/Users/kirch/anaconda3/envs/ClujMTP/lib/site-packages/ray/util/iter.py?line=782'>783</a>\u001b[0m     \u001b[39mfor\u001b[39;00m item \u001b[39min\u001b[39;00m it:\n\u001b[0;32m    <a href='file:///c%3A/Users/kirch/anaconda3/envs/ClujMTP/lib/site-packages/ray/util/iter.py?line=783'>784</a>\u001b[0m         \u001b[39mif\u001b[39;00m \u001b[39misinstance\u001b[39m(item, _NextValueNotReady):\n\u001b[0;32m    <a href='file:///c%3A/Users/kirch/anaconda3/envs/ClujMTP/lib/site-packages/ray/util/iter.py?line=784'>785</a>\u001b[0m             \u001b[39myield\u001b[39;00m item\n",
      "File \u001b[1;32mc:\\Users\\kirch\\anaconda3\\envs\\ClujMTP\\lib\\site-packages\\ray\\util\\iter.py:783\u001b[0m, in \u001b[0;36mLocalIterator.for_each.<locals>.apply_foreach\u001b[1;34m(it)\u001b[0m\n\u001b[0;32m    <a href='file:///c%3A/Users/kirch/anaconda3/envs/ClujMTP/lib/site-packages/ray/util/iter.py?line=781'>782</a>\u001b[0m \u001b[39mdef\u001b[39;00m \u001b[39mapply_foreach\u001b[39m(it):\n\u001b[1;32m--> <a href='file:///c%3A/Users/kirch/anaconda3/envs/ClujMTP/lib/site-packages/ray/util/iter.py?line=782'>783</a>\u001b[0m     \u001b[39mfor\u001b[39;00m item \u001b[39min\u001b[39;00m it:\n\u001b[0;32m    <a href='file:///c%3A/Users/kirch/anaconda3/envs/ClujMTP/lib/site-packages/ray/util/iter.py?line=783'>784</a>\u001b[0m         \u001b[39mif\u001b[39;00m \u001b[39misinstance\u001b[39m(item, _NextValueNotReady):\n\u001b[0;32m    <a href='file:///c%3A/Users/kirch/anaconda3/envs/ClujMTP/lib/site-packages/ray/util/iter.py?line=784'>785</a>\u001b[0m             \u001b[39myield\u001b[39;00m item\n",
      "    \u001b[1;31m[... skipping similar frames: LocalIterator.for_each.<locals>.apply_foreach at line 783 (1 times)]\u001b[0m\n",
      "File \u001b[1;32mc:\\Users\\kirch\\anaconda3\\envs\\ClujMTP\\lib\\site-packages\\ray\\util\\iter.py:783\u001b[0m, in \u001b[0;36mLocalIterator.for_each.<locals>.apply_foreach\u001b[1;34m(it)\u001b[0m\n\u001b[0;32m    <a href='file:///c%3A/Users/kirch/anaconda3/envs/ClujMTP/lib/site-packages/ray/util/iter.py?line=781'>782</a>\u001b[0m \u001b[39mdef\u001b[39;00m \u001b[39mapply_foreach\u001b[39m(it):\n\u001b[1;32m--> <a href='file:///c%3A/Users/kirch/anaconda3/envs/ClujMTP/lib/site-packages/ray/util/iter.py?line=782'>783</a>\u001b[0m     \u001b[39mfor\u001b[39;00m item \u001b[39min\u001b[39;00m it:\n\u001b[0;32m    <a href='file:///c%3A/Users/kirch/anaconda3/envs/ClujMTP/lib/site-packages/ray/util/iter.py?line=783'>784</a>\u001b[0m         \u001b[39mif\u001b[39;00m \u001b[39misinstance\u001b[39m(item, _NextValueNotReady):\n\u001b[0;32m    <a href='file:///c%3A/Users/kirch/anaconda3/envs/ClujMTP/lib/site-packages/ray/util/iter.py?line=784'>785</a>\u001b[0m             \u001b[39myield\u001b[39;00m item\n",
      "File \u001b[1;32mc:\\Users\\kirch\\anaconda3\\envs\\ClujMTP\\lib\\site-packages\\ray\\util\\iter.py:876\u001b[0m, in \u001b[0;36mLocalIterator.flatten.<locals>.apply_flatten\u001b[1;34m(it)\u001b[0m\n\u001b[0;32m    <a href='file:///c%3A/Users/kirch/anaconda3/envs/ClujMTP/lib/site-packages/ray/util/iter.py?line=874'>875</a>\u001b[0m \u001b[39mdef\u001b[39;00m \u001b[39mapply_flatten\u001b[39m(it):\n\u001b[1;32m--> <a href='file:///c%3A/Users/kirch/anaconda3/envs/ClujMTP/lib/site-packages/ray/util/iter.py?line=875'>876</a>\u001b[0m     \u001b[39mfor\u001b[39;00m item \u001b[39min\u001b[39;00m it:\n\u001b[0;32m    <a href='file:///c%3A/Users/kirch/anaconda3/envs/ClujMTP/lib/site-packages/ray/util/iter.py?line=876'>877</a>\u001b[0m         \u001b[39mif\u001b[39;00m \u001b[39misinstance\u001b[39m(item, _NextValueNotReady):\n\u001b[0;32m    <a href='file:///c%3A/Users/kirch/anaconda3/envs/ClujMTP/lib/site-packages/ray/util/iter.py?line=877'>878</a>\u001b[0m             \u001b[39myield\u001b[39;00m item\n",
      "File \u001b[1;32mc:\\Users\\kirch\\anaconda3\\envs\\ClujMTP\\lib\\site-packages\\ray\\util\\iter.py:783\u001b[0m, in \u001b[0;36mLocalIterator.for_each.<locals>.apply_foreach\u001b[1;34m(it)\u001b[0m\n\u001b[0;32m    <a href='file:///c%3A/Users/kirch/anaconda3/envs/ClujMTP/lib/site-packages/ray/util/iter.py?line=781'>782</a>\u001b[0m \u001b[39mdef\u001b[39;00m \u001b[39mapply_foreach\u001b[39m(it):\n\u001b[1;32m--> <a href='file:///c%3A/Users/kirch/anaconda3/envs/ClujMTP/lib/site-packages/ray/util/iter.py?line=782'>783</a>\u001b[0m     \u001b[39mfor\u001b[39;00m item \u001b[39min\u001b[39;00m it:\n\u001b[0;32m    <a href='file:///c%3A/Users/kirch/anaconda3/envs/ClujMTP/lib/site-packages/ray/util/iter.py?line=783'>784</a>\u001b[0m         \u001b[39mif\u001b[39;00m \u001b[39misinstance\u001b[39m(item, _NextValueNotReady):\n\u001b[0;32m    <a href='file:///c%3A/Users/kirch/anaconda3/envs/ClujMTP/lib/site-packages/ray/util/iter.py?line=784'>785</a>\u001b[0m             \u001b[39myield\u001b[39;00m item\n",
      "File \u001b[1;32mc:\\Users\\kirch\\anaconda3\\envs\\ClujMTP\\lib\\site-packages\\ray\\util\\iter.py:783\u001b[0m, in \u001b[0;36mLocalIterator.for_each.<locals>.apply_foreach\u001b[1;34m(it)\u001b[0m\n\u001b[0;32m    <a href='file:///c%3A/Users/kirch/anaconda3/envs/ClujMTP/lib/site-packages/ray/util/iter.py?line=781'>782</a>\u001b[0m \u001b[39mdef\u001b[39;00m \u001b[39mapply_foreach\u001b[39m(it):\n\u001b[1;32m--> <a href='file:///c%3A/Users/kirch/anaconda3/envs/ClujMTP/lib/site-packages/ray/util/iter.py?line=782'>783</a>\u001b[0m     \u001b[39mfor\u001b[39;00m item \u001b[39min\u001b[39;00m it:\n\u001b[0;32m    <a href='file:///c%3A/Users/kirch/anaconda3/envs/ClujMTP/lib/site-packages/ray/util/iter.py?line=783'>784</a>\u001b[0m         \u001b[39mif\u001b[39;00m \u001b[39misinstance\u001b[39m(item, _NextValueNotReady):\n\u001b[0;32m    <a href='file:///c%3A/Users/kirch/anaconda3/envs/ClujMTP/lib/site-packages/ray/util/iter.py?line=784'>785</a>\u001b[0m             \u001b[39myield\u001b[39;00m item\n",
      "    \u001b[1;31m[... skipping similar frames: LocalIterator.for_each.<locals>.apply_foreach at line 783 (1 times)]\u001b[0m\n",
      "File \u001b[1;32mc:\\Users\\kirch\\anaconda3\\envs\\ClujMTP\\lib\\site-packages\\ray\\util\\iter.py:783\u001b[0m, in \u001b[0;36mLocalIterator.for_each.<locals>.apply_foreach\u001b[1;34m(it)\u001b[0m\n\u001b[0;32m    <a href='file:///c%3A/Users/kirch/anaconda3/envs/ClujMTP/lib/site-packages/ray/util/iter.py?line=781'>782</a>\u001b[0m \u001b[39mdef\u001b[39;00m \u001b[39mapply_foreach\u001b[39m(it):\n\u001b[1;32m--> <a href='file:///c%3A/Users/kirch/anaconda3/envs/ClujMTP/lib/site-packages/ray/util/iter.py?line=782'>783</a>\u001b[0m     \u001b[39mfor\u001b[39;00m item \u001b[39min\u001b[39;00m it:\n\u001b[0;32m    <a href='file:///c%3A/Users/kirch/anaconda3/envs/ClujMTP/lib/site-packages/ray/util/iter.py?line=783'>784</a>\u001b[0m         \u001b[39mif\u001b[39;00m \u001b[39misinstance\u001b[39m(item, _NextValueNotReady):\n\u001b[0;32m    <a href='file:///c%3A/Users/kirch/anaconda3/envs/ClujMTP/lib/site-packages/ray/util/iter.py?line=784'>785</a>\u001b[0m             \u001b[39myield\u001b[39;00m item\n",
      "File \u001b[1;32mc:\\Users\\kirch\\anaconda3\\envs\\ClujMTP\\lib\\site-packages\\ray\\util\\iter.py:471\u001b[0m, in \u001b[0;36mParallelIterator.batch_across_shards.<locals>.base_iterator\u001b[1;34m(timeout)\u001b[0m\n\u001b[0;32m    <a href='file:///c%3A/Users/kirch/anaconda3/envs/ClujMTP/lib/site-packages/ray/util/iter.py?line=468'>469</a>\u001b[0m \u001b[39mwhile\u001b[39;00m active:\n\u001b[0;32m    <a href='file:///c%3A/Users/kirch/anaconda3/envs/ClujMTP/lib/site-packages/ray/util/iter.py?line=469'>470</a>\u001b[0m     \u001b[39mtry\u001b[39;00m:\n\u001b[1;32m--> <a href='file:///c%3A/Users/kirch/anaconda3/envs/ClujMTP/lib/site-packages/ray/util/iter.py?line=470'>471</a>\u001b[0m         \u001b[39myield\u001b[39;00m ray\u001b[39m.\u001b[39;49mget(futures, timeout\u001b[39m=\u001b[39;49mtimeout)\n\u001b[0;32m    <a href='file:///c%3A/Users/kirch/anaconda3/envs/ClujMTP/lib/site-packages/ray/util/iter.py?line=471'>472</a>\u001b[0m         futures \u001b[39m=\u001b[39m [a\u001b[39m.\u001b[39mpar_iter_next\u001b[39m.\u001b[39mremote() \u001b[39mfor\u001b[39;00m a \u001b[39min\u001b[39;00m active]\n\u001b[0;32m    <a href='file:///c%3A/Users/kirch/anaconda3/envs/ClujMTP/lib/site-packages/ray/util/iter.py?line=472'>473</a>\u001b[0m         \u001b[39m# Always yield after each round of gets with timeout.\u001b[39;00m\n",
      "File \u001b[1;32mc:\\Users\\kirch\\anaconda3\\envs\\ClujMTP\\lib\\site-packages\\ray\\_private\\client_mode_hook.py:105\u001b[0m, in \u001b[0;36mclient_mode_hook.<locals>.wrapper\u001b[1;34m(*args, **kwargs)\u001b[0m\n\u001b[0;32m    <a href='file:///c%3A/Users/kirch/anaconda3/envs/ClujMTP/lib/site-packages/ray/_private/client_mode_hook.py?line=102'>103</a>\u001b[0m     \u001b[39mif\u001b[39;00m func\u001b[39m.\u001b[39m\u001b[39m__name__\u001b[39m \u001b[39m!=\u001b[39m \u001b[39m\"\u001b[39m\u001b[39minit\u001b[39m\u001b[39m\"\u001b[39m \u001b[39mor\u001b[39;00m is_client_mode_enabled_by_default:\n\u001b[0;32m    <a href='file:///c%3A/Users/kirch/anaconda3/envs/ClujMTP/lib/site-packages/ray/_private/client_mode_hook.py?line=103'>104</a>\u001b[0m         \u001b[39mreturn\u001b[39;00m \u001b[39mgetattr\u001b[39m(ray, func\u001b[39m.\u001b[39m\u001b[39m__name__\u001b[39m)(\u001b[39m*\u001b[39margs, \u001b[39m*\u001b[39m\u001b[39m*\u001b[39mkwargs)\n\u001b[1;32m--> <a href='file:///c%3A/Users/kirch/anaconda3/envs/ClujMTP/lib/site-packages/ray/_private/client_mode_hook.py?line=104'>105</a>\u001b[0m \u001b[39mreturn\u001b[39;00m func(\u001b[39m*\u001b[39margs, \u001b[39m*\u001b[39m\u001b[39m*\u001b[39mkwargs)\n",
      "File \u001b[1;32mc:\\Users\\kirch\\anaconda3\\envs\\ClujMTP\\lib\\site-packages\\ray\\worker.py:1756\u001b[0m, in \u001b[0;36mget\u001b[1;34m(object_refs, timeout)\u001b[0m\n\u001b[0;32m   <a href='file:///c%3A/Users/kirch/anaconda3/envs/ClujMTP/lib/site-packages/ray/worker.py?line=1751'>1752</a>\u001b[0m     \u001b[39mraise\u001b[39;00m \u001b[39mValueError\u001b[39;00m(\u001b[39m\"\u001b[39m\u001b[39m'\u001b[39m\u001b[39mobject_refs\u001b[39m\u001b[39m'\u001b[39m\u001b[39m must either be an object ref \u001b[39m\u001b[39m\"\u001b[39m\n\u001b[0;32m   <a href='file:///c%3A/Users/kirch/anaconda3/envs/ClujMTP/lib/site-packages/ray/worker.py?line=1752'>1753</a>\u001b[0m                      \u001b[39m\"\u001b[39m\u001b[39mor a list of object refs.\u001b[39m\u001b[39m\"\u001b[39m)\n\u001b[0;32m   <a href='file:///c%3A/Users/kirch/anaconda3/envs/ClujMTP/lib/site-packages/ray/worker.py?line=1754'>1755</a>\u001b[0m \u001b[39m# TODO(ujvl): Consider how to allow user to retrieve the ready objects.\u001b[39;00m\n\u001b[1;32m-> <a href='file:///c%3A/Users/kirch/anaconda3/envs/ClujMTP/lib/site-packages/ray/worker.py?line=1755'>1756</a>\u001b[0m values, debugger_breakpoint \u001b[39m=\u001b[39m worker\u001b[39m.\u001b[39;49mget_objects(\n\u001b[0;32m   <a href='file:///c%3A/Users/kirch/anaconda3/envs/ClujMTP/lib/site-packages/ray/worker.py?line=1756'>1757</a>\u001b[0m     object_refs, timeout\u001b[39m=\u001b[39;49mtimeout)\n\u001b[0;32m   <a href='file:///c%3A/Users/kirch/anaconda3/envs/ClujMTP/lib/site-packages/ray/worker.py?line=1757'>1758</a>\u001b[0m \u001b[39mfor\u001b[39;00m i, value \u001b[39min\u001b[39;00m \u001b[39menumerate\u001b[39m(values):\n\u001b[0;32m   <a href='file:///c%3A/Users/kirch/anaconda3/envs/ClujMTP/lib/site-packages/ray/worker.py?line=1758'>1759</a>\u001b[0m     \u001b[39mif\u001b[39;00m \u001b[39misinstance\u001b[39m(value, RayError):\n",
      "File \u001b[1;32mc:\\Users\\kirch\\anaconda3\\envs\\ClujMTP\\lib\\site-packages\\ray\\worker.py:352\u001b[0m, in \u001b[0;36mWorker.get_objects\u001b[1;34m(self, object_refs, timeout)\u001b[0m\n\u001b[0;32m    <a href='file:///c%3A/Users/kirch/anaconda3/envs/ClujMTP/lib/site-packages/ray/worker.py?line=346'>347</a>\u001b[0m         \u001b[39mraise\u001b[39;00m \u001b[39mTypeError\u001b[39;00m(\n\u001b[0;32m    <a href='file:///c%3A/Users/kirch/anaconda3/envs/ClujMTP/lib/site-packages/ray/worker.py?line=347'>348</a>\u001b[0m             \u001b[39mf\u001b[39m\u001b[39m\"\u001b[39m\u001b[39mAttempting to call `get` on the value \u001b[39m\u001b[39m{\u001b[39;00mobject_ref\u001b[39m}\u001b[39;00m\u001b[39m, \u001b[39m\u001b[39m\"\u001b[39m\n\u001b[0;32m    <a href='file:///c%3A/Users/kirch/anaconda3/envs/ClujMTP/lib/site-packages/ray/worker.py?line=348'>349</a>\u001b[0m             \u001b[39m\"\u001b[39m\u001b[39mwhich is not an ray.ObjectRef.\u001b[39m\u001b[39m\"\u001b[39m)\n\u001b[0;32m    <a href='file:///c%3A/Users/kirch/anaconda3/envs/ClujMTP/lib/site-packages/ray/worker.py?line=350'>351</a>\u001b[0m timeout_ms \u001b[39m=\u001b[39m \u001b[39mint\u001b[39m(timeout \u001b[39m*\u001b[39m \u001b[39m1000\u001b[39m) \u001b[39mif\u001b[39;00m timeout \u001b[39melse\u001b[39;00m \u001b[39m-\u001b[39m\u001b[39m1\u001b[39m\n\u001b[1;32m--> <a href='file:///c%3A/Users/kirch/anaconda3/envs/ClujMTP/lib/site-packages/ray/worker.py?line=351'>352</a>\u001b[0m data_metadata_pairs \u001b[39m=\u001b[39m \u001b[39mself\u001b[39;49m\u001b[39m.\u001b[39;49mcore_worker\u001b[39m.\u001b[39;49mget_objects(\n\u001b[0;32m    <a href='file:///c%3A/Users/kirch/anaconda3/envs/ClujMTP/lib/site-packages/ray/worker.py?line=352'>353</a>\u001b[0m     object_refs, \u001b[39mself\u001b[39;49m\u001b[39m.\u001b[39;49mcurrent_task_id, timeout_ms)\n\u001b[0;32m    <a href='file:///c%3A/Users/kirch/anaconda3/envs/ClujMTP/lib/site-packages/ray/worker.py?line=353'>354</a>\u001b[0m debugger_breakpoint \u001b[39m=\u001b[39m \u001b[39mb\u001b[39m\u001b[39m\"\u001b[39m\u001b[39m\"\u001b[39m\n\u001b[0;32m    <a href='file:///c%3A/Users/kirch/anaconda3/envs/ClujMTP/lib/site-packages/ray/worker.py?line=354'>355</a>\u001b[0m \u001b[39mfor\u001b[39;00m (data, metadata) \u001b[39min\u001b[39;00m data_metadata_pairs:\n",
      "File \u001b[1;32mpython\\ray\\_raylet.pyx:1172\u001b[0m, in \u001b[0;36mray._raylet.CoreWorker.get_objects\u001b[1;34m()\u001b[0m\n",
      "File \u001b[1;32mpython\\ray\\_raylet.pyx:169\u001b[0m, in \u001b[0;36mray._raylet.check_status\u001b[1;34m()\u001b[0m\n",
      "\u001b[1;31mKeyboardInterrupt\u001b[0m: "
     ]
    }
   ],
   "source": [
    "results = []\n",
    "episode_data = []\n",
    "episode_json = []\n",
    "n_iter=10\n",
    "\n",
    "for n in range(n_iter):\n",
    "    result = ppo_trainer.train()\n",
    "    results.append(result)\n",
    "    print(\"TEST\",n)\n",
    "    \n",
    "    episode = {'n': n, \n",
    "               'episode_reward_min': result['episode_reward_min'], \n",
    "               'episode_reward_mean': result['episode_reward_mean'], \n",
    "               'episode_reward_max': result['episode_reward_max'],  \n",
    "               'episode_len_mean': result['episode_len_mean']\n",
    "              }\n",
    "    \n",
    "    episode_data.append(episode)\n",
    "    episode_json.append(json.dumps(episode))\n",
    "    file_name = ppo_trainer.save(checkpoint_root)\n",
    "    \n",
    "    print(f'{n+1:3d}: Min/Mean/Max reward: {result[\"episode_reward_min\"]:8.4f}/{result[\"episode_reward_mean\"]:8.4f}/{result[\"episode_reward_max\"]:8.4f}, len mean: {result[\"episode_len_mean\"]:8.4f}. Checkpoint saved to {file_name}')"
   ]
  },
  {
   "cell_type": "code",
   "execution_count": null,
   "metadata": {},
   "outputs": [],
   "source": [
    "results"
   ]
  },
  {
   "cell_type": "markdown",
   "metadata": {},
   "source": [
    "Testing of the trainer"
   ]
  },
  {
   "cell_type": "code",
   "execution_count": null,
   "metadata": {},
   "outputs": [],
   "source": [
    "trainer.restore(file_name)\n",
    "env = gym.make(\"graphworld-v0\")\n",
    "state = env.reset()"
   ]
  },
  {
   "cell_type": "code",
   "execution_count": null,
   "metadata": {},
   "outputs": [],
   "source": [
    "sum_reward = 0\n",
    "n_step = 20\n",
    "for step in range(n_step):\n",
    "    action = trainer_dqn.compute_action(state)\n",
    "    state, reward, done, info = env.step(action)\n",
    "    sum_reward += reward\n",
    "    #env.render()\n",
    "    if done == 1:\n",
    "        print(\"cumulative reward\", sum_reward)\n",
    "        state = env.reset()\n",
    "        sum_reward = 0"
   ]
  },
  {
   "cell_type": "code",
   "execution_count": null,
   "metadata": {},
   "outputs": [],
   "source": [
    "ray.shutdown()"
   ]
  }
 ],
 "metadata": {
  "interpreter": {
   "hash": "676c8785a5fd99d26a4aa2fa139f118a10e7f8e0b192a9a127e0357b3bb6b556"
  },
  "kernelspec": {
   "display_name": "Python 3.10.4 ('ClujMTP')",
   "language": "python",
   "name": "python3"
  },
  "language_info": {
   "codemirror_mode": {
    "name": "ipython",
    "version": 3
   },
   "file_extension": ".py",
   "mimetype": "text/x-python",
   "name": "python",
   "nbconvert_exporter": "python",
   "pygments_lexer": "ipython3",
   "version": "3.9.12"
  },
  "orig_nbformat": 4
 },
 "nbformat": 4,
 "nbformat_minor": 2
}
