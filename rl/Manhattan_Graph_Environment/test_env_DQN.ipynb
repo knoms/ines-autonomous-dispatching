{
 "cells": [
  {
   "cell_type": "markdown",
   "metadata": {},
   "source": [
    "## Testing of the Graph Environment"
   ]
  },
  {
   "cell_type": "markdown",
   "metadata": {},
   "source": [
    "Imports"
   ]
  },
  {
   "cell_type": "code",
   "execution_count": 1,
   "metadata": {},
   "outputs": [
    {
     "name": "stderr",
     "output_type": "stream",
     "text": [
      "/Users/noah/opt/anaconda3/lib/python3.8/site-packages/redis/connection.py:72: UserWarning: redis-py works best with hiredis. Please consider installing\n",
      "  warnings.warn(msg)\n"
     ]
    }
   ],
   "source": [
    "import numpy as np\n",
    "import pandas as pd\n",
    "import json\n",
    "import os\n",
    "import shutil\n",
    "import sys\n",
    "import gym\n",
    "\n",
    "import ray\n"
   ]
  },
  {
   "cell_type": "code",
   "execution_count": 2,
   "metadata": {},
   "outputs": [],
   "source": [
    "from ray.rllib.agents.dqn import DQNTrainer, DEFAULT_CONFIG"
   ]
  },
  {
   "cell_type": "markdown",
   "metadata": {},
   "source": [
    "Import the Environment"
   ]
  },
  {
   "cell_type": "code",
   "execution_count": 3,
   "metadata": {},
   "outputs": [],
   "source": [
    "sys.path.insert(0,\"\")\n",
    "\n",
    "from ManhattanGraph import ManhattanGraph\n",
    "from gym_graphenv.envs.GraphworldManhattan import GraphEnv"
   ]
  },
  {
   "cell_type": "code",
   "execution_count": 4,
   "metadata": {},
   "outputs": [
    {
     "name": "stderr",
     "output_type": "stream",
     "text": [
      "/Users/noah/opt/anaconda3/lib/python3.8/site-packages/osmnx/distance.py:356: UserWarning: The `get_nearest_node` function has been deprecated and will be removed in a future release. Use the more efficient `distance.nearest_nodes` instead.\n",
      "  warnings.warn(msg)\n",
      "/Users/noah/opt/anaconda3/lib/python3.8/site-packages/osmnx/distance.py:356: UserWarning: The `get_nearest_node` function has been deprecated and will be removed in a future release. Use the more efficient `distance.nearest_nodes` instead.\n",
      "  warnings.warn(msg)\n",
      "/Users/noah/opt/anaconda3/lib/python3.8/site-packages/osmnx/distance.py:356: UserWarning: The `get_nearest_node` function has been deprecated and will be removed in a future release. Use the more efficient `distance.nearest_nodes` instead.\n",
      "  warnings.warn(msg)\n",
      "/Users/noah/opt/anaconda3/lib/python3.8/site-packages/osmnx/distance.py:356: UserWarning: The `get_nearest_node` function has been deprecated and will be removed in a future release. Use the more efficient `distance.nearest_nodes` instead.\n",
      "  warnings.warn(msg)\n",
      "/Users/noah/opt/anaconda3/lib/python3.8/site-packages/osmnx/distance.py:356: UserWarning: The `get_nearest_node` function has been deprecated and will be removed in a future release. Use the more efficient `distance.nearest_nodes` instead.\n",
      "  warnings.warn(msg)\n",
      "/Users/noah/opt/anaconda3/lib/python3.8/site-packages/osmnx/distance.py:356: UserWarning: The `get_nearest_node` function has been deprecated and will be removed in a future release. Use the more efficient `distance.nearest_nodes` instead.\n",
      "  warnings.warn(msg)\n",
      "/Users/noah/opt/anaconda3/lib/python3.8/site-packages/osmnx/distance.py:356: UserWarning: The `get_nearest_node` function has been deprecated and will be removed in a future release. Use the more efficient `distance.nearest_nodes` instead.\n",
      "  warnings.warn(msg)\n",
      "/Users/noah/opt/anaconda3/lib/python3.8/site-packages/osmnx/distance.py:356: UserWarning: The `get_nearest_node` function has been deprecated and will be removed in a future release. Use the more efficient `distance.nearest_nodes` instead.\n",
      "  warnings.warn(msg)\n",
      "/Users/noah/opt/anaconda3/lib/python3.8/site-packages/osmnx/distance.py:356: UserWarning: The `get_nearest_node` function has been deprecated and will be removed in a future release. Use the more efficient `distance.nearest_nodes` instead.\n",
      "  warnings.warn(msg)\n",
      "/Users/noah/opt/anaconda3/lib/python3.8/site-packages/osmnx/distance.py:356: UserWarning: The `get_nearest_node` function has been deprecated and will be removed in a future release. Use the more efficient `distance.nearest_nodes` instead.\n",
      "  warnings.warn(msg)\n",
      "/Users/noah/opt/anaconda3/lib/python3.8/site-packages/osmnx/distance.py:356: UserWarning: The `get_nearest_node` function has been deprecated and will be removed in a future release. Use the more efficient `distance.nearest_nodes` instead.\n",
      "  warnings.warn(msg)\n",
      "/Users/noah/opt/anaconda3/lib/python3.8/site-packages/osmnx/distance.py:356: UserWarning: The `get_nearest_node` function has been deprecated and will be removed in a future release. Use the more efficient `distance.nearest_nodes` instead.\n",
      "  warnings.warn(msg)\n",
      "/Users/noah/opt/anaconda3/lib/python3.8/site-packages/osmnx/distance.py:356: UserWarning: The `get_nearest_node` function has been deprecated and will be removed in a future release. Use the more efficient `distance.nearest_nodes` instead.\n",
      "  warnings.warn(msg)\n",
      "/Users/noah/opt/anaconda3/lib/python3.8/site-packages/osmnx/distance.py:356: UserWarning: The `get_nearest_node` function has been deprecated and will be removed in a future release. Use the more efficient `distance.nearest_nodes` instead.\n",
      "  warnings.warn(msg)\n",
      "/Users/noah/opt/anaconda3/lib/python3.8/site-packages/osmnx/distance.py:356: UserWarning: The `get_nearest_node` function has been deprecated and will be removed in a future release. Use the more efficient `distance.nearest_nodes` instead.\n",
      "  warnings.warn(msg)\n",
      "/Users/noah/opt/anaconda3/lib/python3.8/site-packages/osmnx/distance.py:356: UserWarning: The `get_nearest_node` function has been deprecated and will be removed in a future release. Use the more efficient `distance.nearest_nodes` instead.\n",
      "  warnings.warn(msg)\n",
      "/Users/noah/opt/anaconda3/lib/python3.8/site-packages/osmnx/distance.py:356: UserWarning: The `get_nearest_node` function has been deprecated and will be removed in a future release. Use the more efficient `distance.nearest_nodes` instead.\n",
      "  warnings.warn(msg)\n",
      "/Users/noah/opt/anaconda3/lib/python3.8/site-packages/osmnx/distance.py:356: UserWarning: The `get_nearest_node` function has been deprecated and will be removed in a future release. Use the more efficient `distance.nearest_nodes` instead.\n",
      "  warnings.warn(msg)\n",
      "/Users/noah/opt/anaconda3/lib/python3.8/site-packages/osmnx/distance.py:356: UserWarning: The `get_nearest_node` function has been deprecated and will be removed in a future release. Use the more efficient `distance.nearest_nodes` instead.\n",
      "  warnings.warn(msg)\n",
      "/Users/noah/opt/anaconda3/lib/python3.8/site-packages/osmnx/distance.py:356: UserWarning: The `get_nearest_node` function has been deprecated and will be removed in a future release. Use the more efficient `distance.nearest_nodes` instead.\n",
      "  warnings.warn(msg)\n",
      "/Users/noah/opt/anaconda3/lib/python3.8/site-packages/osmnx/distance.py:356: UserWarning: The `get_nearest_node` function has been deprecated and will be removed in a future release. Use the more efficient `distance.nearest_nodes` instead.\n",
      "  warnings.warn(msg)\n",
      "/Users/noah/opt/anaconda3/lib/python3.8/site-packages/osmnx/distance.py:356: UserWarning: The `get_nearest_node` function has been deprecated and will be removed in a future release. Use the more efficient `distance.nearest_nodes` instead.\n",
      "  warnings.warn(msg)\n",
      "/Users/noah/opt/anaconda3/lib/python3.8/site-packages/osmnx/distance.py:356: UserWarning: The `get_nearest_node` function has been deprecated and will be removed in a future release. Use the more efficient `distance.nearest_nodes` instead.\n",
      "  warnings.warn(msg)\n",
      "/Users/noah/opt/anaconda3/lib/python3.8/site-packages/osmnx/distance.py:356: UserWarning: The `get_nearest_node` function has been deprecated and will be removed in a future release. Use the more efficient `distance.nearest_nodes` instead.\n",
      "  warnings.warn(msg)\n",
      "/Users/noah/opt/anaconda3/lib/python3.8/site-packages/osmnx/distance.py:356: UserWarning: The `get_nearest_node` function has been deprecated and will be removed in a future release. Use the more efficient `distance.nearest_nodes` instead.\n",
      "  warnings.warn(msg)\n",
      "/Users/noah/opt/anaconda3/lib/python3.8/site-packages/osmnx/distance.py:356: UserWarning: The `get_nearest_node` function has been deprecated and will be removed in a future release. Use the more efficient `distance.nearest_nodes` instead.\n",
      "  warnings.warn(msg)\n",
      "/Users/noah/opt/anaconda3/lib/python3.8/site-packages/osmnx/distance.py:356: UserWarning: The `get_nearest_node` function has been deprecated and will be removed in a future release. Use the more efficient `distance.nearest_nodes` instead.\n",
      "  warnings.warn(msg)\n",
      "/Users/noah/opt/anaconda3/lib/python3.8/site-packages/osmnx/distance.py:356: UserWarning: The `get_nearest_node` function has been deprecated and will be removed in a future release. Use the more efficient `distance.nearest_nodes` instead.\n",
      "  warnings.warn(msg)\n",
      "/Users/noah/opt/anaconda3/lib/python3.8/site-packages/osmnx/distance.py:356: UserWarning: The `get_nearest_node` function has been deprecated and will be removed in a future release. Use the more efficient `distance.nearest_nodes` instead.\n",
      "  warnings.warn(msg)\n",
      "/Users/noah/opt/anaconda3/lib/python3.8/site-packages/osmnx/distance.py:356: UserWarning: The `get_nearest_node` function has been deprecated and will be removed in a future release. Use the more efficient `distance.nearest_nodes` instead.\n",
      "  warnings.warn(msg)\n",
      "/Users/noah/opt/anaconda3/lib/python3.8/site-packages/osmnx/distance.py:356: UserWarning: The `get_nearest_node` function has been deprecated and will be removed in a future release. Use the more efficient `distance.nearest_nodes` instead.\n",
      "  warnings.warn(msg)\n",
      "/Users/noah/opt/anaconda3/lib/python3.8/site-packages/osmnx/distance.py:356: UserWarning: The `get_nearest_node` function has been deprecated and will be removed in a future release. Use the more efficient `distance.nearest_nodes` instead.\n",
      "  warnings.warn(msg)\n",
      "/Users/noah/opt/anaconda3/lib/python3.8/site-packages/osmnx/distance.py:356: UserWarning: The `get_nearest_node` function has been deprecated and will be removed in a future release. Use the more efficient `distance.nearest_nodes` instead.\n",
      "  warnings.warn(msg)\n",
      "/Users/noah/opt/anaconda3/lib/python3.8/site-packages/osmnx/distance.py:356: UserWarning: The `get_nearest_node` function has been deprecated and will be removed in a future release. Use the more efficient `distance.nearest_nodes` instead.\n",
      "  warnings.warn(msg)\n",
      "/Users/noah/opt/anaconda3/lib/python3.8/site-packages/osmnx/distance.py:356: UserWarning: The `get_nearest_node` function has been deprecated and will be removed in a future release. Use the more efficient `distance.nearest_nodes` instead.\n",
      "  warnings.warn(msg)\n",
      "/Users/noah/opt/anaconda3/lib/python3.8/site-packages/osmnx/distance.py:356: UserWarning: The `get_nearest_node` function has been deprecated and will be removed in a future release. Use the more efficient `distance.nearest_nodes` instead.\n",
      "  warnings.warn(msg)\n",
      "/Users/noah/opt/anaconda3/lib/python3.8/site-packages/osmnx/distance.py:356: UserWarning: The `get_nearest_node` function has been deprecated and will be removed in a future release. Use the more efficient `distance.nearest_nodes` instead.\n",
      "  warnings.warn(msg)\n",
      "/Users/noah/opt/anaconda3/lib/python3.8/site-packages/osmnx/distance.py:356: UserWarning: The `get_nearest_node` function has been deprecated and will be removed in a future release. Use the more efficient `distance.nearest_nodes` instead.\n",
      "  warnings.warn(msg)\n",
      "/Users/noah/opt/anaconda3/lib/python3.8/site-packages/osmnx/distance.py:356: UserWarning: The `get_nearest_node` function has been deprecated and will be removed in a future release. Use the more efficient `distance.nearest_nodes` instead.\n",
      "  warnings.warn(msg)\n",
      "/Users/noah/opt/anaconda3/lib/python3.8/site-packages/osmnx/distance.py:356: UserWarning: The `get_nearest_node` function has been deprecated and will be removed in a future release. Use the more efficient `distance.nearest_nodes` instead.\n",
      "  warnings.warn(msg)\n",
      "/Users/noah/opt/anaconda3/lib/python3.8/site-packages/osmnx/distance.py:356: UserWarning: The `get_nearest_node` function has been deprecated and will be removed in a future release. Use the more efficient `distance.nearest_nodes` instead.\n",
      "  warnings.warn(msg)\n",
      "/Users/noah/opt/anaconda3/lib/python3.8/site-packages/osmnx/distance.py:356: UserWarning: The `get_nearest_node` function has been deprecated and will be removed in a future release. Use the more efficient `distance.nearest_nodes` instead.\n",
      "  warnings.warn(msg)\n",
      "/Users/noah/opt/anaconda3/lib/python3.8/site-packages/osmnx/distance.py:356: UserWarning: The `get_nearest_node` function has been deprecated and will be removed in a future release. Use the more efficient `distance.nearest_nodes` instead.\n",
      "  warnings.warn(msg)\n",
      "/Users/noah/opt/anaconda3/lib/python3.8/site-packages/osmnx/distance.py:356: UserWarning: The `get_nearest_node` function has been deprecated and will be removed in a future release. Use the more efficient `distance.nearest_nodes` instead.\n",
      "  warnings.warn(msg)\n",
      "/Users/noah/opt/anaconda3/lib/python3.8/site-packages/osmnx/distance.py:356: UserWarning: The `get_nearest_node` function has been deprecated and will be removed in a future release. Use the more efficient `distance.nearest_nodes` instead.\n",
      "  warnings.warn(msg)\n",
      "/Users/noah/opt/anaconda3/lib/python3.8/site-packages/osmnx/distance.py:356: UserWarning: The `get_nearest_node` function has been deprecated and will be removed in a future release. Use the more efficient `distance.nearest_nodes` instead.\n",
      "  warnings.warn(msg)\n",
      "/Users/noah/opt/anaconda3/lib/python3.8/site-packages/osmnx/distance.py:356: UserWarning: The `get_nearest_node` function has been deprecated and will be removed in a future release. Use the more efficient `distance.nearest_nodes` instead.\n",
      "  warnings.warn(msg)\n",
      "/Users/noah/opt/anaconda3/lib/python3.8/site-packages/osmnx/distance.py:356: UserWarning: The `get_nearest_node` function has been deprecated and will be removed in a future release. Use the more efficient `distance.nearest_nodes` instead.\n",
      "  warnings.warn(msg)\n",
      "/Users/noah/opt/anaconda3/lib/python3.8/site-packages/osmnx/distance.py:356: UserWarning: The `get_nearest_node` function has been deprecated and will be removed in a future release. Use the more efficient `distance.nearest_nodes` instead.\n",
      "  warnings.warn(msg)\n",
      "/Users/noah/opt/anaconda3/lib/python3.8/site-packages/osmnx/distance.py:356: UserWarning: The `get_nearest_node` function has been deprecated and will be removed in a future release. Use the more efficient `distance.nearest_nodes` instead.\n",
      "  warnings.warn(msg)\n",
      "/Users/noah/opt/anaconda3/lib/python3.8/site-packages/osmnx/distance.py:356: UserWarning: The `get_nearest_node` function has been deprecated and will be removed in a future release. Use the more efficient `distance.nearest_nodes` instead.\n",
      "  warnings.warn(msg)\n",
      "/Users/noah/opt/anaconda3/lib/python3.8/site-packages/osmnx/distance.py:356: UserWarning: The `get_nearest_node` function has been deprecated and will be removed in a future release. Use the more efficient `distance.nearest_nodes` instead.\n",
      "  warnings.warn(msg)\n"
     ]
    }
   ],
   "source": [
    "env=GraphEnv()"
   ]
  },
  {
   "cell_type": "markdown",
   "metadata": {},
   "source": [
    "Run random steps without Ray Trainer"
   ]
  },
  {
   "cell_type": "code",
   "execution_count": 5,
   "metadata": {},
   "outputs": [
    {
     "name": "stdout",
     "output_type": "stream",
     "text": [
      "get_available_actions() Execution time: 1.650068998336792 seconds\n",
      "action ==  ownRide \n",
      "Compute_reward() Execution time: 1.9073486328125e-06 seconds\n",
      "Step() Execution time: 0.001277923583984375 seconds\n",
      "DELIVERY DONE! sum_reward:  100  time:  2016-01-01 06:14:31 deadline time:  2016-01-01 09:08:00 pickup time:  2016-01-01 06:08:00\n",
      "get_available_actions() Execution time: 1.4263889789581299 seconds\n",
      "action == wait \n",
      "Compute_reward() Execution time: 5.7220458984375e-06 seconds\n",
      "Step() Execution time: 0.00028586387634277344 seconds\n",
      "sum_reward:  -0.027777777777777776  time:  2016-01-01 06:13:00 deadline time:  2016-01-01 09:08:00 pickup time:  2016-01-01 06:08:00\n",
      "get_available_actions() Execution time: 2.0387980937957764 seconds\n",
      "action == wait \n",
      "Compute_reward() Execution time: 9.059906005859375e-06 seconds\n",
      "Step() Execution time: 0.001283884048461914 seconds\n",
      "sum_reward:  -0.05555555555555555  time:  2016-01-01 06:18:00 deadline time:  2016-01-01 09:08:00 pickup time:  2016-01-01 06:08:00\n",
      "get_available_actions() Execution time: 2.1404812335968018 seconds\n",
      "action ==  ownRide \n",
      "Compute_reward() Execution time: 3.0994415283203125e-06 seconds\n",
      "Step() Execution time: 0.011742115020751953 seconds\n",
      "DELIVERY DONE! sum_reward:  99.94444444444444  time:  2016-01-01 06:31:24.300000 deadline time:  2016-01-01 09:08:00 pickup time:  2016-01-01 06:08:00\n",
      "get_available_actions() Execution time: 1.622959852218628 seconds\n",
      "action ==  ownRide \n",
      "Compute_reward() Execution time: 5.0067901611328125e-06 seconds\n",
      "Step() Execution time: 0.007565021514892578 seconds\n",
      "DELIVERY DONE! sum_reward:  100  time:  2016-01-01 06:18:20.200000 deadline time:  2016-01-01 09:08:00 pickup time:  2016-01-01 06:08:00\n",
      "get_available_actions() Execution time: 1.8276240825653076 seconds\n",
      "action ==  ownRide \n",
      "Compute_reward() Execution time: 3.0994415283203125e-06 seconds\n",
      "Step() Execution time: 0.02683401107788086 seconds\n",
      "DELIVERY DONE! sum_reward:  100  time:  2016-01-01 06:26:50.400000 deadline time:  2016-01-01 09:08:00 pickup time:  2016-01-01 06:08:00\n",
      "get_available_actions() Execution time: 1.5721027851104736 seconds\n",
      "action == wait \n",
      "Compute_reward() Execution time: 5.9604644775390625e-06 seconds\n",
      "Step() Execution time: 0.0002808570861816406 seconds\n",
      "sum_reward:  -0.027777777777777776  time:  2016-01-01 06:13:00 deadline time:  2016-01-01 09:08:00 pickup time:  2016-01-01 06:08:00\n",
      "get_available_actions() Execution time: 1.72440505027771 seconds\n",
      "action ==  ownRide \n",
      "Compute_reward() Execution time: 2.86102294921875e-06 seconds\n",
      "Step() Execution time: 0.008346080780029297 seconds\n",
      "DELIVERY DONE! sum_reward:  99.97222222222223  time:  2016-01-01 06:25:11.600000 deadline time:  2016-01-01 09:08:00 pickup time:  2016-01-01 06:08:00\n",
      "get_available_actions() Execution time: 1.4656460285186768 seconds\n",
      "action == wait \n",
      "Compute_reward() Execution time: 5.0067901611328125e-06 seconds\n",
      "Step() Execution time: 0.0003619194030761719 seconds\n",
      "sum_reward:  -0.027777777777777776  time:  2016-01-01 06:13:00 deadline time:  2016-01-01 09:08:00 pickup time:  2016-01-01 06:08:00\n",
      "get_available_actions() Execution time: 1.5712010860443115 seconds\n",
      "action == wait \n",
      "Compute_reward() Execution time: 7.867813110351562e-06 seconds\n",
      "Step() Execution time: 0.0002620220184326172 seconds\n",
      "sum_reward:  -0.05555555555555555  time:  2016-01-01 06:18:00 deadline time:  2016-01-01 09:08:00 pickup time:  2016-01-01 06:08:00\n",
      "get_available_actions() Execution time: 1.6973819732666016 seconds\n",
      "action ==  ownRide \n",
      "Compute_reward() Execution time: 9.5367431640625e-07 seconds\n",
      "Step() Execution time: 0.007870197296142578 seconds\n",
      "DELIVERY DONE! sum_reward:  99.94444444444444  time:  2016-01-01 06:29:27.800000 deadline time:  2016-01-01 09:08:00 pickup time:  2016-01-01 06:08:00\n",
      "get_available_actions() Execution time: 1.3748939037322998 seconds\n",
      "action ==  ownRide \n",
      "Compute_reward() Execution time: 4.0531158447265625e-06 seconds\n",
      "Step() Execution time: 0.02763986587524414 seconds\n",
      "DELIVERY DONE! sum_reward:  100  time:  2016-01-01 06:29:31.700000 deadline time:  2016-01-01 09:08:00 pickup time:  2016-01-01 06:08:00\n",
      "get_available_actions() Execution time: 1.500669240951538 seconds\n",
      "action == wait \n",
      "Compute_reward() Execution time: 1.0013580322265625e-05 seconds\n",
      "Step() Execution time: 0.0024042129516601562 seconds\n",
      "sum_reward:  -0.027777777777777776  time:  2016-01-01 06:13:00 deadline time:  2016-01-01 09:08:00 pickup time:  2016-01-01 06:08:00\n",
      "get_available_actions() Execution time: 2.163892984390259 seconds\n",
      "action == wait \n",
      "Compute_reward() Execution time: 1.1920928955078125e-05 seconds\n",
      "Step() Execution time: 0.0011897087097167969 seconds\n",
      "sum_reward:  -0.05555555555555555  time:  2016-01-01 06:18:00 deadline time:  2016-01-01 09:08:00 pickup time:  2016-01-01 06:08:00\n",
      "get_available_actions() Execution time: 2.1641929149627686 seconds\n",
      "action ==  ownRide \n",
      "Compute_reward() Execution time: 3.0994415283203125e-06 seconds\n",
      "Step() Execution time: 0.005197048187255859 seconds\n",
      "DELIVERY DONE! sum_reward:  99.94444444444444  time:  2016-01-01 06:27:55.200000 deadline time:  2016-01-01 09:08:00 pickup time:  2016-01-01 06:08:00\n",
      "get_available_actions() Execution time: 1.56441330909729 seconds\n",
      "action ==  ownRide \n",
      "Compute_reward() Execution time: 3.814697265625e-06 seconds\n",
      "Step() Execution time: 0.024238109588623047 seconds\n",
      "DELIVERY DONE! sum_reward:  100  time:  2016-01-01 06:21:55.400000 deadline time:  2016-01-01 09:08:00 pickup time:  2016-01-01 06:08:00\n",
      "get_available_actions() Execution time: 1.7964670658111572 seconds\n",
      "action == wait \n",
      "Compute_reward() Execution time: 7.152557373046875e-06 seconds\n",
      "Step() Execution time: 0.0006270408630371094 seconds\n",
      "sum_reward:  -0.027777777777777776  time:  2016-01-01 06:13:00 deadline time:  2016-01-01 09:08:00 pickup time:  2016-01-01 06:08:00\n",
      "get_available_actions() Execution time: 1.8226971626281738 seconds\n",
      "action == wait \n",
      "Compute_reward() Execution time: 4.0531158447265625e-06 seconds\n",
      "Step() Execution time: 0.0003380775451660156 seconds\n",
      "sum_reward:  -0.05555555555555555  time:  2016-01-01 06:18:00 deadline time:  2016-01-01 09:08:00 pickup time:  2016-01-01 06:08:00\n",
      "get_available_actions() Execution time: 1.4090569019317627 seconds\n",
      "action ==  ownRide \n",
      "Compute_reward() Execution time: 2.1457672119140625e-06 seconds\n",
      "Step() Execution time: 0.03181099891662598 seconds\n",
      "DELIVERY DONE! sum_reward:  99.94444444444444  time:  2016-01-01 06:38:59.400000 deadline time:  2016-01-01 09:08:00 pickup time:  2016-01-01 06:08:00\n"
     ]
    }
   ],
   "source": [
    "def run_one_episode (env):\n",
    "    env.reset()\n",
    "    sum_reward = 0\n",
    "    for i in range(30):\n",
    "        #print(env.action_space)\n",
    "        env.available_actions = env.get_available_actions()\n",
    "        action = env.action_space.sample()\n",
    "        state, reward, done, info = env.step(action)\n",
    "        sum_reward+=reward\n",
    "        #env.render()\n",
    "        if done:\n",
    "            print(\"DELIVERY DONE! sum_reward: \",sum_reward, \" time: \",env.time,  \"deadline time: \", env.deadline,\"pickup time: \", env.pickup_time )\n",
    "            break\n",
    "\n",
    "        print(\"sum_reward: \",sum_reward, \" time: \",env.time, \"deadline time: \", env.deadline, \"pickup time: \", env.pickup_time)\n",
    "    return sum_reward\n",
    "\n",
    "for i in range(10):\n",
    "    run_one_episode (env)"
   ]
  },
  {
   "cell_type": "markdown",
   "metadata": {},
   "source": [
    "Initialize Ray"
   ]
  },
  {
   "cell_type": "code",
   "execution_count": 7,
   "metadata": {},
   "outputs": [
    {
     "data": {
      "text/plain": [
       "{'node_ip_address': '127.0.0.1',\n",
       " 'raylet_ip_address': '127.0.0.1',\n",
       " 'redis_address': None,\n",
       " 'object_store_address': 'tcp://127.0.0.1:64621',\n",
       " 'raylet_socket_name': 'tcp://127.0.0.1:62671',\n",
       " 'webui_url': None,\n",
       " 'session_dir': 'C:\\\\Users\\\\cosmi\\\\AppData\\\\Local\\\\Temp\\\\ray\\\\session_2022-04-15_19-34-34_080168_14936',\n",
       " 'metrics_export_port': 56577,\n",
       " 'gcs_address': '127.0.0.1:64165',\n",
       " 'address': '127.0.0.1:64165',\n",
       " 'node_id': '3c53aa6b2ece291ebebd785433eeba23168b4510525c79f85632883e'}"
      ]
     },
     "execution_count": 7,
     "metadata": {},
     "output_type": "execute_result"
    }
   ],
   "source": [
    "ray.init()"
   ]
  },
  {
   "cell_type": "markdown",
   "metadata": {},
   "source": [
    "Set trainer configuration"
   ]
  },
  {
   "cell_type": "code",
   "execution_count": 8,
   "metadata": {},
   "outputs": [],
   "source": [
    "trainer_config = DEFAULT_CONFIG.copy()\n",
    "trainer_config['num_workers'] = 1\n",
    "trainer_config[\"train_batch_size\"] = 400\n",
    "trainer_config[\"gamma\"] = 0.95\n",
    "trainer_config[\"n_step\"] = 10\n",
    "trainer_config[\"framework\"] = \"torch\"\n",
    "#trainer_config[\"num_gpus\"] = int(os.environ.get(\"RLLIB_NUM_GPUS\", \"0\"))\n"
   ]
  },
  {
   "cell_type": "markdown",
   "metadata": {},
   "source": [
    "Initialize the trainer"
   ]
  },
  {
   "cell_type": "code",
   "execution_count": 9,
   "metadata": {},
   "outputs": [
    {
     "name": "stderr",
     "output_type": "stream",
     "text": [
      "2022-04-15 19:34:45,669\tINFO simple_q.py:154 -- In multi-agent mode, policies will be optimized sequentially by the multi-GPU optimizer. Consider setting `simple_optimizer=True` if this doesn't work for you.\n",
      "2022-04-15 19:34:45,670\tINFO trainer.py:779 -- Current log_level is WARN. For more information, set 'log_level': 'INFO' / 'DEBUG' or use the -v and -vv flags.\n",
      "2022-04-15 19:36:05,189\tINFO trainable.py:127 -- Trainable.setup took 79.524 seconds. If your trainable is slow to initialize, consider setting reuse_actors=True to reduce actor creation overheads.\n",
      "2022-04-15 19:36:05,192\tWARNING util.py:55 -- Install gputil for GPU system monitoring.\n"
     ]
    }
   ],
   "source": [
    "trainer = DQNTrainer(trainer_config,GraphEnv )"
   ]
  },
  {
   "cell_type": "markdown",
   "metadata": {},
   "source": [
    "Define the path where the results of the trainer should be saved"
   ]
  },
  {
   "cell_type": "code",
   "execution_count": 10,
   "metadata": {},
   "outputs": [],
   "source": [
    "checkpoint_root = \"tmp/dqn/graphworld\"\n",
    "shutil.rmtree(checkpoint_root, ignore_errors=True, onerror=None)   # clean up old runs"
   ]
  },
  {
   "cell_type": "markdown",
   "metadata": {},
   "source": []
  },
  {
   "cell_type": "markdown",
   "metadata": {},
   "source": [
    "Run the trainer"
   ]
  },
  {
   "cell_type": "code",
   "execution_count": 11,
   "metadata": {},
   "outputs": [
    {
     "name": "stdout",
     "output_type": "stream",
     "text": [
      " pid=9980)\u001b[0m action ==  ownRide \n",
      " pid=9980)\u001b[0m action ==  ownRide \n",
      " pid=9980)\u001b[0m action ==  ownRide \n",
      " pid=9980)\u001b[0m action ==  ownRide \n",
      " pid=9980)\u001b[0m action ==  ownRide \n",
      " pid=9980)\u001b[0m action ==  ownRide \n",
      " pid=9980)\u001b[0m action ==  ownRide \n"
     ]
    },
    {
     "name": "stderr",
     "output_type": "stream",
     "text": [
      "2022-04-15 19:38:52,771\tWARNING trainer.py:975 -- Worker crashed during call to `step_attempt()`. To try to continue training without the failed worker, set `ignore_worker_failures=True`.\n"
     ]
    },
    {
     "name": "stdout",
     "output_type": "stream",
     "text": [
      " pid=9980)\u001b[0m action == wait \n",
      " pid=9980)\u001b[0m Nonerker\n"
     ]
    },
    {
     "ename": "RayTaskError(TypeError)",
     "evalue": "\u001b[36mray::RolloutWorker.par_iter_next()\u001b[39m (pid=9980, ip=127.0.0.1, repr=<ray.rllib.evaluation.rollout_worker.RolloutWorker object at 0x000001938F580A90>)\n  File \"python\\ray\\_raylet.pyx\", line 640, in ray._raylet.execute_task\n  File \"python\\ray\\_raylet.pyx\", line 644, in ray._raylet.execute_task\n  File \"python\\ray\\_raylet.pyx\", line 593, in ray._raylet.execute_task.function_executor\n  File \"C:\\ProgramData\\Anaconda3\\envs\\teamproject\\lib\\site-packages\\ray\\_private\\function_manager.py\", line 648, in actor_method_executor\n    return method(__ray_actor, *args, **kwargs)\n  File \"C:\\ProgramData\\Anaconda3\\envs\\teamproject\\lib\\site-packages\\ray\\util\\tracing\\tracing_helper.py\", line 451, in _resume_span\n    return method(self, *_args, **_kwargs)\n  File \"C:\\ProgramData\\Anaconda3\\envs\\teamproject\\lib\\site-packages\\ray\\util\\iter.py\", line 1151, in par_iter_next\n    return next(self.local_it)\n  File \"C:\\ProgramData\\Anaconda3\\envs\\teamproject\\lib\\site-packages\\ray\\rllib\\evaluation\\rollout_worker.py\", line 380, in gen_rollouts\n    yield self.sample()\n  File \"C:\\ProgramData\\Anaconda3\\envs\\teamproject\\lib\\site-packages\\ray\\util\\tracing\\tracing_helper.py\", line 451, in _resume_span\n    return method(self, *_args, **_kwargs)\n  File \"C:\\ProgramData\\Anaconda3\\envs\\teamproject\\lib\\site-packages\\ray\\rllib\\evaluation\\rollout_worker.py\", line 759, in sample\n    batches = [self.input_reader.next()]\n  File \"C:\\ProgramData\\Anaconda3\\envs\\teamproject\\lib\\site-packages\\ray\\rllib\\evaluation\\sampler.py\", line 104, in next\n    batches = [self.get_data()]\n  File \"C:\\ProgramData\\Anaconda3\\envs\\teamproject\\lib\\site-packages\\ray\\rllib\\evaluation\\sampler.py\", line 266, in get_data\n    item = next(self._env_runner)\n  File \"C:\\ProgramData\\Anaconda3\\envs\\teamproject\\lib\\site-packages\\ray\\rllib\\evaluation\\sampler.py\", line 683, in _env_runner\n    base_env.send_actions(actions_to_send)\n  File \"C:\\ProgramData\\Anaconda3\\envs\\teamproject\\lib\\site-packages\\ray\\rllib\\env\\vector_env.py\", line 302, in send_actions\n    self.vector_env.vector_step(action_vector)\n  File \"C:\\ProgramData\\Anaconda3\\envs\\teamproject\\lib\\site-packages\\ray\\rllib\\env\\vector_env.py\", line 233, in vector_step\n    obs, r, done, info = self.envs[i].step(actions[i])\n  File \"e:\\SIASemester2\\Mannheim\\ines-autonomous-dispatching\\rl\\Graph_Environment\\gym_graphenv\\envs\\GraphworldManhattan.py\", line 193, in step\n    reward, done = self.compute_reward(done)\n  File \"e:\\SIASemester2\\Mannheim\\ines-autonomous-dispatching\\rl\\Graph_Environment\\gym_graphenv\\envs\\GraphworldManhattan.py\", line 231, in compute_reward\n    df_id = self.current_trip['trip_row_id']\nTypeError: 'NoneType' object is not subscriptable",
     "output_type": "error",
     "traceback": [
      "\u001b[1;31m---------------------------------------------------------------------------\u001b[0m",
      "\u001b[1;31mRayTaskError(TypeError)\u001b[0m                   Traceback (most recent call last)",
      "\u001b[1;32me:\\SIASemester2\\Mannheim\\ines-autonomous-dispatching\\rl\\Graph_Environment\\test_env_DQN3.ipynb Cell 19'\u001b[0m in \u001b[0;36m<cell line: 6>\u001b[1;34m()\u001b[0m\n\u001b[0;32m      <a href='vscode-notebook-cell:/e%3A/SIASemester2/Mannheim/ines-autonomous-dispatching/rl/Graph_Environment/test_env_DQN3.ipynb#ch0000018?line=3'>4</a>\u001b[0m n_iter\u001b[39m=\u001b[39m\u001b[39m10\u001b[39m\n\u001b[0;32m      <a href='vscode-notebook-cell:/e%3A/SIASemester2/Mannheim/ines-autonomous-dispatching/rl/Graph_Environment/test_env_DQN3.ipynb#ch0000018?line=5'>6</a>\u001b[0m \u001b[39mfor\u001b[39;00m n \u001b[39min\u001b[39;00m \u001b[39mrange\u001b[39m(n_iter):\n\u001b[1;32m----> <a href='vscode-notebook-cell:/e%3A/SIASemester2/Mannheim/ines-autonomous-dispatching/rl/Graph_Environment/test_env_DQN3.ipynb#ch0000018?line=6'>7</a>\u001b[0m     result \u001b[39m=\u001b[39m trainer\u001b[39m.\u001b[39;49mtrain()\n\u001b[0;32m      <a href='vscode-notebook-cell:/e%3A/SIASemester2/Mannheim/ines-autonomous-dispatching/rl/Graph_Environment/test_env_DQN3.ipynb#ch0000018?line=7'>8</a>\u001b[0m     results\u001b[39m.\u001b[39mappend(result)\n\u001b[0;32m      <a href='vscode-notebook-cell:/e%3A/SIASemester2/Mannheim/ines-autonomous-dispatching/rl/Graph_Environment/test_env_DQN3.ipynb#ch0000018?line=8'>9</a>\u001b[0m     \u001b[39mprint\u001b[39m(\u001b[39m\"\u001b[39m\u001b[39mTEST\u001b[39m\u001b[39m\"\u001b[39m,n)\n",
      "File \u001b[1;32mC:\\ProgramData\\Anaconda3\\envs\\teamproject\\lib\\site-packages\\ray\\tune\\trainable.py:319\u001b[0m, in \u001b[0;36mTrainable.train\u001b[1;34m(self)\u001b[0m\n\u001b[0;32m    <a href='file:///c%3A/ProgramData/Anaconda3/envs/teamproject/lib/site-packages/ray/tune/trainable.py?line=278'>279</a>\u001b[0m \u001b[39m\"\"\"Runs one logical iteration of training.\u001b[39;00m\n\u001b[0;32m    <a href='file:///c%3A/ProgramData/Anaconda3/envs/teamproject/lib/site-packages/ray/tune/trainable.py?line=279'>280</a>\u001b[0m \n\u001b[0;32m    <a href='file:///c%3A/ProgramData/Anaconda3/envs/teamproject/lib/site-packages/ray/tune/trainable.py?line=280'>281</a>\u001b[0m \u001b[39mCalls ``step()`` internally. Subclasses should override ``step()``\u001b[39;00m\n\u001b[1;32m   (...)\u001b[0m\n\u001b[0;32m    <a href='file:///c%3A/ProgramData/Anaconda3/envs/teamproject/lib/site-packages/ray/tune/trainable.py?line=315'>316</a>\u001b[0m \u001b[39m    A dict that describes training progress.\u001b[39;00m\n\u001b[0;32m    <a href='file:///c%3A/ProgramData/Anaconda3/envs/teamproject/lib/site-packages/ray/tune/trainable.py?line=316'>317</a>\u001b[0m \u001b[39m\"\"\"\u001b[39;00m\n\u001b[0;32m    <a href='file:///c%3A/ProgramData/Anaconda3/envs/teamproject/lib/site-packages/ray/tune/trainable.py?line=317'>318</a>\u001b[0m start \u001b[39m=\u001b[39m time\u001b[39m.\u001b[39mtime()\n\u001b[1;32m--> <a href='file:///c%3A/ProgramData/Anaconda3/envs/teamproject/lib/site-packages/ray/tune/trainable.py?line=318'>319</a>\u001b[0m result \u001b[39m=\u001b[39m \u001b[39mself\u001b[39;49m\u001b[39m.\u001b[39;49mstep()\n\u001b[0;32m    <a href='file:///c%3A/ProgramData/Anaconda3/envs/teamproject/lib/site-packages/ray/tune/trainable.py?line=319'>320</a>\u001b[0m \u001b[39massert\u001b[39;00m \u001b[39misinstance\u001b[39m(result, \u001b[39mdict\u001b[39m), \u001b[39m\"\u001b[39m\u001b[39mstep() needs to return a dict.\u001b[39m\u001b[39m\"\u001b[39m\n\u001b[0;32m    <a href='file:///c%3A/ProgramData/Anaconda3/envs/teamproject/lib/site-packages/ray/tune/trainable.py?line=321'>322</a>\u001b[0m \u001b[39m# We do not modify internal state nor update this result if duplicate.\u001b[39;00m\n",
      "File \u001b[1;32mC:\\ProgramData\\Anaconda3\\envs\\teamproject\\lib\\site-packages\\ray\\rllib\\agents\\trainer.py:979\u001b[0m, in \u001b[0;36mTrainer.step\u001b[1;34m(self)\u001b[0m\n\u001b[0;32m    <a href='file:///c%3A/ProgramData/Anaconda3/envs/teamproject/lib/site-packages/ray/rllib/agents/trainer.py?line=972'>973</a>\u001b[0m     \u001b[39m# Error out.\u001b[39;00m\n\u001b[0;32m    <a href='file:///c%3A/ProgramData/Anaconda3/envs/teamproject/lib/site-packages/ray/rllib/agents/trainer.py?line=973'>974</a>\u001b[0m     \u001b[39melse\u001b[39;00m:\n\u001b[0;32m    <a href='file:///c%3A/ProgramData/Anaconda3/envs/teamproject/lib/site-packages/ray/rllib/agents/trainer.py?line=974'>975</a>\u001b[0m         logger\u001b[39m.\u001b[39mwarning(\n\u001b[0;32m    <a href='file:///c%3A/ProgramData/Anaconda3/envs/teamproject/lib/site-packages/ray/rllib/agents/trainer.py?line=975'>976</a>\u001b[0m             \u001b[39m\"\u001b[39m\u001b[39mWorker crashed during call to `step_attempt()`. \u001b[39m\u001b[39m\"\u001b[39m\n\u001b[0;32m    <a href='file:///c%3A/ProgramData/Anaconda3/envs/teamproject/lib/site-packages/ray/rllib/agents/trainer.py?line=976'>977</a>\u001b[0m             \u001b[39m\"\u001b[39m\u001b[39mTo try to continue training without the failed \u001b[39m\u001b[39m\"\u001b[39m\n\u001b[0;32m    <a href='file:///c%3A/ProgramData/Anaconda3/envs/teamproject/lib/site-packages/ray/rllib/agents/trainer.py?line=977'>978</a>\u001b[0m             \u001b[39m\"\u001b[39m\u001b[39mworker, set `ignore_worker_failures=True`.\u001b[39m\u001b[39m\"\u001b[39m)\n\u001b[1;32m--> <a href='file:///c%3A/ProgramData/Anaconda3/envs/teamproject/lib/site-packages/ray/rllib/agents/trainer.py?line=978'>979</a>\u001b[0m         \u001b[39mraise\u001b[39;00m e\n\u001b[0;32m    <a href='file:///c%3A/ProgramData/Anaconda3/envs/teamproject/lib/site-packages/ray/rllib/agents/trainer.py?line=979'>980</a>\u001b[0m \u001b[39m# Any other exception.\u001b[39;00m\n\u001b[0;32m    <a href='file:///c%3A/ProgramData/Anaconda3/envs/teamproject/lib/site-packages/ray/rllib/agents/trainer.py?line=980'>981</a>\u001b[0m \u001b[39mexcept\u001b[39;00m \u001b[39mException\u001b[39;00m \u001b[39mas\u001b[39;00m e:\n\u001b[0;32m    <a href='file:///c%3A/ProgramData/Anaconda3/envs/teamproject/lib/site-packages/ray/rllib/agents/trainer.py?line=981'>982</a>\u001b[0m     \u001b[39m# Allow logs messages to propagate.\u001b[39;00m\n",
      "File \u001b[1;32mC:\\ProgramData\\Anaconda3\\envs\\teamproject\\lib\\site-packages\\ray\\rllib\\agents\\trainer.py:965\u001b[0m, in \u001b[0;36mTrainer.step\u001b[1;34m(self)\u001b[0m\n\u001b[0;32m    <a href='file:///c%3A/ProgramData/Anaconda3/envs/teamproject/lib/site-packages/ray/rllib/agents/trainer.py?line=961'>962</a>\u001b[0m \u001b[39mwhile\u001b[39;00m \u001b[39mnot\u001b[39;00m step_ctx\u001b[39m.\u001b[39mshould_stop(step_attempt_results):\n\u001b[0;32m    <a href='file:///c%3A/ProgramData/Anaconda3/envs/teamproject/lib/site-packages/ray/rllib/agents/trainer.py?line=962'>963</a>\u001b[0m     \u001b[39m# Try to train one step.\u001b[39;00m\n\u001b[0;32m    <a href='file:///c%3A/ProgramData/Anaconda3/envs/teamproject/lib/site-packages/ray/rllib/agents/trainer.py?line=963'>964</a>\u001b[0m     \u001b[39mtry\u001b[39;00m:\n\u001b[1;32m--> <a href='file:///c%3A/ProgramData/Anaconda3/envs/teamproject/lib/site-packages/ray/rllib/agents/trainer.py?line=964'>965</a>\u001b[0m         step_attempt_results \u001b[39m=\u001b[39m \u001b[39mself\u001b[39;49m\u001b[39m.\u001b[39;49mstep_attempt()\n\u001b[0;32m    <a href='file:///c%3A/ProgramData/Anaconda3/envs/teamproject/lib/site-packages/ray/rllib/agents/trainer.py?line=965'>966</a>\u001b[0m     \u001b[39m# @ray.remote RolloutWorker failure.\u001b[39;00m\n\u001b[0;32m    <a href='file:///c%3A/ProgramData/Anaconda3/envs/teamproject/lib/site-packages/ray/rllib/agents/trainer.py?line=966'>967</a>\u001b[0m     \u001b[39mexcept\u001b[39;00m RayError \u001b[39mas\u001b[39;00m e:\n\u001b[0;32m    <a href='file:///c%3A/ProgramData/Anaconda3/envs/teamproject/lib/site-packages/ray/rllib/agents/trainer.py?line=967'>968</a>\u001b[0m         \u001b[39m# Try to recover w/o the failed worker.\u001b[39;00m\n",
      "File \u001b[1;32mC:\\ProgramData\\Anaconda3\\envs\\teamproject\\lib\\site-packages\\ray\\rllib\\agents\\trainer.py:1044\u001b[0m, in \u001b[0;36mTrainer.step_attempt\u001b[1;34m(self)\u001b[0m\n\u001b[0;32m   <a href='file:///c%3A/ProgramData/Anaconda3/envs/teamproject/lib/site-packages/ray/rllib/agents/trainer.py?line=1041'>1042</a>\u001b[0m \u001b[39m# No evaluation necessary, just run the next training iteration.\u001b[39;00m\n\u001b[0;32m   <a href='file:///c%3A/ProgramData/Anaconda3/envs/teamproject/lib/site-packages/ray/rllib/agents/trainer.py?line=1042'>1043</a>\u001b[0m \u001b[39mif\u001b[39;00m \u001b[39mnot\u001b[39;00m evaluate_this_iter:\n\u001b[1;32m-> <a href='file:///c%3A/ProgramData/Anaconda3/envs/teamproject/lib/site-packages/ray/rllib/agents/trainer.py?line=1043'>1044</a>\u001b[0m     step_results \u001b[39m=\u001b[39m \u001b[39mself\u001b[39;49m\u001b[39m.\u001b[39;49m_exec_plan_or_training_iteration_fn()\n\u001b[0;32m   <a href='file:///c%3A/ProgramData/Anaconda3/envs/teamproject/lib/site-packages/ray/rllib/agents/trainer.py?line=1044'>1045</a>\u001b[0m \u001b[39m# We have to evaluate in this training iteration.\u001b[39;00m\n\u001b[0;32m   <a href='file:///c%3A/ProgramData/Anaconda3/envs/teamproject/lib/site-packages/ray/rllib/agents/trainer.py?line=1045'>1046</a>\u001b[0m \u001b[39melse\u001b[39;00m:\n\u001b[0;32m   <a href='file:///c%3A/ProgramData/Anaconda3/envs/teamproject/lib/site-packages/ray/rllib/agents/trainer.py?line=1046'>1047</a>\u001b[0m     \u001b[39m# No parallelism.\u001b[39;00m\n\u001b[0;32m   <a href='file:///c%3A/ProgramData/Anaconda3/envs/teamproject/lib/site-packages/ray/rllib/agents/trainer.py?line=1047'>1048</a>\u001b[0m     \u001b[39mif\u001b[39;00m \u001b[39mnot\u001b[39;00m \u001b[39mself\u001b[39m\u001b[39m.\u001b[39mconfig[\u001b[39m\"\u001b[39m\u001b[39mevaluation_parallel_to_training\u001b[39m\u001b[39m\"\u001b[39m]:\n",
      "File \u001b[1;32mC:\\ProgramData\\Anaconda3\\envs\\teamproject\\lib\\site-packages\\ray\\rllib\\agents\\trainer.py:2032\u001b[0m, in \u001b[0;36mTrainer._exec_plan_or_training_iteration_fn\u001b[1;34m(self)\u001b[0m\n\u001b[0;32m   <a href='file:///c%3A/ProgramData/Anaconda3/envs/teamproject/lib/site-packages/ray/rllib/agents/trainer.py?line=2029'>2030</a>\u001b[0m     results \u001b[39m=\u001b[39m \u001b[39mself\u001b[39m\u001b[39m.\u001b[39mtraining_iteration()\n\u001b[0;32m   <a href='file:///c%3A/ProgramData/Anaconda3/envs/teamproject/lib/site-packages/ray/rllib/agents/trainer.py?line=2030'>2031</a>\u001b[0m \u001b[39melse\u001b[39;00m:\n\u001b[1;32m-> <a href='file:///c%3A/ProgramData/Anaconda3/envs/teamproject/lib/site-packages/ray/rllib/agents/trainer.py?line=2031'>2032</a>\u001b[0m     results \u001b[39m=\u001b[39m \u001b[39mnext\u001b[39;49m(\u001b[39mself\u001b[39;49m\u001b[39m.\u001b[39;49mtrain_exec_impl)\n\u001b[0;32m   <a href='file:///c%3A/ProgramData/Anaconda3/envs/teamproject/lib/site-packages/ray/rllib/agents/trainer.py?line=2032'>2033</a>\u001b[0m \u001b[39mreturn\u001b[39;00m results\n",
      "File \u001b[1;32mC:\\ProgramData\\Anaconda3\\envs\\teamproject\\lib\\site-packages\\ray\\util\\iter.py:756\u001b[0m, in \u001b[0;36mLocalIterator.__next__\u001b[1;34m(self)\u001b[0m\n\u001b[0;32m    <a href='file:///c%3A/ProgramData/Anaconda3/envs/teamproject/lib/site-packages/ray/util/iter.py?line=753'>754</a>\u001b[0m \u001b[39mdef\u001b[39;00m \u001b[39m__next__\u001b[39m(\u001b[39mself\u001b[39m):\n\u001b[0;32m    <a href='file:///c%3A/ProgramData/Anaconda3/envs/teamproject/lib/site-packages/ray/util/iter.py?line=754'>755</a>\u001b[0m     \u001b[39mself\u001b[39m\u001b[39m.\u001b[39m_build_once()\n\u001b[1;32m--> <a href='file:///c%3A/ProgramData/Anaconda3/envs/teamproject/lib/site-packages/ray/util/iter.py?line=755'>756</a>\u001b[0m     \u001b[39mreturn\u001b[39;00m \u001b[39mnext\u001b[39;49m(\u001b[39mself\u001b[39;49m\u001b[39m.\u001b[39;49mbuilt_iterator)\n",
      "File \u001b[1;32mC:\\ProgramData\\Anaconda3\\envs\\teamproject\\lib\\site-packages\\ray\\util\\iter.py:783\u001b[0m, in \u001b[0;36mLocalIterator.for_each.<locals>.apply_foreach\u001b[1;34m(it)\u001b[0m\n\u001b[0;32m    <a href='file:///c%3A/ProgramData/Anaconda3/envs/teamproject/lib/site-packages/ray/util/iter.py?line=781'>782</a>\u001b[0m \u001b[39mdef\u001b[39;00m \u001b[39mapply_foreach\u001b[39m(it):\n\u001b[1;32m--> <a href='file:///c%3A/ProgramData/Anaconda3/envs/teamproject/lib/site-packages/ray/util/iter.py?line=782'>783</a>\u001b[0m     \u001b[39mfor\u001b[39;00m item \u001b[39min\u001b[39;00m it:\n\u001b[0;32m    <a href='file:///c%3A/ProgramData/Anaconda3/envs/teamproject/lib/site-packages/ray/util/iter.py?line=783'>784</a>\u001b[0m         \u001b[39mif\u001b[39;00m \u001b[39misinstance\u001b[39m(item, _NextValueNotReady):\n\u001b[0;32m    <a href='file:///c%3A/ProgramData/Anaconda3/envs/teamproject/lib/site-packages/ray/util/iter.py?line=784'>785</a>\u001b[0m             \u001b[39myield\u001b[39;00m item\n",
      "File \u001b[1;32mC:\\ProgramData\\Anaconda3\\envs\\teamproject\\lib\\site-packages\\ray\\util\\iter.py:843\u001b[0m, in \u001b[0;36mLocalIterator.filter.<locals>.apply_filter\u001b[1;34m(it)\u001b[0m\n\u001b[0;32m    <a href='file:///c%3A/ProgramData/Anaconda3/envs/teamproject/lib/site-packages/ray/util/iter.py?line=841'>842</a>\u001b[0m \u001b[39mdef\u001b[39;00m \u001b[39mapply_filter\u001b[39m(it):\n\u001b[1;32m--> <a href='file:///c%3A/ProgramData/Anaconda3/envs/teamproject/lib/site-packages/ray/util/iter.py?line=842'>843</a>\u001b[0m     \u001b[39mfor\u001b[39;00m item \u001b[39min\u001b[39;00m it:\n\u001b[0;32m    <a href='file:///c%3A/ProgramData/Anaconda3/envs/teamproject/lib/site-packages/ray/util/iter.py?line=843'>844</a>\u001b[0m         \u001b[39mwith\u001b[39;00m \u001b[39mself\u001b[39m\u001b[39m.\u001b[39m_metrics_context():\n\u001b[0;32m    <a href='file:///c%3A/ProgramData/Anaconda3/envs/teamproject/lib/site-packages/ray/util/iter.py?line=844'>845</a>\u001b[0m             \u001b[39mif\u001b[39;00m \u001b[39misinstance\u001b[39m(item, _NextValueNotReady) \u001b[39mor\u001b[39;00m fn(item):\n",
      "File \u001b[1;32mC:\\ProgramData\\Anaconda3\\envs\\teamproject\\lib\\site-packages\\ray\\util\\iter.py:843\u001b[0m, in \u001b[0;36mLocalIterator.filter.<locals>.apply_filter\u001b[1;34m(it)\u001b[0m\n\u001b[0;32m    <a href='file:///c%3A/ProgramData/Anaconda3/envs/teamproject/lib/site-packages/ray/util/iter.py?line=841'>842</a>\u001b[0m \u001b[39mdef\u001b[39;00m \u001b[39mapply_filter\u001b[39m(it):\n\u001b[1;32m--> <a href='file:///c%3A/ProgramData/Anaconda3/envs/teamproject/lib/site-packages/ray/util/iter.py?line=842'>843</a>\u001b[0m     \u001b[39mfor\u001b[39;00m item \u001b[39min\u001b[39;00m it:\n\u001b[0;32m    <a href='file:///c%3A/ProgramData/Anaconda3/envs/teamproject/lib/site-packages/ray/util/iter.py?line=843'>844</a>\u001b[0m         \u001b[39mwith\u001b[39;00m \u001b[39mself\u001b[39m\u001b[39m.\u001b[39m_metrics_context():\n\u001b[0;32m    <a href='file:///c%3A/ProgramData/Anaconda3/envs/teamproject/lib/site-packages/ray/util/iter.py?line=844'>845</a>\u001b[0m             \u001b[39mif\u001b[39;00m \u001b[39misinstance\u001b[39m(item, _NextValueNotReady) \u001b[39mor\u001b[39;00m fn(item):\n",
      "File \u001b[1;32mC:\\ProgramData\\Anaconda3\\envs\\teamproject\\lib\\site-packages\\ray\\util\\iter.py:783\u001b[0m, in \u001b[0;36mLocalIterator.for_each.<locals>.apply_foreach\u001b[1;34m(it)\u001b[0m\n\u001b[0;32m    <a href='file:///c%3A/ProgramData/Anaconda3/envs/teamproject/lib/site-packages/ray/util/iter.py?line=781'>782</a>\u001b[0m \u001b[39mdef\u001b[39;00m \u001b[39mapply_foreach\u001b[39m(it):\n\u001b[1;32m--> <a href='file:///c%3A/ProgramData/Anaconda3/envs/teamproject/lib/site-packages/ray/util/iter.py?line=782'>783</a>\u001b[0m     \u001b[39mfor\u001b[39;00m item \u001b[39min\u001b[39;00m it:\n\u001b[0;32m    <a href='file:///c%3A/ProgramData/Anaconda3/envs/teamproject/lib/site-packages/ray/util/iter.py?line=783'>784</a>\u001b[0m         \u001b[39mif\u001b[39;00m \u001b[39misinstance\u001b[39m(item, _NextValueNotReady):\n\u001b[0;32m    <a href='file:///c%3A/ProgramData/Anaconda3/envs/teamproject/lib/site-packages/ray/util/iter.py?line=784'>785</a>\u001b[0m             \u001b[39myield\u001b[39;00m item\n",
      "File \u001b[1;32mC:\\ProgramData\\Anaconda3\\envs\\teamproject\\lib\\site-packages\\ray\\util\\iter.py:843\u001b[0m, in \u001b[0;36mLocalIterator.filter.<locals>.apply_filter\u001b[1;34m(it)\u001b[0m\n\u001b[0;32m    <a href='file:///c%3A/ProgramData/Anaconda3/envs/teamproject/lib/site-packages/ray/util/iter.py?line=841'>842</a>\u001b[0m \u001b[39mdef\u001b[39;00m \u001b[39mapply_filter\u001b[39m(it):\n\u001b[1;32m--> <a href='file:///c%3A/ProgramData/Anaconda3/envs/teamproject/lib/site-packages/ray/util/iter.py?line=842'>843</a>\u001b[0m     \u001b[39mfor\u001b[39;00m item \u001b[39min\u001b[39;00m it:\n\u001b[0;32m    <a href='file:///c%3A/ProgramData/Anaconda3/envs/teamproject/lib/site-packages/ray/util/iter.py?line=843'>844</a>\u001b[0m         \u001b[39mwith\u001b[39;00m \u001b[39mself\u001b[39m\u001b[39m.\u001b[39m_metrics_context():\n\u001b[0;32m    <a href='file:///c%3A/ProgramData/Anaconda3/envs/teamproject/lib/site-packages/ray/util/iter.py?line=844'>845</a>\u001b[0m             \u001b[39mif\u001b[39;00m \u001b[39misinstance\u001b[39m(item, _NextValueNotReady) \u001b[39mor\u001b[39;00m fn(item):\n",
      "File \u001b[1;32mC:\\ProgramData\\Anaconda3\\envs\\teamproject\\lib\\site-packages\\ray\\util\\iter.py:1075\u001b[0m, in \u001b[0;36mLocalIterator.union.<locals>.build_union\u001b[1;34m(timeout)\u001b[0m\n\u001b[0;32m   <a href='file:///c%3A/ProgramData/Anaconda3/envs/teamproject/lib/site-packages/ray/util/iter.py?line=1072'>1073</a>\u001b[0m \u001b[39mtry\u001b[39;00m:\n\u001b[0;32m   <a href='file:///c%3A/ProgramData/Anaconda3/envs/teamproject/lib/site-packages/ray/util/iter.py?line=1073'>1074</a>\u001b[0m     \u001b[39mfor\u001b[39;00m _ \u001b[39min\u001b[39;00m \u001b[39mrange\u001b[39m(max_pull):\n\u001b[1;32m-> <a href='file:///c%3A/ProgramData/Anaconda3/envs/teamproject/lib/site-packages/ray/util/iter.py?line=1074'>1075</a>\u001b[0m         item \u001b[39m=\u001b[39m \u001b[39mnext\u001b[39;49m(it)\n\u001b[0;32m   <a href='file:///c%3A/ProgramData/Anaconda3/envs/teamproject/lib/site-packages/ray/util/iter.py?line=1075'>1076</a>\u001b[0m         \u001b[39mif\u001b[39;00m \u001b[39misinstance\u001b[39m(item, _NextValueNotReady):\n\u001b[0;32m   <a href='file:///c%3A/ProgramData/Anaconda3/envs/teamproject/lib/site-packages/ray/util/iter.py?line=1076'>1077</a>\u001b[0m             \u001b[39mif\u001b[39;00m timeout \u001b[39mis\u001b[39;00m \u001b[39mnot\u001b[39;00m \u001b[39mNone\u001b[39;00m:\n",
      "File \u001b[1;32mC:\\ProgramData\\Anaconda3\\envs\\teamproject\\lib\\site-packages\\ray\\util\\iter.py:756\u001b[0m, in \u001b[0;36mLocalIterator.__next__\u001b[1;34m(self)\u001b[0m\n\u001b[0;32m    <a href='file:///c%3A/ProgramData/Anaconda3/envs/teamproject/lib/site-packages/ray/util/iter.py?line=753'>754</a>\u001b[0m \u001b[39mdef\u001b[39;00m \u001b[39m__next__\u001b[39m(\u001b[39mself\u001b[39m):\n\u001b[0;32m    <a href='file:///c%3A/ProgramData/Anaconda3/envs/teamproject/lib/site-packages/ray/util/iter.py?line=754'>755</a>\u001b[0m     \u001b[39mself\u001b[39m\u001b[39m.\u001b[39m_build_once()\n\u001b[1;32m--> <a href='file:///c%3A/ProgramData/Anaconda3/envs/teamproject/lib/site-packages/ray/util/iter.py?line=755'>756</a>\u001b[0m     \u001b[39mreturn\u001b[39;00m \u001b[39mnext\u001b[39;49m(\u001b[39mself\u001b[39;49m\u001b[39m.\u001b[39;49mbuilt_iterator)\n",
      "File \u001b[1;32mC:\\ProgramData\\Anaconda3\\envs\\teamproject\\lib\\site-packages\\ray\\util\\iter.py:783\u001b[0m, in \u001b[0;36mLocalIterator.for_each.<locals>.apply_foreach\u001b[1;34m(it)\u001b[0m\n\u001b[0;32m    <a href='file:///c%3A/ProgramData/Anaconda3/envs/teamproject/lib/site-packages/ray/util/iter.py?line=781'>782</a>\u001b[0m \u001b[39mdef\u001b[39;00m \u001b[39mapply_foreach\u001b[39m(it):\n\u001b[1;32m--> <a href='file:///c%3A/ProgramData/Anaconda3/envs/teamproject/lib/site-packages/ray/util/iter.py?line=782'>783</a>\u001b[0m     \u001b[39mfor\u001b[39;00m item \u001b[39min\u001b[39;00m it:\n\u001b[0;32m    <a href='file:///c%3A/ProgramData/Anaconda3/envs/teamproject/lib/site-packages/ray/util/iter.py?line=783'>784</a>\u001b[0m         \u001b[39mif\u001b[39;00m \u001b[39misinstance\u001b[39m(item, _NextValueNotReady):\n\u001b[0;32m    <a href='file:///c%3A/ProgramData/Anaconda3/envs/teamproject/lib/site-packages/ray/util/iter.py?line=784'>785</a>\u001b[0m             \u001b[39myield\u001b[39;00m item\n",
      "File \u001b[1;32mC:\\ProgramData\\Anaconda3\\envs\\teamproject\\lib\\site-packages\\ray\\util\\iter.py:783\u001b[0m, in \u001b[0;36mLocalIterator.for_each.<locals>.apply_foreach\u001b[1;34m(it)\u001b[0m\n\u001b[0;32m    <a href='file:///c%3A/ProgramData/Anaconda3/envs/teamproject/lib/site-packages/ray/util/iter.py?line=781'>782</a>\u001b[0m \u001b[39mdef\u001b[39;00m \u001b[39mapply_foreach\u001b[39m(it):\n\u001b[1;32m--> <a href='file:///c%3A/ProgramData/Anaconda3/envs/teamproject/lib/site-packages/ray/util/iter.py?line=782'>783</a>\u001b[0m     \u001b[39mfor\u001b[39;00m item \u001b[39min\u001b[39;00m it:\n\u001b[0;32m    <a href='file:///c%3A/ProgramData/Anaconda3/envs/teamproject/lib/site-packages/ray/util/iter.py?line=783'>784</a>\u001b[0m         \u001b[39mif\u001b[39;00m \u001b[39misinstance\u001b[39m(item, _NextValueNotReady):\n\u001b[0;32m    <a href='file:///c%3A/ProgramData/Anaconda3/envs/teamproject/lib/site-packages/ray/util/iter.py?line=784'>785</a>\u001b[0m             \u001b[39myield\u001b[39;00m item\n",
      "    \u001b[1;31m[... skipping similar frames: LocalIterator.for_each.<locals>.apply_foreach at line 783 (1 times)]\u001b[0m\n",
      "File \u001b[1;32mC:\\ProgramData\\Anaconda3\\envs\\teamproject\\lib\\site-packages\\ray\\util\\iter.py:783\u001b[0m, in \u001b[0;36mLocalIterator.for_each.<locals>.apply_foreach\u001b[1;34m(it)\u001b[0m\n\u001b[0;32m    <a href='file:///c%3A/ProgramData/Anaconda3/envs/teamproject/lib/site-packages/ray/util/iter.py?line=781'>782</a>\u001b[0m \u001b[39mdef\u001b[39;00m \u001b[39mapply_foreach\u001b[39m(it):\n\u001b[1;32m--> <a href='file:///c%3A/ProgramData/Anaconda3/envs/teamproject/lib/site-packages/ray/util/iter.py?line=782'>783</a>\u001b[0m     \u001b[39mfor\u001b[39;00m item \u001b[39min\u001b[39;00m it:\n\u001b[0;32m    <a href='file:///c%3A/ProgramData/Anaconda3/envs/teamproject/lib/site-packages/ray/util/iter.py?line=783'>784</a>\u001b[0m         \u001b[39mif\u001b[39;00m \u001b[39misinstance\u001b[39m(item, _NextValueNotReady):\n\u001b[0;32m    <a href='file:///c%3A/ProgramData/Anaconda3/envs/teamproject/lib/site-packages/ray/util/iter.py?line=784'>785</a>\u001b[0m             \u001b[39myield\u001b[39;00m item\n",
      "File \u001b[1;32mC:\\ProgramData\\Anaconda3\\envs\\teamproject\\lib\\site-packages\\ray\\util\\iter.py:471\u001b[0m, in \u001b[0;36mParallelIterator.batch_across_shards.<locals>.base_iterator\u001b[1;34m(timeout)\u001b[0m\n\u001b[0;32m    <a href='file:///c%3A/ProgramData/Anaconda3/envs/teamproject/lib/site-packages/ray/util/iter.py?line=468'>469</a>\u001b[0m \u001b[39mwhile\u001b[39;00m active:\n\u001b[0;32m    <a href='file:///c%3A/ProgramData/Anaconda3/envs/teamproject/lib/site-packages/ray/util/iter.py?line=469'>470</a>\u001b[0m     \u001b[39mtry\u001b[39;00m:\n\u001b[1;32m--> <a href='file:///c%3A/ProgramData/Anaconda3/envs/teamproject/lib/site-packages/ray/util/iter.py?line=470'>471</a>\u001b[0m         \u001b[39myield\u001b[39;00m ray\u001b[39m.\u001b[39;49mget(futures, timeout\u001b[39m=\u001b[39;49mtimeout)\n\u001b[0;32m    <a href='file:///c%3A/ProgramData/Anaconda3/envs/teamproject/lib/site-packages/ray/util/iter.py?line=471'>472</a>\u001b[0m         futures \u001b[39m=\u001b[39m [a\u001b[39m.\u001b[39mpar_iter_next\u001b[39m.\u001b[39mremote() \u001b[39mfor\u001b[39;00m a \u001b[39min\u001b[39;00m active]\n\u001b[0;32m    <a href='file:///c%3A/ProgramData/Anaconda3/envs/teamproject/lib/site-packages/ray/util/iter.py?line=472'>473</a>\u001b[0m         \u001b[39m# Always yield after each round of gets with timeout.\u001b[39;00m\n",
      "File \u001b[1;32mC:\\ProgramData\\Anaconda3\\envs\\teamproject\\lib\\site-packages\\ray\\_private\\client_mode_hook.py:105\u001b[0m, in \u001b[0;36mclient_mode_hook.<locals>.wrapper\u001b[1;34m(*args, **kwargs)\u001b[0m\n\u001b[0;32m    <a href='file:///c%3A/ProgramData/Anaconda3/envs/teamproject/lib/site-packages/ray/_private/client_mode_hook.py?line=102'>103</a>\u001b[0m     \u001b[39mif\u001b[39;00m func\u001b[39m.\u001b[39m\u001b[39m__name__\u001b[39m \u001b[39m!=\u001b[39m \u001b[39m\"\u001b[39m\u001b[39minit\u001b[39m\u001b[39m\"\u001b[39m \u001b[39mor\u001b[39;00m is_client_mode_enabled_by_default:\n\u001b[0;32m    <a href='file:///c%3A/ProgramData/Anaconda3/envs/teamproject/lib/site-packages/ray/_private/client_mode_hook.py?line=103'>104</a>\u001b[0m         \u001b[39mreturn\u001b[39;00m \u001b[39mgetattr\u001b[39m(ray, func\u001b[39m.\u001b[39m\u001b[39m__name__\u001b[39m)(\u001b[39m*\u001b[39margs, \u001b[39m*\u001b[39m\u001b[39m*\u001b[39mkwargs)\n\u001b[1;32m--> <a href='file:///c%3A/ProgramData/Anaconda3/envs/teamproject/lib/site-packages/ray/_private/client_mode_hook.py?line=104'>105</a>\u001b[0m \u001b[39mreturn\u001b[39;00m func(\u001b[39m*\u001b[39margs, \u001b[39m*\u001b[39m\u001b[39m*\u001b[39mkwargs)\n",
      "File \u001b[1;32mC:\\ProgramData\\Anaconda3\\envs\\teamproject\\lib\\site-packages\\ray\\worker.py:1763\u001b[0m, in \u001b[0;36mget\u001b[1;34m(object_refs, timeout)\u001b[0m\n\u001b[0;32m   <a href='file:///c%3A/ProgramData/Anaconda3/envs/teamproject/lib/site-packages/ray/worker.py?line=1760'>1761</a>\u001b[0m     worker\u001b[39m.\u001b[39mcore_worker\u001b[39m.\u001b[39mdump_object_store_memory_usage()\n\u001b[0;32m   <a href='file:///c%3A/ProgramData/Anaconda3/envs/teamproject/lib/site-packages/ray/worker.py?line=1761'>1762</a>\u001b[0m \u001b[39mif\u001b[39;00m \u001b[39misinstance\u001b[39m(value, RayTaskError):\n\u001b[1;32m-> <a href='file:///c%3A/ProgramData/Anaconda3/envs/teamproject/lib/site-packages/ray/worker.py?line=1762'>1763</a>\u001b[0m     \u001b[39mraise\u001b[39;00m value\u001b[39m.\u001b[39mas_instanceof_cause()\n\u001b[0;32m   <a href='file:///c%3A/ProgramData/Anaconda3/envs/teamproject/lib/site-packages/ray/worker.py?line=1763'>1764</a>\u001b[0m \u001b[39melse\u001b[39;00m:\n\u001b[0;32m   <a href='file:///c%3A/ProgramData/Anaconda3/envs/teamproject/lib/site-packages/ray/worker.py?line=1764'>1765</a>\u001b[0m     \u001b[39mraise\u001b[39;00m value\n",
      "\u001b[1;31mRayTaskError(TypeError)\u001b[0m: \u001b[36mray::RolloutWorker.par_iter_next()\u001b[39m (pid=9980, ip=127.0.0.1, repr=<ray.rllib.evaluation.rollout_worker.RolloutWorker object at 0x000001938F580A90>)\n  File \"python\\ray\\_raylet.pyx\", line 640, in ray._raylet.execute_task\n  File \"python\\ray\\_raylet.pyx\", line 644, in ray._raylet.execute_task\n  File \"python\\ray\\_raylet.pyx\", line 593, in ray._raylet.execute_task.function_executor\n  File \"C:\\ProgramData\\Anaconda3\\envs\\teamproject\\lib\\site-packages\\ray\\_private\\function_manager.py\", line 648, in actor_method_executor\n    return method(__ray_actor, *args, **kwargs)\n  File \"C:\\ProgramData\\Anaconda3\\envs\\teamproject\\lib\\site-packages\\ray\\util\\tracing\\tracing_helper.py\", line 451, in _resume_span\n    return method(self, *_args, **_kwargs)\n  File \"C:\\ProgramData\\Anaconda3\\envs\\teamproject\\lib\\site-packages\\ray\\util\\iter.py\", line 1151, in par_iter_next\n    return next(self.local_it)\n  File \"C:\\ProgramData\\Anaconda3\\envs\\teamproject\\lib\\site-packages\\ray\\rllib\\evaluation\\rollout_worker.py\", line 380, in gen_rollouts\n    yield self.sample()\n  File \"C:\\ProgramData\\Anaconda3\\envs\\teamproject\\lib\\site-packages\\ray\\util\\tracing\\tracing_helper.py\", line 451, in _resume_span\n    return method(self, *_args, **_kwargs)\n  File \"C:\\ProgramData\\Anaconda3\\envs\\teamproject\\lib\\site-packages\\ray\\rllib\\evaluation\\rollout_worker.py\", line 759, in sample\n    batches = [self.input_reader.next()]\n  File \"C:\\ProgramData\\Anaconda3\\envs\\teamproject\\lib\\site-packages\\ray\\rllib\\evaluation\\sampler.py\", line 104, in next\n    batches = [self.get_data()]\n  File \"C:\\ProgramData\\Anaconda3\\envs\\teamproject\\lib\\site-packages\\ray\\rllib\\evaluation\\sampler.py\", line 266, in get_data\n    item = next(self._env_runner)\n  File \"C:\\ProgramData\\Anaconda3\\envs\\teamproject\\lib\\site-packages\\ray\\rllib\\evaluation\\sampler.py\", line 683, in _env_runner\n    base_env.send_actions(actions_to_send)\n  File \"C:\\ProgramData\\Anaconda3\\envs\\teamproject\\lib\\site-packages\\ray\\rllib\\env\\vector_env.py\", line 302, in send_actions\n    self.vector_env.vector_step(action_vector)\n  File \"C:\\ProgramData\\Anaconda3\\envs\\teamproject\\lib\\site-packages\\ray\\rllib\\env\\vector_env.py\", line 233, in vector_step\n    obs, r, done, info = self.envs[i].step(actions[i])\n  File \"e:\\SIASemester2\\Mannheim\\ines-autonomous-dispatching\\rl\\Graph_Environment\\gym_graphenv\\envs\\GraphworldManhattan.py\", line 193, in step\n    reward, done = self.compute_reward(done)\n  File \"e:\\SIASemester2\\Mannheim\\ines-autonomous-dispatching\\rl\\Graph_Environment\\gym_graphenv\\envs\\GraphworldManhattan.py\", line 231, in compute_reward\n    df_id = self.current_trip['trip_row_id']\nTypeError: 'NoneType' object is not subscriptable"
     ]
    }
   ],
   "source": [
    "results = []\n",
    "episode_data = []\n",
    "episode_json = []\n",
    "n_iter=10\n",
    "\n",
    "for n in range(n_iter):\n",
    "    result = trainer.train()\n",
    "    results.append(result)\n",
    "    print(\"TEST\",n)\n",
    "    \n",
    "    episode = {'n': n, \n",
    "               'episode_reward_min': result['episode_reward_min'], \n",
    "               'episode_reward_mean': result['episode_reward_mean'], \n",
    "               'episode_reward_max': result['episode_reward_max'],  \n",
    "               'episode_len_mean': result['episode_len_mean']\n",
    "              }\n",
    "    \n",
    "    episode_data.append(episode)\n",
    "    episode_json.append(json.dumps(episode))\n",
    "    file_name = trainer.save(checkpoint_root)\n",
    "    \n",
    "    print(f'{n+1:3d}: Min/Mean/Max reward: {result[\"episode_reward_min\"]:8.4f}/{result[\"episode_reward_mean\"]:8.4f}/{result[\"episode_reward_max\"]:8.4f}, len mean: {result[\"episode_len_mean\"]:8.4f}. Checkpoint saved to {file_name}')"
   ]
  },
  {
   "cell_type": "code",
   "execution_count": null,
   "metadata": {},
   "outputs": [],
   "source": [
    "results"
   ]
  },
  {
   "cell_type": "markdown",
   "metadata": {},
   "source": [
    "Testing of the trainer"
   ]
  },
  {
   "cell_type": "code",
   "execution_count": null,
   "metadata": {},
   "outputs": [],
   "source": [
    "trainer.restore(file_name)\n",
    "env = gym.make(\"graphworld-v0\")\n",
    "state = env.reset()"
   ]
  },
  {
   "cell_type": "code",
   "execution_count": null,
   "metadata": {},
   "outputs": [],
   "source": [
    "sum_reward = 0\n",
    "n_step = 20\n",
    "for step in range(n_step):\n",
    "    action = trainer.compute_action(state)\n",
    "    state, reward, done, info = env.step(action)\n",
    "    sum_reward += reward\n",
    "    #env.render()\n",
    "    if done == 1:\n",
    "        print(\"cumulative reward\", sum_reward)\n",
    "        state = env.reset()\n",
    "        sum_reward = 0"
   ]
  },
  {
   "cell_type": "code",
   "execution_count": null,
   "metadata": {},
   "outputs": [],
   "source": [
    "ray.shutdown()"
   ]
  }
 ],
 "metadata": {
  "interpreter": {
   "hash": "659ff4560fff501816ab5557c69e2236a8a93dda2d0369456c34960305f58737"
  },
  "kernelspec": {
   "display_name": "Python 3.8.12 ('base')",
   "language": "python",
   "name": "python3"
  },
  "language_info": {
   "codemirror_mode": {
    "name": "ipython",
    "version": 3
   },
   "file_extension": ".py",
   "mimetype": "text/x-python",
   "name": "python",
   "nbconvert_exporter": "python",
   "pygments_lexer": "ipython3",
   "version": "3.8.8"
  },
  "orig_nbformat": 4
 },
 "nbformat": 4,
 "nbformat_minor": 2
}
