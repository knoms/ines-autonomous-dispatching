{
 "cells": [
  {
   "cell_type": "markdown",
   "metadata": {},
   "source": [
    "## Testing of the Graph Environment"
   ]
  },
  {
   "cell_type": "markdown",
   "metadata": {},
   "source": [
    "Imports"
   ]
  },
  {
   "cell_type": "code",
   "execution_count": 1,
   "metadata": {},
   "outputs": [],
   "source": [
    "import numpy as np\n",
    "import pandas as pd\n",
    "import json\n",
    "import os\n",
    "import shutil\n",
    "import sys\n",
    "import gym\n",
    "import pickle\n",
    "from datetime import datetime\n",
    "\n",
    "import ray\n",
    "\n",
    "import warnings\n",
    "warnings.filterwarnings('ignore')\n"
   ]
  },
  {
   "cell_type": "code",
   "execution_count": 2,
   "metadata": {},
   "outputs": [],
   "source": [
    "#from ray.rllib.agents.dqn import DQNTrainer, DEFAULT_CONFIG, APEX_DEFAULT_CONFIG\n",
    "from ray.rllib.agents.ppo import PPOTrainer, DEFAULT_CONFIG"
   ]
  },
  {
   "cell_type": "markdown",
   "metadata": {},
   "source": [
    "Import the Environment"
   ]
  },
  {
   "cell_type": "code",
   "execution_count": 3,
   "metadata": {},
   "outputs": [
    {
     "name": "stdout",
     "output_type": "stream",
     "text": [
      "['id0000569']\n",
      "([42449991, 42429690, 42445236, 42436486, 42438800, 42439561, 42430063, 42450009, 42446472], ['2016-01-03 19:51:38', '2016-01-03 19:51:53', '2016-01-03 19:52:08', '2016-01-03 19:52:24', '2016-01-03 19:52:40', '2016-01-03 19:52:55', '2016-01-03 19:53:10', '2016-01-03 19:53:25', '2016-01-03 19:53:40'])\n"
     ]
    }
   ],
   "source": [
    "sys.path.insert(0,\"\")\n",
    "\n",
    "from ManhattanGraph import ManhattanGraph\n",
    "from gym_graphenv.envs.GraphworldManhattan import GraphEnv"
   ]
  },
  {
   "cell_type": "code",
   "execution_count": 4,
   "metadata": {},
   "outputs": [],
   "source": [
    "env_config = {'pickup_hub_index':2,\n",
    "        'delivery_hub_index':3,\n",
    "        'pickup_timestamp': datetime(2016, 6, 14, 22, 0, 0),\n",
    "        'delivery_timestamp': datetime(2016, 6, 14, 1, 0, 0) \n",
    "}\n",
    "\n",
    "with open('env_config.pkl', 'wb') as f:\n",
    "    pickle.dump(env_config, f)"
   ]
  },
  {
   "cell_type": "code",
   "execution_count": 5,
   "metadata": {},
   "outputs": [],
   "source": [
    "env=GraphEnv()\n"
   ]
  },
  {
   "cell_type": "markdown",
   "metadata": {},
   "source": [
    "Run random steps without Ray Trainer"
   ]
  },
  {
   "cell_type": "code",
   "execution_count": 6,
   "metadata": {},
   "outputs": [
    {
     "name": "stdout",
     "output_type": "stream",
     "text": [
      "Reset with config\n",
      "final hub: 3\n",
      "current position: 2\n",
      "reset done\n",
      "action ==  39  New Position 39\n",
      "2 -> 39 50.0\n",
      "Step() Execution time: 0.2602269649505615 seconds\n",
      "sum_reward:  -50.0\n",
      "action ==  19  New Position 19\n",
      "39 -> 19 50.0\n",
      "Step() Execution time: 0.3269767761230469 seconds\n",
      "sum_reward:  -100.0\n",
      "action ==  51  New Position 51\n",
      "19 -> 51 50.0\n",
      "Step() Execution time: 0.3386270999908447 seconds\n",
      "sum_reward:  -150.0\n",
      "action ==  6  New Position 6\n",
      "51 -> 6 50.0\n",
      "Step() Execution time: 0.26720094680786133 seconds\n",
      "sum_reward:  -200.0\n",
      "action ==  5  New Position 5\n",
      "6 -> 5 50.0\n",
      "Step() Execution time: 0.5763471126556396 seconds\n",
      "sum_reward:  -250.0\n",
      "action ==  1  New Position 1\n",
      "5 -> 1 50.0\n",
      "Step() Execution time: 0.3538229465484619 seconds\n",
      "sum_reward:  -300.0\n",
      "action == wait \n",
      "1 -> 1 2.0\n",
      "Step() Execution time: 0.597296953201294 seconds\n",
      "sum_reward:  -302.0\n",
      "action ==  32  New Position 32\n",
      "1 -> 32 50.0\n",
      "Step() Execution time: 0.38727498054504395 seconds\n",
      "sum_reward:  -352.0\n",
      "action ==  50  New Position 50\n",
      "32 -> 50 50.0\n",
      "Step() Execution time: 0.34238290786743164 seconds\n",
      "sum_reward:  -402.0\n",
      "action ==  48  New Position 48\n",
      "50 -> 48 50.0\n",
      "Step() Execution time: 0.3147609233856201 seconds\n",
      "sum_reward:  -452.0\n",
      "action ==  38  New Position 38\n",
      "48 -> 38 50.0\n",
      "Step() Execution time: 0.3037412166595459 seconds\n",
      "sum_reward:  -502.0\n",
      "action ==  39  New Position 39\n",
      "38 -> 39 50.0\n",
      "Step() Execution time: 0.2662649154663086 seconds\n",
      "sum_reward:  -552.0\n",
      "action == wait \n",
      "39 -> 39 2.0\n",
      "Step() Execution time: 0.31293821334838867 seconds\n",
      "sum_reward:  -554.0\n",
      "action ==  48  New Position 48\n",
      "39 -> 48 50.0\n",
      "Step() Execution time: 0.3279731273651123 seconds\n",
      "sum_reward:  -604.0\n",
      "action ==  4  New Position 4\n",
      "48 -> 4 50.0\n",
      "Step() Execution time: 0.27530479431152344 seconds\n",
      "sum_reward:  -654.0\n",
      "action ==  32  New Position 32\n",
      "4 -> 32 50.0\n",
      "Step() Execution time: 0.31577515602111816 seconds\n",
      "sum_reward:  -704.0\n",
      "action ==  10  New Position 10\n",
      "32 -> 10 50.0\n",
      "Step() Execution time: 0.22315406799316406 seconds\n",
      "sum_reward:  -754.0\n",
      "action ==  45  New Position 45\n",
      "10 -> 45 50.0\n",
      "Step() Execution time: 0.2969958782196045 seconds\n",
      "sum_reward:  -804.0\n",
      "action ==  39  New Position 39\n",
      "45 -> 39 50.0\n",
      "Step() Execution time: 0.39694690704345703 seconds\n",
      "sum_reward:  -854.0\n",
      "action ==  21  New Position 21\n",
      "39 -> 21 50.0\n",
      "Step() Execution time: 0.2685370445251465 seconds\n",
      "sum_reward:  -904.0\n",
      "action == wait \n",
      "21 -> 21 2.0\n",
      "Step() Execution time: 0.2451941967010498 seconds\n",
      "sum_reward:  -906.0\n",
      "action ==  35  New Position 35\n",
      "21 -> 35 50.0\n",
      "Step() Execution time: 0.2655811309814453 seconds\n",
      "sum_reward:  -956.0\n",
      "action == wait \n",
      "35 -> 35 2.0\n",
      "Step() Execution time: 0.2285311222076416 seconds\n",
      "sum_reward:  -958.0\n",
      "action ==  43  New Position 43\n",
      "35 -> 43 50.0\n",
      "Step() Execution time: 0.26867079734802246 seconds\n",
      "sum_reward:  -1008.0\n",
      "action ==  14  New Position 14\n",
      "43 -> 14 50.0\n",
      "Step() Execution time: 0.3338589668273926 seconds\n",
      "sum_reward:  -1058.0\n",
      "action ==  52  New Position 52\n",
      "14 -> 52 50.0\n",
      "Step() Execution time: 0.24686479568481445 seconds\n",
      "sum_reward:  -1108.0\n",
      "action ==  68  New Position 68\n",
      "52 -> 68 50.0\n",
      "Step() Execution time: 0.28362607955932617 seconds\n",
      "sum_reward:  -1158.0\n",
      "action ==  10  New Position 10\n",
      "68 -> 10 50.0\n",
      "Step() Execution time: 0.29318809509277344 seconds\n",
      "sum_reward:  -1208.0\n",
      "action ==  5  New Position 5\n",
      "10 -> 5 50.0\n",
      "Step() Execution time: 0.266970157623291 seconds\n",
      "sum_reward:  -1258.0\n",
      "action ==  17  New Position 17\n",
      "5 -> 17 50.0\n",
      "Step() Execution time: 0.2469329833984375 seconds\n",
      "sum_reward:  -1308.0\n"
     ]
    }
   ],
   "source": [
    "def run_one_episode (env):\n",
    "    env.reset()\n",
    "    print(\"reset done\")\n",
    "    sum_reward = 0\n",
    "    for i in range(30):\n",
    "        action = env.action_space.sample()\n",
    "        #print(action)\n",
    "        state, reward, done, info = env.step(action)\n",
    "        sum_reward+=reward\n",
    "        #env.render()\n",
    "        if done:\n",
    "            print(\"DELIVERY DONE! sum_reward: \",sum_reward)\n",
    "            break\n",
    "\n",
    "        print(\"sum_reward: \",sum_reward)\n",
    "        # print(\"sum_reward: \",sum_reward, \" time: \",env.time, \"deadline time: \", env.deadline, \"pickup time: \", env.pickup_time)\n",
    "    return sum_reward\n",
    "\n",
    "for i in range(1): \n",
    "    run_one_episode (env)"
   ]
  },
  {
   "cell_type": "markdown",
   "metadata": {},
   "source": [
    "Initialize Ray"
   ]
  },
  {
   "cell_type": "code",
   "execution_count": 7,
   "metadata": {},
   "outputs": [
    {
     "name": "stderr",
     "output_type": "stream",
     "text": [
      "2022-05-12 02:11:23,141\tINFO services.py:1412 -- View the Ray dashboard at \u001b[1m\u001b[32mhttp://127.0.0.1:8265\u001b[39m\u001b[22m\n"
     ]
    },
    {
     "data": {
      "text/plain": [
       "{'node_ip_address': '127.0.0.1',\n",
       " 'raylet_ip_address': '127.0.0.1',\n",
       " 'redis_address': None,\n",
       " 'object_store_address': '/tmp/ray/session_2022-05-12_02-11-18_781193_39419/sockets/plasma_store',\n",
       " 'raylet_socket_name': '/tmp/ray/session_2022-05-12_02-11-18_781193_39419/sockets/raylet',\n",
       " 'webui_url': '127.0.0.1:8265',\n",
       " 'session_dir': '/tmp/ray/session_2022-05-12_02-11-18_781193_39419',\n",
       " 'metrics_export_port': 59977,\n",
       " 'gcs_address': '127.0.0.1:59256',\n",
       " 'address': '127.0.0.1:59256',\n",
       " 'node_id': 'ed025f11873de89f091cbe52d659fafd6641a5f0a0fa24a1b3e496e7'}"
      ]
     },
     "execution_count": 7,
     "metadata": {},
     "output_type": "execute_result"
    }
   ],
   "source": [
    "ray.init()"
   ]
  },
  {
   "cell_type": "markdown",
   "metadata": {},
   "source": [
    "Set DQN trainer configuration"
   ]
  },
  {
   "cell_type": "code",
   "execution_count": 8,
   "metadata": {},
   "outputs": [],
   "source": [
    "dqn_config = DEFAULT_CONFIG.copy()\n",
    "dqn_config['num_workers'] = 1\n",
    "dqn_config[\"train_batch_size\"] = 400\n",
    "dqn_config[\"gamma\"] = 0.95\n",
    "dqn_config[\"n_step\"] = 10\n",
    "dqn_config[\"framework\"] = \"torch\"\n",
    "#num_gpus and other gpu parameters in order to train with gpu\n",
    "#dqn_config[\"num_gpus\"] = int(os.environ.get(\"RLLIB_NUM_GPUS\", \"0\")) "
   ]
  },
  {
   "cell_type": "markdown",
   "metadata": {},
   "source": [
    "Set DQN - Rainbow configuration"
   ]
  },
  {
   "cell_type": "code",
   "execution_count": 9,
   "metadata": {},
   "outputs": [],
   "source": [
    "rainbow_config = DEFAULT_CONFIG.copy()\n",
    "\n",
    "rainbow_config = DEFAULT_CONFIG.copy()\n",
    "rainbow_config['num_workers'] = 1\n",
    "rainbow_config[\"train_batch_size\"] = 400\n",
    "rainbow_config[\"gamma\"] = 0.95\n",
    "rainbow_config[\"n_step\"] = 10\n",
    "rainbow_config[\"framework\"] = \"torch\"\n",
    "#num_gpus and other gpu parameters in order to train with gpu\n",
    "#rainbow_config[\"num_gpus\"] = int(os.environ.get(\"RLLIB_NUM_GPUS\", \"0\")) \n",
    "\n",
    "#rainbow parameters\n",
    "\n",
    "# N-step Q learning\n",
    "rainbow_config[\"n_step\"]= 5 #[between 1 and 10]\n",
    "# Whether to use noisy network\n",
    "rainbow_config[\"noisy\"] = True\n",
    "# Number of atoms for representing the distribution of return. When\n",
    "# this is greater than 1, distributional Q-learning is used.\n",
    "# the discrete supports are bounded by v_min and v_max\n",
    "rainbow_config[\"num_atoms\"] =2 #[more than 1]\n",
    "rainbow_config[\"v_min\"] =-100\n",
    "rainbow_config[\"v_max\"]=100 # (set v_min and v_max according to your expected range of returns)."
   ]
  },
  {
   "cell_type": "markdown",
   "metadata": {},
   "source": [
    "Set DQN - Ape-X configuration "
   ]
  },
  {
   "cell_type": "code",
   "execution_count": 10,
   "metadata": {},
   "outputs": [],
   "source": [
    "#apex_config=APEX_DEFAULT_CONFIG.copy()"
   ]
  },
  {
   "cell_type": "markdown",
   "metadata": {},
   "source": [
    "Initialize the DQN trainer, Rainbow DQN and DQN Ape-X"
   ]
  },
  {
   "cell_type": "code",
   "execution_count": 9,
   "metadata": {},
   "outputs": [
    {
     "name": "stderr",
     "output_type": "stream",
     "text": [
      "2022-05-12 02:11:39,268\tINFO trainer.py:2140 -- Your framework setting is 'tf', meaning you are using static-graph mode. Set framework='tf2' to enable eager execution with tf2.x. You may also then want to set eager_tracing=True in order to reach similar execution speed as with static-graph mode.\n",
      "2022-05-12 02:11:39,274\tINFO ppo.py:249 -- In multi-agent mode, policies will be optimized sequentially by the multi-GPU optimizer. Consider setting simple_optimizer=True if this doesn't work for you.\n",
      "2022-05-12 02:11:39,275\tINFO trainer.py:779 -- Current log_level is WARN. For more information, set 'log_level': 'INFO' / 'DEBUG' or use the -v and -vv flags.\n"
     ]
    },
    {
     "name": "stdout",
     "output_type": "stream",
     "text": [
      "\u001b[2m\u001b[36m(RolloutWorker pid=39477)\u001b[0m ['id0000569']\n",
      "\u001b[2m\u001b[36m(RolloutWorker pid=39477)\u001b[0m ([42449991, 42429690, 42445236, 42436486, 42438800, 42439561, 42430063, 42450009, 42446472], ['2016-01-03 19:51:38', '2016-01-03 19:51:53', '2016-01-03 19:52:08', '2016-01-03 19:52:24', '2016-01-03 19:52:40', '2016-01-03 19:52:55', '2016-01-03 19:53:10', '2016-01-03 19:53:25', '2016-01-03 19:53:40'])\n",
      "\u001b[2m\u001b[36m(RolloutWorker pid=39478)\u001b[0m ['id0000569']\n",
      "\u001b[2m\u001b[36m(RolloutWorker pid=39478)\u001b[0m ([42449991, 42429690, 42445236, 42436486, 42438800, 42439561, 42430063, 42450009, 42446472], ['2016-01-03 19:51:38', '2016-01-03 19:51:53', '2016-01-03 19:52:08', '2016-01-03 19:52:24', '2016-01-03 19:52:40', '2016-01-03 19:52:55', '2016-01-03 19:53:10', '2016-01-03 19:53:25', '2016-01-03 19:53:40'])\n"
     ]
    },
    {
     "name": "stderr",
     "output_type": "stream",
     "text": [
      "\u001b[2m\u001b[36m(RolloutWorker pid=39477)\u001b[0m UserWarning: The `get_nearest_node` function has been deprecated and will be removed in a future release. Use the more efficient `distance.nearest_nodes` instead.\n",
      "\u001b[2m\u001b[36m(RolloutWorker pid=39477)\u001b[0m UserWarning: The `get_nearest_node` function has been deprecated and will be removed in a future release. Use the more efficient `distance.nearest_nodes` instead.\n",
      "\u001b[2m\u001b[36m(RolloutWorker pid=39478)\u001b[0m UserWarning: The `get_nearest_node` function has been deprecated and will be removed in a future release. Use the more efficient `distance.nearest_nodes` instead.\n",
      "\u001b[2m\u001b[36m(RolloutWorker pid=39478)\u001b[0m UserWarning: The `get_nearest_node` function has been deprecated and will be removed in a future release. Use the more efficient `distance.nearest_nodes` instead.\n",
      "\u001b[2m\u001b[36m(RolloutWorker pid=39477)\u001b[0m UserWarning: The `get_nearest_node` function has been deprecated and will be removed in a future release. Use the more efficient `distance.nearest_nodes` instead.\n",
      "\u001b[2m\u001b[36m(RolloutWorker pid=39477)\u001b[0m UserWarning: The `get_nearest_node` function has been deprecated and will be removed in a future release. Use the more efficient `distance.nearest_nodes` instead.\n",
      "\u001b[2m\u001b[36m(RolloutWorker pid=39478)\u001b[0m UserWarning: The `get_nearest_node` function has been deprecated and will be removed in a future release. Use the more efficient `distance.nearest_nodes` instead.\n",
      "\u001b[2m\u001b[36m(RolloutWorker pid=39478)\u001b[0m UserWarning: The `get_nearest_node` function has been deprecated and will be removed in a future release. Use the more efficient `distance.nearest_nodes` instead.\n",
      "\u001b[2m\u001b[36m(RolloutWorker pid=39477)\u001b[0m UserWarning: The `get_nearest_node` function has been deprecated and will be removed in a future release. Use the more efficient `distance.nearest_nodes` instead.\n",
      "\u001b[2m\u001b[36m(RolloutWorker pid=39478)\u001b[0m UserWarning: The `get_nearest_node` function has been deprecated and will be removed in a future release. Use the more efficient `distance.nearest_nodes` instead.\n",
      "\u001b[2m\u001b[36m(RolloutWorker pid=39477)\u001b[0m UserWarning: The `get_nearest_node` function has been deprecated and will be removed in a future release. Use the more efficient `distance.nearest_nodes` instead.\n",
      "\u001b[2m\u001b[36m(RolloutWorker pid=39478)\u001b[0m UserWarning: The `get_nearest_node` function has been deprecated and will be removed in a future release. Use the more efficient `distance.nearest_nodes` instead.\n",
      "\u001b[2m\u001b[36m(RolloutWorker pid=39477)\u001b[0m UserWarning: The `get_nearest_node` function has been deprecated and will be removed in a future release. Use the more efficient `distance.nearest_nodes` instead.\n",
      "\u001b[2m\u001b[36m(RolloutWorker pid=39477)\u001b[0m UserWarning: The `get_nearest_node` function has been deprecated and will be removed in a future release. Use the more efficient `distance.nearest_nodes` instead.\n",
      "\u001b[2m\u001b[36m(RolloutWorker pid=39478)\u001b[0m UserWarning: The `get_nearest_node` function has been deprecated and will be removed in a future release. Use the more efficient `distance.nearest_nodes` instead.\n",
      "\u001b[2m\u001b[36m(RolloutWorker pid=39478)\u001b[0m UserWarning: The `get_nearest_node` function has been deprecated and will be removed in a future release. Use the more efficient `distance.nearest_nodes` instead.\n",
      "\u001b[2m\u001b[36m(RolloutWorker pid=39477)\u001b[0m UserWarning: The `get_nearest_node` function has been deprecated and will be removed in a future release. Use the more efficient `distance.nearest_nodes` instead.\n",
      "\u001b[2m\u001b[36m(RolloutWorker pid=39477)\u001b[0m UserWarning: The `get_nearest_node` function has been deprecated and will be removed in a future release. Use the more efficient `distance.nearest_nodes` instead.\n",
      "\u001b[2m\u001b[36m(RolloutWorker pid=39478)\u001b[0m UserWarning: The `get_nearest_node` function has been deprecated and will be removed in a future release. Use the more efficient `distance.nearest_nodes` instead.\n",
      "\u001b[2m\u001b[36m(RolloutWorker pid=39478)\u001b[0m UserWarning: The `get_nearest_node` function has been deprecated and will be removed in a future release. Use the more efficient `distance.nearest_nodes` instead.\n",
      "\u001b[2m\u001b[36m(RolloutWorker pid=39477)\u001b[0m UserWarning: The `get_nearest_node` function has been deprecated and will be removed in a future release. Use the more efficient `distance.nearest_nodes` instead.\n",
      "\u001b[2m\u001b[36m(RolloutWorker pid=39478)\u001b[0m UserWarning: The `get_nearest_node` function has been deprecated and will be removed in a future release. Use the more efficient `distance.nearest_nodes` instead.\n",
      "\u001b[2m\u001b[36m(RolloutWorker pid=39477)\u001b[0m UserWarning: The `get_nearest_node` function has been deprecated and will be removed in a future release. Use the more efficient `distance.nearest_nodes` instead.\n",
      "\u001b[2m\u001b[36m(RolloutWorker pid=39478)\u001b[0m UserWarning: The `get_nearest_node` function has been deprecated and will be removed in a future release. Use the more efficient `distance.nearest_nodes` instead.\n",
      "\u001b[2m\u001b[36m(RolloutWorker pid=39477)\u001b[0m UserWarning: The `get_nearest_node` function has been deprecated and will be removed in a future release. Use the more efficient `distance.nearest_nodes` instead.\n",
      "\u001b[2m\u001b[36m(RolloutWorker pid=39477)\u001b[0m UserWarning: The `get_nearest_node` function has been deprecated and will be removed in a future release. Use the more efficient `distance.nearest_nodes` instead.\n",
      "\u001b[2m\u001b[36m(RolloutWorker pid=39478)\u001b[0m UserWarning: The `get_nearest_node` function has been deprecated and will be removed in a future release. Use the more efficient `distance.nearest_nodes` instead.\n",
      "\u001b[2m\u001b[36m(RolloutWorker pid=39478)\u001b[0m UserWarning: The `get_nearest_node` function has been deprecated and will be removed in a future release. Use the more efficient `distance.nearest_nodes` instead.\n",
      "\u001b[2m\u001b[36m(RolloutWorker pid=39477)\u001b[0m UserWarning: The `get_nearest_node` function has been deprecated and will be removed in a future release. Use the more efficient `distance.nearest_nodes` instead.\n",
      "\u001b[2m\u001b[36m(RolloutWorker pid=39477)\u001b[0m UserWarning: The `get_nearest_node` function has been deprecated and will be removed in a future release. Use the more efficient `distance.nearest_nodes` instead.\n",
      "\u001b[2m\u001b[36m(RolloutWorker pid=39478)\u001b[0m UserWarning: The `get_nearest_node` function has been deprecated and will be removed in a future release. Use the more efficient `distance.nearest_nodes` instead.\n",
      "\u001b[2m\u001b[36m(RolloutWorker pid=39477)\u001b[0m UserWarning: The `get_nearest_node` function has been deprecated and will be removed in a future release. Use the more efficient `distance.nearest_nodes` instead.\n",
      "\u001b[2m\u001b[36m(RolloutWorker pid=39477)\u001b[0m UserWarning: The `get_nearest_node` function has been deprecated and will be removed in a future release. Use the more efficient `distance.nearest_nodes` instead.\n",
      "\u001b[2m\u001b[36m(RolloutWorker pid=39478)\u001b[0m UserWarning: The `get_nearest_node` function has been deprecated and will be removed in a future release. Use the more efficient `distance.nearest_nodes` instead.\n",
      "\u001b[2m\u001b[36m(RolloutWorker pid=39478)\u001b[0m UserWarning: The `get_nearest_node` function has been deprecated and will be removed in a future release. Use the more efficient `distance.nearest_nodes` instead.\n",
      "\u001b[2m\u001b[36m(RolloutWorker pid=39477)\u001b[0m UserWarning: The `get_nearest_node` function has been deprecated and will be removed in a future release. Use the more efficient `distance.nearest_nodes` instead.\n",
      "\u001b[2m\u001b[36m(RolloutWorker pid=39478)\u001b[0m UserWarning: The `get_nearest_node` function has been deprecated and will be removed in a future release. Use the more efficient `distance.nearest_nodes` instead.\n",
      "\u001b[2m\u001b[36m(RolloutWorker pid=39478)\u001b[0m UserWarning: The `get_nearest_node` function has been deprecated and will be removed in a future release. Use the more efficient `distance.nearest_nodes` instead.\n",
      "\u001b[2m\u001b[36m(RolloutWorker pid=39477)\u001b[0m UserWarning: The `get_nearest_node` function has been deprecated and will be removed in a future release. Use the more efficient `distance.nearest_nodes` instead.\n",
      "\u001b[2m\u001b[36m(RolloutWorker pid=39477)\u001b[0m UserWarning: The `get_nearest_node` function has been deprecated and will be removed in a future release. Use the more efficient `distance.nearest_nodes` instead.\n",
      "\u001b[2m\u001b[36m(RolloutWorker pid=39477)\u001b[0m UserWarning: The `get_nearest_node` function has been deprecated and will be removed in a future release. Use the more efficient `distance.nearest_nodes` instead.\n",
      "\u001b[2m\u001b[36m(RolloutWorker pid=39477)\u001b[0m UserWarning: The `get_nearest_node` function has been deprecated and will be removed in a future release. Use the more efficient `distance.nearest_nodes` instead.\n",
      "\u001b[2m\u001b[36m(RolloutWorker pid=39478)\u001b[0m UserWarning: The `get_nearest_node` function has been deprecated and will be removed in a future release. Use the more efficient `distance.nearest_nodes` instead.\n",
      "\u001b[2m\u001b[36m(RolloutWorker pid=39478)\u001b[0m UserWarning: The `get_nearest_node` function has been deprecated and will be removed in a future release. Use the more efficient `distance.nearest_nodes` instead.\n",
      "\u001b[2m\u001b[36m(RolloutWorker pid=39478)\u001b[0m UserWarning: The `get_nearest_node` function has been deprecated and will be removed in a future release. Use the more efficient `distance.nearest_nodes` instead.\n",
      "\u001b[2m\u001b[36m(RolloutWorker pid=39478)\u001b[0m UserWarning: The `get_nearest_node` function has been deprecated and will be removed in a future release. Use the more efficient `distance.nearest_nodes` instead.\n",
      "\u001b[2m\u001b[36m(RolloutWorker pid=39477)\u001b[0m UserWarning: The `get_nearest_node` function has been deprecated and will be removed in a future release. Use the more efficient `distance.nearest_nodes` instead.\n",
      "\u001b[2m\u001b[36m(RolloutWorker pid=39478)\u001b[0m UserWarning: The `get_nearest_node` function has been deprecated and will be removed in a future release. Use the more efficient `distance.nearest_nodes` instead.\n",
      "\u001b[2m\u001b[36m(RolloutWorker pid=39477)\u001b[0m UserWarning: The `get_nearest_node` function has been deprecated and will be removed in a future release. Use the more efficient `distance.nearest_nodes` instead.\n",
      "\u001b[2m\u001b[36m(RolloutWorker pid=39477)\u001b[0m UserWarning: The `get_nearest_node` function has been deprecated and will be removed in a future release. Use the more efficient `distance.nearest_nodes` instead.\n",
      "\u001b[2m\u001b[36m(RolloutWorker pid=39477)\u001b[0m UserWarning: The `get_nearest_node` function has been deprecated and will be removed in a future release. Use the more efficient `distance.nearest_nodes` instead.\n",
      "\u001b[2m\u001b[36m(RolloutWorker pid=39477)\u001b[0m UserWarning: The `get_nearest_node` function has been deprecated and will be removed in a future release. Use the more efficient `distance.nearest_nodes` instead.\n",
      "\u001b[2m\u001b[36m(RolloutWorker pid=39478)\u001b[0m UserWarning: The `get_nearest_node` function has been deprecated and will be removed in a future release. Use the more efficient `distance.nearest_nodes` instead.\n",
      "\u001b[2m\u001b[36m(RolloutWorker pid=39478)\u001b[0m UserWarning: The `get_nearest_node` function has been deprecated and will be removed in a future release. Use the more efficient `distance.nearest_nodes` instead.\n",
      "\u001b[2m\u001b[36m(RolloutWorker pid=39478)\u001b[0m UserWarning: The `get_nearest_node` function has been deprecated and will be removed in a future release. Use the more efficient `distance.nearest_nodes` instead.\n",
      "\u001b[2m\u001b[36m(RolloutWorker pid=39478)\u001b[0m UserWarning: The `get_nearest_node` function has been deprecated and will be removed in a future release. Use the more efficient `distance.nearest_nodes` instead.\n",
      "\u001b[2m\u001b[36m(RolloutWorker pid=39477)\u001b[0m UserWarning: The `get_nearest_node` function has been deprecated and will be removed in a future release. Use the more efficient `distance.nearest_nodes` instead.\n",
      "\u001b[2m\u001b[36m(RolloutWorker pid=39477)\u001b[0m UserWarning: The `get_nearest_node` function has been deprecated and will be removed in a future release. Use the more efficient `distance.nearest_nodes` instead.\n",
      "\u001b[2m\u001b[36m(RolloutWorker pid=39477)\u001b[0m UserWarning: The `get_nearest_node` function has been deprecated and will be removed in a future release. Use the more efficient `distance.nearest_nodes` instead.\n",
      "\u001b[2m\u001b[36m(RolloutWorker pid=39477)\u001b[0m UserWarning: The `get_nearest_node` function has been deprecated and will be removed in a future release. Use the more efficient `distance.nearest_nodes` instead.\n",
      "\u001b[2m\u001b[36m(RolloutWorker pid=39478)\u001b[0m UserWarning: The `get_nearest_node` function has been deprecated and will be removed in a future release. Use the more efficient `distance.nearest_nodes` instead.\n",
      "\u001b[2m\u001b[36m(RolloutWorker pid=39478)\u001b[0m UserWarning: The `get_nearest_node` function has been deprecated and will be removed in a future release. Use the more efficient `distance.nearest_nodes` instead.\n",
      "\u001b[2m\u001b[36m(RolloutWorker pid=39478)\u001b[0m UserWarning: The `get_nearest_node` function has been deprecated and will be removed in a future release. Use the more efficient `distance.nearest_nodes` instead.\n",
      "\u001b[2m\u001b[36m(RolloutWorker pid=39478)\u001b[0m UserWarning: The `get_nearest_node` function has been deprecated and will be removed in a future release. Use the more efficient `distance.nearest_nodes` instead.\n",
      "\u001b[2m\u001b[36m(RolloutWorker pid=39477)\u001b[0m UserWarning: The `get_nearest_node` function has been deprecated and will be removed in a future release. Use the more efficient `distance.nearest_nodes` instead.\n",
      "\u001b[2m\u001b[36m(RolloutWorker pid=39478)\u001b[0m UserWarning: The `get_nearest_node` function has been deprecated and will be removed in a future release. Use the more efficient `distance.nearest_nodes` instead.\n",
      "\u001b[2m\u001b[36m(RolloutWorker pid=39477)\u001b[0m UserWarning: The `get_nearest_node` function has been deprecated and will be removed in a future release. Use the more efficient `distance.nearest_nodes` instead.\n",
      "\u001b[2m\u001b[36m(RolloutWorker pid=39478)\u001b[0m UserWarning: The `get_nearest_node` function has been deprecated and will be removed in a future release. Use the more efficient `distance.nearest_nodes` instead.\n",
      "\u001b[2m\u001b[36m(RolloutWorker pid=39477)\u001b[0m UserWarning: The `get_nearest_node` function has been deprecated and will be removed in a future release. Use the more efficient `distance.nearest_nodes` instead.\n",
      "\u001b[2m\u001b[36m(RolloutWorker pid=39477)\u001b[0m UserWarning: The `get_nearest_node` function has been deprecated and will be removed in a future release. Use the more efficient `distance.nearest_nodes` instead.\n",
      "\u001b[2m\u001b[36m(RolloutWorker pid=39478)\u001b[0m UserWarning: The `get_nearest_node` function has been deprecated and will be removed in a future release. Use the more efficient `distance.nearest_nodes` instead.\n",
      "\u001b[2m\u001b[36m(RolloutWorker pid=39478)\u001b[0m UserWarning: The `get_nearest_node` function has been deprecated and will be removed in a future release. Use the more efficient `distance.nearest_nodes` instead.\n",
      "\u001b[2m\u001b[36m(RolloutWorker pid=39477)\u001b[0m UserWarning: The `get_nearest_node` function has been deprecated and will be removed in a future release. Use the more efficient `distance.nearest_nodes` instead.\n",
      "\u001b[2m\u001b[36m(RolloutWorker pid=39478)\u001b[0m UserWarning: The `get_nearest_node` function has been deprecated and will be removed in a future release. Use the more efficient `distance.nearest_nodes` instead.\n",
      "\u001b[2m\u001b[36m(RolloutWorker pid=39477)\u001b[0m UserWarning: The `get_nearest_node` function has been deprecated and will be removed in a future release. Use the more efficient `distance.nearest_nodes` instead.\n",
      "\u001b[2m\u001b[36m(RolloutWorker pid=39478)\u001b[0m UserWarning: The `get_nearest_node` function has been deprecated and will be removed in a future release. Use the more efficient `distance.nearest_nodes` instead.\n",
      "\u001b[2m\u001b[36m(RolloutWorker pid=39477)\u001b[0m UserWarning: The `get_nearest_node` function has been deprecated and will be removed in a future release. Use the more efficient `distance.nearest_nodes` instead.\n",
      "\u001b[2m\u001b[36m(RolloutWorker pid=39477)\u001b[0m UserWarning: The `get_nearest_node` function has been deprecated and will be removed in a future release. Use the more efficient `distance.nearest_nodes` instead.\n",
      "\u001b[2m\u001b[36m(RolloutWorker pid=39478)\u001b[0m UserWarning: The `get_nearest_node` function has been deprecated and will be removed in a future release. Use the more efficient `distance.nearest_nodes` instead.\n",
      "\u001b[2m\u001b[36m(RolloutWorker pid=39478)\u001b[0m UserWarning: The `get_nearest_node` function has been deprecated and will be removed in a future release. Use the more efficient `distance.nearest_nodes` instead.\n",
      "\u001b[2m\u001b[36m(RolloutWorker pid=39477)\u001b[0m UserWarning: The `get_nearest_node` function has been deprecated and will be removed in a future release. Use the more efficient `distance.nearest_nodes` instead.\n",
      "\u001b[2m\u001b[36m(RolloutWorker pid=39478)\u001b[0m UserWarning: The `get_nearest_node` function has been deprecated and will be removed in a future release. Use the more efficient `distance.nearest_nodes` instead.\n",
      "\u001b[2m\u001b[36m(RolloutWorker pid=39477)\u001b[0m UserWarning: The `get_nearest_node` function has been deprecated and will be removed in a future release. Use the more efficient `distance.nearest_nodes` instead.\n",
      "\u001b[2m\u001b[36m(RolloutWorker pid=39477)\u001b[0m UserWarning: The `get_nearest_node` function has been deprecated and will be removed in a future release. Use the more efficient `distance.nearest_nodes` instead.\n",
      "\u001b[2m\u001b[36m(RolloutWorker pid=39478)\u001b[0m UserWarning: The `get_nearest_node` function has been deprecated and will be removed in a future release. Use the more efficient `distance.nearest_nodes` instead.\n",
      "\u001b[2m\u001b[36m(RolloutWorker pid=39478)\u001b[0m UserWarning: The `get_nearest_node` function has been deprecated and will be removed in a future release. Use the more efficient `distance.nearest_nodes` instead.\n",
      "\u001b[2m\u001b[36m(RolloutWorker pid=39477)\u001b[0m UserWarning: The `get_nearest_node` function has been deprecated and will be removed in a future release. Use the more efficient `distance.nearest_nodes` instead.\n",
      "\u001b[2m\u001b[36m(RolloutWorker pid=39477)\u001b[0m UserWarning: The `get_nearest_node` function has been deprecated and will be removed in a future release. Use the more efficient `distance.nearest_nodes` instead.\n",
      "\u001b[2m\u001b[36m(RolloutWorker pid=39477)\u001b[0m UserWarning: The `get_nearest_node` function has been deprecated and will be removed in a future release. Use the more efficient `distance.nearest_nodes` instead.\n",
      "\u001b[2m\u001b[36m(RolloutWorker pid=39478)\u001b[0m UserWarning: The `get_nearest_node` function has been deprecated and will be removed in a future release. Use the more efficient `distance.nearest_nodes` instead.\n",
      "\u001b[2m\u001b[36m(RolloutWorker pid=39478)\u001b[0m UserWarning: The `get_nearest_node` function has been deprecated and will be removed in a future release. Use the more efficient `distance.nearest_nodes` instead.\n",
      "\u001b[2m\u001b[36m(RolloutWorker pid=39477)\u001b[0m UserWarning: The `get_nearest_node` function has been deprecated and will be removed in a future release. Use the more efficient `distance.nearest_nodes` instead.\n",
      "\u001b[2m\u001b[36m(RolloutWorker pid=39478)\u001b[0m UserWarning: The `get_nearest_node` function has been deprecated and will be removed in a future release. Use the more efficient `distance.nearest_nodes` instead.\n",
      "\u001b[2m\u001b[36m(RolloutWorker pid=39477)\u001b[0m UserWarning: The `get_nearest_node` function has been deprecated and will be removed in a future release. Use the more efficient `distance.nearest_nodes` instead.\n",
      "\u001b[2m\u001b[36m(RolloutWorker pid=39478)\u001b[0m UserWarning: The `get_nearest_node` function has been deprecated and will be removed in a future release. Use the more efficient `distance.nearest_nodes` instead.\n",
      "\u001b[2m\u001b[36m(RolloutWorker pid=39477)\u001b[0m UserWarning: The `get_nearest_node` function has been deprecated and will be removed in a future release. Use the more efficient `distance.nearest_nodes` instead.\n",
      "\u001b[2m\u001b[36m(RolloutWorker pid=39477)\u001b[0m UserWarning: The `get_nearest_node` function has been deprecated and will be removed in a future release. Use the more efficient `distance.nearest_nodes` instead.\n",
      "\u001b[2m\u001b[36m(RolloutWorker pid=39478)\u001b[0m UserWarning: The `get_nearest_node` function has been deprecated and will be removed in a future release. Use the more efficient `distance.nearest_nodes` instead.\n",
      "\u001b[2m\u001b[36m(RolloutWorker pid=39478)\u001b[0m UserWarning: The `get_nearest_node` function has been deprecated and will be removed in a future release. Use the more efficient `distance.nearest_nodes` instead.\n",
      "\u001b[2m\u001b[36m(RolloutWorker pid=39477)\u001b[0m UserWarning: The `get_nearest_node` function has been deprecated and will be removed in a future release. Use the more efficient `distance.nearest_nodes` instead.\n",
      "\u001b[2m\u001b[36m(RolloutWorker pid=39478)\u001b[0m UserWarning: The `get_nearest_node` function has been deprecated and will be removed in a future release. Use the more efficient `distance.nearest_nodes` instead.\n",
      "\u001b[2m\u001b[36m(RolloutWorker pid=39477)\u001b[0m UserWarning: The `get_nearest_node` function has been deprecated and will be removed in a future release. Use the more efficient `distance.nearest_nodes` instead.\n",
      "\u001b[2m\u001b[36m(RolloutWorker pid=39478)\u001b[0m UserWarning: The `get_nearest_node` function has been deprecated and will be removed in a future release. Use the more efficient `distance.nearest_nodes` instead.\n",
      "\u001b[2m\u001b[36m(RolloutWorker pid=39477)\u001b[0m UserWarning: The `get_nearest_node` function has been deprecated and will be removed in a future release. Use the more efficient `distance.nearest_nodes` instead.\n",
      "\u001b[2m\u001b[36m(RolloutWorker pid=39478)\u001b[0m UserWarning: The `get_nearest_node` function has been deprecated and will be removed in a future release. Use the more efficient `distance.nearest_nodes` instead.\n",
      "\u001b[2m\u001b[36m(RolloutWorker pid=39477)\u001b[0m UserWarning: The `get_nearest_node` function has been deprecated and will be removed in a future release. Use the more efficient `distance.nearest_nodes` instead.\n",
      "\u001b[2m\u001b[36m(RolloutWorker pid=39477)\u001b[0m UserWarning: The `get_nearest_node` function has been deprecated and will be removed in a future release. Use the more efficient `distance.nearest_nodes` instead.\n",
      "\u001b[2m\u001b[36m(RolloutWorker pid=39478)\u001b[0m UserWarning: The `get_nearest_node` function has been deprecated and will be removed in a future release. Use the more efficient `distance.nearest_nodes` instead.\n",
      "\u001b[2m\u001b[36m(RolloutWorker pid=39478)\u001b[0m UserWarning: The `get_nearest_node` function has been deprecated and will be removed in a future release. Use the more efficient `distance.nearest_nodes` instead.\n",
      "\u001b[2m\u001b[36m(RolloutWorker pid=39478)\u001b[0m UserWarning: The `get_nearest_node` function has been deprecated and will be removed in a future release. Use the more efficient `distance.nearest_nodes` instead.\n",
      "\u001b[2m\u001b[36m(RolloutWorker pid=39477)\u001b[0m UserWarning: The `get_nearest_node` function has been deprecated and will be removed in a future release. Use the more efficient `distance.nearest_nodes` instead.\n",
      "\u001b[2m\u001b[36m(RolloutWorker pid=39477)\u001b[0m UserWarning: The `get_nearest_node` function has been deprecated and will be removed in a future release. Use the more efficient `distance.nearest_nodes` instead.\n",
      "\u001b[2m\u001b[36m(RolloutWorker pid=39477)\u001b[0m UserWarning: The `get_nearest_node` function has been deprecated and will be removed in a future release. Use the more efficient `distance.nearest_nodes` instead.\n",
      "\u001b[2m\u001b[36m(RolloutWorker pid=39478)\u001b[0m UserWarning: The `get_nearest_node` function has been deprecated and will be removed in a future release. Use the more efficient `distance.nearest_nodes` instead.\n",
      "\u001b[2m\u001b[36m(RolloutWorker pid=39478)\u001b[0m UserWarning: The `get_nearest_node` function has been deprecated and will be removed in a future release. Use the more efficient `distance.nearest_nodes` instead.\n",
      "\u001b[2m\u001b[36m(RolloutWorker pid=39477)\u001b[0m UserWarning: The `get_nearest_node` function has been deprecated and will be removed in a future release. Use the more efficient `distance.nearest_nodes` instead.\n",
      "\u001b[2m\u001b[36m(RolloutWorker pid=39478)\u001b[0m UserWarning: The `get_nearest_node` function has been deprecated and will be removed in a future release. Use the more efficient `distance.nearest_nodes` instead.\n",
      "\u001b[2m\u001b[36m(RolloutWorker pid=39477)\u001b[0m UserWarning: The `get_nearest_node` function has been deprecated and will be removed in a future release. Use the more efficient `distance.nearest_nodes` instead.\n",
      "\u001b[2m\u001b[36m(RolloutWorker pid=39477)\u001b[0m UserWarning: The `get_nearest_node` function has been deprecated and will be removed in a future release. Use the more efficient `distance.nearest_nodes` instead.\n",
      "\u001b[2m\u001b[36m(RolloutWorker pid=39478)\u001b[0m UserWarning: The `get_nearest_node` function has been deprecated and will be removed in a future release. Use the more efficient `distance.nearest_nodes` instead.\n",
      "\u001b[2m\u001b[36m(RolloutWorker pid=39478)\u001b[0m UserWarning: The `get_nearest_node` function has been deprecated and will be removed in a future release. Use the more efficient `distance.nearest_nodes` instead.\n",
      "\u001b[2m\u001b[36m(RolloutWorker pid=39477)\u001b[0m UserWarning: The `get_nearest_node` function has been deprecated and will be removed in a future release. Use the more efficient `distance.nearest_nodes` instead.\n",
      "\u001b[2m\u001b[36m(RolloutWorker pid=39477)\u001b[0m UserWarning: The `get_nearest_node` function has been deprecated and will be removed in a future release. Use the more efficient `distance.nearest_nodes` instead.\n",
      "\u001b[2m\u001b[36m(RolloutWorker pid=39478)\u001b[0m UserWarning: The `get_nearest_node` function has been deprecated and will be removed in a future release. Use the more efficient `distance.nearest_nodes` instead.\n",
      "\u001b[2m\u001b[36m(RolloutWorker pid=39478)\u001b[0m UserWarning: The `get_nearest_node` function has been deprecated and will be removed in a future release. Use the more efficient `distance.nearest_nodes` instead.\n",
      "\u001b[2m\u001b[36m(RolloutWorker pid=39477)\u001b[0m UserWarning: The `get_nearest_node` function has been deprecated and will be removed in a future release. Use the more efficient `distance.nearest_nodes` instead.\n",
      "\u001b[2m\u001b[36m(RolloutWorker pid=39478)\u001b[0m UserWarning: The `get_nearest_node` function has been deprecated and will be removed in a future release. Use the more efficient `distance.nearest_nodes` instead.\n",
      "\u001b[2m\u001b[36m(RolloutWorker pid=39477)\u001b[0m UserWarning: The `get_nearest_node` function has been deprecated and will be removed in a future release. Use the more efficient `distance.nearest_nodes` instead.\n",
      "\u001b[2m\u001b[36m(RolloutWorker pid=39478)\u001b[0m UserWarning: The `get_nearest_node` function has been deprecated and will be removed in a future release. Use the more efficient `distance.nearest_nodes` instead.\n",
      "\u001b[2m\u001b[36m(RolloutWorker pid=39478)\u001b[0m UserWarning: The `get_nearest_node` function has been deprecated and will be removed in a future release. Use the more efficient `distance.nearest_nodes` instead.\n",
      "\u001b[2m\u001b[36m(RolloutWorker pid=39477)\u001b[0m UserWarning: The `get_nearest_node` function has been deprecated and will be removed in a future release. Use the more efficient `distance.nearest_nodes` instead.\n",
      "\u001b[2m\u001b[36m(RolloutWorker pid=39477)\u001b[0m UserWarning: The `get_nearest_node` function has been deprecated and will be removed in a future release. Use the more efficient `distance.nearest_nodes` instead.\n",
      "\u001b[2m\u001b[36m(RolloutWorker pid=39478)\u001b[0m UserWarning: The `get_nearest_node` function has been deprecated and will be removed in a future release. Use the more efficient `distance.nearest_nodes` instead.\n",
      "\u001b[2m\u001b[36m(RolloutWorker pid=39477)\u001b[0m UserWarning: The `get_nearest_node` function has been deprecated and will be removed in a future release. Use the more efficient `distance.nearest_nodes` instead.\n",
      "\u001b[2m\u001b[36m(RolloutWorker pid=39477)\u001b[0m UserWarning: The `get_nearest_node` function has been deprecated and will be removed in a future release. Use the more efficient `distance.nearest_nodes` instead.\n",
      "\u001b[2m\u001b[36m(RolloutWorker pid=39477)\u001b[0m UserWarning: The `get_nearest_node` function has been deprecated and will be removed in a future release. Use the more efficient `distance.nearest_nodes` instead.\n",
      "\u001b[2m\u001b[36m(RolloutWorker pid=39478)\u001b[0m UserWarning: The `get_nearest_node` function has been deprecated and will be removed in a future release. Use the more efficient `distance.nearest_nodes` instead.\n",
      "\u001b[2m\u001b[36m(RolloutWorker pid=39478)\u001b[0m UserWarning: The `get_nearest_node` function has been deprecated and will be removed in a future release. Use the more efficient `distance.nearest_nodes` instead.\n",
      "\u001b[2m\u001b[36m(RolloutWorker pid=39478)\u001b[0m UserWarning: The `get_nearest_node` function has been deprecated and will be removed in a future release. Use the more efficient `distance.nearest_nodes` instead.\n",
      "\u001b[2m\u001b[36m(RolloutWorker pid=39478)\u001b[0m UserWarning: The `get_nearest_node` function has been deprecated and will be removed in a future release. Use the more efficient `distance.nearest_nodes` instead.\n"
     ]
    },
    {
     "name": "stdout",
     "output_type": "stream",
     "text": [
      "\u001b[2m\u001b[36m(RolloutWorker pid=39477)\u001b[0m Reset with config\n",
      "\u001b[2m\u001b[36m(RolloutWorker pid=39477)\u001b[0m final hub: 3\n",
      "\u001b[2m\u001b[36m(RolloutWorker pid=39477)\u001b[0m current position: 2\n",
      "\u001b[2m\u001b[36m(RolloutWorker pid=39478)\u001b[0m Reset with config\n",
      "\u001b[2m\u001b[36m(RolloutWorker pid=39478)\u001b[0m final hub: 3\n",
      "\u001b[2m\u001b[36m(RolloutWorker pid=39478)\u001b[0m current position: 2\n"
     ]
    },
    {
     "name": "stderr",
     "output_type": "stream",
     "text": [
      "2022-05-12 02:12:12,126\tINFO trainable.py:127 -- Trainable.setup took 32.862 seconds. If your trainable is slow to initialize, consider setting reuse_actors=True to reduce actor creation overheads.\n",
      "2022-05-12 02:12:12,137\tWARNING util.py:55 -- Install gputil for GPU system monitoring.\n"
     ]
    }
   ],
   "source": [
    "ppo_trainer=PPOTrainer(DEFAULT_CONFIG,GraphEnv)"
   ]
  },
  {
   "cell_type": "code",
   "execution_count": null,
   "metadata": {},
   "outputs": [],
   "source": [
    "trainer_dqn = DQNTrainer(dqn_config,GraphEnv)"
   ]
  },
  {
   "cell_type": "code",
   "execution_count": null,
   "metadata": {},
   "outputs": [],
   "source": [
    "trainer_rainbow=DQNTrainer(rainbow_config,GraphEnv )\n"
   ]
  },
  {
   "cell_type": "code",
   "execution_count": null,
   "metadata": {},
   "outputs": [],
   "source": [
    "#trainer_apex=DQNTrainer(apex_config,GraphEnv )"
   ]
  },
  {
   "cell_type": "markdown",
   "metadata": {},
   "source": [
    "Define the path where the results of the trainer should be saved"
   ]
  },
  {
   "cell_type": "code",
   "execution_count": null,
   "metadata": {},
   "outputs": [],
   "source": [
    "checkpoint_root = \"tmp/dqn/graphworld\"\n",
    "shutil.rmtree(checkpoint_root, ignore_errors=True, onerror=None)   # clean up old runs"
   ]
  },
  {
   "cell_type": "markdown",
   "metadata": {},
   "source": []
  },
  {
   "cell_type": "markdown",
   "metadata": {},
   "source": [
    "Run the trainer"
   ]
  },
  {
   "cell_type": "code",
   "execution_count": 15,
   "metadata": {},
   "outputs": [
    {
     "ename": "StopIteration",
     "evalue": "",
     "output_type": "error",
     "traceback": [
      "\u001b[0;31m---------------------------------------------------------------------------\u001b[0m",
      "\u001b[0;31mStopIteration\u001b[0m                             Traceback (most recent call last)",
      "\u001b[0;32m<ipython-input-15-e69e268321ae>\u001b[0m in \u001b[0;36m<module>\u001b[0;34m\u001b[0m\n\u001b[1;32m      5\u001b[0m \u001b[0;34m\u001b[0m\u001b[0m\n\u001b[1;32m      6\u001b[0m \u001b[0;32mfor\u001b[0m \u001b[0mn\u001b[0m \u001b[0;32min\u001b[0m \u001b[0mrange\u001b[0m\u001b[0;34m(\u001b[0m\u001b[0mn_iter\u001b[0m\u001b[0;34m)\u001b[0m\u001b[0;34m:\u001b[0m\u001b[0;34m\u001b[0m\u001b[0;34m\u001b[0m\u001b[0m\n\u001b[0;32m----> 7\u001b[0;31m     \u001b[0mresult\u001b[0m \u001b[0;34m=\u001b[0m \u001b[0mppo_trainer\u001b[0m\u001b[0;34m.\u001b[0m\u001b[0mtrain\u001b[0m\u001b[0;34m(\u001b[0m\u001b[0;34m)\u001b[0m\u001b[0;34m\u001b[0m\u001b[0;34m\u001b[0m\u001b[0m\n\u001b[0m\u001b[1;32m      8\u001b[0m     \u001b[0mresults\u001b[0m\u001b[0;34m.\u001b[0m\u001b[0mappend\u001b[0m\u001b[0;34m(\u001b[0m\u001b[0mresult\u001b[0m\u001b[0;34m)\u001b[0m\u001b[0;34m\u001b[0m\u001b[0;34m\u001b[0m\u001b[0m\n\u001b[1;32m      9\u001b[0m     \u001b[0mprint\u001b[0m\u001b[0;34m(\u001b[0m\u001b[0;34m\"TEST\"\u001b[0m\u001b[0;34m,\u001b[0m\u001b[0mn\u001b[0m\u001b[0;34m)\u001b[0m\u001b[0;34m\u001b[0m\u001b[0;34m\u001b[0m\u001b[0m\n",
      "\u001b[0;32m~/opt/anaconda3/lib/python3.8/site-packages/ray/tune/trainable.py\u001b[0m in \u001b[0;36mtrain\u001b[0;34m(self)\u001b[0m\n\u001b[1;32m    317\u001b[0m         \"\"\"\n\u001b[1;32m    318\u001b[0m         \u001b[0mstart\u001b[0m \u001b[0;34m=\u001b[0m \u001b[0mtime\u001b[0m\u001b[0;34m.\u001b[0m\u001b[0mtime\u001b[0m\u001b[0;34m(\u001b[0m\u001b[0;34m)\u001b[0m\u001b[0;34m\u001b[0m\u001b[0;34m\u001b[0m\u001b[0m\n\u001b[0;32m--> 319\u001b[0;31m         \u001b[0mresult\u001b[0m \u001b[0;34m=\u001b[0m \u001b[0mself\u001b[0m\u001b[0;34m.\u001b[0m\u001b[0mstep\u001b[0m\u001b[0;34m(\u001b[0m\u001b[0;34m)\u001b[0m\u001b[0;34m\u001b[0m\u001b[0;34m\u001b[0m\u001b[0m\n\u001b[0m\u001b[1;32m    320\u001b[0m         \u001b[0;32massert\u001b[0m \u001b[0misinstance\u001b[0m\u001b[0;34m(\u001b[0m\u001b[0mresult\u001b[0m\u001b[0;34m,\u001b[0m \u001b[0mdict\u001b[0m\u001b[0;34m)\u001b[0m\u001b[0;34m,\u001b[0m \u001b[0;34m\"step() needs to return a dict.\"\u001b[0m\u001b[0;34m\u001b[0m\u001b[0;34m\u001b[0m\u001b[0m\n\u001b[1;32m    321\u001b[0m \u001b[0;34m\u001b[0m\u001b[0m\n",
      "\u001b[0;32m~/opt/anaconda3/lib/python3.8/site-packages/ray/rllib/agents/trainer.py\u001b[0m in \u001b[0;36mstep\u001b[0;34m(self)\u001b[0m\n\u001b[1;32m    982\u001b[0m                     \u001b[0;31m# Allow logs messages to propagate.\u001b[0m\u001b[0;34m\u001b[0m\u001b[0;34m\u001b[0m\u001b[0;34m\u001b[0m\u001b[0m\n\u001b[1;32m    983\u001b[0m                     \u001b[0mtime\u001b[0m\u001b[0;34m.\u001b[0m\u001b[0msleep\u001b[0m\u001b[0;34m(\u001b[0m\u001b[0;36m0.5\u001b[0m\u001b[0;34m)\u001b[0m\u001b[0;34m\u001b[0m\u001b[0;34m\u001b[0m\u001b[0m\n\u001b[0;32m--> 984\u001b[0;31m                     \u001b[0;32mraise\u001b[0m \u001b[0me\u001b[0m\u001b[0;34m\u001b[0m\u001b[0;34m\u001b[0m\u001b[0m\n\u001b[0m\u001b[1;32m    985\u001b[0m \u001b[0;34m\u001b[0m\u001b[0m\n\u001b[1;32m    986\u001b[0m         \u001b[0mresult\u001b[0m \u001b[0;34m=\u001b[0m \u001b[0mstep_attempt_results\u001b[0m\u001b[0;34m\u001b[0m\u001b[0;34m\u001b[0m\u001b[0m\n",
      "\u001b[0;32m~/opt/anaconda3/lib/python3.8/site-packages/ray/rllib/agents/trainer.py\u001b[0m in \u001b[0;36mstep\u001b[0;34m(self)\u001b[0m\n\u001b[1;32m    963\u001b[0m                 \u001b[0;31m# Try to train one step.\u001b[0m\u001b[0;34m\u001b[0m\u001b[0;34m\u001b[0m\u001b[0;34m\u001b[0m\u001b[0m\n\u001b[1;32m    964\u001b[0m                 \u001b[0;32mtry\u001b[0m\u001b[0;34m:\u001b[0m\u001b[0;34m\u001b[0m\u001b[0;34m\u001b[0m\u001b[0m\n\u001b[0;32m--> 965\u001b[0;31m                     \u001b[0mstep_attempt_results\u001b[0m \u001b[0;34m=\u001b[0m \u001b[0mself\u001b[0m\u001b[0;34m.\u001b[0m\u001b[0mstep_attempt\u001b[0m\u001b[0;34m(\u001b[0m\u001b[0;34m)\u001b[0m\u001b[0;34m\u001b[0m\u001b[0;34m\u001b[0m\u001b[0m\n\u001b[0m\u001b[1;32m    966\u001b[0m                 \u001b[0;31m# @ray.remote RolloutWorker failure.\u001b[0m\u001b[0;34m\u001b[0m\u001b[0;34m\u001b[0m\u001b[0;34m\u001b[0m\u001b[0m\n\u001b[1;32m    967\u001b[0m                 \u001b[0;32mexcept\u001b[0m \u001b[0mRayError\u001b[0m \u001b[0;32mas\u001b[0m \u001b[0me\u001b[0m\u001b[0;34m:\u001b[0m\u001b[0;34m\u001b[0m\u001b[0;34m\u001b[0m\u001b[0m\n",
      "\u001b[0;32m~/opt/anaconda3/lib/python3.8/site-packages/ray/rllib/agents/trainer.py\u001b[0m in \u001b[0;36mstep_attempt\u001b[0;34m(self)\u001b[0m\n\u001b[1;32m   1042\u001b[0m         \u001b[0;31m# No evaluation necessary, just run the next training iteration.\u001b[0m\u001b[0;34m\u001b[0m\u001b[0;34m\u001b[0m\u001b[0;34m\u001b[0m\u001b[0m\n\u001b[1;32m   1043\u001b[0m         \u001b[0;32mif\u001b[0m \u001b[0;32mnot\u001b[0m \u001b[0mevaluate_this_iter\u001b[0m\u001b[0;34m:\u001b[0m\u001b[0;34m\u001b[0m\u001b[0;34m\u001b[0m\u001b[0m\n\u001b[0;32m-> 1044\u001b[0;31m             \u001b[0mstep_results\u001b[0m \u001b[0;34m=\u001b[0m \u001b[0mself\u001b[0m\u001b[0;34m.\u001b[0m\u001b[0m_exec_plan_or_training_iteration_fn\u001b[0m\u001b[0;34m(\u001b[0m\u001b[0;34m)\u001b[0m\u001b[0;34m\u001b[0m\u001b[0;34m\u001b[0m\u001b[0m\n\u001b[0m\u001b[1;32m   1045\u001b[0m         \u001b[0;31m# We have to evaluate in this training iteration.\u001b[0m\u001b[0;34m\u001b[0m\u001b[0;34m\u001b[0m\u001b[0;34m\u001b[0m\u001b[0m\n\u001b[1;32m   1046\u001b[0m         \u001b[0;32melse\u001b[0m\u001b[0;34m:\u001b[0m\u001b[0;34m\u001b[0m\u001b[0;34m\u001b[0m\u001b[0m\n",
      "\u001b[0;32m~/opt/anaconda3/lib/python3.8/site-packages/ray/rllib/agents/trainer.py\u001b[0m in \u001b[0;36m_exec_plan_or_training_iteration_fn\u001b[0;34m(self)\u001b[0m\n\u001b[1;32m   2030\u001b[0m             \u001b[0mresults\u001b[0m \u001b[0;34m=\u001b[0m \u001b[0mself\u001b[0m\u001b[0;34m.\u001b[0m\u001b[0mtraining_iteration\u001b[0m\u001b[0;34m(\u001b[0m\u001b[0;34m)\u001b[0m\u001b[0;34m\u001b[0m\u001b[0;34m\u001b[0m\u001b[0m\n\u001b[1;32m   2031\u001b[0m         \u001b[0;32melse\u001b[0m\u001b[0;34m:\u001b[0m\u001b[0;34m\u001b[0m\u001b[0;34m\u001b[0m\u001b[0m\n\u001b[0;32m-> 2032\u001b[0;31m             \u001b[0mresults\u001b[0m \u001b[0;34m=\u001b[0m \u001b[0mnext\u001b[0m\u001b[0;34m(\u001b[0m\u001b[0mself\u001b[0m\u001b[0;34m.\u001b[0m\u001b[0mtrain_exec_impl\u001b[0m\u001b[0;34m)\u001b[0m\u001b[0;34m\u001b[0m\u001b[0;34m\u001b[0m\u001b[0m\n\u001b[0m\u001b[1;32m   2033\u001b[0m         \u001b[0;32mreturn\u001b[0m \u001b[0mresults\u001b[0m\u001b[0;34m\u001b[0m\u001b[0;34m\u001b[0m\u001b[0m\n\u001b[1;32m   2034\u001b[0m \u001b[0;34m\u001b[0m\u001b[0m\n",
      "\u001b[0;32m~/opt/anaconda3/lib/python3.8/site-packages/ray/util/iter.py\u001b[0m in \u001b[0;36m__next__\u001b[0;34m(self)\u001b[0m\n\u001b[1;32m    754\u001b[0m     \u001b[0;32mdef\u001b[0m \u001b[0m__next__\u001b[0m\u001b[0;34m(\u001b[0m\u001b[0mself\u001b[0m\u001b[0;34m)\u001b[0m\u001b[0;34m:\u001b[0m\u001b[0;34m\u001b[0m\u001b[0;34m\u001b[0m\u001b[0m\n\u001b[1;32m    755\u001b[0m         \u001b[0mself\u001b[0m\u001b[0;34m.\u001b[0m\u001b[0m_build_once\u001b[0m\u001b[0;34m(\u001b[0m\u001b[0;34m)\u001b[0m\u001b[0;34m\u001b[0m\u001b[0;34m\u001b[0m\u001b[0m\n\u001b[0;32m--> 756\u001b[0;31m         \u001b[0;32mreturn\u001b[0m \u001b[0mnext\u001b[0m\u001b[0;34m(\u001b[0m\u001b[0mself\u001b[0m\u001b[0;34m.\u001b[0m\u001b[0mbuilt_iterator\u001b[0m\u001b[0;34m)\u001b[0m\u001b[0;34m\u001b[0m\u001b[0;34m\u001b[0m\u001b[0m\n\u001b[0m\u001b[1;32m    757\u001b[0m \u001b[0;34m\u001b[0m\u001b[0m\n\u001b[1;32m    758\u001b[0m     \u001b[0;32mdef\u001b[0m \u001b[0m__str__\u001b[0m\u001b[0;34m(\u001b[0m\u001b[0mself\u001b[0m\u001b[0;34m)\u001b[0m\u001b[0;34m:\u001b[0m\u001b[0;34m\u001b[0m\u001b[0;34m\u001b[0m\u001b[0m\n",
      "\u001b[0;31mStopIteration\u001b[0m: "
     ]
    }
   ],
   "source": [
    "results = []\n",
    "episode_data = []\n",
    "episode_json = []\n",
    "n_iter=10\n",
    "\n",
    "for n in range(n_iter):\n",
    "    result = ppo_trainer.train()\n",
    "    results.append(result)\n",
    "    print(\"TEST\",n)\n",
    "    \n",
    "    episode = {'n': n, \n",
    "               'episode_reward_min': result['episode_reward_min'], \n",
    "               'episode_reward_mean': result['episode_reward_mean'], \n",
    "               'episode_reward_max': result['episode_reward_max'],  \n",
    "               'episode_len_mean': result['episode_len_mean']\n",
    "              }\n",
    "    \n",
    "    episode_data.append(episode)\n",
    "    episode_json.append(json.dumps(episode))\n",
    "    file_name = ppo_trainer.save(checkpoint_root)\n",
    "    \n",
    "    print(f'{n+1:3d}: Min/Mean/Max reward: {result[\"episode_reward_min\"]:8.4f}/{result[\"episode_reward_mean\"]:8.4f}/{result[\"episode_reward_max\"]:8.4f}, len mean: {result[\"episode_len_mean\"]:8.4f}. Checkpoint saved to {file_name}')"
   ]
  },
  {
   "cell_type": "code",
   "execution_count": null,
   "metadata": {},
   "outputs": [],
   "source": [
    "results"
   ]
  },
  {
   "cell_type": "markdown",
   "metadata": {},
   "source": [
    "Testing of the trainer"
   ]
  },
  {
   "cell_type": "code",
   "execution_count": null,
   "metadata": {},
   "outputs": [],
   "source": [
    "trainer.restore(file_name)\n",
    "env = gym.make(\"graphworld-v0\")\n",
    "state = env.reset()"
   ]
  },
  {
   "cell_type": "code",
   "execution_count": null,
   "metadata": {},
   "outputs": [],
   "source": [
    "sum_reward = 0\n",
    "n_step = 20\n",
    "for step in range(n_step):\n",
    "    action = trainer_dqn.compute_action(state)\n",
    "    state, reward, done, info = env.step(action)\n",
    "    sum_reward += reward\n",
    "    #env.render()\n",
    "    if done == 1:\n",
    "        print(\"cumulative reward\", sum_reward)\n",
    "        state = env.reset()\n",
    "        sum_reward = 0"
   ]
  },
  {
   "cell_type": "code",
   "execution_count": null,
   "metadata": {},
   "outputs": [],
   "source": [
    "ray.shutdown()"
   ]
  }
 ],
 "metadata": {
  "interpreter": {
   "hash": "f276801fa85caabebacfd14100ddee0774c5b0a4b5a82990ea2551c5b02bf357"
  },
  "kernelspec": {
   "display_name": "Python 3.8.8 ('base')",
   "language": "python",
   "name": "python3"
  },
  "language_info": {
   "codemirror_mode": {
    "name": "ipython",
    "version": 3
   },
   "file_extension": ".py",
   "mimetype": "text/x-python",
   "name": "python",
   "nbconvert_exporter": "python",
   "pygments_lexer": "ipython3",
   "version": "3.8.8"
  },
  "orig_nbformat": 4
 },
 "nbformat": 4,
 "nbformat_minor": 2
}
