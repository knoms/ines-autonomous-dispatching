{
 "cells": [
  {
   "cell_type": "markdown",
   "metadata": {},
   "source": [
    "## Testing of the Graph Environment"
   ]
  },
  {
   "cell_type": "markdown",
   "metadata": {},
   "source": [
    "Imports"
   ]
  },
  {
   "cell_type": "code",
   "execution_count": 1,
   "metadata": {},
   "outputs": [],
   "source": [
    "import numpy as np\n",
    "import pandas as pd\n",
    "import json\n",
    "import os\n",
    "import shutil\n",
    "import sys\n",
    "import gym\n",
    "import pickle\n",
    "from datetime import datetime\n",
    "\n",
    "import ray\n",
    "\n",
    "import warnings\n",
    "warnings.filterwarnings('ignore')\n"
   ]
  },
  {
   "cell_type": "code",
   "execution_count": 2,
   "metadata": {},
   "outputs": [],
   "source": [
    "#from ray.rllib.agents.dqn import DQNTrainer, DEFAULT_CONFIG, APEX_DEFAULT_CONFIG\n",
    "from ray.rllib.agents.ppo import PPOTrainer, DEFAULT_CONFIG"
   ]
  },
  {
   "cell_type": "markdown",
   "metadata": {},
   "source": [
    "Import the Environment"
   ]
  },
  {
   "cell_type": "code",
   "execution_count": 3,
   "metadata": {},
   "outputs": [],
   "source": [
    "sys.path.insert(0,\"\")\n",
    "\n",
    "from ManhattanGraph import ManhattanGraph\n",
    "from gym_graphenv.envs.GraphworldManhattan import GraphEnv"
   ]
  },
  {
   "cell_type": "code",
   "execution_count": 4,
   "metadata": {},
   "outputs": [],
   "source": [
    "env_config = {'pickup_hub_index':2,\n",
    "        'delivery_hub_index':3,\n",
    "        'pickup_timestamp': datetime(2016, 6, 14, 22, 0, 0),\n",
    "        'delivery_timestamp': datetime(2016, 6, 14, 1, 0, 0) \n",
    "}\n",
    "\n",
    "with open('env_config.pkl', 'wb') as f:\n",
    "    pickle.dump(env_config, f)"
   ]
  },
  {
   "cell_type": "code",
   "execution_count": 5,
   "metadata": {},
   "outputs": [],
   "source": [
    "env=GraphEnv()\n"
   ]
  },
  {
   "cell_type": "markdown",
   "metadata": {},
   "source": [
    "Run random steps without Ray Trainer"
   ]
  },
  {
   "cell_type": "code",
   "execution_count": 6,
   "metadata": {},
   "outputs": [
    {
     "name": "stdout",
     "output_type": "stream",
     "text": [
      "Reset with config\n",
      "final hub: 3\n",
      "current position: 2\n",
      "reset done\n",
      "action ==  29  New Position 29\n",
      "2 -> 29 60.0\n",
      "Step() Execution time: 0.4407789707183838 seconds\n",
      "sum_reward:  -60.0\n",
      "action ==  53  New Position 53\n",
      "29 -> 53 60.0\n",
      "Step() Execution time: 0.27228403091430664 seconds\n",
      "sum_reward:  -120.0\n",
      "action ==  54  New Position 54\n",
      "53 -> 54 60.0\n",
      "Step() Execution time: 0.26592206954956055 seconds\n",
      "sum_reward:  -180.0\n",
      "action ==  28  New Position 28\n",
      "54 -> 28 60.0\n",
      "Step() Execution time: 0.3884148597717285 seconds\n",
      "sum_reward:  -240.0\n",
      "action ==  34  New Position 34\n",
      "28 -> 34 60.0\n",
      "Step() Execution time: 0.25540876388549805 seconds\n",
      "sum_reward:  -300.0\n",
      "action ==  35  New Position 35\n",
      "34 -> 35 60.0\n",
      "Step() Execution time: 0.25503015518188477 seconds\n",
      "sum_reward:  -360.0\n",
      "action ==  33  New Position 33\n",
      "35 -> 33 60.0\n",
      "Step() Execution time: 0.29365992546081543 seconds\n",
      "sum_reward:  -420.0\n",
      "action ==  42  New Position 42\n",
      "33 -> 42 60.0\n",
      "Step() Execution time: 0.2714529037475586 seconds\n",
      "sum_reward:  -480.0\n",
      "action ==  60  New Position 60\n",
      "42 -> 60 60.0\n",
      "Step() Execution time: 0.27910923957824707 seconds\n",
      "sum_reward:  -540.0\n",
      "action ==  48  New Position 48\n",
      "60 -> 48 60.0\n",
      "Step() Execution time: 0.27008795738220215 seconds\n",
      "sum_reward:  -600.0\n",
      "action ==  11  New Position 11\n",
      "48 -> 11 60.0\n",
      "Step() Execution time: 0.3161349296569824 seconds\n",
      "sum_reward:  -660.0\n",
      "action ==  63  New Position 63\n",
      "11 -> 63 60.0\n",
      "Step() Execution time: 0.29016804695129395 seconds\n",
      "sum_reward:  -720.0\n",
      "action ==  60  New Position 60\n",
      "63 -> 60 60.0\n",
      "Step() Execution time: 0.29167819023132324 seconds\n",
      "sum_reward:  -780.0\n",
      "action ==  0  New Position 0\n",
      "60 -> 0 60.0\n",
      "Step() Execution time: 0.2538270950317383 seconds\n",
      "sum_reward:  -840.0\n",
      "action ==  25  New Position 25\n",
      "0 -> 25 60.0\n",
      "Step() Execution time: 0.271481990814209 seconds\n",
      "sum_reward:  -900.0\n",
      "action ==  63  New Position 63\n",
      "25 -> 63 60.0\n",
      "Step() Execution time: 0.27292895317077637 seconds\n",
      "sum_reward:  -960.0\n",
      "action ==  64  New Position 64\n",
      "63 -> 64 60.0\n",
      "Step() Execution time: 0.26642298698425293 seconds\n",
      "sum_reward:  -1020.0\n",
      "action ==  47  New Position 47\n",
      "64 -> 47 60.0\n",
      "Step() Execution time: 0.502669095993042 seconds\n",
      "sum_reward:  -1080.0\n",
      "action ==  14  New Position 14\n",
      "47 -> 14 60.0\n",
      "Step() Execution time: 0.4732701778411865 seconds\n",
      "sum_reward:  -1140.0\n",
      "action ==  32  New Position 32\n",
      "14 -> 32 60.0\n",
      "Step() Execution time: 0.34435319900512695 seconds\n",
      "sum_reward:  -1200.0\n",
      "action ==  62  New Position 62\n",
      "32 -> 62 60.0\n",
      "Step() Execution time: 0.28516387939453125 seconds\n",
      "sum_reward:  -1260.0\n",
      "action ==  4  New Position 4\n",
      "62 -> 4 60.0\n",
      "Step() Execution time: 0.27452802658081055 seconds\n",
      "sum_reward:  -1320.0\n",
      "action ==  18  New Position 18\n",
      "4 -> 18 60.0\n",
      "Step() Execution time: 0.3288230895996094 seconds\n",
      "sum_reward:  -1380.0\n",
      "action ==  14  New Position 14\n",
      "18 -> 14 60.0\n",
      "Step() Execution time: 0.2570819854736328 seconds\n",
      "sum_reward:  -1440.0\n",
      "action ==  25  New Position 25\n",
      "14 -> 25 60.0\n",
      "Step() Execution time: 0.3808310031890869 seconds\n",
      "sum_reward:  -1500.0\n",
      "action ==  69  New Position 69\n",
      "25 -> 69 60.0\n",
      "Step() Execution time: 0.34560298919677734 seconds\n",
      "sum_reward:  -1560.0\n",
      "action ==  65  New Position 65\n",
      "69 -> 65 60.0\n",
      "Step() Execution time: 0.26398277282714844 seconds\n",
      "sum_reward:  -1620.0\n",
      "action ==  29  New Position 29\n",
      "65 -> 29 60.0\n",
      "Step() Execution time: 0.29993200302124023 seconds\n",
      "sum_reward:  -1680.0\n",
      "action ==  3  New Position 3\n",
      "29 -> 3 60.0\n",
      "DELIVERED\n",
      "Step() Execution time: 0.2923099994659424 seconds\n",
      "DELIVERY DONE! sum_reward:  -740.0\n"
     ]
    }
   ],
   "source": [
    "def run_one_episode (env):\n",
    "    env.reset()\n",
    "    print(\"reset done\")\n",
    "    sum_reward = 0\n",
    "    for i in range(30):\n",
    "        action = env.action_space.sample()\n",
    "        #print(action)\n",
    "        state, reward, done, info = env.step(action)\n",
    "        sum_reward+=reward\n",
    "        #env.render()\n",
    "        if done:\n",
    "            print(\"DELIVERY DONE! sum_reward: \",sum_reward)\n",
    "            break\n",
    "\n",
    "        print(\"sum_reward: \",sum_reward)\n",
    "        # print(\"sum_reward: \",sum_reward, \" time: \",env.time, \"deadline time: \", env.deadline, \"pickup time: \", env.pickup_time)\n",
    "    return sum_reward\n",
    "\n",
    "for i in range(1): \n",
    "    run_one_episode (env)"
   ]
  },
  {
   "cell_type": "markdown",
   "metadata": {},
   "source": [
    "Initialize Ray"
   ]
  },
  {
   "cell_type": "code",
   "execution_count": 7,
   "metadata": {},
   "outputs": [
    {
     "name": "stderr",
     "output_type": "stream",
     "text": [
      "2022-05-11 23:52:04,354\tINFO services.py:1412 -- View the Ray dashboard at \u001b[1m\u001b[32mhttp://127.0.0.1:8265\u001b[39m\u001b[22m\n"
     ]
    },
    {
     "data": {
      "text/plain": [
       "{'node_ip_address': '127.0.0.1',\n",
       " 'raylet_ip_address': '127.0.0.1',\n",
       " 'redis_address': None,\n",
       " 'object_store_address': '/tmp/ray/session_2022-05-11_23-51-59_217896_32840/sockets/plasma_store',\n",
       " 'raylet_socket_name': '/tmp/ray/session_2022-05-11_23-51-59_217896_32840/sockets/raylet',\n",
       " 'webui_url': '127.0.0.1:8265',\n",
       " 'session_dir': '/tmp/ray/session_2022-05-11_23-51-59_217896_32840',\n",
       " 'metrics_export_port': 54855,\n",
       " 'gcs_address': '127.0.0.1:60056',\n",
       " 'address': '127.0.0.1:60056',\n",
       " 'node_id': '743fa239a6929809125b0e177d5f6a7a6424371c755d4aca265f6e42'}"
      ]
     },
     "execution_count": 7,
     "metadata": {},
     "output_type": "execute_result"
    }
   ],
   "source": [
    "ray.init()"
   ]
  },
  {
   "cell_type": "markdown",
   "metadata": {},
   "source": [
    "Set DQN trainer configuration"
   ]
  },
  {
   "cell_type": "code",
   "execution_count": 11,
   "metadata": {},
   "outputs": [],
   "source": [
    "dqn_config = DEFAULT_CONFIG.copy()\n",
    "dqn_config['num_workers'] = 1\n",
    "dqn_config[\"train_batch_size\"] = 400\n",
    "dqn_config[\"gamma\"] = 0.95\n",
    "dqn_config[\"n_step\"] = 10\n",
    "dqn_config[\"framework\"] = \"torch\"\n",
    "#num_gpus and other gpu parameters in order to train with gpu\n",
    "#dqn_config[\"num_gpus\"] = int(os.environ.get(\"RLLIB_NUM_GPUS\", \"0\")) "
   ]
  },
  {
   "cell_type": "markdown",
   "metadata": {},
   "source": [
    "Set DQN - Rainbow configuration"
   ]
  },
  {
   "cell_type": "code",
   "execution_count": 9,
   "metadata": {},
   "outputs": [],
   "source": [
    "rainbow_config = DEFAULT_CONFIG.copy()\n",
    "\n",
    "rainbow_config = DEFAULT_CONFIG.copy()\n",
    "rainbow_config['num_workers'] = 1\n",
    "rainbow_config[\"train_batch_size\"] = 400\n",
    "rainbow_config[\"gamma\"] = 0.95\n",
    "rainbow_config[\"n_step\"] = 10\n",
    "rainbow_config[\"framework\"] = \"torch\"\n",
    "#num_gpus and other gpu parameters in order to train with gpu\n",
    "#rainbow_config[\"num_gpus\"] = int(os.environ.get(\"RLLIB_NUM_GPUS\", \"0\")) \n",
    "\n",
    "#rainbow parameters\n",
    "\n",
    "# N-step Q learning\n",
    "rainbow_config[\"n_step\"]= 5 #[between 1 and 10]\n",
    "# Whether to use noisy network\n",
    "rainbow_config[\"noisy\"] = True\n",
    "# Number of atoms for representing the distribution of return. When\n",
    "# this is greater than 1, distributional Q-learning is used.\n",
    "# the discrete supports are bounded by v_min and v_max\n",
    "rainbow_config[\"num_atoms\"] =2 #[more than 1]\n",
    "rainbow_config[\"v_min\"] =-100\n",
    "rainbow_config[\"v_max\"]=100 # (set v_min and v_max according to your expected range of returns)."
   ]
  },
  {
   "cell_type": "markdown",
   "metadata": {},
   "source": [
    "Set DQN - Ape-X configuration "
   ]
  },
  {
   "cell_type": "code",
   "execution_count": 10,
   "metadata": {},
   "outputs": [],
   "source": [
    "#apex_config=APEX_DEFAULT_CONFIG.copy()"
   ]
  },
  {
   "cell_type": "markdown",
   "metadata": {},
   "source": [
    "Initialize the DQN trainer, Rainbow DQN and DQN Ape-X"
   ]
  },
  {
   "cell_type": "code",
   "execution_count": 13,
   "metadata": {},
   "outputs": [
    {
     "name": "stderr",
     "output_type": "stream",
     "text": [
      "\u001b[2m\u001b[36m(RolloutWorker pid=32879)\u001b[0m UserWarning: The `get_nearest_node` function has been deprecated and will be removed in a future release. Use the more efficient `distance.nearest_nodes` instead.\n",
      "\u001b[2m\u001b[36m(RolloutWorker pid=32878)\u001b[0m UserWarning: The `get_nearest_node` function has been deprecated and will be removed in a future release. Use the more efficient `distance.nearest_nodes` instead.\n",
      "\u001b[2m\u001b[36m(RolloutWorker pid=32878)\u001b[0m UserWarning: The `get_nearest_node` function has been deprecated and will be removed in a future release. Use the more efficient `distance.nearest_nodes` instead.\n",
      "\u001b[2m\u001b[36m(RolloutWorker pid=32878)\u001b[0m UserWarning: The `get_nearest_node` function has been deprecated and will be removed in a future release. Use the more efficient `distance.nearest_nodes` instead.\n",
      "\u001b[2m\u001b[36m(RolloutWorker pid=32878)\u001b[0m UserWarning: The `get_nearest_node` function has been deprecated and will be removed in a future release. Use the more efficient `distance.nearest_nodes` instead.\n",
      "\u001b[2m\u001b[36m(RolloutWorker pid=32879)\u001b[0m UserWarning: The `get_nearest_node` function has been deprecated and will be removed in a future release. Use the more efficient `distance.nearest_nodes` instead.\n",
      "\u001b[2m\u001b[36m(RolloutWorker pid=32879)\u001b[0m UserWarning: The `get_nearest_node` function has been deprecated and will be removed in a future release. Use the more efficient `distance.nearest_nodes` instead.\n",
      "\u001b[2m\u001b[36m(RolloutWorker pid=32879)\u001b[0m UserWarning: The `get_nearest_node` function has been deprecated and will be removed in a future release. Use the more efficient `distance.nearest_nodes` instead.\n",
      "\u001b[2m\u001b[36m(RolloutWorker pid=32878)\u001b[0m UserWarning: The `get_nearest_node` function has been deprecated and will be removed in a future release. Use the more efficient `distance.nearest_nodes` instead.\n",
      "\u001b[2m\u001b[36m(RolloutWorker pid=32878)\u001b[0m UserWarning: The `get_nearest_node` function has been deprecated and will be removed in a future release. Use the more efficient `distance.nearest_nodes` instead.\n",
      "\u001b[2m\u001b[36m(RolloutWorker pid=32878)\u001b[0m UserWarning: The `get_nearest_node` function has been deprecated and will be removed in a future release. Use the more efficient `distance.nearest_nodes` instead.\n",
      "\u001b[2m\u001b[36m(RolloutWorker pid=32879)\u001b[0m UserWarning: The `get_nearest_node` function has been deprecated and will be removed in a future release. Use the more efficient `distance.nearest_nodes` instead.\n",
      "\u001b[2m\u001b[36m(RolloutWorker pid=32879)\u001b[0m UserWarning: The `get_nearest_node` function has been deprecated and will be removed in a future release. Use the more efficient `distance.nearest_nodes` instead.\n",
      "\u001b[2m\u001b[36m(RolloutWorker pid=32878)\u001b[0m UserWarning: The `get_nearest_node` function has been deprecated and will be removed in a future release. Use the more efficient `distance.nearest_nodes` instead.\n",
      "\u001b[2m\u001b[36m(RolloutWorker pid=32878)\u001b[0m UserWarning: The `get_nearest_node` function has been deprecated and will be removed in a future release. Use the more efficient `distance.nearest_nodes` instead.\n",
      "\u001b[2m\u001b[36m(RolloutWorker pid=32879)\u001b[0m UserWarning: The `get_nearest_node` function has been deprecated and will be removed in a future release. Use the more efficient `distance.nearest_nodes` instead.\n",
      "\u001b[2m\u001b[36m(RolloutWorker pid=32878)\u001b[0m UserWarning: The `get_nearest_node` function has been deprecated and will be removed in a future release. Use the more efficient `distance.nearest_nodes` instead.\n",
      "\u001b[2m\u001b[36m(RolloutWorker pid=32879)\u001b[0m UserWarning: The `get_nearest_node` function has been deprecated and will be removed in a future release. Use the more efficient `distance.nearest_nodes` instead.\n",
      "\u001b[2m\u001b[36m(RolloutWorker pid=32879)\u001b[0m UserWarning: The `get_nearest_node` function has been deprecated and will be removed in a future release. Use the more efficient `distance.nearest_nodes` instead.\n",
      "\u001b[2m\u001b[36m(RolloutWorker pid=32878)\u001b[0m UserWarning: The `get_nearest_node` function has been deprecated and will be removed in a future release. Use the more efficient `distance.nearest_nodes` instead.\n",
      "\u001b[2m\u001b[36m(RolloutWorker pid=32879)\u001b[0m UserWarning: The `get_nearest_node` function has been deprecated and will be removed in a future release. Use the more efficient `distance.nearest_nodes` instead.\n",
      "\u001b[2m\u001b[36m(RolloutWorker pid=32879)\u001b[0m UserWarning: The `get_nearest_node` function has been deprecated and will be removed in a future release. Use the more efficient `distance.nearest_nodes` instead.\n",
      "\u001b[2m\u001b[36m(RolloutWorker pid=32878)\u001b[0m UserWarning: The `get_nearest_node` function has been deprecated and will be removed in a future release. Use the more efficient `distance.nearest_nodes` instead.\n",
      "\u001b[2m\u001b[36m(RolloutWorker pid=32878)\u001b[0m UserWarning: The `get_nearest_node` function has been deprecated and will be removed in a future release. Use the more efficient `distance.nearest_nodes` instead.\n",
      "\u001b[2m\u001b[36m(RolloutWorker pid=32879)\u001b[0m UserWarning: The `get_nearest_node` function has been deprecated and will be removed in a future release. Use the more efficient `distance.nearest_nodes` instead.\n",
      "\u001b[2m\u001b[36m(RolloutWorker pid=32878)\u001b[0m UserWarning: The `get_nearest_node` function has been deprecated and will be removed in a future release. Use the more efficient `distance.nearest_nodes` instead.\n",
      "\u001b[2m\u001b[36m(RolloutWorker pid=32879)\u001b[0m UserWarning: The `get_nearest_node` function has been deprecated and will be removed in a future release. Use the more efficient `distance.nearest_nodes` instead.\n",
      "\u001b[2m\u001b[36m(RolloutWorker pid=32878)\u001b[0m UserWarning: The `get_nearest_node` function has been deprecated and will be removed in a future release. Use the more efficient `distance.nearest_nodes` instead.\n",
      "\u001b[2m\u001b[36m(RolloutWorker pid=32879)\u001b[0m UserWarning: The `get_nearest_node` function has been deprecated and will be removed in a future release. Use the more efficient `distance.nearest_nodes` instead.\n",
      "\u001b[2m\u001b[36m(RolloutWorker pid=32878)\u001b[0m UserWarning: The `get_nearest_node` function has been deprecated and will be removed in a future release. Use the more efficient `distance.nearest_nodes` instead.\n",
      "\u001b[2m\u001b[36m(RolloutWorker pid=32878)\u001b[0m UserWarning: The `get_nearest_node` function has been deprecated and will be removed in a future release. Use the more efficient `distance.nearest_nodes` instead.\n",
      "\u001b[2m\u001b[36m(RolloutWorker pid=32879)\u001b[0m UserWarning: The `get_nearest_node` function has been deprecated and will be removed in a future release. Use the more efficient `distance.nearest_nodes` instead.\n",
      "\u001b[2m\u001b[36m(RolloutWorker pid=32879)\u001b[0m UserWarning: The `get_nearest_node` function has been deprecated and will be removed in a future release. Use the more efficient `distance.nearest_nodes` instead.\n",
      "\u001b[2m\u001b[36m(RolloutWorker pid=32878)\u001b[0m UserWarning: The `get_nearest_node` function has been deprecated and will be removed in a future release. Use the more efficient `distance.nearest_nodes` instead.\n",
      "\u001b[2m\u001b[36m(RolloutWorker pid=32878)\u001b[0m UserWarning: The `get_nearest_node` function has been deprecated and will be removed in a future release. Use the more efficient `distance.nearest_nodes` instead.\n",
      "\u001b[2m\u001b[36m(RolloutWorker pid=32879)\u001b[0m UserWarning: The `get_nearest_node` function has been deprecated and will be removed in a future release. Use the more efficient `distance.nearest_nodes` instead.\n",
      "\u001b[2m\u001b[36m(RolloutWorker pid=32878)\u001b[0m UserWarning: The `get_nearest_node` function has been deprecated and will be removed in a future release. Use the more efficient `distance.nearest_nodes` instead.\n",
      "\u001b[2m\u001b[36m(RolloutWorker pid=32879)\u001b[0m UserWarning: The `get_nearest_node` function has been deprecated and will be removed in a future release. Use the more efficient `distance.nearest_nodes` instead.\n",
      "\u001b[2m\u001b[36m(RolloutWorker pid=32879)\u001b[0m UserWarning: The `get_nearest_node` function has been deprecated and will be removed in a future release. Use the more efficient `distance.nearest_nodes` instead.\n",
      "\u001b[2m\u001b[36m(RolloutWorker pid=32879)\u001b[0m UserWarning: The `get_nearest_node` function has been deprecated and will be removed in a future release. Use the more efficient `distance.nearest_nodes` instead.\n",
      "\u001b[2m\u001b[36m(RolloutWorker pid=32879)\u001b[0m UserWarning: The `get_nearest_node` function has been deprecated and will be removed in a future release. Use the more efficient `distance.nearest_nodes` instead.\n",
      "\u001b[2m\u001b[36m(RolloutWorker pid=32878)\u001b[0m UserWarning: The `get_nearest_node` function has been deprecated and will be removed in a future release. Use the more efficient `distance.nearest_nodes` instead.\n",
      "\u001b[2m\u001b[36m(RolloutWorker pid=32878)\u001b[0m UserWarning: The `get_nearest_node` function has been deprecated and will be removed in a future release. Use the more efficient `distance.nearest_nodes` instead.\n",
      "\u001b[2m\u001b[36m(RolloutWorker pid=32878)\u001b[0m UserWarning: The `get_nearest_node` function has been deprecated and will be removed in a future release. Use the more efficient `distance.nearest_nodes` instead.\n",
      "\u001b[2m\u001b[36m(RolloutWorker pid=32879)\u001b[0m UserWarning: The `get_nearest_node` function has been deprecated and will be removed in a future release. Use the more efficient `distance.nearest_nodes` instead.\n",
      "\u001b[2m\u001b[36m(RolloutWorker pid=32879)\u001b[0m UserWarning: The `get_nearest_node` function has been deprecated and will be removed in a future release. Use the more efficient `distance.nearest_nodes` instead.\n",
      "\u001b[2m\u001b[36m(RolloutWorker pid=32879)\u001b[0m UserWarning: The `get_nearest_node` function has been deprecated and will be removed in a future release. Use the more efficient `distance.nearest_nodes` instead.\n",
      "\u001b[2m\u001b[36m(RolloutWorker pid=32878)\u001b[0m UserWarning: The `get_nearest_node` function has been deprecated and will be removed in a future release. Use the more efficient `distance.nearest_nodes` instead.\n",
      "\u001b[2m\u001b[36m(RolloutWorker pid=32878)\u001b[0m UserWarning: The `get_nearest_node` function has been deprecated and will be removed in a future release. Use the more efficient `distance.nearest_nodes` instead.\n",
      "\u001b[2m\u001b[36m(RolloutWorker pid=32878)\u001b[0m UserWarning: The `get_nearest_node` function has been deprecated and will be removed in a future release. Use the more efficient `distance.nearest_nodes` instead.\n",
      "\u001b[2m\u001b[36m(RolloutWorker pid=32878)\u001b[0m UserWarning: The `get_nearest_node` function has been deprecated and will be removed in a future release. Use the more efficient `distance.nearest_nodes` instead.\n",
      "\u001b[2m\u001b[36m(RolloutWorker pid=32879)\u001b[0m UserWarning: The `get_nearest_node` function has been deprecated and will be removed in a future release. Use the more efficient `distance.nearest_nodes` instead.\n",
      "\u001b[2m\u001b[36m(RolloutWorker pid=32879)\u001b[0m UserWarning: The `get_nearest_node` function has been deprecated and will be removed in a future release. Use the more efficient `distance.nearest_nodes` instead.\n",
      "\u001b[2m\u001b[36m(RolloutWorker pid=32879)\u001b[0m UserWarning: The `get_nearest_node` function has been deprecated and will be removed in a future release. Use the more efficient `distance.nearest_nodes` instead.\n",
      "\u001b[2m\u001b[36m(RolloutWorker pid=32878)\u001b[0m UserWarning: The `get_nearest_node` function has been deprecated and will be removed in a future release. Use the more efficient `distance.nearest_nodes` instead.\n",
      "\u001b[2m\u001b[36m(RolloutWorker pid=32878)\u001b[0m UserWarning: The `get_nearest_node` function has been deprecated and will be removed in a future release. Use the more efficient `distance.nearest_nodes` instead.\n",
      "\u001b[2m\u001b[36m(RolloutWorker pid=32878)\u001b[0m UserWarning: The `get_nearest_node` function has been deprecated and will be removed in a future release. Use the more efficient `distance.nearest_nodes` instead.\n",
      "\u001b[2m\u001b[36m(RolloutWorker pid=32879)\u001b[0m UserWarning: The `get_nearest_node` function has been deprecated and will be removed in a future release. Use the more efficient `distance.nearest_nodes` instead.\n",
      "\u001b[2m\u001b[36m(RolloutWorker pid=32879)\u001b[0m UserWarning: The `get_nearest_node` function has been deprecated and will be removed in a future release. Use the more efficient `distance.nearest_nodes` instead.\n",
      "\u001b[2m\u001b[36m(RolloutWorker pid=32878)\u001b[0m UserWarning: The `get_nearest_node` function has been deprecated and will be removed in a future release. Use the more efficient `distance.nearest_nodes` instead.\n",
      "\u001b[2m\u001b[36m(RolloutWorker pid=32879)\u001b[0m UserWarning: The `get_nearest_node` function has been deprecated and will be removed in a future release. Use the more efficient `distance.nearest_nodes` instead.\n",
      "\u001b[2m\u001b[36m(RolloutWorker pid=32879)\u001b[0m UserWarning: The `get_nearest_node` function has been deprecated and will be removed in a future release. Use the more efficient `distance.nearest_nodes` instead.\n",
      "\u001b[2m\u001b[36m(RolloutWorker pid=32878)\u001b[0m UserWarning: The `get_nearest_node` function has been deprecated and will be removed in a future release. Use the more efficient `distance.nearest_nodes` instead.\n",
      "\u001b[2m\u001b[36m(RolloutWorker pid=32878)\u001b[0m UserWarning: The `get_nearest_node` function has been deprecated and will be removed in a future release. Use the more efficient `distance.nearest_nodes` instead.\n",
      "\u001b[2m\u001b[36m(RolloutWorker pid=32878)\u001b[0m UserWarning: The `get_nearest_node` function has been deprecated and will be removed in a future release. Use the more efficient `distance.nearest_nodes` instead.\n",
      "\u001b[2m\u001b[36m(RolloutWorker pid=32879)\u001b[0m UserWarning: The `get_nearest_node` function has been deprecated and will be removed in a future release. Use the more efficient `distance.nearest_nodes` instead.\n",
      "\u001b[2m\u001b[36m(RolloutWorker pid=32878)\u001b[0m UserWarning: The `get_nearest_node` function has been deprecated and will be removed in a future release. Use the more efficient `distance.nearest_nodes` instead.\n",
      "\u001b[2m\u001b[36m(RolloutWorker pid=32879)\u001b[0m UserWarning: The `get_nearest_node` function has been deprecated and will be removed in a future release. Use the more efficient `distance.nearest_nodes` instead.\n",
      "\u001b[2m\u001b[36m(RolloutWorker pid=32879)\u001b[0m UserWarning: The `get_nearest_node` function has been deprecated and will be removed in a future release. Use the more efficient `distance.nearest_nodes` instead.\n",
      "\u001b[2m\u001b[36m(RolloutWorker pid=32879)\u001b[0m UserWarning: The `get_nearest_node` function has been deprecated and will be removed in a future release. Use the more efficient `distance.nearest_nodes` instead.\n",
      "\u001b[2m\u001b[36m(RolloutWorker pid=32878)\u001b[0m UserWarning: The `get_nearest_node` function has been deprecated and will be removed in a future release. Use the more efficient `distance.nearest_nodes` instead.\n",
      "\u001b[2m\u001b[36m(RolloutWorker pid=32878)\u001b[0m UserWarning: The `get_nearest_node` function has been deprecated and will be removed in a future release. Use the more efficient `distance.nearest_nodes` instead.\n",
      "\u001b[2m\u001b[36m(RolloutWorker pid=32878)\u001b[0m UserWarning: The `get_nearest_node` function has been deprecated and will be removed in a future release. Use the more efficient `distance.nearest_nodes` instead.\n",
      "\u001b[2m\u001b[36m(RolloutWorker pid=32879)\u001b[0m UserWarning: The `get_nearest_node` function has been deprecated and will be removed in a future release. Use the more efficient `distance.nearest_nodes` instead.\n",
      "\u001b[2m\u001b[36m(RolloutWorker pid=32878)\u001b[0m UserWarning: The `get_nearest_node` function has been deprecated and will be removed in a future release. Use the more efficient `distance.nearest_nodes` instead.\n",
      "\u001b[2m\u001b[36m(RolloutWorker pid=32879)\u001b[0m UserWarning: The `get_nearest_node` function has been deprecated and will be removed in a future release. Use the more efficient `distance.nearest_nodes` instead.\n",
      "\u001b[2m\u001b[36m(RolloutWorker pid=32878)\u001b[0m UserWarning: The `get_nearest_node` function has been deprecated and will be removed in a future release. Use the more efficient `distance.nearest_nodes` instead.\n",
      "\u001b[2m\u001b[36m(RolloutWorker pid=32879)\u001b[0m UserWarning: The `get_nearest_node` function has been deprecated and will be removed in a future release. Use the more efficient `distance.nearest_nodes` instead.\n",
      "\u001b[2m\u001b[36m(RolloutWorker pid=32879)\u001b[0m UserWarning: The `get_nearest_node` function has been deprecated and will be removed in a future release. Use the more efficient `distance.nearest_nodes` instead.\n",
      "\u001b[2m\u001b[36m(RolloutWorker pid=32878)\u001b[0m UserWarning: The `get_nearest_node` function has been deprecated and will be removed in a future release. Use the more efficient `distance.nearest_nodes` instead.\n",
      "\u001b[2m\u001b[36m(RolloutWorker pid=32878)\u001b[0m UserWarning: The `get_nearest_node` function has been deprecated and will be removed in a future release. Use the more efficient `distance.nearest_nodes` instead.\n",
      "\u001b[2m\u001b[36m(RolloutWorker pid=32879)\u001b[0m UserWarning: The `get_nearest_node` function has been deprecated and will be removed in a future release. Use the more efficient `distance.nearest_nodes` instead.\n",
      "\u001b[2m\u001b[36m(RolloutWorker pid=32879)\u001b[0m UserWarning: The `get_nearest_node` function has been deprecated and will be removed in a future release. Use the more efficient `distance.nearest_nodes` instead.\n",
      "\u001b[2m\u001b[36m(RolloutWorker pid=32878)\u001b[0m UserWarning: The `get_nearest_node` function has been deprecated and will be removed in a future release. Use the more efficient `distance.nearest_nodes` instead.\n",
      "\u001b[2m\u001b[36m(RolloutWorker pid=32879)\u001b[0m UserWarning: The `get_nearest_node` function has been deprecated and will be removed in a future release. Use the more efficient `distance.nearest_nodes` instead.\n",
      "\u001b[2m\u001b[36m(RolloutWorker pid=32878)\u001b[0m UserWarning: The `get_nearest_node` function has been deprecated and will be removed in a future release. Use the more efficient `distance.nearest_nodes` instead.\n",
      "\u001b[2m\u001b[36m(RolloutWorker pid=32879)\u001b[0m UserWarning: The `get_nearest_node` function has been deprecated and will be removed in a future release. Use the more efficient `distance.nearest_nodes` instead.\n",
      "\u001b[2m\u001b[36m(RolloutWorker pid=32879)\u001b[0m UserWarning: The `get_nearest_node` function has been deprecated and will be removed in a future release. Use the more efficient `distance.nearest_nodes` instead.\n",
      "\u001b[2m\u001b[36m(RolloutWorker pid=32878)\u001b[0m UserWarning: The `get_nearest_node` function has been deprecated and will be removed in a future release. Use the more efficient `distance.nearest_nodes` instead.\n",
      "\u001b[2m\u001b[36m(RolloutWorker pid=32878)\u001b[0m UserWarning: The `get_nearest_node` function has been deprecated and will be removed in a future release. Use the more efficient `distance.nearest_nodes` instead.\n",
      "\u001b[2m\u001b[36m(RolloutWorker pid=32878)\u001b[0m UserWarning: The `get_nearest_node` function has been deprecated and will be removed in a future release. Use the more efficient `distance.nearest_nodes` instead.\n",
      "\u001b[2m\u001b[36m(RolloutWorker pid=32879)\u001b[0m UserWarning: The `get_nearest_node` function has been deprecated and will be removed in a future release. Use the more efficient `distance.nearest_nodes` instead.\n",
      "\u001b[2m\u001b[36m(RolloutWorker pid=32879)\u001b[0m UserWarning: The `get_nearest_node` function has been deprecated and will be removed in a future release. Use the more efficient `distance.nearest_nodes` instead.\n",
      "\u001b[2m\u001b[36m(RolloutWorker pid=32879)\u001b[0m UserWarning: The `get_nearest_node` function has been deprecated and will be removed in a future release. Use the more efficient `distance.nearest_nodes` instead.\n",
      "\u001b[2m\u001b[36m(RolloutWorker pid=32878)\u001b[0m UserWarning: The `get_nearest_node` function has been deprecated and will be removed in a future release. Use the more efficient `distance.nearest_nodes` instead.\n",
      "\u001b[2m\u001b[36m(RolloutWorker pid=32878)\u001b[0m UserWarning: The `get_nearest_node` function has been deprecated and will be removed in a future release. Use the more efficient `distance.nearest_nodes` instead.\n",
      "\u001b[2m\u001b[36m(RolloutWorker pid=32878)\u001b[0m UserWarning: The `get_nearest_node` function has been deprecated and will be removed in a future release. Use the more efficient `distance.nearest_nodes` instead.\n",
      "\u001b[2m\u001b[36m(RolloutWorker pid=32879)\u001b[0m UserWarning: The `get_nearest_node` function has been deprecated and will be removed in a future release. Use the more efficient `distance.nearest_nodes` instead.\n",
      "\u001b[2m\u001b[36m(RolloutWorker pid=32879)\u001b[0m UserWarning: The `get_nearest_node` function has been deprecated and will be removed in a future release. Use the more efficient `distance.nearest_nodes` instead.\n",
      "\u001b[2m\u001b[36m(RolloutWorker pid=32878)\u001b[0m UserWarning: The `get_nearest_node` function has been deprecated and will be removed in a future release. Use the more efficient `distance.nearest_nodes` instead.\n",
      "\u001b[2m\u001b[36m(RolloutWorker pid=32878)\u001b[0m UserWarning: The `get_nearest_node` function has been deprecated and will be removed in a future release. Use the more efficient `distance.nearest_nodes` instead.\n",
      "\u001b[2m\u001b[36m(RolloutWorker pid=32879)\u001b[0m UserWarning: The `get_nearest_node` function has been deprecated and will be removed in a future release. Use the more efficient `distance.nearest_nodes` instead.\n",
      "\u001b[2m\u001b[36m(RolloutWorker pid=32879)\u001b[0m UserWarning: The `get_nearest_node` function has been deprecated and will be removed in a future release. Use the more efficient `distance.nearest_nodes` instead.\n",
      "\u001b[2m\u001b[36m(RolloutWorker pid=32878)\u001b[0m UserWarning: The `get_nearest_node` function has been deprecated and will be removed in a future release. Use the more efficient `distance.nearest_nodes` instead.\n",
      "\u001b[2m\u001b[36m(RolloutWorker pid=32879)\u001b[0m UserWarning: The `get_nearest_node` function has been deprecated and will be removed in a future release. Use the more efficient `distance.nearest_nodes` instead.\n",
      "\u001b[2m\u001b[36m(RolloutWorker pid=32878)\u001b[0m UserWarning: The `get_nearest_node` function has been deprecated and will be removed in a future release. Use the more efficient `distance.nearest_nodes` instead.\n",
      "\u001b[2m\u001b[36m(RolloutWorker pid=32878)\u001b[0m UserWarning: The `get_nearest_node` function has been deprecated and will be removed in a future release. Use the more efficient `distance.nearest_nodes` instead.\n",
      "\u001b[2m\u001b[36m(RolloutWorker pid=32879)\u001b[0m UserWarning: The `get_nearest_node` function has been deprecated and will be removed in a future release. Use the more efficient `distance.nearest_nodes` instead.\n",
      "\u001b[2m\u001b[36m(RolloutWorker pid=32879)\u001b[0m UserWarning: The `get_nearest_node` function has been deprecated and will be removed in a future release. Use the more efficient `distance.nearest_nodes` instead.\n",
      "\u001b[2m\u001b[36m(RolloutWorker pid=32878)\u001b[0m UserWarning: The `get_nearest_node` function has been deprecated and will be removed in a future release. Use the more efficient `distance.nearest_nodes` instead.\n",
      "\u001b[2m\u001b[36m(RolloutWorker pid=32879)\u001b[0m UserWarning: The `get_nearest_node` function has been deprecated and will be removed in a future release. Use the more efficient `distance.nearest_nodes` instead.\n",
      "\u001b[2m\u001b[36m(RolloutWorker pid=32878)\u001b[0m UserWarning: The `get_nearest_node` function has been deprecated and will be removed in a future release. Use the more efficient `distance.nearest_nodes` instead.\n",
      "\u001b[2m\u001b[36m(RolloutWorker pid=32879)\u001b[0m UserWarning: The `get_nearest_node` function has been deprecated and will be removed in a future release. Use the more efficient `distance.nearest_nodes` instead.\n",
      "\u001b[2m\u001b[36m(RolloutWorker pid=32878)\u001b[0m UserWarning: The `get_nearest_node` function has been deprecated and will be removed in a future release. Use the more efficient `distance.nearest_nodes` instead.\n",
      "\u001b[2m\u001b[36m(RolloutWorker pid=32878)\u001b[0m UserWarning: The `get_nearest_node` function has been deprecated and will be removed in a future release. Use the more efficient `distance.nearest_nodes` instead.\n",
      "\u001b[2m\u001b[36m(RolloutWorker pid=32879)\u001b[0m UserWarning: The `get_nearest_node` function has been deprecated and will be removed in a future release. Use the more efficient `distance.nearest_nodes` instead.\n",
      "\u001b[2m\u001b[36m(RolloutWorker pid=32878)\u001b[0m UserWarning: The `get_nearest_node` function has been deprecated and will be removed in a future release. Use the more efficient `distance.nearest_nodes` instead.\n",
      "\u001b[2m\u001b[36m(RolloutWorker pid=32879)\u001b[0m UserWarning: The `get_nearest_node` function has been deprecated and will be removed in a future release. Use the more efficient `distance.nearest_nodes` instead.\n",
      "\u001b[2m\u001b[36m(RolloutWorker pid=32879)\u001b[0m UserWarning: The `get_nearest_node` function has been deprecated and will be removed in a future release. Use the more efficient `distance.nearest_nodes` instead.\n",
      "\u001b[2m\u001b[36m(RolloutWorker pid=32878)\u001b[0m UserWarning: The `get_nearest_node` function has been deprecated and will be removed in a future release. Use the more efficient `distance.nearest_nodes` instead.\n",
      "\u001b[2m\u001b[36m(RolloutWorker pid=32879)\u001b[0m UserWarning: The `get_nearest_node` function has been deprecated and will be removed in a future release. Use the more efficient `distance.nearest_nodes` instead.\n",
      "\u001b[2m\u001b[36m(RolloutWorker pid=32878)\u001b[0m UserWarning: The `get_nearest_node` function has been deprecated and will be removed in a future release. Use the more efficient `distance.nearest_nodes` instead.\n",
      "\u001b[2m\u001b[36m(RolloutWorker pid=32878)\u001b[0m UserWarning: The `get_nearest_node` function has been deprecated and will be removed in a future release. Use the more efficient `distance.nearest_nodes` instead.\n",
      "\u001b[2m\u001b[36m(RolloutWorker pid=32879)\u001b[0m UserWarning: The `get_nearest_node` function has been deprecated and will be removed in a future release. Use the more efficient `distance.nearest_nodes` instead.\n",
      "\u001b[2m\u001b[36m(RolloutWorker pid=32879)\u001b[0m UserWarning: The `get_nearest_node` function has been deprecated and will be removed in a future release. Use the more efficient `distance.nearest_nodes` instead.\n",
      "\u001b[2m\u001b[36m(RolloutWorker pid=32878)\u001b[0m UserWarning: The `get_nearest_node` function has been deprecated and will be removed in a future release. Use the more efficient `distance.nearest_nodes` instead.\n",
      "\u001b[2m\u001b[36m(RolloutWorker pid=32878)\u001b[0m UserWarning: The `get_nearest_node` function has been deprecated and will be removed in a future release. Use the more efficient `distance.nearest_nodes` instead.\n",
      "\u001b[2m\u001b[36m(RolloutWorker pid=32879)\u001b[0m UserWarning: The `get_nearest_node` function has been deprecated and will be removed in a future release. Use the more efficient `distance.nearest_nodes` instead.\n",
      "\u001b[2m\u001b[36m(RolloutWorker pid=32879)\u001b[0m UserWarning: The `get_nearest_node` function has been deprecated and will be removed in a future release. Use the more efficient `distance.nearest_nodes` instead.\n",
      "\u001b[2m\u001b[36m(RolloutWorker pid=32879)\u001b[0m UserWarning: The `get_nearest_node` function has been deprecated and will be removed in a future release. Use the more efficient `distance.nearest_nodes` instead.\n",
      "\u001b[2m\u001b[36m(RolloutWorker pid=32878)\u001b[0m UserWarning: The `get_nearest_node` function has been deprecated and will be removed in a future release. Use the more efficient `distance.nearest_nodes` instead.\n",
      "\u001b[2m\u001b[36m(RolloutWorker pid=32878)\u001b[0m UserWarning: The `get_nearest_node` function has been deprecated and will be removed in a future release. Use the more efficient `distance.nearest_nodes` instead.\n",
      "\u001b[2m\u001b[36m(RolloutWorker pid=32879)\u001b[0m UserWarning: The `get_nearest_node` function has been deprecated and will be removed in a future release. Use the more efficient `distance.nearest_nodes` instead.\n",
      "\u001b[2m\u001b[36m(RolloutWorker pid=32879)\u001b[0m UserWarning: The `get_nearest_node` function has been deprecated and will be removed in a future release. Use the more efficient `distance.nearest_nodes` instead.\n",
      "\u001b[2m\u001b[36m(RolloutWorker pid=32878)\u001b[0m UserWarning: The `get_nearest_node` function has been deprecated and will be removed in a future release. Use the more efficient `distance.nearest_nodes` instead.\n",
      "\u001b[2m\u001b[36m(RolloutWorker pid=32878)\u001b[0m UserWarning: The `get_nearest_node` function has been deprecated and will be removed in a future release. Use the more efficient `distance.nearest_nodes` instead.\n",
      "\u001b[2m\u001b[36m(RolloutWorker pid=32879)\u001b[0m UserWarning: The `get_nearest_node` function has been deprecated and will be removed in a future release. Use the more efficient `distance.nearest_nodes` instead.\n",
      "\u001b[2m\u001b[36m(RolloutWorker pid=32879)\u001b[0m UserWarning: The `get_nearest_node` function has been deprecated and will be removed in a future release. Use the more efficient `distance.nearest_nodes` instead.\n",
      "\u001b[2m\u001b[36m(RolloutWorker pid=32878)\u001b[0m UserWarning: The `get_nearest_node` function has been deprecated and will be removed in a future release. Use the more efficient `distance.nearest_nodes` instead.\n",
      "\u001b[2m\u001b[36m(RolloutWorker pid=32879)\u001b[0m UserWarning: The `get_nearest_node` function has been deprecated and will be removed in a future release. Use the more efficient `distance.nearest_nodes` instead.\n"
     ]
    },
    {
     "name": "stdout",
     "output_type": "stream",
     "text": [
      "\u001b[2m\u001b[36m(RolloutWorker pid=32878)\u001b[0m Reset with config\n",
      "\u001b[2m\u001b[36m(RolloutWorker pid=32878)\u001b[0m final hub: 3\n",
      "\u001b[2m\u001b[36m(RolloutWorker pid=32878)\u001b[0m current position: 2\n",
      "\u001b[2m\u001b[36m(RolloutWorker pid=32879)\u001b[0m Reset with config\n",
      "\u001b[2m\u001b[36m(RolloutWorker pid=32879)\u001b[0m final hub: 3\n",
      "\u001b[2m\u001b[36m(RolloutWorker pid=32879)\u001b[0m current position: 2\n"
     ]
    },
    {
     "name": "stderr",
     "output_type": "stream",
     "text": [
      "2022-05-11 23:57:54,296\tINFO trainable.py:127 -- Trainable.setup took 31.835 seconds. If your trainable is slow to initialize, consider setting reuse_actors=True to reduce actor creation overheads.\n",
      "2022-05-11 23:57:54,346\tWARNING util.py:55 -- Install gputil for GPU system monitoring.\n"
     ]
    }
   ],
   "source": [
    "ppo_trainer=PPOTrainer(DEFAULT_CONFIG,GraphEnv)"
   ]
  },
  {
   "cell_type": "code",
   "execution_count": null,
   "metadata": {},
   "outputs": [],
   "source": [
    "trainer_dqn = DQNTrainer(dqn_config,GraphEnv)"
   ]
  },
  {
   "cell_type": "code",
   "execution_count": null,
   "metadata": {},
   "outputs": [],
   "source": [
    "trainer_rainbow=DQNTrainer(rainbow_config,GraphEnv )\n"
   ]
  },
  {
   "cell_type": "code",
   "execution_count": null,
   "metadata": {},
   "outputs": [],
   "source": [
    "#trainer_apex=DQNTrainer(apex_config,GraphEnv )"
   ]
  },
  {
   "cell_type": "markdown",
   "metadata": {},
   "source": [
    "Define the path where the results of the trainer should be saved"
   ]
  },
  {
   "cell_type": "code",
   "execution_count": null,
   "metadata": {},
   "outputs": [],
   "source": [
    "checkpoint_root = \"tmp/dqn/graphworld\"\n",
    "shutil.rmtree(checkpoint_root, ignore_errors=True, onerror=None)   # clean up old runs"
   ]
  },
  {
   "cell_type": "markdown",
   "metadata": {},
   "source": []
  },
  {
   "cell_type": "markdown",
   "metadata": {},
   "source": [
    "Run the trainer"
   ]
  },
  {
   "cell_type": "code",
   "execution_count": 15,
   "metadata": {},
   "outputs": [
    {
     "ename": "StopIteration",
     "evalue": "",
     "output_type": "error",
     "traceback": [
      "\u001b[0;31m---------------------------------------------------------------------------\u001b[0m",
      "\u001b[0;31mStopIteration\u001b[0m                             Traceback (most recent call last)",
      "\u001b[0;32m<ipython-input-15-e69e268321ae>\u001b[0m in \u001b[0;36m<module>\u001b[0;34m\u001b[0m\n\u001b[1;32m      5\u001b[0m \u001b[0;34m\u001b[0m\u001b[0m\n\u001b[1;32m      6\u001b[0m \u001b[0;32mfor\u001b[0m \u001b[0mn\u001b[0m \u001b[0;32min\u001b[0m \u001b[0mrange\u001b[0m\u001b[0;34m(\u001b[0m\u001b[0mn_iter\u001b[0m\u001b[0;34m)\u001b[0m\u001b[0;34m:\u001b[0m\u001b[0;34m\u001b[0m\u001b[0;34m\u001b[0m\u001b[0m\n\u001b[0;32m----> 7\u001b[0;31m     \u001b[0mresult\u001b[0m \u001b[0;34m=\u001b[0m \u001b[0mppo_trainer\u001b[0m\u001b[0;34m.\u001b[0m\u001b[0mtrain\u001b[0m\u001b[0;34m(\u001b[0m\u001b[0;34m)\u001b[0m\u001b[0;34m\u001b[0m\u001b[0;34m\u001b[0m\u001b[0m\n\u001b[0m\u001b[1;32m      8\u001b[0m     \u001b[0mresults\u001b[0m\u001b[0;34m.\u001b[0m\u001b[0mappend\u001b[0m\u001b[0;34m(\u001b[0m\u001b[0mresult\u001b[0m\u001b[0;34m)\u001b[0m\u001b[0;34m\u001b[0m\u001b[0;34m\u001b[0m\u001b[0m\n\u001b[1;32m      9\u001b[0m     \u001b[0mprint\u001b[0m\u001b[0;34m(\u001b[0m\u001b[0;34m\"TEST\"\u001b[0m\u001b[0;34m,\u001b[0m\u001b[0mn\u001b[0m\u001b[0;34m)\u001b[0m\u001b[0;34m\u001b[0m\u001b[0;34m\u001b[0m\u001b[0m\n",
      "\u001b[0;32m~/opt/anaconda3/lib/python3.8/site-packages/ray/tune/trainable.py\u001b[0m in \u001b[0;36mtrain\u001b[0;34m(self)\u001b[0m\n\u001b[1;32m    317\u001b[0m         \"\"\"\n\u001b[1;32m    318\u001b[0m         \u001b[0mstart\u001b[0m \u001b[0;34m=\u001b[0m \u001b[0mtime\u001b[0m\u001b[0;34m.\u001b[0m\u001b[0mtime\u001b[0m\u001b[0;34m(\u001b[0m\u001b[0;34m)\u001b[0m\u001b[0;34m\u001b[0m\u001b[0;34m\u001b[0m\u001b[0m\n\u001b[0;32m--> 319\u001b[0;31m         \u001b[0mresult\u001b[0m \u001b[0;34m=\u001b[0m \u001b[0mself\u001b[0m\u001b[0;34m.\u001b[0m\u001b[0mstep\u001b[0m\u001b[0;34m(\u001b[0m\u001b[0;34m)\u001b[0m\u001b[0;34m\u001b[0m\u001b[0;34m\u001b[0m\u001b[0m\n\u001b[0m\u001b[1;32m    320\u001b[0m         \u001b[0;32massert\u001b[0m \u001b[0misinstance\u001b[0m\u001b[0;34m(\u001b[0m\u001b[0mresult\u001b[0m\u001b[0;34m,\u001b[0m \u001b[0mdict\u001b[0m\u001b[0;34m)\u001b[0m\u001b[0;34m,\u001b[0m \u001b[0;34m\"step() needs to return a dict.\"\u001b[0m\u001b[0;34m\u001b[0m\u001b[0;34m\u001b[0m\u001b[0m\n\u001b[1;32m    321\u001b[0m \u001b[0;34m\u001b[0m\u001b[0m\n",
      "\u001b[0;32m~/opt/anaconda3/lib/python3.8/site-packages/ray/rllib/agents/trainer.py\u001b[0m in \u001b[0;36mstep\u001b[0;34m(self)\u001b[0m\n\u001b[1;32m    982\u001b[0m                     \u001b[0;31m# Allow logs messages to propagate.\u001b[0m\u001b[0;34m\u001b[0m\u001b[0;34m\u001b[0m\u001b[0;34m\u001b[0m\u001b[0m\n\u001b[1;32m    983\u001b[0m                     \u001b[0mtime\u001b[0m\u001b[0;34m.\u001b[0m\u001b[0msleep\u001b[0m\u001b[0;34m(\u001b[0m\u001b[0;36m0.5\u001b[0m\u001b[0;34m)\u001b[0m\u001b[0;34m\u001b[0m\u001b[0;34m\u001b[0m\u001b[0m\n\u001b[0;32m--> 984\u001b[0;31m                     \u001b[0;32mraise\u001b[0m \u001b[0me\u001b[0m\u001b[0;34m\u001b[0m\u001b[0;34m\u001b[0m\u001b[0m\n\u001b[0m\u001b[1;32m    985\u001b[0m \u001b[0;34m\u001b[0m\u001b[0m\n\u001b[1;32m    986\u001b[0m         \u001b[0mresult\u001b[0m \u001b[0;34m=\u001b[0m \u001b[0mstep_attempt_results\u001b[0m\u001b[0;34m\u001b[0m\u001b[0;34m\u001b[0m\u001b[0m\n",
      "\u001b[0;32m~/opt/anaconda3/lib/python3.8/site-packages/ray/rllib/agents/trainer.py\u001b[0m in \u001b[0;36mstep\u001b[0;34m(self)\u001b[0m\n\u001b[1;32m    963\u001b[0m                 \u001b[0;31m# Try to train one step.\u001b[0m\u001b[0;34m\u001b[0m\u001b[0;34m\u001b[0m\u001b[0;34m\u001b[0m\u001b[0m\n\u001b[1;32m    964\u001b[0m                 \u001b[0;32mtry\u001b[0m\u001b[0;34m:\u001b[0m\u001b[0;34m\u001b[0m\u001b[0;34m\u001b[0m\u001b[0m\n\u001b[0;32m--> 965\u001b[0;31m                     \u001b[0mstep_attempt_results\u001b[0m \u001b[0;34m=\u001b[0m \u001b[0mself\u001b[0m\u001b[0;34m.\u001b[0m\u001b[0mstep_attempt\u001b[0m\u001b[0;34m(\u001b[0m\u001b[0;34m)\u001b[0m\u001b[0;34m\u001b[0m\u001b[0;34m\u001b[0m\u001b[0m\n\u001b[0m\u001b[1;32m    966\u001b[0m                 \u001b[0;31m# @ray.remote RolloutWorker failure.\u001b[0m\u001b[0;34m\u001b[0m\u001b[0;34m\u001b[0m\u001b[0;34m\u001b[0m\u001b[0m\n\u001b[1;32m    967\u001b[0m                 \u001b[0;32mexcept\u001b[0m \u001b[0mRayError\u001b[0m \u001b[0;32mas\u001b[0m \u001b[0me\u001b[0m\u001b[0;34m:\u001b[0m\u001b[0;34m\u001b[0m\u001b[0;34m\u001b[0m\u001b[0m\n",
      "\u001b[0;32m~/opt/anaconda3/lib/python3.8/site-packages/ray/rllib/agents/trainer.py\u001b[0m in \u001b[0;36mstep_attempt\u001b[0;34m(self)\u001b[0m\n\u001b[1;32m   1042\u001b[0m         \u001b[0;31m# No evaluation necessary, just run the next training iteration.\u001b[0m\u001b[0;34m\u001b[0m\u001b[0;34m\u001b[0m\u001b[0;34m\u001b[0m\u001b[0m\n\u001b[1;32m   1043\u001b[0m         \u001b[0;32mif\u001b[0m \u001b[0;32mnot\u001b[0m \u001b[0mevaluate_this_iter\u001b[0m\u001b[0;34m:\u001b[0m\u001b[0;34m\u001b[0m\u001b[0;34m\u001b[0m\u001b[0m\n\u001b[0;32m-> 1044\u001b[0;31m             \u001b[0mstep_results\u001b[0m \u001b[0;34m=\u001b[0m \u001b[0mself\u001b[0m\u001b[0;34m.\u001b[0m\u001b[0m_exec_plan_or_training_iteration_fn\u001b[0m\u001b[0;34m(\u001b[0m\u001b[0;34m)\u001b[0m\u001b[0;34m\u001b[0m\u001b[0;34m\u001b[0m\u001b[0m\n\u001b[0m\u001b[1;32m   1045\u001b[0m         \u001b[0;31m# We have to evaluate in this training iteration.\u001b[0m\u001b[0;34m\u001b[0m\u001b[0;34m\u001b[0m\u001b[0;34m\u001b[0m\u001b[0m\n\u001b[1;32m   1046\u001b[0m         \u001b[0;32melse\u001b[0m\u001b[0;34m:\u001b[0m\u001b[0;34m\u001b[0m\u001b[0;34m\u001b[0m\u001b[0m\n",
      "\u001b[0;32m~/opt/anaconda3/lib/python3.8/site-packages/ray/rllib/agents/trainer.py\u001b[0m in \u001b[0;36m_exec_plan_or_training_iteration_fn\u001b[0;34m(self)\u001b[0m\n\u001b[1;32m   2030\u001b[0m             \u001b[0mresults\u001b[0m \u001b[0;34m=\u001b[0m \u001b[0mself\u001b[0m\u001b[0;34m.\u001b[0m\u001b[0mtraining_iteration\u001b[0m\u001b[0;34m(\u001b[0m\u001b[0;34m)\u001b[0m\u001b[0;34m\u001b[0m\u001b[0;34m\u001b[0m\u001b[0m\n\u001b[1;32m   2031\u001b[0m         \u001b[0;32melse\u001b[0m\u001b[0;34m:\u001b[0m\u001b[0;34m\u001b[0m\u001b[0;34m\u001b[0m\u001b[0m\n\u001b[0;32m-> 2032\u001b[0;31m             \u001b[0mresults\u001b[0m \u001b[0;34m=\u001b[0m \u001b[0mnext\u001b[0m\u001b[0;34m(\u001b[0m\u001b[0mself\u001b[0m\u001b[0;34m.\u001b[0m\u001b[0mtrain_exec_impl\u001b[0m\u001b[0;34m)\u001b[0m\u001b[0;34m\u001b[0m\u001b[0;34m\u001b[0m\u001b[0m\n\u001b[0m\u001b[1;32m   2033\u001b[0m         \u001b[0;32mreturn\u001b[0m \u001b[0mresults\u001b[0m\u001b[0;34m\u001b[0m\u001b[0;34m\u001b[0m\u001b[0m\n\u001b[1;32m   2034\u001b[0m \u001b[0;34m\u001b[0m\u001b[0m\n",
      "\u001b[0;32m~/opt/anaconda3/lib/python3.8/site-packages/ray/util/iter.py\u001b[0m in \u001b[0;36m__next__\u001b[0;34m(self)\u001b[0m\n\u001b[1;32m    754\u001b[0m     \u001b[0;32mdef\u001b[0m \u001b[0m__next__\u001b[0m\u001b[0;34m(\u001b[0m\u001b[0mself\u001b[0m\u001b[0;34m)\u001b[0m\u001b[0;34m:\u001b[0m\u001b[0;34m\u001b[0m\u001b[0;34m\u001b[0m\u001b[0m\n\u001b[1;32m    755\u001b[0m         \u001b[0mself\u001b[0m\u001b[0;34m.\u001b[0m\u001b[0m_build_once\u001b[0m\u001b[0;34m(\u001b[0m\u001b[0;34m)\u001b[0m\u001b[0;34m\u001b[0m\u001b[0;34m\u001b[0m\u001b[0m\n\u001b[0;32m--> 756\u001b[0;31m         \u001b[0;32mreturn\u001b[0m \u001b[0mnext\u001b[0m\u001b[0;34m(\u001b[0m\u001b[0mself\u001b[0m\u001b[0;34m.\u001b[0m\u001b[0mbuilt_iterator\u001b[0m\u001b[0;34m)\u001b[0m\u001b[0;34m\u001b[0m\u001b[0;34m\u001b[0m\u001b[0m\n\u001b[0m\u001b[1;32m    757\u001b[0m \u001b[0;34m\u001b[0m\u001b[0m\n\u001b[1;32m    758\u001b[0m     \u001b[0;32mdef\u001b[0m \u001b[0m__str__\u001b[0m\u001b[0;34m(\u001b[0m\u001b[0mself\u001b[0m\u001b[0;34m)\u001b[0m\u001b[0;34m:\u001b[0m\u001b[0;34m\u001b[0m\u001b[0;34m\u001b[0m\u001b[0m\n",
      "\u001b[0;31mStopIteration\u001b[0m: "
     ]
    }
   ],
   "source": [
    "results = []\n",
    "episode_data = []\n",
    "episode_json = []\n",
    "n_iter=10\n",
    "\n",
    "for n in range(n_iter):\n",
    "    result = ppo_trainer.train()\n",
    "    results.append(result)\n",
    "    print(\"TEST\",n)\n",
    "    \n",
    "    episode = {'n': n, \n",
    "               'episode_reward_min': result['episode_reward_min'], \n",
    "               'episode_reward_mean': result['episode_reward_mean'], \n",
    "               'episode_reward_max': result['episode_reward_max'],  \n",
    "               'episode_len_mean': result['episode_len_mean']\n",
    "              }\n",
    "    \n",
    "    episode_data.append(episode)\n",
    "    episode_json.append(json.dumps(episode))\n",
    "    file_name = ppo_trainer.save(checkpoint_root)\n",
    "    \n",
    "    print(f'{n+1:3d}: Min/Mean/Max reward: {result[\"episode_reward_min\"]:8.4f}/{result[\"episode_reward_mean\"]:8.4f}/{result[\"episode_reward_max\"]:8.4f}, len mean: {result[\"episode_len_mean\"]:8.4f}. Checkpoint saved to {file_name}')"
   ]
  },
  {
   "cell_type": "code",
   "execution_count": null,
   "metadata": {},
   "outputs": [],
   "source": [
    "results"
   ]
  },
  {
   "cell_type": "markdown",
   "metadata": {},
   "source": [
    "Testing of the trainer"
   ]
  },
  {
   "cell_type": "code",
   "execution_count": null,
   "metadata": {},
   "outputs": [],
   "source": [
    "trainer.restore(file_name)\n",
    "env = gym.make(\"graphworld-v0\")\n",
    "state = env.reset()"
   ]
  },
  {
   "cell_type": "code",
   "execution_count": null,
   "metadata": {},
   "outputs": [],
   "source": [
    "sum_reward = 0\n",
    "n_step = 20\n",
    "for step in range(n_step):\n",
    "    action = trainer_dqn.compute_action(state)\n",
    "    state, reward, done, info = env.step(action)\n",
    "    sum_reward += reward\n",
    "    #env.render()\n",
    "    if done == 1:\n",
    "        print(\"cumulative reward\", sum_reward)\n",
    "        state = env.reset()\n",
    "        sum_reward = 0"
   ]
  },
  {
   "cell_type": "code",
   "execution_count": null,
   "metadata": {},
   "outputs": [],
   "source": [
    "ray.shutdown()"
   ]
  }
 ],
 "metadata": {
  "interpreter": {
   "hash": "f276801fa85caabebacfd14100ddee0774c5b0a4b5a82990ea2551c5b02bf357"
  },
  "kernelspec": {
   "display_name": "Python 3.8.8 ('base')",
   "language": "python",
   "name": "python3"
  },
  "language_info": {
   "codemirror_mode": {
    "name": "ipython",
    "version": 3
   },
   "file_extension": ".py",
   "mimetype": "text/x-python",
   "name": "python",
   "nbconvert_exporter": "python",
   "pygments_lexer": "ipython3",
   "version": "3.8.8"
  },
  "orig_nbformat": 4
 },
 "nbformat": 4,
 "nbformat_minor": 2
}
