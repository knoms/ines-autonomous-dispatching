{
 "cells": [
  {
   "cell_type": "code",
   "execution_count": null,
   "metadata": {},
   "outputs": [],
   "source": [
    "graph_meinheim = StreetGraph('meinheim', num_trips=4000, fin_hub=2, num_hubs=5)\n",
    "graph_meinheim_trips = graph_meinheim.trips\n",
    "print(graph_meinheim_trips)"
   ]
  },
  {
   "cell_type": "code",
   "execution_count": 4,
   "metadata": {},
   "outputs": [
    {
     "name": "stderr",
     "output_type": "stream",
     "text": [
      "C:\\Users\\Vio\\anaconda3\\envs\\myProject\\lib\\site-packages\\osmnx\\distance.py:356: UserWarning: The `get_nearest_node` function has been deprecated and will be removed in a future release. Use the more efficient `distance.nearest_nodes` instead.\n",
      "  warnings.warn(msg)\n",
      "C:\\Users\\Vio\\anaconda3\\envs\\myProject\\lib\\site-packages\\osmnx\\distance.py:356: UserWarning: The `get_nearest_node` function has been deprecated and will be removed in a future release. Use the more efficient `distance.nearest_nodes` instead.\n",
      "  warnings.warn(msg)\n",
      "C:\\Users\\Vio\\anaconda3\\envs\\myProject\\lib\\site-packages\\osmnx\\distance.py:356: UserWarning: The `get_nearest_node` function has been deprecated and will be removed in a future release. Use the more efficient `distance.nearest_nodes` instead.\n",
      "  warnings.warn(msg)\n",
      "C:\\Users\\Vio\\anaconda3\\envs\\myProject\\lib\\site-packages\\osmnx\\distance.py:356: UserWarning: The `get_nearest_node` function has been deprecated and will be removed in a future release. Use the more efficient `distance.nearest_nodes` instead.\n",
      "  warnings.warn(msg)\n",
      "C:\\Users\\Vio\\anaconda3\\envs\\myProject\\lib\\site-packages\\osmnx\\distance.py:356: UserWarning: The `get_nearest_node` function has been deprecated and will be removed in a future release. Use the more efficient `distance.nearest_nodes` instead.\n",
      "  warnings.warn(msg)\n",
      "C:\\Users\\Vio\\anaconda3\\envs\\myProject\\lib\\site-packages\\osmnx\\distance.py:356: UserWarning: The `get_nearest_node` function has been deprecated and will be removed in a future release. Use the more efficient `distance.nearest_nodes` instead.\n",
      "  warnings.warn(msg)\n",
      "C:\\Users\\Vio\\anaconda3\\envs\\myProject\\lib\\site-packages\\osmnx\\distance.py:356: UserWarning: The `get_nearest_node` function has been deprecated and will be removed in a future release. Use the more efficient `distance.nearest_nodes` instead.\n",
      "  warnings.warn(msg)\n",
      "C:\\Users\\Vio\\anaconda3\\envs\\myProject\\lib\\site-packages\\osmnx\\distance.py:356: UserWarning: The `get_nearest_node` function has been deprecated and will be removed in a future release. Use the more efficient `distance.nearest_nodes` instead.\n",
      "  warnings.warn(msg)\n",
      "C:\\Users\\Vio\\anaconda3\\envs\\myProject\\lib\\site-packages\\osmnx\\distance.py:356: UserWarning: The `get_nearest_node` function has been deprecated and will be removed in a future release. Use the more efficient `distance.nearest_nodes` instead.\n",
      "  warnings.warn(msg)\n",
      "C:\\Users\\Vio\\anaconda3\\envs\\myProject\\lib\\site-packages\\osmnx\\distance.py:356: UserWarning: The `get_nearest_node` function has been deprecated and will be removed in a future release. Use the more efficient `distance.nearest_nodes` instead.\n",
      "  warnings.warn(msg)\n",
      "C:\\Users\\Vio\\anaconda3\\envs\\myProject\\lib\\site-packages\\osmnx\\distance.py:356: UserWarning: The `get_nearest_node` function has been deprecated and will be removed in a future release. Use the more efficient `distance.nearest_nodes` instead.\n",
      "  warnings.warn(msg)\n",
      "C:\\Users\\Vio\\anaconda3\\envs\\myProject\\lib\\site-packages\\osmnx\\distance.py:356: UserWarning: The `get_nearest_node` function has been deprecated and will be removed in a future release. Use the more efficient `distance.nearest_nodes` instead.\n",
      "  warnings.warn(msg)\n",
      "C:\\Users\\Vio\\anaconda3\\envs\\myProject\\lib\\site-packages\\osmnx\\distance.py:356: UserWarning: The `get_nearest_node` function has been deprecated and will be removed in a future release. Use the more efficient `distance.nearest_nodes` instead.\n",
      "  warnings.warn(msg)\n",
      "C:\\Users\\Vio\\anaconda3\\envs\\myProject\\lib\\site-packages\\osmnx\\distance.py:356: UserWarning: The `get_nearest_node` function has been deprecated and will be removed in a future release. Use the more efficient `distance.nearest_nodes` instead.\n",
      "  warnings.warn(msg)\n",
      "C:\\Users\\Vio\\anaconda3\\envs\\myProject\\lib\\site-packages\\osmnx\\distance.py:356: UserWarning: The `get_nearest_node` function has been deprecated and will be removed in a future release. Use the more efficient `distance.nearest_nodes` instead.\n",
      "  warnings.warn(msg)\n",
      "C:\\Users\\Vio\\anaconda3\\envs\\myProject\\lib\\site-packages\\osmnx\\distance.py:356: UserWarning: The `get_nearest_node` function has been deprecated and will be removed in a future release. Use the more efficient `distance.nearest_nodes` instead.\n",
      "  warnings.warn(msg)\n",
      "C:\\Users\\Vio\\anaconda3\\envs\\myProject\\lib\\site-packages\\osmnx\\distance.py:356: UserWarning: The `get_nearest_node` function has been deprecated and will be removed in a future release. Use the more efficient `distance.nearest_nodes` instead.\n",
      "  warnings.warn(msg)\n",
      "C:\\Users\\Vio\\anaconda3\\envs\\myProject\\lib\\site-packages\\osmnx\\distance.py:356: UserWarning: The `get_nearest_node` function has been deprecated and will be removed in a future release. Use the more efficient `distance.nearest_nodes` instead.\n",
      "  warnings.warn(msg)\n",
      "C:\\Users\\Vio\\anaconda3\\envs\\myProject\\lib\\site-packages\\osmnx\\distance.py:356: UserWarning: The `get_nearest_node` function has been deprecated and will be removed in a future release. Use the more efficient `distance.nearest_nodes` instead.\n",
      "  warnings.warn(msg)\n",
      "C:\\Users\\Vio\\anaconda3\\envs\\myProject\\lib\\site-packages\\osmnx\\distance.py:356: UserWarning: The `get_nearest_node` function has been deprecated and will be removed in a future release. Use the more efficient `distance.nearest_nodes` instead.\n",
      "  warnings.warn(msg)\n",
      "C:\\Users\\Vio\\anaconda3\\envs\\myProject\\lib\\site-packages\\osmnx\\distance.py:356: UserWarning: The `get_nearest_node` function has been deprecated and will be removed in a future release. Use the more efficient `distance.nearest_nodes` instead.\n",
      "  warnings.warn(msg)\n",
      "C:\\Users\\Vio\\anaconda3\\envs\\myProject\\lib\\site-packages\\osmnx\\distance.py:356: UserWarning: The `get_nearest_node` function has been deprecated and will be removed in a future release. Use the more efficient `distance.nearest_nodes` instead.\n",
      "  warnings.warn(msg)\n",
      "C:\\Users\\Vio\\anaconda3\\envs\\myProject\\lib\\site-packages\\osmnx\\distance.py:356: UserWarning: The `get_nearest_node` function has been deprecated and will be removed in a future release. Use the more efficient `distance.nearest_nodes` instead.\n",
      "  warnings.warn(msg)\n",
      "C:\\Users\\Vio\\anaconda3\\envs\\myProject\\lib\\site-packages\\osmnx\\distance.py:356: UserWarning: The `get_nearest_node` function has been deprecated and will be removed in a future release. Use the more efficient `distance.nearest_nodes` instead.\n",
      "  warnings.warn(msg)\n",
      "C:\\Users\\Vio\\anaconda3\\envs\\myProject\\lib\\site-packages\\osmnx\\distance.py:356: UserWarning: The `get_nearest_node` function has been deprecated and will be removed in a future release. Use the more efficient `distance.nearest_nodes` instead.\n",
      "  warnings.warn(msg)\n",
      "C:\\Users\\Vio\\anaconda3\\envs\\myProject\\lib\\site-packages\\osmnx\\distance.py:356: UserWarning: The `get_nearest_node` function has been deprecated and will be removed in a future release. Use the more efficient `distance.nearest_nodes` instead.\n",
      "  warnings.warn(msg)\n",
      "C:\\Users\\Vio\\anaconda3\\envs\\myProject\\lib\\site-packages\\osmnx\\distance.py:356: UserWarning: The `get_nearest_node` function has been deprecated and will be removed in a future release. Use the more efficient `distance.nearest_nodes` instead.\n",
      "  warnings.warn(msg)\n",
      "C:\\Users\\Vio\\anaconda3\\envs\\myProject\\lib\\site-packages\\osmnx\\distance.py:356: UserWarning: The `get_nearest_node` function has been deprecated and will be removed in a future release. Use the more efficient `distance.nearest_nodes` instead.\n",
      "  warnings.warn(msg)\n",
      "C:\\Users\\Vio\\anaconda3\\envs\\myProject\\lib\\site-packages\\osmnx\\distance.py:356: UserWarning: The `get_nearest_node` function has been deprecated and will be removed in a future release. Use the more efficient `distance.nearest_nodes` instead.\n",
      "  warnings.warn(msg)\n",
      "C:\\Users\\Vio\\anaconda3\\envs\\myProject\\lib\\site-packages\\osmnx\\distance.py:356: UserWarning: The `get_nearest_node` function has been deprecated and will be removed in a future release. Use the more efficient `distance.nearest_nodes` instead.\n",
      "  warnings.warn(msg)\n",
      "C:\\Users\\Vio\\anaconda3\\envs\\myProject\\lib\\site-packages\\osmnx\\distance.py:356: UserWarning: The `get_nearest_node` function has been deprecated and will be removed in a future release. Use the more efficient `distance.nearest_nodes` instead.\n",
      "  warnings.warn(msg)\n",
      "C:\\Users\\Vio\\anaconda3\\envs\\myProject\\lib\\site-packages\\osmnx\\distance.py:356: UserWarning: The `get_nearest_node` function has been deprecated and will be removed in a future release. Use the more efficient `distance.nearest_nodes` instead.\n",
      "  warnings.warn(msg)\n",
      "C:\\Users\\Vio\\anaconda3\\envs\\myProject\\lib\\site-packages\\osmnx\\distance.py:356: UserWarning: The `get_nearest_node` function has been deprecated and will be removed in a future release. Use the more efficient `distance.nearest_nodes` instead.\n",
      "  warnings.warn(msg)\n",
      "C:\\Users\\Vio\\anaconda3\\envs\\myProject\\lib\\site-packages\\osmnx\\distance.py:356: UserWarning: The `get_nearest_node` function has been deprecated and will be removed in a future release. Use the more efficient `distance.nearest_nodes` instead.\n",
      "  warnings.warn(msg)\n",
      "C:\\Users\\Vio\\anaconda3\\envs\\myProject\\lib\\site-packages\\osmnx\\distance.py:356: UserWarning: The `get_nearest_node` function has been deprecated and will be removed in a future release. Use the more efficient `distance.nearest_nodes` instead.\n",
      "  warnings.warn(msg)\n",
      "C:\\Users\\Vio\\anaconda3\\envs\\myProject\\lib\\site-packages\\osmnx\\distance.py:356: UserWarning: The `get_nearest_node` function has been deprecated and will be removed in a future release. Use the more efficient `distance.nearest_nodes` instead.\n",
      "  warnings.warn(msg)\n",
      "C:\\Users\\Vio\\anaconda3\\envs\\myProject\\lib\\site-packages\\osmnx\\distance.py:356: UserWarning: The `get_nearest_node` function has been deprecated and will be removed in a future release. Use the more efficient `distance.nearest_nodes` instead.\n",
      "  warnings.warn(msg)\n",
      "C:\\Users\\Vio\\anaconda3\\envs\\myProject\\lib\\site-packages\\osmnx\\distance.py:356: UserWarning: The `get_nearest_node` function has been deprecated and will be removed in a future release. Use the more efficient `distance.nearest_nodes` instead.\n",
      "  warnings.warn(msg)\n",
      "C:\\Users\\Vio\\anaconda3\\envs\\myProject\\lib\\site-packages\\osmnx\\distance.py:356: UserWarning: The `get_nearest_node` function has been deprecated and will be removed in a future release. Use the more efficient `distance.nearest_nodes` instead.\n",
      "  warnings.warn(msg)\n",
      "C:\\Users\\Vio\\anaconda3\\envs\\myProject\\lib\\site-packages\\osmnx\\distance.py:356: UserWarning: The `get_nearest_node` function has been deprecated and will be removed in a future release. Use the more efficient `distance.nearest_nodes` instead.\n",
      "  warnings.warn(msg)\n",
      "C:\\Users\\Vio\\anaconda3\\envs\\myProject\\lib\\site-packages\\osmnx\\distance.py:356: UserWarning: The `get_nearest_node` function has been deprecated and will be removed in a future release. Use the more efficient `distance.nearest_nodes` instead.\n",
      "  warnings.warn(msg)\n",
      "C:\\Users\\Vio\\anaconda3\\envs\\myProject\\lib\\site-packages\\osmnx\\distance.py:356: UserWarning: The `get_nearest_node` function has been deprecated and will be removed in a future release. Use the more efficient `distance.nearest_nodes` instead.\n",
      "  warnings.warn(msg)\n",
      "C:\\Users\\Vio\\anaconda3\\envs\\myProject\\lib\\site-packages\\osmnx\\distance.py:356: UserWarning: The `get_nearest_node` function has been deprecated and will be removed in a future release. Use the more efficient `distance.nearest_nodes` instead.\n",
      "  warnings.warn(msg)\n",
      "C:\\Users\\Vio\\anaconda3\\envs\\myProject\\lib\\site-packages\\osmnx\\distance.py:356: UserWarning: The `get_nearest_node` function has been deprecated and will be removed in a future release. Use the more efficient `distance.nearest_nodes` instead.\n",
      "  warnings.warn(msg)\n",
      "C:\\Users\\Vio\\anaconda3\\envs\\myProject\\lib\\site-packages\\osmnx\\distance.py:356: UserWarning: The `get_nearest_node` function has been deprecated and will be removed in a future release. Use the more efficient `distance.nearest_nodes` instead.\n",
      "  warnings.warn(msg)\n",
      "C:\\Users\\Vio\\anaconda3\\envs\\myProject\\lib\\site-packages\\osmnx\\distance.py:356: UserWarning: The `get_nearest_node` function has been deprecated and will be removed in a future release. Use the more efficient `distance.nearest_nodes` instead.\n",
      "  warnings.warn(msg)\n",
      "C:\\Users\\Vio\\anaconda3\\envs\\myProject\\lib\\site-packages\\osmnx\\distance.py:356: UserWarning: The `get_nearest_node` function has been deprecated and will be removed in a future release. Use the more efficient `distance.nearest_nodes` instead.\n",
      "  warnings.warn(msg)\n",
      "C:\\Users\\Vio\\anaconda3\\envs\\myProject\\lib\\site-packages\\osmnx\\distance.py:356: UserWarning: The `get_nearest_node` function has been deprecated and will be removed in a future release. Use the more efficient `distance.nearest_nodes` instead.\n",
      "  warnings.warn(msg)\n",
      "C:\\Users\\Vio\\anaconda3\\envs\\myProject\\lib\\site-packages\\osmnx\\distance.py:356: UserWarning: The `get_nearest_node` function has been deprecated and will be removed in a future release. Use the more efficient `distance.nearest_nodes` instead.\n",
      "  warnings.warn(msg)\n",
      "C:\\Users\\Vio\\anaconda3\\envs\\myProject\\lib\\site-packages\\osmnx\\distance.py:356: UserWarning: The `get_nearest_node` function has been deprecated and will be removed in a future release. Use the more efficient `distance.nearest_nodes` instead.\n",
      "  warnings.warn(msg)\n",
      "C:\\Users\\Vio\\anaconda3\\envs\\myProject\\lib\\site-packages\\osmnx\\distance.py:356: UserWarning: The `get_nearest_node` function has been deprecated and will be removed in a future release. Use the more efficient `distance.nearest_nodes` instead.\n",
      "  warnings.warn(msg)\n",
      "C:\\Users\\Vio\\anaconda3\\envs\\myProject\\lib\\site-packages\\osmnx\\distance.py:356: UserWarning: The `get_nearest_node` function has been deprecated and will be removed in a future release. Use the more efficient `distance.nearest_nodes` instead.\n",
      "  warnings.warn(msg)\n"
     ]
    },
    {
     "name": "stdout",
     "output_type": "stream",
     "text": [
      "[42453934, 42440350, 42440798, 1919595922, 42449029, 1692433919, 7490266268, 42440743, 42428174, 42445357, 4320028826, 42445867, 42443674, 42445374, 42442937, 42446959, 42446977, 42445018, 42443534, 42435684, 42430361, 42432856, 42430375, 596775930, 42436486, 42447105, 42429342, 42450025, 42447132, 42450468, 42439497, 42444457, 42432889, 3099327970, 3099327976, 561035358, 42432985, 595352904, 42428980, 42433058, 42433066, 42427769, 42427863, 42428863, 3579432156, 1061531596, 595314119, 42442475, 42442463, 9177424868, 42442415, 1825841704]\n"
     ]
    }
   ],
   "source": [
    "graph_manhattan = ManhattanGraph('simple',num_hubs=5)\n",
    "graph_manhattan_trips = graph_manhattan.trips\n",
    "print(graph_manhattan.hubs)"
   ]
  }
 ],
 "metadata": {
  "interpreter": {
   "hash": "05b68bf2e732e66a566564a93d7702b99a7a89659c87f80ca46b54fef2c36098"
  },
  "kernelspec": {
   "display_name": "Python 3.7.0",
   "language": "python",
   "name": "python3"
  },
  "language_info": {
   "codemirror_mode": {
    "name": "ipython",
    "version": 3
   },
   "file_extension": ".py",
   "mimetype": "text/x-python",
   "name": "python",
   "nbconvert_exporter": "python",
   "pygments_lexer": "ipython3",
   "version": "3.9.12"
  },
  "orig_nbformat": 4
 },
 "nbformat": 4,
 "nbformat_minor": 2
}
