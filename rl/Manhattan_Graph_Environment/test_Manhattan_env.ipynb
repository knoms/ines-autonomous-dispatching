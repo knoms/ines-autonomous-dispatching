{
 "cells": [
  {
   "cell_type": "code",
   "execution_count": 1,
   "metadata": {},
   "outputs": [],
   "source": [
    "import sys\n",
    "sys.path.insert(0,\"\")\n",
    "\n",
    "from ManhattanGraph import ManhattanGraph"
   ]
  },
  {
   "cell_type": "code",
   "execution_count": null,
   "metadata": {},
   "outputs": [],
   "source": [
    "graph_meinheim = StreetGraph('meinheim', num_trips=4000, fin_hub=2, num_hubs=5)\n",
    "graph_meinheim_trips = graph_meinheim.trips\n",
    "print(graph_meinheim_trips)"
   ]
  },
  {
   "cell_type": "code",
   "execution_count": 2,
   "metadata": {},
   "outputs": [
    {
     "ename": "TypeError",
     "evalue": "__init__() missing 1 required positional argument: 'num_hubs'",
     "output_type": "error",
     "traceback": [
      "\u001b[1;31m---------------------------------------------------------------------------\u001b[0m",
      "\u001b[1;31mTypeError\u001b[0m                                 Traceback (most recent call last)",
      "\u001b[1;32md:\\ines-autonomous-dispatching\\rl\\Manhattan_Graph_Environment\\test_Manhattan_env.ipynb Cell 3'\u001b[0m in \u001b[0;36m<cell line: 1>\u001b[1;34m()\u001b[0m\n\u001b[1;32m----> <a href='vscode-notebook-cell:/d%3A/ines-autonomous-dispatching/rl/Manhattan_Graph_Environment/test_Manhattan_env.ipynb#ch0000002?line=0'>1</a>\u001b[0m graph_manhattan \u001b[39m=\u001b[39m ManhattanGraph(\u001b[39m'\u001b[39;49m\u001b[39msimple\u001b[39;49m\u001b[39m'\u001b[39;49m)\n\u001b[0;32m      <a href='vscode-notebook-cell:/d%3A/ines-autonomous-dispatching/rl/Manhattan_Graph_Environment/test_Manhattan_env.ipynb#ch0000002?line=2'>3</a>\u001b[0m \u001b[39mprint\u001b[39m(graph_manhattan\u001b[39m.\u001b[39mhubs)\n",
      "\u001b[1;31mTypeError\u001b[0m: __init__() missing 1 required positional argument: 'num_hubs'"
     ]
    }
   ],
   "source": [
    "graph_manhattan = ManhattanGraph('simple',5)\n",
    "\n",
    "print(graph_manhattan.hubs)"
   ]
  },
  {
   "cell_type": "code",
   "execution_count": 10,
   "metadata": {},
   "outputs": [
    {
     "name": "stdout",
     "output_type": "stream",
     "text": [
      "40.710803 40.710803\n",
      "40.706876 40.706876\n",
      "40.715611 40.715611\n",
      "40.720797 40.720797\n",
      "40.725778 40.725778\n",
      "40.726805 40.726805\n",
      "40.727677 40.727677\n",
      "40.731444 40.731444\n",
      "40.737836 40.737836\n",
      "40.715799 40.715799\n",
      "40.733681 40.733681\n",
      "40.740935 40.740935\n",
      "40.745257 40.745257\n",
      "40.746459 40.746459\n",
      "40.749848 40.749848\n",
      "40.751478 40.751478\n",
      "40.75312 40.75312\n",
      "40.761003 40.761003\n",
      "40.763638 40.763638\n",
      "40.762274 40.762274\n",
      "40.760522 40.760522\n",
      "40.760275 40.760275\n",
      "40.763148 40.763148\n",
      "40.764173 40.764173\n",
      "40.769391 40.769391\n",
      "40.77504 40.77504\n",
      "40.776869 40.776869\n",
      "40.775751 40.775751\n",
      "40.779102 40.779102\n",
      "40.789647 40.789647\n",
      "40.798466 40.798466\n",
      "40.804484 40.804484\n",
      "40.803436 40.803436\n",
      "40.80975 40.80975\n",
      "40.816073 40.816073\n",
      "40.824187 40.824187\n",
      "40.830913 40.830913\n",
      "40.833762 40.833762\n",
      "40.841719 40.841719\n",
      "40.846112 40.846112\n",
      "40.849365 40.849365\n",
      "40.856267 40.856267\n",
      "40.864411 40.864411\n",
      "40.815912 40.815912\n",
      "40.804231 40.804231\n",
      "40.797154 40.797154\n",
      "40.796042 40.796042\n",
      "40.787052 40.787052\n",
      "40.783215 40.783215\n",
      "40.777957 40.777957\n",
      "40.774174 40.774174\n",
      "40.767974 40.767974\n"
     ]
    }
   ],
   "source": [
    "import pandas as pd\n",
    "hubs_file = pd.read_csv(\"../../data/hubs/manual_hubs.csv\")\n",
    "i=0\n",
    "        #hubs.append(ox.get_nearest_node(self.inner_graph,(hub[\"latitude\"], hub[\"longitude\"])))\n",
    "\n",
    "for hub in hubs_file.index:\n",
    "     print(hubs_file.loc[hub,'latitude'], hubs_file.loc[hub,'latitude'])"
   ]
  }
 ],
 "metadata": {
  "interpreter": {
   "hash": "a98c8d655702fa2e19d9c09c8be5dceba5d4420e12eb013ca5f99a779bc61516"
  },
  "kernelspec": {
   "display_name": "Python 3.9.12",
   "language": "python",
   "name": "python3"
  },
  "language_info": {
   "codemirror_mode": {
    "name": "ipython",
    "version": 3
   },
   "file_extension": ".py",
   "mimetype": "text/x-python",
   "name": "python",
   "nbconvert_exporter": "python",
   "pygments_lexer": "ipython3",
   "version": "3.9.12"
  },
  "orig_nbformat": 4
 },
 "nbformat": 4,
 "nbformat_minor": 2
}
