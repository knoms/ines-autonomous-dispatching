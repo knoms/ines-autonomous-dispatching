{
 "cells": [
  {
   "cell_type": "code",
   "execution_count": 1,
   "metadata": {},
   "outputs": [],
   "source": [
    "# imports\n",
    "from ManhattanGraph import ManhattanGraph\n",
    "import pandas as pd\n",
    "import warnings\n",
    "warnings.filterwarnings(\"ignore\")\n",
    "import folium\n",
    "from folium.plugins import MarkerCluster\n",
    "import numpy as np\n",
    "import osmnx as ox\n",
    "\n"
   ]
  },
  {
   "cell_type": "code",
   "execution_count": 9,
   "metadata": {},
   "outputs": [
    {
     "name": "stdout",
     "output_type": "stream",
     "text": [
      "u           v           key\n",
      "42442561    7571274534  0      POINT (-73.96697 40.79868)\n",
      "42442534    6207264914  0      POINT (-73.97042 40.79409)\n",
      "3788348142  6865730144  0      POINT (-74.00047 40.75186)\n",
      "42443513    4241743162  0      POINT (-73.98845 40.72328)\n",
      "4954151929  7620631148  0      POINT (-73.95758 40.82114)\n",
      "                                          ...            \n",
      "387185035   3236082446  0      POINT (-73.97958 40.73301)\n",
      "42435207    42435211    0      POINT (-73.94446 40.80235)\n",
      "1772136801  4145439094  0      POINT (-74.01650 40.70480)\n",
      "42423116    8723021852  0      POINT (-73.93232 40.84614)\n",
      "42440940    8307463719  0      POINT (-74.00381 40.73729)\n",
      "Length: 70, dtype: geometry\n"
     ]
    }
   ],
   "source": [
    "graph_manhattan = ManhattanGraph(filename='full', num_hubs=70)\n",
    "points = ox.utils_geo.sample_points(ox.get_undirected(graph_manhattan.inner_graph),70)\n",
    "print(points)"
   ]
  },
  {
   "cell_type": "code",
   "execution_count": 18,
   "metadata": {},
   "outputs": [],
   "source": [
    "coordinate_list = []\n",
    "for p in points:\n",
    "    coordinate = [p.x,p.y]\n",
    "    coordinate_list.append(coordinate)"
   ]
  },
  {
   "cell_type": "code",
   "execution_count": null,
   "metadata": {},
   "outputs": [],
   "source": [
    "# all points with latitude smaller than 40.70 and greater than 40.90 are definitely outside of Manhattan\n",
    "\"\"\"\n",
    "manhattan_lat_limits = np.array([40.70, 40.90])\n",
    "manhattan_lon_limits = np.array([-74.016, -73.9102])\n",
    "\n",
    "# remove outliers\n",
    "df = df[(df['pickup_latitude']   >= manhattan_lat_limits[0] ) & (df['pickup_latitude']   <= manhattan_lat_limits[1]) ]\n",
    "df = df[(df['dropoff_latitude']  >= manhattan_lat_limits[0] ) & (df['dropoff_latitude']  <= manhattan_lat_limits[1]) ]\n",
    "df = df[(df['pickup_longitude']  >= manhattan_lon_limits[0]) & (df['pickup_longitude']  <= manhattan_lon_limits[1])]\n",
    "df = df[(df['dropoff_longitude'] >= manhattan_lon_limits[0]) & (df['dropoff_longitude'] <= manhattan_lon_limits[1])]\n",
    "\"\"\""
   ]
  },
  {
   "cell_type": "code",
   "execution_count": 25,
   "metadata": {},
   "outputs": [
    {
     "name": "stdout",
     "output_type": "stream",
     "text": [
      "-73.96696912338699 40.79868102340919\n",
      "-73.97042476137756 40.79408547616582\n",
      "-74.00046695245099 40.75186031475934\n",
      "-73.98845221802235 40.72327770732436\n",
      "-73.95758246234789 40.82114374827476\n",
      "-73.9961630713481 40.73252680705325\n",
      "-73.97127313742837 40.78699475751506\n",
      "-73.97973814984249 40.79298404981554\n",
      "-73.9552645872852 40.76183230744904\n",
      "-74.0093124750292 40.70526246978084\n",
      "-73.96427454216351 40.75232671900176\n",
      "-74.01043286016836 40.72353352167667\n",
      "-74.00035022222093 40.70965106745126\n",
      "-73.93592619761829 40.79135097788076\n",
      "-73.96758184590868 40.79787833158785\n",
      "-73.93955290774974 40.81525372128916\n",
      "-73.97663286969545 40.780389744488716\n",
      "-73.977040182893 40.76453651906704\n",
      "-73.96713607704734 40.79769105433867\n",
      "-73.9808694157995 40.77458724582016\n",
      "-73.91938142030808 40.87007175631844\n",
      "-73.99333408473737 40.729494982085306\n",
      "-73.98406783619679 40.7813568458338\n",
      "-73.98308093630618 40.72131260998925\n",
      "-73.9866307478627 40.739716688468334\n",
      "-73.98285987758014 40.72889500174408\n",
      "-73.9471086681214 40.83718427131038\n",
      "-73.97045226008518 40.78889844506781\n",
      "-73.96990143908894 40.79978740169029\n",
      "-73.95310899642044 40.78559770442555\n",
      "-73.977888569076 40.75054575956575\n",
      "-73.93086786440259 40.8005411801479\n",
      "-73.93519201695062 40.854677304722635\n",
      "-73.944263696826 40.802266656496315\n",
      "-73.93548943314207 40.84082085495262\n",
      "-73.9657713634376 40.800319749682664\n",
      "-73.99379552271719 40.76634687631079\n",
      "-73.9981666014437 40.75418139314065\n",
      "-73.97291131047614 40.75286442904163\n",
      "-73.95443976880175 40.80402532600892\n",
      "-73.95615789632782 40.780623510381865\n",
      "-73.98945325105063 40.73586236129482\n",
      "-73.95387216037835 40.81130846252953\n",
      "-73.9331924175733 40.84675897924769\n",
      "-74.01331749732 40.70476658147962\n",
      "-73.95840479490731 40.82072364898307\n",
      "-73.99402449497389 40.76153295107746\n",
      "-73.9929415136435 40.72341968335645\n",
      "-73.96361586705852 40.76684541972755\n",
      "-73.94881115199871 40.82110743418899\n",
      "-73.96078321232235 40.781022407113305\n",
      "-73.97275041428931 40.753085317427896\n",
      "-73.94677397397211 40.82635434390644\n",
      "-73.9444750505454 40.78198362868637\n",
      "-73.94582979117354 40.79539230673757\n",
      "-73.99672371369348 40.759292981005515\n",
      "-73.98456544387467 40.76574912044186\n",
      "-74.00392641810372 40.71698777127158\n",
      "-73.99132843430311 40.71603677660769\n",
      "-73.94436591874353 40.822575666367676\n",
      "-73.95513018887694 40.81206039793592\n",
      "-73.98417087165821 40.76493770245337\n",
      "-73.9896405932587 40.73957457792829\n",
      "-73.93966209431325 40.85018292136253\n",
      "-73.94767102251195 40.83349328829174\n",
      "-73.97957786865811 40.73300740797755\n",
      "-73.94445506710947 40.80234733696623\n",
      "-74.01650256414867 40.7047969773019\n",
      "-73.93231813115808 40.8461433724382\n",
      "-74.00381214944221 40.73729442187307\n"
     ]
    },
    {
     "data": {
      "text/plain": [
       "True"
      ]
     },
     "execution_count": 25,
     "metadata": {},
     "output_type": "execute_result"
    }
   ],
   "source": [
    "# plot hubs:\n",
    "boulder_coords = location=[40.778, -73.953]\n",
    "#Create the map\n",
    "map_hubs = folium.Map(location = boulder_coords, zoom_start = 12)\n",
    "\n",
    "#Add 70 hubs to the map\n",
    "for i in range(len(coordinate_list)):\n",
    "    # print(coordinate_list[i][0],coordinate_list[i][1])\n",
    "    folium.Marker([coordinate_list[i][1],coordinate_list[i][0]], popup = f\"hub {i}\").add_to(map_hubs)\n",
    "\n",
    "#Display the map\n",
    "import webbrowser\n",
    "map_hubs.save(\"random_hubs_map.html\")\n",
    "webbrowser.open(\"random_hubs_map.html\")"
   ]
  }
 ],
 "metadata": {
  "interpreter": {
   "hash": "0914de444cab9ce521c8d768182a2ed6cc77e307ec9e6d04f9a7a24f8b3d48d8"
  },
  "kernelspec": {
   "display_name": "Python 3.9.10 ('RL')",
   "language": "python",
   "name": "python3"
  },
  "language_info": {
   "codemirror_mode": {
    "name": "ipython",
    "version": 3
   },
   "file_extension": ".py",
   "mimetype": "text/x-python",
   "name": "python",
   "nbconvert_exporter": "python",
   "pygments_lexer": "ipython3",
   "version": "3.9.10"
  },
  "orig_nbformat": 4
 },
 "nbformat": 4,
 "nbformat_minor": 2
}
